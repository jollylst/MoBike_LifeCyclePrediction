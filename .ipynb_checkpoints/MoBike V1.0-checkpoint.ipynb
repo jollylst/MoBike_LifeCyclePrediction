{
 "cells": [
  {
   "cell_type": "markdown",
   "metadata": {},
   "source": [
    "# MoBike Lyfecycle Prediction"
   ]
  },
  {
   "cell_type": "code",
   "execution_count": 14,
   "metadata": {
    "collapsed": true
   },
   "outputs": [],
   "source": [
    "# Import necessary libraries\n",
    "import pandas as pd\n",
    "import numpy as np\n",
    "%matplotlib inline  \n",
    "import matplotlib.pyplot as plt\n",
    "import pickle\n",
    "from collections import Counter\n",
    "from sklearn.cluster import KMeans\n",
    "from sklearn import metrics\n",
    "from sklearn.decomposition import PCA\n",
    "import datetime"
   ]
  },
  {
   "cell_type": "markdown",
   "metadata": {},
   "source": [
    "# Table of Content:\n",
    "* [0 Load Dataset](#0-Load-Dataset)\n",
    "* [1 Data Preprocessing](#1-Data-Preprocessing)\n",
    "  - [1.1 Trim Trip Duration](#1.1-Trim-Trip-Duration)\n",
    "  - [1.2 Discover Lifecycle Interval](#1.2-Discover-Lifecycle-Interval)\n",
    "    + [1.2.1 KMeans](#1.2.1-KMeans)\n",
    "    + [1.2.2 Probability Value](#1.2.2-Probability-Value)\n",
    "* [2 Data Analysis](#2-Data-Analysis)\n",
    "  - [2.1 Current Feature Analysis](#2.1-Current-Feature-Analysis)\n",
    "    + [2.1.1 Lifecycle VS Subscription Ratio](#2.1.1-Lifecycle-VS-Subscription-Ratio)\n",
    "    + [2.1.2 Lifecycle VS Trips Number](#2.1.2-Lifecycle-VS-Trips-Number)\n",
    "    + [2.1.3  Station VS Lifecycle](#2.1.3-Station-VS-Lifecycle)\n",
    "    + [2.1.4 Station VS Crime](#2.1.4-Station-VS-Crime)\n",
    "    + [2.1.5 Lifecycle VS Period](#2.1.5-Lifecycle-VS-Period)\n",
    "  - [2.2 Weather](#2.2-Weather)\n",
    "    + [2.2.1 Lifecycle VS Temperature](#2.2.1-Lifecycle-VS-Temperature)\n",
    "    + [2.2.2 Lifecycle VS Dew Point](#2.2.2-Lifecycle-VS-Dew-Point)\n",
    "    + [2.2.3 Lifecycle VS Humidity](#2.2.3-Lifecycle-VS-Humidity)\n",
    "    + [2.2.4 Lifecycle VS Pressure](#2.2.4-Lifecycle-VS-Pressure)\n",
    "    + [2.2.5 Lifecycle VS Visibility](#2.2.5-Lifecycle-VS-Visibility)\n",
    "    + [2.2.6 PCA](#2.2.6-PCA)\n",
    "  - [2.3 Income and Education](#2.3-Income-and-Education)\n",
    "  - [2.4 Crime](#2.4-Crime)\n",
    "  - [2.5 Finalize Dataset](#2.5-Finalize-Dataset)\n",
    "* [3 Modeling](#3-Modeling)\n",
    "  - [3.1 Linear Regression](#3.1-Linear-Regression)\n",
    "    + [3.1.1 Fitting Model](#3.1.1-Fitting-Model)\n",
    "    + [3.1.2 Error Analysis](#3.1.2-Error-Analysis)\n",
    "  - [3.2 Decision Tree](#3.2-Decision-Tree)\n",
    "  - [3.3 Random Forest](#3.3-Random-Forest)\n",
    "* [4 Conclusion](#4-Conclusion)"
   ]
  },
  {
   "cell_type": "markdown",
   "metadata": {},
   "source": [
    "# 0 Load Dataset"
   ]
  },
  {
   "cell_type": "code",
   "execution_count": 11,
   "metadata": {},
   "outputs": [
    {
     "ename": "FileNotFoundError",
     "evalue": "File b'Dataset/bay_trip_city.csv' does not exist",
     "output_type": "error",
     "traceback": [
      "\u001b[0;31m---------------------------------------------------------------------------\u001b[0m",
      "\u001b[0;31mFileNotFoundError\u001b[0m                         Traceback (most recent call last)",
      "\u001b[0;32m<ipython-input-11-00a809e849d5>\u001b[0m in \u001b[0;36m<module>\u001b[0;34m()\u001b[0m\n\u001b[1;32m      1\u001b[0m \u001b[0;31m# Load raw data\u001b[0m\u001b[0;34m\u001b[0m\u001b[0;34m\u001b[0m\u001b[0m\n\u001b[0;32m----> 2\u001b[0;31m \u001b[0mtrip_bay\u001b[0m \u001b[0;34m=\u001b[0m \u001b[0mpd\u001b[0m\u001b[0;34m.\u001b[0m\u001b[0mread_csv\u001b[0m\u001b[0;34m(\u001b[0m\u001b[0;34m'Dataset/bay_trip_city.csv'\u001b[0m\u001b[0;34m,\u001b[0m \u001b[0mindex_col\u001b[0m\u001b[0;34m=\u001b[0m\u001b[0;36m0\u001b[0m\u001b[0;34m)\u001b[0m\u001b[0;34m\u001b[0m\u001b[0m\n\u001b[0m\u001b[1;32m      3\u001b[0m \u001b[0mstation\u001b[0m \u001b[0;34m=\u001b[0m \u001b[0mpd\u001b[0m\u001b[0;34m.\u001b[0m\u001b[0mread_csv\u001b[0m\u001b[0;34m(\u001b[0m\u001b[0;34m'Dataset/sf-station.csv'\u001b[0m\u001b[0;34m)\u001b[0m\u001b[0;34m\u001b[0m\u001b[0m\n\u001b[1;32m      4\u001b[0m \u001b[0mstations_zipcode\u001b[0m \u001b[0;34m=\u001b[0m \u001b[0mpd\u001b[0m\u001b[0;34m.\u001b[0m\u001b[0mread_csv\u001b[0m\u001b[0;34m(\u001b[0m\u001b[0;34m'Dataset/station_postal.csv'\u001b[0m\u001b[0;34m)\u001b[0m\u001b[0;34m\u001b[0m\u001b[0m\n\u001b[1;32m      5\u001b[0m \u001b[0mincome\u001b[0m \u001b[0;34m=\u001b[0m \u001b[0mpd\u001b[0m\u001b[0;34m.\u001b[0m\u001b[0mread_csv\u001b[0m\u001b[0;34m(\u001b[0m\u001b[0;34m'Dataset/income.csv'\u001b[0m\u001b[0;34m)\u001b[0m\u001b[0;34m\u001b[0m\u001b[0m\n",
      "\u001b[0;32m/Users/Jolly/anaconda/lib/python3.6/site-packages/pandas/io/parsers.py\u001b[0m in \u001b[0;36mparser_f\u001b[0;34m(filepath_or_buffer, sep, delimiter, header, names, index_col, usecols, squeeze, prefix, mangle_dupe_cols, dtype, engine, converters, true_values, false_values, skipinitialspace, skiprows, nrows, na_values, keep_default_na, na_filter, verbose, skip_blank_lines, parse_dates, infer_datetime_format, keep_date_col, date_parser, dayfirst, iterator, chunksize, compression, thousands, decimal, lineterminator, quotechar, quoting, escapechar, comment, encoding, dialect, tupleize_cols, error_bad_lines, warn_bad_lines, skipfooter, skip_footer, doublequote, delim_whitespace, as_recarray, compact_ints, use_unsigned, low_memory, buffer_lines, memory_map, float_precision)\u001b[0m\n\u001b[1;32m    653\u001b[0m                     skip_blank_lines=skip_blank_lines)\n\u001b[1;32m    654\u001b[0m \u001b[0;34m\u001b[0m\u001b[0m\n\u001b[0;32m--> 655\u001b[0;31m         \u001b[0;32mreturn\u001b[0m \u001b[0m_read\u001b[0m\u001b[0;34m(\u001b[0m\u001b[0mfilepath_or_buffer\u001b[0m\u001b[0;34m,\u001b[0m \u001b[0mkwds\u001b[0m\u001b[0;34m)\u001b[0m\u001b[0;34m\u001b[0m\u001b[0m\n\u001b[0m\u001b[1;32m    656\u001b[0m \u001b[0;34m\u001b[0m\u001b[0m\n\u001b[1;32m    657\u001b[0m     \u001b[0mparser_f\u001b[0m\u001b[0;34m.\u001b[0m\u001b[0m__name__\u001b[0m \u001b[0;34m=\u001b[0m \u001b[0mname\u001b[0m\u001b[0;34m\u001b[0m\u001b[0m\n",
      "\u001b[0;32m/Users/Jolly/anaconda/lib/python3.6/site-packages/pandas/io/parsers.py\u001b[0m in \u001b[0;36m_read\u001b[0;34m(filepath_or_buffer, kwds)\u001b[0m\n\u001b[1;32m    403\u001b[0m \u001b[0;34m\u001b[0m\u001b[0m\n\u001b[1;32m    404\u001b[0m     \u001b[0;31m# Create the parser.\u001b[0m\u001b[0;34m\u001b[0m\u001b[0;34m\u001b[0m\u001b[0m\n\u001b[0;32m--> 405\u001b[0;31m     \u001b[0mparser\u001b[0m \u001b[0;34m=\u001b[0m \u001b[0mTextFileReader\u001b[0m\u001b[0;34m(\u001b[0m\u001b[0mfilepath_or_buffer\u001b[0m\u001b[0;34m,\u001b[0m \u001b[0;34m**\u001b[0m\u001b[0mkwds\u001b[0m\u001b[0;34m)\u001b[0m\u001b[0;34m\u001b[0m\u001b[0m\n\u001b[0m\u001b[1;32m    406\u001b[0m \u001b[0;34m\u001b[0m\u001b[0m\n\u001b[1;32m    407\u001b[0m     \u001b[0;32mif\u001b[0m \u001b[0mchunksize\u001b[0m \u001b[0;32mor\u001b[0m \u001b[0miterator\u001b[0m\u001b[0;34m:\u001b[0m\u001b[0;34m\u001b[0m\u001b[0m\n",
      "\u001b[0;32m/Users/Jolly/anaconda/lib/python3.6/site-packages/pandas/io/parsers.py\u001b[0m in \u001b[0;36m__init__\u001b[0;34m(self, f, engine, **kwds)\u001b[0m\n\u001b[1;32m    760\u001b[0m             \u001b[0mself\u001b[0m\u001b[0;34m.\u001b[0m\u001b[0moptions\u001b[0m\u001b[0;34m[\u001b[0m\u001b[0;34m'has_index_names'\u001b[0m\u001b[0;34m]\u001b[0m \u001b[0;34m=\u001b[0m \u001b[0mkwds\u001b[0m\u001b[0;34m[\u001b[0m\u001b[0;34m'has_index_names'\u001b[0m\u001b[0;34m]\u001b[0m\u001b[0;34m\u001b[0m\u001b[0m\n\u001b[1;32m    761\u001b[0m \u001b[0;34m\u001b[0m\u001b[0m\n\u001b[0;32m--> 762\u001b[0;31m         \u001b[0mself\u001b[0m\u001b[0;34m.\u001b[0m\u001b[0m_make_engine\u001b[0m\u001b[0;34m(\u001b[0m\u001b[0mself\u001b[0m\u001b[0;34m.\u001b[0m\u001b[0mengine\u001b[0m\u001b[0;34m)\u001b[0m\u001b[0;34m\u001b[0m\u001b[0m\n\u001b[0m\u001b[1;32m    763\u001b[0m \u001b[0;34m\u001b[0m\u001b[0m\n\u001b[1;32m    764\u001b[0m     \u001b[0;32mdef\u001b[0m \u001b[0mclose\u001b[0m\u001b[0;34m(\u001b[0m\u001b[0mself\u001b[0m\u001b[0;34m)\u001b[0m\u001b[0;34m:\u001b[0m\u001b[0;34m\u001b[0m\u001b[0m\n",
      "\u001b[0;32m/Users/Jolly/anaconda/lib/python3.6/site-packages/pandas/io/parsers.py\u001b[0m in \u001b[0;36m_make_engine\u001b[0;34m(self, engine)\u001b[0m\n\u001b[1;32m    964\u001b[0m     \u001b[0;32mdef\u001b[0m \u001b[0m_make_engine\u001b[0m\u001b[0;34m(\u001b[0m\u001b[0mself\u001b[0m\u001b[0;34m,\u001b[0m \u001b[0mengine\u001b[0m\u001b[0;34m=\u001b[0m\u001b[0;34m'c'\u001b[0m\u001b[0;34m)\u001b[0m\u001b[0;34m:\u001b[0m\u001b[0;34m\u001b[0m\u001b[0m\n\u001b[1;32m    965\u001b[0m         \u001b[0;32mif\u001b[0m \u001b[0mengine\u001b[0m \u001b[0;34m==\u001b[0m \u001b[0;34m'c'\u001b[0m\u001b[0;34m:\u001b[0m\u001b[0;34m\u001b[0m\u001b[0m\n\u001b[0;32m--> 966\u001b[0;31m             \u001b[0mself\u001b[0m\u001b[0;34m.\u001b[0m\u001b[0m_engine\u001b[0m \u001b[0;34m=\u001b[0m \u001b[0mCParserWrapper\u001b[0m\u001b[0;34m(\u001b[0m\u001b[0mself\u001b[0m\u001b[0;34m.\u001b[0m\u001b[0mf\u001b[0m\u001b[0;34m,\u001b[0m \u001b[0;34m**\u001b[0m\u001b[0mself\u001b[0m\u001b[0;34m.\u001b[0m\u001b[0moptions\u001b[0m\u001b[0;34m)\u001b[0m\u001b[0;34m\u001b[0m\u001b[0m\n\u001b[0m\u001b[1;32m    967\u001b[0m         \u001b[0;32melse\u001b[0m\u001b[0;34m:\u001b[0m\u001b[0;34m\u001b[0m\u001b[0m\n\u001b[1;32m    968\u001b[0m             \u001b[0;32mif\u001b[0m \u001b[0mengine\u001b[0m \u001b[0;34m==\u001b[0m \u001b[0;34m'python'\u001b[0m\u001b[0;34m:\u001b[0m\u001b[0;34m\u001b[0m\u001b[0m\n",
      "\u001b[0;32m/Users/Jolly/anaconda/lib/python3.6/site-packages/pandas/io/parsers.py\u001b[0m in \u001b[0;36m__init__\u001b[0;34m(self, src, **kwds)\u001b[0m\n\u001b[1;32m   1580\u001b[0m         \u001b[0mkwds\u001b[0m\u001b[0;34m[\u001b[0m\u001b[0;34m'allow_leading_cols'\u001b[0m\u001b[0;34m]\u001b[0m \u001b[0;34m=\u001b[0m \u001b[0mself\u001b[0m\u001b[0;34m.\u001b[0m\u001b[0mindex_col\u001b[0m \u001b[0;32mis\u001b[0m \u001b[0;32mnot\u001b[0m \u001b[0;32mFalse\u001b[0m\u001b[0;34m\u001b[0m\u001b[0m\n\u001b[1;32m   1581\u001b[0m \u001b[0;34m\u001b[0m\u001b[0m\n\u001b[0;32m-> 1582\u001b[0;31m         \u001b[0mself\u001b[0m\u001b[0;34m.\u001b[0m\u001b[0m_reader\u001b[0m \u001b[0;34m=\u001b[0m \u001b[0mparsers\u001b[0m\u001b[0;34m.\u001b[0m\u001b[0mTextReader\u001b[0m\u001b[0;34m(\u001b[0m\u001b[0msrc\u001b[0m\u001b[0;34m,\u001b[0m \u001b[0;34m**\u001b[0m\u001b[0mkwds\u001b[0m\u001b[0;34m)\u001b[0m\u001b[0;34m\u001b[0m\u001b[0m\n\u001b[0m\u001b[1;32m   1583\u001b[0m \u001b[0;34m\u001b[0m\u001b[0m\n\u001b[1;32m   1584\u001b[0m         \u001b[0;31m# XXX\u001b[0m\u001b[0;34m\u001b[0m\u001b[0;34m\u001b[0m\u001b[0m\n",
      "\u001b[0;32mpandas/_libs/parsers.pyx\u001b[0m in \u001b[0;36mpandas._libs.parsers.TextReader.__cinit__ (pandas/_libs/parsers.c:4209)\u001b[0;34m()\u001b[0m\n",
      "\u001b[0;32mpandas/_libs/parsers.pyx\u001b[0m in \u001b[0;36mpandas._libs.parsers.TextReader._setup_parser_source (pandas/_libs/parsers.c:8873)\u001b[0;34m()\u001b[0m\n",
      "\u001b[0;31mFileNotFoundError\u001b[0m: File b'Dataset/bay_trip_city.csv' does not exist"
     ]
    }
   ],
   "source": [
    "# Load raw data\n",
    "trip_bay = pd.read_csv('Dataset/bay_trip_city.csv', index_col=0)\n",
    "station = pd.read_csv('Dataset/sf-station.csv')\n",
    "stations_zipcode = pd.read_csv('Dataset/station_postal.csv')\n",
    "income = pd.read_csv('Dataset/income.csv')\n",
    "edu = pd.read_csv('Dataset/edu.csv')\n",
    "station_crime = pd.read_csv('Dataset/stations_crimeScore.csv')\n",
    "weather = pd.read_csv('Dataset/weather_final.csv', index_col=0)\n",
    "\n",
    "# Lifecycle dataset is generated by section data preprocessing\n",
    "lifecycle = pd.read_csv('Dataset/lifecycle_final.csv')"
   ]
  },
  {
   "cell_type": "markdown",
   "metadata": {},
   "source": [
    "# 1 Data Preprocessing"
   ]
  },
  {
   "cell_type": "markdown",
   "metadata": {},
   "source": [
    "## 1.1 Trim Trip Duration"
   ]
  },
  {
   "cell_type": "code",
   "execution_count": null,
   "metadata": {},
   "outputs": [],
   "source": [
    "# Check trip duration distribution. We can see that the log data is like normal distribution\n",
    "\n",
    "# Distribution with raw data\n",
    "plt.figure(figsize=(16, 8))\n",
    "ax1 = plt.subplot(121)\n",
    "labels, values = zip(*Counter(trip_bay.duration).items())\n",
    "indexes = np.arange(len(labels))\n",
    "ax1.bar(indexes,values, 1)\n",
    "plt.xlabel('Raw Duration')\n",
    "plt.ylabel('Counts')\n",
    "ax1.spines['right'].set_color('none')\n",
    "ax1.spines['top'].set_color('none')\n",
    "\n",
    "## Distribution with log data \n",
    "interval_log = np.log10(np.array(trip_bay.duration))\n",
    "ax2 = plt.subplot(122)\n",
    "ax2.hist(interval_log, bins=30)\n",
    "plt.xlabel('Duration(10^)')\n",
    "plt.ylabel('Counts')\n",
    "ax2.spines['right'].set_color('none')\n",
    "ax2.spines['top'].set_color('none')"
   ]
  },
  {
   "cell_type": "code",
   "execution_count": null,
   "metadata": {
    "collapsed": true
   },
   "outputs": [],
   "source": [
    "# Based on the plots, we use logged data to trim trip duration in order to remove some outliers.\n",
    "trip_mean = np.mean(interval_log)\n",
    "trip_std = np.std(interval_log)\n",
    "\n",
    "# Set up upbound and bottom bound. t1 is about 4 hours and t2 is about 2 mins.\n",
    "t1 = np.mean(interval_log) + 2*np.std(interval_log)\n",
    "t2 = np.mean(interval_log) - 2*np.std(interval_log)\n",
    "\n",
    "# Trim raw trips data by t1 and t2\n",
    "trip = trip_bay[(trip_bay.duration >= 120) & (trip_bay.duration <= 4*3600) ]"
   ]
  },
  {
   "cell_type": "markdown",
   "metadata": {},
   "source": [
    "## 1.2 Discover Lifecycle Interval"
   ]
  },
  {
   "cell_type": "markdown",
   "metadata": {},
   "source": [
    "### 1.2.1 KMeans"
   ]
  },
  {
   "cell_type": "code",
   "execution_count": null,
   "metadata": {
    "collapsed": true
   },
   "outputs": [],
   "source": [
    "# Since there is no indicator for a bike's lifecycle, we start from using KMeans to group trips of each bike to try to \n",
    "# find lifecycle interval. Using Silhouette coefficient to find the optimal K for a specific bike.\n",
    "\n",
    "def timedifference(row):\n",
    "    \"\"\"Calculate time difference between each trip of a specific bike.\n",
    "    \"\"\"\n",
    "    startdifference = ((row['start_date']-initialstart)/np.timedelta64(1, 'h'))\n",
    "    enddifference   = ((row['end_date']-initialend)/np.timedelta64(1, 'h'))\n",
    "    return pd.Series((startdifference, enddifference))\n",
    "\n",
    "def sil_cal_elbow(X, start, end):\n",
    "    \"\"\"Calculate silhouette coeff with different k.\n",
    "    \"\"\"\n",
    "    result_list = []\n",
    "    for n in range(start, end+1):\n",
    "        kmeans = KMeans(n_clusters=n)\n",
    "        p = kmeans.fit(X)\n",
    "        t = metrics.silhouette_score(X, p.labels_)\n",
    "        result_list.append(t)\n",
    "    return result_list\n",
    "\n",
    "def generatetraining(choose_id):\n",
    "    \"\"\"Generate subset based on bike id.\n",
    "    \"\"\"\n",
    "    global initialstart\n",
    "    global initialend\n",
    "    test = trip[trip.bike_id == choose_id]\n",
    "    test = test.sort_values('start_date')\n",
    "    test['start_date']=pd.to_datetime(test['start_date'].values)\n",
    "    test['end_date']=pd.to_datetime(test['end_date'].values)\n",
    "    initialstart = test.iloc[0].start_date\n",
    "    initialend   = test.iloc[0].end_date\n",
    "    training_feature  = test.apply(timedifference, axis=1)\n",
    "    training_feature.columns = ['start_diff', 'end_diff']\n",
    "    return training_feature\n",
    "\n",
    "def siloutteplot(training_feature):\n",
    "    \"\"\"Plot siloutte vs K.\n",
    "    \"\"\"\n",
    "    t = sil_cal_elbow(training_feature, 2, 10)\n",
    "    fig, ax = plt.subplots(figsize = [8,8], facecolor=[0.9,0.9,0.9])\n",
    "    ax.spines['right'].set_color('none')\n",
    "    ax.spines['top'].set_color('none')\n",
    "    ax.xaxis.set_ticks_position('bottom')\n",
    "    ax.yaxis.set_ticks_position('left')\n",
    "    x_axis=list(range(2,11))\n",
    "    y_axis=t\n",
    "    ax.plot(x_axis, t, 'b*-')\n",
    "    plt.xlabel('K')\n",
    "    plt.ylabel('Coefficient (1 is best, -1 is worst)')\n",
    "    plt.title('Silhouette coefficient')\n",
    "    plt.show()\n",
    "\n",
    "    \n",
    "def clusterplot(K, training_feature):\n",
    "    \"\"\"Plot clutered trips with optimal K.\n",
    "    \"\"\"\n",
    "    km = KMeans(K)\n",
    "    km.fit(training_feature)\n",
    "    mu = km.cluster_centers_\n",
    "    labels = km.labels_\n",
    "    fig, ax = plt.subplots(figsize = [8,8], facecolor=[0.9,0.9,0.9])\n",
    "    ax.spines['right'].set_color('none')\n",
    "    ax.spines['top'].set_color('none')\n",
    "    ax.xaxis.set_ticks_position('bottom')\n",
    "    ax.yaxis.set_ticks_position('left')\n",
    "    ax.scatter(training_feature['start_diff'], training_feature['end_diff'], c=labels, alpha=0.4)\n",
    "    ax.scatter(mu[:,0], mu[:,1], s=300, c=np.unique(labels))\n",
    "    plt.xlabel('start time')\n",
    "    plt.ylabel('end time')\n",
    "    plt.show()"
   ]
  },
  {
   "cell_type": "code",
   "execution_count": null,
   "metadata": {},
   "outputs": [],
   "source": [
    "# KMeans with bike_id 9\n",
    "training_feature = generatetraining(9)\n",
    "siloutteplot(training_feature)"
   ]
  },
  {
   "cell_type": "code",
   "execution_count": null,
   "metadata": {},
   "outputs": [],
   "source": [
    "# The optimal K from the above plot is 8. And the clustering for bike id 9 is pretty good\n",
    "clusterplot(8, training_feature)"
   ]
  },
  {
   "cell_type": "code",
   "execution_count": null,
   "metadata": {},
   "outputs": [],
   "source": [
    "# KMeans with bike_id 342\n",
    "training_feature = generatetraining(342)\n",
    "siloutteplot(training_feature)"
   ]
  },
  {
   "cell_type": "code",
   "execution_count": null,
   "metadata": {},
   "outputs": [],
   "source": [
    "# The optimal K from the above plot is 2. And the clustering for bike id 342 is not that good.\n",
    "clusterplot(2, training_feature)"
   ]
  },
  {
   "cell_type": "markdown",
   "metadata": {},
   "source": [
    "From the above two exampels, the method is KMenas fails to find the lifecycle interval for all bikes. So we choose the statistical method to get a reasonal lifecycle interval based on the assumption that lifecycle interval is normal distribution."
   ]
  },
  {
   "cell_type": "markdown",
   "metadata": {},
   "source": [
    "### 1.2.2 Probability Value"
   ]
  },
  {
   "cell_type": "code",
   "execution_count": null,
   "metadata": {},
   "outputs": [],
   "source": [
    "def collectinterval(dataset):\n",
    "    \"\"\"Collect all trip intervals.\n",
    "    \"\"\"\n",
    "    interval_list = []\n",
    "    bikeid = set(dataset.bike_id.unique())\n",
    "    for bike_id in bikeid:\n",
    "        temp = dataset[dataset['bike_id'] == bike_id] \n",
    "        temp.loc[:,'start_date'] =pd.to_datetime(temp['start_date'].values)\n",
    "        temp.loc[:,'end_date'] =pd.to_datetime(temp['end_date'].values)\n",
    "        temp = temp.sort_values(by=['start_date'])\n",
    "        for i in range(1, len(temp)):\n",
    "            t = ((temp.iloc[i].start_date-temp.iloc[i-1].end_date)/np.timedelta64(1, 'm')).astype(int)\n",
    "            interval_list.append(t)\n",
    "    return interval_list\n",
    "interval_list = collectinterval(trip)"
   ]
  },
  {
   "cell_type": "code",
   "execution_count": null,
   "metadata": {},
   "outputs": [],
   "source": [
    "# Check the distribution of all intervals\n",
    "# Distribution with raw data\n",
    "plt.figure(figsize=(16, 8))\n",
    "ax3 = plt.subplot(121)\n",
    "labels, values = zip(*Counter(interval_list).items())\n",
    "indexes = np.arange(len(labels))\n",
    "ax3.bar(indexes,values, 1)\n",
    "plt.xlabel('Raw Interval')\n",
    "plt.ylabel('Counts')\n",
    "ax3.set_ylim(0, 1200)\n",
    "ax3.spines['right'].set_color('none')\n",
    "ax3.spines['top'].set_color('none')\n",
    "\n",
    "## Distribution with log data \n",
    "interval_lg = np.log(np.array(interval_list))\n",
    "interval_lg = interval_lg[~np.isnan(interval_lg)]\n",
    "interval_lg = interval_lg[~np.isinf(interval_lg)]\n",
    "ax4 = plt.subplot(122)\n",
    "ax4.hist(interval_lg, bins=15)\n",
    "plt.xlabel('Interval(e^)')\n",
    "plt.ylabel('Counts')\n",
    "ax4.spines['right'].set_color('none')\n",
    "ax4.spines['top'].set_color('none')"
   ]
  },
  {
   "cell_type": "code",
   "execution_count": null,
   "metadata": {
    "collapsed": true
   },
   "outputs": [],
   "source": [
    "# Calculate the up bound of interval. We get t ~= 7 and t2 ~= 4\n",
    "t = np.mean(interval_lg) + 2*np.std(interval_lg)  # 95%\n",
    "t2 = np.mean(interval_lg) + (1.644)*np.std(interval_lg) # 90%"
   ]
  },
  {
   "cell_type": "code",
   "execution_count": null,
   "metadata": {},
   "outputs": [],
   "source": [
    "def tempcovert(temp):\n",
    "    \"\"\"Group trips with the calculated interval\n",
    "    \"\"\"\n",
    "    final_id_list = []\n",
    "    bike_group = []\n",
    "    counts = 0\n",
    "    for i in range(len(temp)):\n",
    "        old_id = temp.iloc[i].bike_id\n",
    "        if i == 0:\n",
    "            bike_group.append(str(old_id) +'_'+str(counts))\n",
    "        elif i == len(temp)-1:\n",
    "            bike_group.append(str(old_id) +'_'+str(counts)) \n",
    "            final_id = str(old_id) +'_'+str(counts) \n",
    "            final_id_list.append(final_id)\n",
    "        else:\n",
    "            if (((temp.iloc[i].start_date-temp.iloc[i-1].end_date)/np.timedelta64(1, 'D')).astype(int) > 4 and\n",
    "               temp.iloc[i].start_station_id != temp.iloc[i-1].end_station_id):\n",
    "                counts += 1\n",
    "            elif ((temp.iloc[i].start_date-temp.iloc[i-1].end_date)/np.timedelta64(1, 'D')).astype(int) > 7:\n",
    "                counts += 1\n",
    "            bike_group.append(str(old_id) +'_'+str(counts))\n",
    "    result = pd.DataFrame(bike_group, columns = ['bike_group'], index=temp.index)\n",
    "    temp = pd.concat([temp, result], axis =1)\n",
    "    return temp, final_id\n",
    "\n",
    "def generatelifecycle(dataset):\n",
    "    \"\"\"Generate new dataset based on lifecycle.\n",
    "    \"\"\"\n",
    "    new_pd = pd.DataFrame()\n",
    "    finalid_list = []\n",
    "    id_set = set(dataset.bike_id.unique())\n",
    "    for bikeid in id_set:\n",
    "        temp = dataset[dataset['bike_id'] == bikeid]\n",
    "        temp.sort_values(by=['start_date'])\n",
    "        temp['start_date'] =pd.to_datetime(temp['start_date'].values)\n",
    "        temp['end_date'] =pd.to_datetime(temp['end_date'].values)\n",
    "        temp, final_id = tempcovert(temp)\n",
    "        new_pd = pd.concat([new_pd, temp])\n",
    "        finalid_list.append(final_id)\n",
    "    return new_pd, finalid_list\n",
    "\n",
    "new_pd, finalid_list = generatelifecycle(trip)\n",
    "new_pd_removelast = new_pd[~new_pd['bike_group'].isin(finalid_list)]\n",
    "new_pd_removelast.to_csv('Dataset/lifecycle_final.csv')"
   ]
  },
  {
   "cell_type": "markdown",
   "metadata": {},
   "source": [
    "# 2 Data Analysis"
   ]
  },
  {
   "cell_type": "markdown",
   "metadata": {},
   "source": [
    "## 2.1 Current Feature Analysis"
   ]
  },
  {
   "cell_type": "markdown",
   "metadata": {},
   "source": [
    "### 2.1.1 Lifecycle VS Subscription Ratio"
   ]
  },
  {
   "cell_type": "code",
   "execution_count": null,
   "metadata": {
    "collapsed": true
   },
   "outputs": [],
   "source": [
    "station['start_station_id'] = station['id']\n",
    "\n",
    "# Get the duration for a lifecycle\n",
    "duration = pd.DataFrame()\n",
    "a = lifecycle[['bike_group', 'duration']].groupby(['bike_group']).sum()\n",
    "duration['bike_group'] = a.index\n",
    "duration['duration'] = a.duration.values\n",
    "\n",
    "# Get the subscribe_type sum\n",
    "subscriber = pd.DataFrame()\n",
    "customer = pd.DataFrame()\n",
    "b = lifecycle.loc[lifecycle.subscription_type==\"Subscriber\"][['bike_group', 'subscription_type']].groupby(['bike_group']).count()\n",
    "c = lifecycle.loc[lifecycle.subscription_type==\"Customer\"][['bike_group', 'subscription_type']].groupby(['bike_group']).count()\n",
    "subscriber['bike_group'] = b.index\n",
    "subscriber['subscriber'] = b.subscription_type.values\n",
    "customer['bike_group'] = c.index\n",
    "customer['customer'] = c.subscription_type.values\n",
    "\n",
    "# Get the trips count\n",
    "trips = pd.DataFrame()\n",
    "d = lifecycle[['bike_group', 'id']].groupby(['bike_group']).count()\n",
    "trips['bike_group'] = d.index\n",
    "trips['trips number'] = d.id.values\n",
    "\n",
    "bdata = pd.merge(duration, subscriber, on=\"bike_group\", how=\"left\")\n",
    "bdata = pd.merge(bdata, customer, on=\"bike_group\", how=\"left\")\n",
    "bdata = bdata.fillna(0)\n",
    "bdata = pd.merge(bdata, trips, on=\"bike_group\", how=\"left\")\n",
    "bdata['total subscribe types'] = bdata['subscriber'] + bdata['customer']\n",
    "bdata['subscriber ratio'] = bdata['subscriber']/bdata['total subscribe types']\n",
    "\n",
    "# Merge geo \n",
    "bdata['start_station_id'] = lifecycle['start_station_id']\n",
    "bdata = pd.merge(bdata, station[['start_station_id', 'lat', 'long']], on='start_station_id', how=\"left\")"
   ]
  },
  {
   "cell_type": "code",
   "execution_count": null,
   "metadata": {},
   "outputs": [],
   "source": [
    "# First plot: Bike LifeCycle V.S. Subscriber Ratio\n",
    "plt.figure(figsize=(16, 8))\n",
    "ax5 = plt.subplot(111)\n",
    "ax5.scatter(bdata['subscriber ratio'], bdata['duration'], color='b', alpha=0.2)\n",
    "plt.xlabel('Subscriber Ratio')\n",
    "plt.ylabel('LifeCycle')\n",
    "plt.title('Bike LifeCycle V.S. Subscriber Ratio')\n",
    "ax5.spines['right'].set_visible(False)\n",
    "ax5.spines['top'].set_visible(False)"
   ]
  },
  {
   "cell_type": "markdown",
   "metadata": {},
   "source": [
    "### 2.1.2 Lifecycle VS Trips Number"
   ]
  },
  {
   "cell_type": "code",
   "execution_count": null,
   "metadata": {},
   "outputs": [],
   "source": [
    "plt.figure(figsize=(16, 8))\n",
    "ax6 = plt.subplot(111)\n",
    "ax6.hist(bdata['trips number'], bins=30, color=\"green\")\n",
    "plt.xlabel('Trips number')\n",
    "plt.ylabel('Count')\n",
    "plt.title('Trips Number Distribution')\n",
    "ax6.spines['right'].set_visible(False)\n",
    "ax6.spines['top'].set_visible(False)"
   ]
  },
  {
   "cell_type": "code",
   "execution_count": null,
   "metadata": {},
   "outputs": [],
   "source": [
    "# Second plot: Bike LifeCycle V.S. Trips Number in LifeCycle\n",
    "plt.figure(figsize=(16, 8))\n",
    "ax7 = plt.subplot(111)\n",
    "ax7.scatter(bdata['trips number'], bdata['duration'], color='b', alpha=0.2)\n",
    "plt.xlabel('Trips number in LifeCycle')\n",
    "plt.ylabel('LifeCycle')\n",
    "plt.title('Bike LifeCycle V.S. Trips number in LifeCycle')\n",
    "ax7.set_ylim(0, 550000)\n",
    "ax7.spines['right'].set_visible(False)\n",
    "ax7.spines['top'].set_visible(False)"
   ]
  },
  {
   "cell_type": "markdown",
   "metadata": {},
   "source": [
    "### 2.1.3  Station VS Lifecycle"
   ]
  },
  {
   "cell_type": "code",
   "execution_count": null,
   "metadata": {
    "collapsed": true
   },
   "outputs": [],
   "source": [
    "# Duration by Stations and Cities\n",
    "\n",
    "# San Francisco Station Ids and Station Durations\n",
    "san_francisco_station_ids = lifecycle.loc[lifecycle.city == 'San Francisco'][['start_station_id', 'duration']].groupby('start_station_id').sum().index.tolist()\n",
    "san_francisco_station_durations = lifecycle.loc[lifecycle.city == 'San Francisco'][['start_station_id', 'duration']].groupby('start_station_id').sum().values.tolist()\n",
    "san_francisco_station_durations = [x[0] for x in san_francisco_station_durations]\n",
    "\n",
    "# Redwood City Station Ids and Station Durations\n",
    "redwood_city_station_ids = lifecycle.loc[lifecycle.city == 'Redwood City'][['start_station_id', 'duration']].groupby('start_station_id').sum().index.tolist()\n",
    "redwood_city_station_durations = lifecycle.loc[lifecycle.city == 'Redwood City'][['start_station_id', 'duration']].groupby('start_station_id').sum().values.tolist()\n",
    "redwood_city_station_durations = [x[0] for x in redwood_city_station_durations]\n",
    "\n",
    "# Palo Alto Station Ids and Station Durations\n",
    "palo_alto_station_ids = lifecycle.loc[lifecycle.city == 'Palo Alto'][['start_station_id', 'duration']].groupby('start_station_id').sum().index.tolist()\n",
    "palo_alto_station_durations = lifecycle.loc[lifecycle.city == 'Palo Alto'][['start_station_id', 'duration']].groupby('start_station_id').sum().values.tolist()\n",
    "palo_alto_station_durations = [x[0] for x in palo_alto_station_durations]\n",
    "\n",
    "# Mountain View Station Ids and Station Durations\n",
    "mountain_view_station_ids = lifecycle.loc[lifecycle.city == 'Mountain View'][['start_station_id', 'duration']].groupby('start_station_id').sum().index.tolist()\n",
    "mountain_view_station_durations = lifecycle.loc[lifecycle.city == 'Mountain View'][['start_station_id', 'duration']].groupby('start_station_id').sum().values.tolist()\n",
    "mountain_view_station_durations = [x[0] for x in mountain_view_station_durations]\n",
    "\n",
    "# San Jose Station Ids and Station Durations\n",
    "san_jose_station_ids = lifecycle.loc[lifecycle.city == 'San Jose'][['start_station_id', 'duration']].groupby('start_station_id').sum().index.tolist()\n",
    "san_jose_station_durations = lifecycle.loc[lifecycle.city == 'San Jose'][['start_station_id', 'duration']].groupby('start_station_id').sum().values.tolist()\n",
    "san_jose_station_durations = [x[0] for x in san_jose_station_durations]"
   ]
  },
  {
   "cell_type": "code",
   "execution_count": null,
   "metadata": {},
   "outputs": [],
   "source": [
    "# Scatter plot by City. (Reassign station id based on city in order to have some city stations group together in plot.)\n",
    "plt.figure(figsize=(16, 8))\n",
    "ax8 = plt.subplot(111)\n",
    "# Plot \n",
    "print(\"San Francisco Stations Number is: {0}\".format(len(san_francisco_station_ids)))\n",
    "print(\"Redwood City Stations Number is: {0}\".format(len(redwood_city_station_ids)))\n",
    "print(\"Palo Alto Stations Number is: {0}\".format(len(palo_alto_station_ids)))\n",
    "print(\"Mountain View Stations Number is: {0}\".format(len(mountain_view_station_ids)))\n",
    "print(\"San Jose Stations Number is: {0}\".format(len(san_jose_station_ids)))\n",
    "\n",
    "ax8.scatter(list(range(1, 36)), san_francisco_station_durations, color='blue', label=\"San Francisco\")\n",
    "ax8.scatter(list(range(36, 43)), redwood_city_station_durations, color='red', label=\"Redwood City\")\n",
    "ax8.scatter(list(range(43, 48)), palo_alto_station_durations, color='green', label=\"Palo Alto\")\n",
    "ax8.scatter(list(range(48, 55)), mountain_view_station_durations, color='black', label=\"Mountain View\")\n",
    "ax8.scatter(list(range(55, 71)), san_jose_station_durations, color='orange', label=\"San Jose\")\n",
    "plt.xlabel('Station Id Re-grouped by City')\n",
    "plt.ylabel('LifeCycle Duration')\n",
    "plt.title('Bike LifeCycle V.S. Stations Based On City')\n",
    "ax8.spines['right'].set_visible(False)\n",
    "ax8.spines['top'].set_visible(False)\n",
    "plt.legend()"
   ]
  },
  {
   "cell_type": "code",
   "execution_count": null,
   "metadata": {
    "collapsed": true
   },
   "outputs": [],
   "source": [
    "# Heat Map, Check folder 'Html/heatmap.html'\n",
    "heatMapData = pd.DataFrame()\n",
    "d = bdata[['duration', 'lat', 'long']].groupby(['lat', 'long']).sum()\n",
    "lats = []\n",
    "longs = []\n",
    "for e in d.index.values.tolist():\n",
    "    lats.append(e[0])\n",
    "    longs.append(e[1])\n",
    "heatMapData['lat'] = lats\n",
    "heatMapData['long'] = longs\n",
    "heatMapData['duration'] = d.duration.values"
   ]
  },
  {
   "cell_type": "code",
   "execution_count": null,
   "metadata": {
    "collapsed": true
   },
   "outputs": [],
   "source": [
    "data = []\n",
    "for index, row in heatMapData.iterrows():\n",
    "    temp = {}\n",
    "    temp['lat'] = row['lat']\n",
    "    temp['lng'] = row['long']\n",
    "    temp['count'] = row['duration']\n",
    "    data.append(temp)"
   ]
  },
  {
   "cell_type": "markdown",
   "metadata": {},
   "source": [
    "#### 2.1.3.1 Overview\n",
    "![Overview](images/Duration_Overview.jpeg)"
   ]
  },
  {
   "cell_type": "markdown",
   "metadata": {},
   "source": [
    "#### 2.1.3.2 San Francisco\n",
    "![San_Francisco](images/Duration_San_Francisco.jpeg)"
   ]
  },
  {
   "cell_type": "markdown",
   "metadata": {},
   "source": [
    "#### 2.1.3.3 Redwood City\n",
    "![Redwood_City](images/Duration_Redwood_City.jpeg)"
   ]
  },
  {
   "cell_type": "markdown",
   "metadata": {},
   "source": [
    "#### 2.1.3.4 Palo Alto\n",
    "![Palo_Alto](images/Duration_Palo_Alto.jpeg)"
   ]
  },
  {
   "cell_type": "markdown",
   "metadata": {},
   "source": [
    "#### 2.1.3.5 Mountain View\n",
    "![Mountain_View](images/Duration_Mountain_View.jpeg)"
   ]
  },
  {
   "cell_type": "markdown",
   "metadata": {},
   "source": [
    "#### 2.1.3.6 San Jose\n",
    "![San_Jose](images/Duration_San_Jose.jpeg)"
   ]
  },
  {
   "cell_type": "markdown",
   "metadata": {},
   "source": [
    "### 2.1.4 Station VS Crime"
   ]
  },
  {
   "cell_type": "code",
   "execution_count": null,
   "metadata": {},
   "outputs": [],
   "source": [
    "# stations_crimeScore.csv\n",
    "crime = pd.read_csv('Dataset/stations_crimeScore.csv')\n",
    "plt.figure(figsize=(16, 8))\n",
    "ax9 = plt.subplot(111)\n",
    "crime\n",
    "ax9.scatter(list(range(1, 36)), crime.loc[crime.city == 'San Francisco']['crime_score'], color='blue', label=\"San Francisco\")\n",
    "ax9.scatter(list(range(36, 43)), crime.loc[crime.city == 'Redwood City']['crime_score'], color='red', label=\"Redwood City\")\n",
    "ax9.scatter(list(range(43, 48)), crime.loc[crime.city == 'Palo Alto']['crime_score'], color='green', label=\"Palo Alto\")\n",
    "ax9.scatter(list(range(48, 55)), crime.loc[crime.city == 'Mountain View']['crime_score'], color='black', label=\"Mountain View\")\n",
    "ax9.scatter(list(range(55, 71)), crime.loc[crime.city == 'San Jose']['crime_score'], color='orange', label=\"San Jose\")\n",
    "plt.xlabel('Station Id Re-grouped by City')\n",
    "plt.ylabel('Crime Score')\n",
    "plt.title('Crime Score V.S. Stations Based On City')\n",
    "ax9.spines['right'].set_visible(False)\n",
    "ax9.spines['top'].set_visible(False)\n",
    "plt.legend()"
   ]
  },
  {
   "cell_type": "markdown",
   "metadata": {},
   "source": [
    "#### 2.1.4.1 Crime HeatMap Overview\n",
    "![Overview](images/Crime_Overview.jpeg)"
   ]
  },
  {
   "cell_type": "markdown",
   "metadata": {},
   "source": [
    "#### 2.1.4.2 San Francisco\n",
    "![San_Francisco](images/Crime_San_Francisco.jpeg)"
   ]
  },
  {
   "cell_type": "markdown",
   "metadata": {},
   "source": [
    "#### 2.1.4.3 Redwood City\n",
    "![Redwood_City](images/Crime_Redwood_City.jpeg)"
   ]
  },
  {
   "cell_type": "markdown",
   "metadata": {},
   "source": [
    "#### 2.1.4.4 Palo Alto\n",
    "![Palo_Alto](images/Crime_Palo_Alto.jpeg)"
   ]
  },
  {
   "cell_type": "markdown",
   "metadata": {},
   "source": [
    "#### 2.1.4.5 Mountain View\n",
    "![Mountain_View](images/Crime_Mountain_View.jpeg)"
   ]
  },
  {
   "cell_type": "markdown",
   "metadata": {},
   "source": [
    "#### 2.1.4.6 San Jose\n",
    "![San_Jose](images/Crime_San_Jose.jpeg)"
   ]
  },
  {
   "cell_type": "markdown",
   "metadata": {},
   "source": [
    "### 2.1.5 Lifecycle VS Period"
   ]
  },
  {
   "cell_type": "code",
   "execution_count": null,
   "metadata": {
    "collapsed": true
   },
   "outputs": [],
   "source": [
    "lifecycle['start_date'] = pd.to_datetime(lifecycle['start_date'])\n",
    "lifecycle['end_date'] = pd.to_datetime(lifecycle['end_date'])\n",
    "\n",
    "times = list(range(8, 21, 4))\n",
    "labels = ['morning', 'afternoon', 'evening', 'night']\n",
    "periods = dict(zip(times, labels))\n",
    "def period(row):\n",
    "    visit_start = {'hour': row.start_date.hour, 'min': row.start_date.minute} # get hour, min of visit start\n",
    "    visit_end = {'hour': row.end_date.hour, 'min': row.end_date.minute} # get hour, min of visit end\n",
    "    for period_start, label in periods.items():\n",
    "        period_end = period_start + 4\n",
    "        if period_start <= visit_start['hour'] < period_end:\n",
    "            if period_start <= visit_end['hour'] < period_end or (period_end - visit_start['hour']) * 60 - visit_start['min'] > (visit_end['hour'] - period_end) * 60 + visit_end['min']:\n",
    "                return label\n",
    "            else:\n",
    "                return periods[period_end] # assign label of following period  \n",
    "lifecycle['period'] = lifecycle.apply(period, axis=1)"
   ]
  },
  {
   "cell_type": "code",
   "execution_count": null,
   "metadata": {},
   "outputs": [],
   "source": [
    "period = pd.DataFrame()\n",
    "d = lifecycle[['bike_group', 'period', 'duration']].groupby(['bike_group', 'period']).sum()\n",
    "bike_ids = []\n",
    "p = []\n",
    "for e in d.index.values:\n",
    "    bike_ids.append(e[0])\n",
    "    p.append(e[1])\n",
    "period['bike_group'] = bike_ids\n",
    "period['period'] = p\n",
    "period['duration'] = [x[0] for x in d.values.tolist()]\n",
    "\n",
    "# Calculate morning duration rate compared to total duration\n",
    "morning_duration = pd.merge(duration, period.loc[period.period == 'morning'], on='bike_group', how=\"left\")\n",
    "morning_duration['period'] = morning_duration['period'].fillna('morning')\n",
    "morning_duration['duration_y'] = morning_duration['duration_y'].fillna(0)\n",
    "morning_duration['morning rate'] = morning_duration['duration_y']/morning_duration['duration_x']\n",
    "\n",
    "# Calculate afternoon duration rate compared to total duration\n",
    "afternoon_duration = pd.merge(duration, period.loc[period.period == 'afternoon'], on='bike_group', how=\"left\")\n",
    "afternoon_duration['period'] = afternoon_duration['period'].fillna('afternoon')\n",
    "afternoon_duration['duration_y'] = afternoon_duration['duration_y'].fillna(0)\n",
    "afternoon_duration['afternoon rate'] = afternoon_duration['duration_y']/afternoon_duration['duration_x']\n",
    "\n",
    "# Calculate evening duration rate compared to total duration\n",
    "evening_duration = pd.merge(duration, period.loc[period.period == 'evening'], on='bike_group', how=\"left\")\n",
    "evening_duration['period'] = evening_duration['period'].fillna('evening')\n",
    "evening_duration['duration_y'] = evening_duration['duration_y'].fillna(0)\n",
    "evening_duration['evening rate'] = evening_duration['duration_y']/evening_duration['duration_x']\n",
    "\n",
    "# Calculate night duration rate compared to total duration\n",
    "night_duration = pd.merge(duration, period.loc[period.period == 'night'], on='bike_group', how=\"left\")\n",
    "night_duration['period'] = night_duration['period'].fillna('night')\n",
    "night_duration['duration_y'] = night_duration['duration_y'].fillna(0)\n",
    "night_duration['night rate'] = night_duration['duration_y']/night_duration['duration_x']\n",
    "\n",
    "plt.figure(figsize=(16, 8))\n",
    "ax10 = plt.subplot(111)\n",
    "ax10.scatter(morning_duration['morning rate'], morning_duration['duration_x'], color='blue', alpha=1, label=\"Morning\", s=3)\n",
    "ax10.scatter(afternoon_duration['afternoon rate'], afternoon_duration['duration_x'], color='red', alpha=1, label=\"Afternoon\", s=3)\n",
    "ax10.scatter(evening_duration['evening rate'], evening_duration['duration_x'], color='green', alpha=1, label=\"Evening\", s=3)\n",
    "ax10.scatter(night_duration['night rate'], night_duration['duration_x'], color='orange', alpha=1, label=\"Night\", s=3)\n",
    "\n",
    "plt.xlabel('Period Ratio')\n",
    "plt.ylabel('LifeCycle Duration')\n",
    "plt.title('Bike LifeCycle V.S. Period Ratio')\n",
    "ax10.spines['right'].set_visible(False)\n",
    "ax10.spines['top'].set_visible(False)\n",
    "plt.legend()"
   ]
  },
  {
   "cell_type": "markdown",
   "metadata": {},
   "source": [
    "## 2.2 Weather "
   ]
  },
  {
   "cell_type": "code",
   "execution_count": null,
   "metadata": {
    "collapsed": true
   },
   "outputs": [],
   "source": [
    "life_weather = lifecycle.merge(weather, on = ['id'])\n",
    "\n",
    "# multiply the duration and the weather data to see the weather factors that affect a specific trip\n",
    "life_weather['Tempbysec'] = life_weather['duration'] * life_weather['Temperature']\n",
    "life_weather['Humibysec'] = life_weather['duration'] * life_weather['Humidity']\n",
    "life_weather['Dewbysec']  = life_weather['duration'] * life_weather['Dewpoint']\n",
    "life_weather['Presbysec'] = life_weather['duration'] * life_weather['Pressure']\n",
    "life_weather['Visibysec'] = life_weather['duration'] * life_weather['Visibility']\n",
    "\n",
    "t0 = life_weather.groupby('bike_group').sum()\n",
    "t0['bike_group'] = t0.index\n",
    "# calculate the weather factors taht affect a specific lifecycle\n",
    "t0['Tempbyduration'] = t0['Tempbysec'] / t0['duration']\n",
    "t0['Presbyduration'] = t0['Presbysec'] / t0['duration']\n",
    "t0['Humibyduration'] = t0['Humibysec'] / t0['duration']\n",
    "t0['Dewbyduration']  = t0['Dewbysec'] / t0['duration']\n",
    "t0['Visibyduration'] = t0['Visibysec'] / t0['duration']\n",
    "\n",
    "lifecycle_weather = t0[['bike_group','duration','Tempbyduration', 'Humibyduration', 'Presbyduration', 'Dewbyduration','Visibyduration']]"
   ]
  },
  {
   "cell_type": "markdown",
   "metadata": {},
   "source": [
    "### 2.2.1  Lifecycle VS Temperature"
   ]
  },
  {
   "cell_type": "code",
   "execution_count": null,
   "metadata": {},
   "outputs": [],
   "source": [
    "fig, ax = plt.subplots(figsize = [16,8], facecolor=[0.9,0.9,0.9])\n",
    "ax.spines['right'].set_color('none')\n",
    "ax.spines['top'].set_color('none')\n",
    "ax.xaxis.set_ticks_position('bottom')\n",
    "ax.yaxis.set_ticks_position('left')\n",
    "x_axis=lifecycle_weather.Tempbyduration\n",
    "y_axis=lifecycle_weather.duration\n",
    "ax.scatter(x_axis, y_axis)\n",
    "plt.xlabel('Mean Temprature in this lifecycle')\n",
    "plt.ylabel('Lifecycle in use(sec)')\n",
    "plt.show()"
   ]
  },
  {
   "cell_type": "markdown",
   "metadata": {},
   "source": [
    "### 2.2.2  Lifecycle VS Dew Point"
   ]
  },
  {
   "cell_type": "code",
   "execution_count": null,
   "metadata": {},
   "outputs": [],
   "source": [
    "fig, ax = plt.subplots(figsize = [16,8], facecolor=[0.9,0.9,0.9])\n",
    "ax.spines['right'].set_color('none')\n",
    "ax.spines['top'].set_color('none')\n",
    "ax.xaxis.set_ticks_position('bottom')\n",
    "ax.yaxis.set_ticks_position('left')\n",
    "x_axis=lifecycle_weather.Dewbyduration\n",
    "y_axis=lifecycle_weather.duration\n",
    "ax.scatter(x_axis, y_axis)\n",
    "plt.xlabel('Mean Dew point in this lifecycle')\n",
    "plt.ylabel('Lifecycle in use(sec)')\n",
    "plt.show()"
   ]
  },
  {
   "cell_type": "markdown",
   "metadata": {},
   "source": [
    "### 2.2.3 Lifecycle VS Humidity"
   ]
  },
  {
   "cell_type": "code",
   "execution_count": null,
   "metadata": {},
   "outputs": [],
   "source": [
    "fig, ax = plt.subplots(figsize = [16,8], facecolor=[0.9,0.9,0.9])\n",
    "ax.spines['right'].set_color('none')\n",
    "ax.spines['top'].set_color('none')\n",
    "ax.xaxis.set_ticks_position('bottom')\n",
    "ax.yaxis.set_ticks_position('left')\n",
    "x_axis=lifecycle_weather.Humibyduration\n",
    "y_axis=lifecycle_weather.duration\n",
    "ax.scatter(x_axis, y_axis)\n",
    "plt.xlabel('Mean Humidity in this lifecycle')\n",
    "plt.ylabel('Lifecycle in use(sec)')\n",
    "plt.show()"
   ]
  },
  {
   "cell_type": "markdown",
   "metadata": {},
   "source": [
    "### 2.2.4 Lifecycle VS Pressure"
   ]
  },
  {
   "cell_type": "code",
   "execution_count": null,
   "metadata": {},
   "outputs": [],
   "source": [
    "fig, ax = plt.subplots(figsize = [16,8], facecolor=[0.9,0.9,0.9])\n",
    "ax.spines['right'].set_color('none')\n",
    "ax.spines['top'].set_color('none')\n",
    "ax.xaxis.set_ticks_position('bottom')\n",
    "ax.yaxis.set_ticks_position('left')\n",
    "x_axis=lifecycle_weather.Presbyduration\n",
    "y_axis=lifecycle_weather.duration\n",
    "ax.scatter(x_axis, y_axis)\n",
    "plt.xlabel('Mean Humidity in this lifecycle')\n",
    "plt.ylabel('Lifecycle in use(sec)')\n",
    "plt.show()"
   ]
  },
  {
   "cell_type": "markdown",
   "metadata": {},
   "source": [
    "### 2.2.5 Lifecycle VS Visibility"
   ]
  },
  {
   "cell_type": "code",
   "execution_count": null,
   "metadata": {},
   "outputs": [],
   "source": [
    "fig, ax = plt.subplots(figsize = [16,8], facecolor=[0.9,0.9,0.9])\n",
    "ax.spines['right'].set_color('none')\n",
    "ax.spines['top'].set_color('none')\n",
    "ax.xaxis.set_ticks_position('bottom')\n",
    "ax.yaxis.set_ticks_position('left')\n",
    "x_axis=lifecycle_weather.Visibyduration\n",
    "y_axis=lifecycle_weather.duration\n",
    "ax.scatter(x_axis, y_axis)\n",
    "plt.xlabel('Mean visibility during trip(meter)')\n",
    "plt.ylabel('Mean duration in use(sec)')\n",
    "plt.show()"
   ]
  },
  {
   "cell_type": "markdown",
   "metadata": {},
   "source": [
    "In general, except Visibility which has a normal distribution shape, other weather factors all have a bimodal shape. It is difficult to find a distinct linear relationship between a weather factor and the lifecycle. All we can determine is that the long lifecycle would not happen when the weather factor is near its minimum value and its maximum value."
   ]
  },
  {
   "cell_type": "markdown",
   "metadata": {},
   "source": [
    "### 2.2.6 PCA"
   ]
  },
  {
   "cell_type": "markdown",
   "metadata": {},
   "source": [
    "Furthermore, we use PCA to combine these four factors except Visibility and reduce the dimensionality to get a “weather index” to represent the weather information."
   ]
  },
  {
   "cell_type": "code",
   "execution_count": null,
   "metadata": {
    "collapsed": true
   },
   "outputs": [],
   "source": [
    "# standardize the data\n",
    "def standardize(raw_data):\n",
    "    return ((raw_data - np.mean(raw_data, axis = 0)) / np.std(raw_data, axis = 0))\n",
    "\n",
    "t = standardize(lifecycle_weather[['Tempbyduration', 'Humibyduration', 'Presbyduration', 'Dewbyduration']])\n",
    "pca = PCA(n_components=2)\n",
    "pca.fit(t)\n",
    "WeatherIndex = pd.DataFrame(pca.fit_transform(t))"
   ]
  },
  {
   "cell_type": "markdown",
   "metadata": {},
   "source": [
    "To maintain the variance, we decided to reduce the dimensionality to 2, which can maintain 85% variance. Since we have 2 dimensions and 1 target, we generated a 3D plot to explore the relationship as below."
   ]
  },
  {
   "cell_type": "code",
   "execution_count": null,
   "metadata": {},
   "outputs": [],
   "source": [
    "from mpl_toolkits.mplot3d import Axes3D\n",
    "fig = plt.figure(figsize = [16,8], facecolor=[0.9,0.9,0.9])\n",
    "ax = fig.gca(projection='3d')\n",
    "data = zip(WeatherIndex[0], WeatherIndex[1], lifecycle_weather.duration)\n",
    "for x,y,z in data:\n",
    "    col = ((lifecycle_weather.duration.max()-z)/(lifecycle_weather.duration.max()-lifecycle_weather.duration.min()))\n",
    "    ax.scatter(x,y,z,c=[(col,0.5,0.5),], marker='o')\n",
    "ax.set_xlabel('Weather Index - dimension 1')\n",
    "ax.set_ylabel('Weather Index - dimension 2')\n",
    "ax.set_zlabel('lifecycle(sec)')\n",
    "plt.show()"
   ]
  },
  {
   "cell_type": "markdown",
   "metadata": {},
   "source": [
    "According to the above plot, we could see the long life cycle still remains at the center section of the weather index. But, at the same time, it could not determin whether a short life cycle would happen based on the weather index."
   ]
  },
  {
   "cell_type": "markdown",
   "metadata": {},
   "source": [
    "## 2.3 Income and Education"
   ]
  },
  {
   "cell_type": "code",
   "execution_count": null,
   "metadata": {
    "collapsed": true
   },
   "outputs": [],
   "source": [
    "# Merge income data based on zipcode\n",
    "lifecycle = lifecycle.drop('zip_code', axis=1)\n",
    "stations_zipcode.rename(columns={'id':'start_station_id', 'postal':'zip_code'}, inplace=True)\n",
    "df = pd.merge(lifecycle, stations_zipcode[['start_station_id', 'zip_code']], on='start_station_id', how = 'left')\n",
    "df = pd.merge(df, income, on='zip_code', how = 'left')\n",
    "\n",
    "# Merge education data based on zipcode\n",
    "df = pd.merge(df, edu, on='zip_code', how = 'left')"
   ]
  },
  {
   "cell_type": "code",
   "execution_count": null,
   "metadata": {
    "collapsed": true
   },
   "outputs": [],
   "source": [
    "# Combine income and edu features with bike lifecycle\n",
    "gb1 = df[['bike_group', 'duration']].groupby('bike_group').sum()\n",
    "income_edu = pd.DataFrame()\n",
    "income_edu['bike_group'] = gb1.index\n",
    "income_edu['duration'] = gb1.duration.values\n",
    "\n",
    "cols = ['mean_household_income', 'commuting_to_work_perc_PT', 'mean_work_commuting_time_min', 'perc_HS_or_higher', 'perc_bachelor_or_higher']\n",
    "df[cols] = df[cols].apply(pd.to_numeric, errors='coerce', axis=1)\n",
    "gb2 = df[['bike_group','mean_household_income', 'commuting_to_work_perc_PT', 'mean_work_commuting_time_min', 'perc_HS_or_higher', 'perc_bachelor_or_higher']].groupby('bike_group').mean()\n",
    "\n",
    "income_edu['mean_household_income'] = gb2.mean_household_income.values\n",
    "income_edu['commuting_to_work_perc_PT'] = gb2.commuting_to_work_perc_PT.values\n",
    "income_edu['mean_work_commuting_time_min'] = gb2.mean_work_commuting_time_min.values\n",
    "income_edu['perc_HS_or_higher'] = gb2.perc_HS_or_higher.values\n",
    "income_edu['perc_bachelor_or_higher'] = gb2.perc_bachelor_or_higher.values"
   ]
  },
  {
   "cell_type": "code",
   "execution_count": null,
   "metadata": {},
   "outputs": [],
   "source": [
    "fig = plt.figure(figsize=(15, 15))\n",
    "#Calculate the correlation of every pair of variables in the dataset\n",
    "ax11 = fig.add_subplot(111)\n",
    "income_edu_features = income_edu.drop(['bike_group'], axis=1)\n",
    "mat = ax11.matshow(income_edu_features.corr(method='pearson'), vmin=-1, vmax=1, cmap=plt.cm.RdYlGn)\n",
    "fig.colorbar(mat,fraction=0.046, pad=0.04)\n",
    "ax11.set_title('Correlation matrix')\n",
    "ax11.set_xticks(range(len(income_edu_features.columns)))\n",
    "ax11.set_xticklabels(income_edu_features.columns)\n",
    "ax11.set_yticks(range(len(income_edu_features.columns)))\n",
    "ax11.set_yticklabels(income_edu_features.columns)\n",
    "ax11.xaxis.set_ticks_position('top')\n",
    "ax11.yaxis.set_ticks_position('left')\n",
    "plt.show()"
   ]
  },
  {
   "cell_type": "code",
   "execution_count": null,
   "metadata": {},
   "outputs": [],
   "source": [
    "plt.figure(figsize=(16, 24))\n",
    "# # Lifecycle vs Mean Household Income\n",
    "ax12 = plt.subplot(321)\n",
    "ax12.scatter(income_edu.mean_household_income, income_edu.duration, alpha=0.5)\n",
    "plt.xlabel('Household Income')\n",
    "plt.ylabel('Lifecycle(duration)')\n",
    "plt.title(\"Lifecycle Distribution over Mean Household Income\")\n",
    "ax12.spines['right'].set_color('none')\n",
    "ax12.spines['top'].set_color('none')\n",
    "\n",
    "\n",
    "# Lifecycle VS Commuting-to-work Percentage\n",
    "ax13 = plt.subplot(322)\n",
    "ax13.scatter(income_edu.commuting_to_work_perc_PT, income_edu.duration, alpha=0.5)\n",
    "plt.xlabel('Commuting-to-work Percentage (Public Transportation)')\n",
    "plt.ylabel('Lifecycle(duration)')\n",
    "plt.title(\"Lifecycle Distribution over Commuting-to-work Percentage\")\n",
    "ax13.spines['right'].set_color('none')\n",
    "ax13.spines['top'].set_color('none')\n",
    "\n",
    "# Lifecycle vs Work Commuting Time\n",
    "ax14 = plt.subplot(323)\n",
    "ax14.scatter(income_edu.mean_work_commuting_time_min, income_edu.duration, alpha=0.5)\n",
    "plt.xlabel('Mean Work Commuting Time(in min)')\n",
    "plt.ylabel('Lifecycle(duration)')\n",
    "plt.title(\"Lifecycle Distribution over Work Commuting Time\")\n",
    "ax14.spines['right'].set_color('none')\n",
    "ax14.spines['top'].set_color('none')\n",
    "\n",
    "# Lifecycle vs Percentage of HighSchool or higher\n",
    "ax15 = plt.subplot(324)\n",
    "ax15.scatter(income_edu.perc_HS_or_higher, income_edu.duration, alpha=0.5)\n",
    "plt.xlabel('Percentage of HighSchool or higher')\n",
    "plt.ylabel('Lifecycle(duration)')\n",
    "plt.title(\"Lifecycle Distribution over Percentage of HighSchool or higher\")\n",
    "ax15.spines['right'].set_color('none')\n",
    "ax15.spines['top'].set_color('none')\n",
    "\n",
    "\n",
    "# Lifecycle vs Percentage of Percentage of bachelor or higher\n",
    "ax16 = plt.subplot(325)\n",
    "ax16.scatter(income_edu.perc_bachelor_or_higher, income_edu.duration, alpha=0.5)\n",
    "plt.xlabel('Percentage of bachelor or higher')\n",
    "plt.ylabel('Lifecycle(duration)')\n",
    "plt.title(\"Lifecycle Distribution over Percentage of bachelor or higher\")\n",
    "ax16.spines['right'].set_color('none')\n",
    "ax16.spines['top'].set_color('none')"
   ]
  },
  {
   "cell_type": "markdown",
   "metadata": {},
   "source": [
    "## 2.4 Crime"
   ]
  },
  {
   "cell_type": "code",
   "execution_count": null,
   "metadata": {
    "collapsed": true
   },
   "outputs": [],
   "source": [
    "# Get start time\n",
    "start = lifecycle.groupby('bike_group').min()['start_date'].apply(lambda bike_group: datetime.datetime.strptime(bike_group,'%Y-%m-%d %H:%M:%S'))\n",
    "# Get end time\n",
    "end = lifecycle.groupby('bike_group').max()['end_date'].apply(lambda bike_group: datetime.datetime.strptime(bike_group,'%Y-%m-%d %H:%M:%S'))\n",
    "duration_dict = end - start\n",
    "def get_total_duration(bike_group):\n",
    "    return duration_dict[bike_group]\n",
    "lifecycle['total_duration'] = lifecycle.apply(lambda row: get_total_duration(row['bike_group']), axis=1)"
   ]
  },
  {
   "cell_type": "code",
   "execution_count": null,
   "metadata": {
    "collapsed": true
   },
   "outputs": [],
   "source": [
    "# Replace 'id' with 'station_id'\n",
    "station_crime.rename(index=str, columns={\"id\": \"start_station_id\"}, inplace=True)\n",
    "crime_dict = pd.DataFrame({'start_station_id': station_crime['start_station_id'],\n",
    "                  'crime_score': station_crime['crime_score']})\n",
    "crime_dict = crime_dict.set_index(\"start_station_id\")[\"crime_score\"]"
   ]
  },
  {
   "cell_type": "code",
   "execution_count": null,
   "metadata": {
    "collapsed": true
   },
   "outputs": [],
   "source": [
    "crime = lifecycle.merge(station_crime[['start_station_id', 'crime_score']], on=['start_station_id'])\n",
    "crime.rename(index=str, columns={\"crime_score\": \"start_crime_score\"}, inplace=True)"
   ]
  },
  {
   "cell_type": "code",
   "execution_count": null,
   "metadata": {
    "collapsed": true
   },
   "outputs": [],
   "source": [
    "station_crime.rename(index=str, columns={\"start_station_id\": \"end_station_id\"}, inplace=True)\n",
    "crime = crime.merge(station_crime[['end_station_id', 'crime_score']], on=['end_station_id'])\n",
    "crime.rename(index=str, columns={\"crime_score\": \"end_crime_score\"}, inplace=True)"
   ]
  },
  {
   "cell_type": "code",
   "execution_count": null,
   "metadata": {
    "collapsed": true
   },
   "outputs": [],
   "source": [
    "crime_aggre = crime[['bike_group', 'duration']].groupby('bike_group').sum()\n",
    "crime_aggre_2 = crime[['bike_group', 'start_crime_score', 'end_crime_score']].groupby('bike_group').mean()\n",
    "crime_duration = pd.DataFrame()\n",
    "crime_duration['bike_group'] = crime_aggre.index\n",
    "crime_duration['duration'] = crime_aggre.duration.values\n",
    "crime_duration['start_crime_score'] = crime_aggre_2.start_crime_score.values\n",
    "crime_duration['end_crime_score'] = crime_aggre_2.end_crime_score.values"
   ]
  },
  {
   "cell_type": "code",
   "execution_count": null,
   "metadata": {},
   "outputs": [],
   "source": [
    "plt.figure(figsize=(16, 8))\n",
    "# Lifecycle vs Mean Crime at Start Station Id\n",
    "ax17 = plt.subplot(121)\n",
    "ax17.scatter(crime_duration.start_crime_score, crime_duration.duration, alpha=0.5)\n",
    "plt.xlabel('Mean Crime Score (Start Station)')\n",
    "plt.ylabel('Lifecycle(duration)')\n",
    "plt.title(\"Lifecycle Distribution VS. Mean Crime (Start Station)\")\n",
    "ax17.spines['right'].set_color('none')\n",
    "ax17.spines['top'].set_color('none')\n",
    "\n",
    "# Lifecycle vs Mean Crime at End Station Id\n",
    "ax18 = plt.subplot(122)\n",
    "ax18.scatter(crime_duration.end_crime_score, crime_duration.duration, alpha=0.5)\n",
    "plt.xlabel('Mean Crime Score (End Station)')\n",
    "plt.ylabel('Lifecycle(duration)')\n",
    "plt.title(\"Lifecycle Distribution VS. Mean Crime (End Station)\")\n",
    "ax18.spines['right'].set_color('none')\n",
    "ax18.spines['top'].set_color('none')"
   ]
  },
  {
   "cell_type": "markdown",
   "metadata": {},
   "source": [
    "## 2.5 Finalize Dataset"
   ]
  },
  {
   "cell_type": "code",
   "execution_count": null,
   "metadata": {
    "collapsed": true
   },
   "outputs": [],
   "source": [
    "# Merge bdata (trips number, subscriber ration, periods ration) with weather data\n",
    "final_df = pd.DataFrame()\n",
    "final_df = lifecycle_weather.merge(bdata[['bike_group','trips number', 'subscriber ratio']], on='bike_group')\n",
    "final_df = final_df.merge(morning_duration[['bike_group', 'morning rate']], on='bike_group')\n",
    "final_df = final_df.merge(afternoon_duration[['bike_group', 'afternoon rate']], on='bike_group')\n",
    "final_df = final_df.merge(evening_duration[['bike_group', 'evening rate']], on='bike_group')\n",
    "final_df = final_df.merge(night_duration[['bike_group', 'night rate']], on='bike_group')\n",
    "final_df = final_df.merge(income_edu[['bike_group', 'mean_household_income', 'commuting_to_work_perc_PT',\n",
    "                                      'mean_work_commuting_time_min', 'perc_HS_or_higher', 'perc_bachelor_or_higher']],\n",
    "                         on='bike_group')\n",
    "final_df = final_df.merge(crime_duration[['bike_group', 'start_crime_score', 'end_crime_score']], on='bike_group')"
   ]
  },
  {
   "cell_type": "code",
   "execution_count": null,
   "metadata": {
    "collapsed": true
   },
   "outputs": [],
   "source": [
    "final_df = final_df.dropna()"
   ]
  },
  {
   "cell_type": "code",
   "execution_count": null,
   "metadata": {
    "collapsed": true
   },
   "outputs": [],
   "source": [
    "final_df.to_csv('Dataset/final_dataset.csv')"
   ]
  },
  {
   "cell_type": "markdown",
   "metadata": {},
   "source": [
    "# 3 Modeling"
   ]
  },
  {
   "cell_type": "code",
   "execution_count": 15,
   "metadata": {},
   "outputs": [
    {
     "data": {
      "text/plain": [
       "(3774, 21)"
      ]
     },
     "execution_count": 15,
     "metadata": {},
     "output_type": "execute_result"
    }
   ],
   "source": [
    "# Loading finalized dataset\n",
    "life_cycle = pd.read_csv('Dataset/final_dataset.csv')\n",
    "life_cycle.shape"
   ]
  },
  {
   "cell_type": "markdown",
   "metadata": {},
   "source": [
    "## 3.1 Linear Regression"
   ]
  },
  {
   "cell_type": "markdown",
   "metadata": {},
   "source": [
    "### 3.1.1 Fitting Model"
   ]
  },
  {
   "cell_type": "code",
   "execution_count": 16,
   "metadata": {
    "collapsed": true
   },
   "outputs": [],
   "source": [
    "life_cycle.reset_index(drop=True, inplace=True)\n",
    "def standardize(raw_data):\n",
    "    return ((raw_data - np.mean(raw_data, axis = 0)) / np.std(raw_data, axis = 0))"
   ]
  },
  {
   "cell_type": "code",
   "execution_count": 17,
   "metadata": {
    "collapsed": true
   },
   "outputs": [],
   "source": [
    "rmse_ratio_train = []\n",
    "rmse_ratio_test = []\n",
    "error_ratio_train = []\n",
    "error_ratio_test = []\n",
    "row_name = []\n",
    "\n",
    "# reset index\n",
    "life_cycle.reset_index(drop=True, inplace=True)\n",
    "\n",
    "# shuffle and generate index for training/test\n",
    "np.random.seed(seed=13579)\n",
    "#train_idx = np.random.choice(range(len(life_cycle)), int(len(life_cycle) * .8), replace=False)\n",
    "train_idx = np.random.choice(range(len(life_cycle)), 3000, replace=False)\n",
    "test_idx = list(set(range(len(life_cycle))) - set(list(train_idx)))\n",
    "\n",
    "# generate training/test\n",
    "bdata_train = life_cycle.loc[train_idx]\n",
    "bdata_test = life_cycle.loc[test_idx]\n",
    "bdata_train.reset_index(drop=True, inplace=True)\n",
    "bdata_test.reset_index(drop=True, inplace=True)\n",
    "\n",
    "# remove unnecessary columns\n",
    "train_feature = bdata_train.drop(['duration', 'bike_group'], axis=1)\n",
    "test_feature = bdata_test.drop(['duration', 'bike_group'], axis=1)\n",
    "train_target = bdata_train['duration']\n",
    "test_target = bdata_test['duration']\n",
    "train_feature = standardize(train_feature)\n",
    "test_feature = standardize(test_feature)"
   ]
  },
  {
   "cell_type": "code",
   "execution_count": 18,
   "metadata": {
    "collapsed": true
   },
   "outputs": [],
   "source": [
    "from sklearn.linear_model import Lasso\n",
    "from sklearn.model_selection import KFold\n",
    "\n",
    "def compute_rmse(predictions, yvalues):\n",
    "    # compute_rmse\n",
    "    assert len(predictions) == len(yvalues)\n",
    "    rmse = np.sqrt(np.sum(np.power(np.subtract(predictions, yvalues),2))/len(yvalues))\n",
    "    return rmse\n",
    "\n",
    "def getaccu_lasso(train_feature, train_target):\n",
    "    # get the validation score for the lasso model\n",
    "    kf = KFold(10,random_state=2017)\n",
    "    clf_dict = {}\n",
    "    valid_accu = []\n",
    "    for train_index, test_index in kf.split(train_feature):\n",
    "        X_train, y_train = train_feature.loc[train_index], train_target.loc[train_index].values\n",
    "        X_test, y_test = train_feature.loc[test_index], train_target.loc[test_index].values\n",
    "        clf = Lasso()\n",
    "        clf.fit(X_train, y_train)\n",
    "        valid_rmse = compute_rmse(clf.predict(X_test),y_test) \n",
    "        valid_accu.append(valid_rmse)\n",
    "        clf_dict[valid_rmse] = clf\n",
    "    return valid_accu, clf_dict\n",
    "\n",
    "def caculateratio(clf, feature, target):\n",
    "    # caculate the error precetange of the deviation of the predicted value to the actual valus\n",
    "    predict_y = clf.predict(feature)\n",
    "    compare_predict = pd.concat([target, pd.DataFrame(predict_y)], axis=1)\n",
    "    compare_predict.columns = ['true', 'predict']\n",
    "    compare_predict['error_precent'] = (compare_predict.predict - compare_predict.true) / compare_predict.true\n",
    "    compare_predict['abs_precent'] = np.abs(compare_predict['error_precent'])\n",
    "    \n",
    "    return compare_predict"
   ]
  },
  {
   "cell_type": "markdown",
   "metadata": {},
   "source": [
    "***Optimization - with trips count***"
   ]
  },
  {
   "cell_type": "code",
   "execution_count": 19,
   "metadata": {
    "collapsed": true
   },
   "outputs": [],
   "source": [
    "from sklearn.model_selection import GridSearchCV\n",
    "\n",
    "#model = Lasso()\n",
    "#alpha_list = list(range(1,50))\n",
    "#parameters = {'alpha':alpha_list,'fit_intercept':[True,False], 'normalize':[True,False], 'copy_X':[True, False]}\n",
    "#grid = GridSearchCV(model, parameters, cv=10)\n",
    "#grid.fit(train_feature, train_target)\n",
    "#print(\"r2 / variance : \", grid.best_score_)\n",
    "#print(compute_rmse(grid.predict(test_feature),test_target))\n",
    "#grid.best_params_"
   ]
  },
  {
   "cell_type": "markdown",
   "metadata": {},
   "source": [
    "So the best parameters using all features are:\n",
    "{'alpha': 18, 'copy_X': True, 'fit_intercept': True, 'normalize': False}"
   ]
  },
  {
   "cell_type": "code",
   "execution_count": 20,
   "metadata": {},
   "outputs": [
    {
     "data": {
      "text/plain": [
       "Lasso(alpha=18, copy_X=True, fit_intercept=True, max_iter=1000,\n",
       "   normalize=False, positive=False, precompute=False, random_state=None,\n",
       "   selection='cyclic', tol=0.0001, warm_start=False)"
      ]
     },
     "execution_count": 20,
     "metadata": {},
     "output_type": "execute_result"
    }
   ],
   "source": [
    "model = Lasso(alpha=18, copy_X=True, fit_intercept=True, normalize=False)\n",
    "model.fit(train_feature, train_target)"
   ]
  },
  {
   "cell_type": "code",
   "execution_count": 21,
   "metadata": {
    "collapsed": true
   },
   "outputs": [],
   "source": [
    "rmse_opti_oaf_train = compute_rmse(model.predict(train_feature),train_target)/np.mean(train_target)\n",
    "rmse_opti_oaf_test =compute_rmse(model.predict(test_feature),test_target)/np.mean(test_target)\n",
    "row_name.append('original_allfeatures')\n",
    "rmse_ratio_train.append(rmse_opti_oaf_train)\n",
    "rmse_ratio_test.append(rmse_opti_oaf_test)\n"
   ]
  },
  {
   "cell_type": "code",
   "execution_count": 22,
   "metadata": {
    "collapsed": true
   },
   "outputs": [],
   "source": [
    "compare_predict_train_opti_oaf = caculateratio(model, train_feature, train_target)\n",
    "error_ratio_train.append(compare_predict_train_opti_oaf.abs_precent.median())\n",
    "compare_predict_test_opti_oaf = caculateratio(model, test_feature, test_target)\n",
    "error_ratio_test.append(compare_predict_test_opti_oaf.abs_precent.median())\n"
   ]
  },
  {
   "cell_type": "code",
   "execution_count": 23,
   "metadata": {
    "scrolled": false
   },
   "outputs": [
    {
     "data": {
      "image/png": "[encoded data removed]",
      "text/plain": [
       "<matplotlib.figure.Figure at 0x119c302e8>"
      ]
     },
     "metadata": {},
     "output_type": "display_data"
    }
   ],
   "source": [
    "fig, ax = plt.subplots(figsize = [16,8], facecolor = [0.9,0.9,0.9])\n",
    "x_pos = np.arange(len(train_feature.columns)-1)\n",
    " \n",
    "plt.bar(x_pos, model.coef_[1:])\n",
    "plt.xticks(x_pos, train_feature.columns[1:], rotation='vertical')\n",
    "ax.spines['right'].set_color('none')\n",
    "ax.spines['top'].set_color('none')\n",
    "plt.show()"
   ]
  },
  {
   "cell_type": "code",
   "execution_count": 24,
   "metadata": {},
   "outputs": [
    {
     "data": {
      "image/png": "[encoded data removed]",
      "text/plain": [
       "<matplotlib.figure.Figure at 0x10df696a0>"
      ]
     },
     "metadata": {},
     "output_type": "display_data"
    }
   ],
   "source": [
    "fig, ax = plt.subplots(figsize = [10,10], facecolor = [0.9,0.9,0.9])\n",
    "\n",
    "x_axis = compare_predict_train_opti_oaf.true\n",
    "y_axis = compare_predict_train_opti_oaf.predict\n",
    "x_axis2 = range(400000)\n",
    "y_axis2 = range(400000)\n",
    "\n",
    "plt.scatter(x_axis, y_axis)\n",
    "plt.plot(x_axis2, y_axis2, 'r')\n",
    "plt.xlabel('True')\n",
    "plt.ylabel('Predict')\n",
    "plt.title('Train dataset')\n",
    "ax.spines['right'].set_color('none')\n",
    "ax.spines['top'].set_color('none')\n",
    "plt.show()"
   ]
  },
  {
   "cell_type": "code",
   "execution_count": 25,
   "metadata": {},
   "outputs": [
    {
     "data": {
      "image/png": "[encoded data removed]",
      "text/plain": [
       "<matplotlib.figure.Figure at 0x11b565c50>"
      ]
     },
     "metadata": {},
     "output_type": "display_data"
    }
   ],
   "source": [
    "fig, ax = plt.subplots(figsize = [10,10], facecolor = [0.9,0.9,0.9])\n",
    "\n",
    "x_axis = compare_predict_test_opti_oaf.true\n",
    "y_axis = compare_predict_test_opti_oaf.predict\n",
    "x_axis2 = range(400000)\n",
    "y_axis2 = range(400000)\n",
    "\n",
    "plt.scatter(x_axis, y_axis)\n",
    "plt.plot(x_axis2, y_axis2, 'r')\n",
    "#plt.xticks(x_pos, train_feature.columns, rotation='vertical')\n",
    "#plt.hist(interval_log, bins=30, alpha=0.75)\n",
    "plt.xlabel('True')\n",
    "plt.ylabel('Predict')\n",
    "plt.title('Train dataset')\n",
    "#plt.axis([0, 10000, 0, 1000000])\n",
    "#ax.set_xlim([0, 20])\n",
    "ax.spines['right'].set_color('none')\n",
    "ax.spines['top'].set_color('none')\n",
    "plt.show()"
   ]
  },
  {
   "cell_type": "code",
   "execution_count": null,
   "metadata": {
    "collapsed": true
   },
   "outputs": [],
   "source": []
  },
  {
   "cell_type": "markdown",
   "metadata": {},
   "source": [
    "*** Optimization - without trips count***"
   ]
  },
  {
   "cell_type": "code",
   "execution_count": 26,
   "metadata": {
    "collapsed": true
   },
   "outputs": [],
   "source": [
    "#model = Lasso()\n",
    "#alpha_list = list(range(1,50))\n",
    "#parameters = {'alpha':alpha_list,'fit_intercept':[True,False], 'normalize':[True,False], 'copy_X':[True, False]}\n",
    "#grid = GridSearchCV(model, parameters, cv=10)\n",
    "#grid.fit(train_feature_notrip, train_target)\n",
    "#print(\"r2 / variance : \", grid.best_score_)\n",
    "#print(compute_rmse(grid.predict(test_feature_notrip),test_target))\n",
    "#grid.best_params_"
   ]
  },
  {
   "cell_type": "markdown",
   "metadata": {},
   "source": [
    "So the best parameters using all features are:\n",
    "{'alpha': 1, 'copy_X': True, 'fit_intercept': True, 'normalize': False}"
   ]
  },
  {
   "cell_type": "code",
   "execution_count": 27,
   "metadata": {},
   "outputs": [
    {
     "ename": "NameError",
     "evalue": "name 'train_feature_notrip' is not defined",
     "output_type": "error",
     "traceback": [
      "\u001b[0;31m---------------------------------------------------------------------------\u001b[0m",
      "\u001b[0;31mNameError\u001b[0m                                 Traceback (most recent call last)",
      "\u001b[0;32m<ipython-input-27-c00fd5d76271>\u001b[0m in \u001b[0;36m<module>\u001b[0;34m()\u001b[0m\n\u001b[1;32m      1\u001b[0m \u001b[0mmodel\u001b[0m \u001b[0;34m=\u001b[0m \u001b[0mLasso\u001b[0m\u001b[0;34m(\u001b[0m\u001b[0malpha\u001b[0m\u001b[0;34m=\u001b[0m\u001b[0;36m1\u001b[0m\u001b[0;34m,\u001b[0m \u001b[0mcopy_X\u001b[0m\u001b[0;34m=\u001b[0m\u001b[0;32mTrue\u001b[0m\u001b[0;34m,\u001b[0m \u001b[0mfit_intercept\u001b[0m\u001b[0;34m=\u001b[0m\u001b[0;32mTrue\u001b[0m\u001b[0;34m,\u001b[0m \u001b[0mnormalize\u001b[0m\u001b[0;34m=\u001b[0m\u001b[0;32mFalse\u001b[0m\u001b[0;34m)\u001b[0m\u001b[0;34m\u001b[0m\u001b[0m\n\u001b[0;32m----> 2\u001b[0;31m \u001b[0mmodel\u001b[0m\u001b[0;34m.\u001b[0m\u001b[0mfit\u001b[0m\u001b[0;34m(\u001b[0m\u001b[0mtrain_feature_notrip\u001b[0m\u001b[0;34m,\u001b[0m \u001b[0mtrain_target\u001b[0m\u001b[0;34m)\u001b[0m\u001b[0;34m\u001b[0m\u001b[0m\n\u001b[0m",
      "\u001b[0;31mNameError\u001b[0m: name 'train_feature_notrip' is not defined"
     ]
    }
   ],
   "source": [
    "model = Lasso(alpha=1, copy_X=True, fit_intercept=True, normalize=False)\n",
    "model.fit(train_feature_notrip, train_target)"
   ]
  },
  {
   "cell_type": "code",
   "execution_count": null,
   "metadata": {
    "collapsed": true
   },
   "outputs": [],
   "source": [
    "rmse_opti_notc_train = compute_rmse(model.predict(train_feature_notrip),train_target)/np.mean(train_target)\n",
    "rmse_opti_notc_test =compute_rmse(model.predict(test_feature_notrip),test_target)/np.mean(test_target)\n",
    "row_name.append('original_withouttripcount')\n",
    "rmse_ratio_train.append(rmse_opti_notc_train)\n",
    "rmse_ratio_test.append(rmse_opti_notc_test)\n"
   ]
  },
  {
   "cell_type": "code",
   "execution_count": null,
   "metadata": {
    "collapsed": true
   },
   "outputs": [],
   "source": [
    "compare_predict_train_opti_notc = caculateratio(model, train_feature_notrip, train_target)\n",
    "error_ratio_train.append(compare_predict_train_opti_notc.abs_precent.median())\n",
    "compare_predict_test_opti_notc = caculateratio(model, test_feature_notrip, test_target)\n",
    "error_ratio_test.append(compare_predict_test_opti_notc.abs_precent.median())"
   ]
  },
  {
   "cell_type": "code",
   "execution_count": null,
   "metadata": {},
   "outputs": [],
   "source": [
    "fig, ax = plt.subplots(figsize = [16,8], facecolor = [0.9,0.9,0.9])\n",
    "x_pos = np.arange(len(train_feature_notrip.columns)-1)\n",
    " \n",
    "plt.bar(x_pos, model.coef_[1:])\n",
    "plt.xticks(x_pos, train_feature_notrip.columns[1:], rotation='vertical')\n",
    "ax.spines['right'].set_color('none')\n",
    "ax.spines['top'].set_color('none')\n",
    "plt.show()"
   ]
  },
  {
   "cell_type": "code",
   "execution_count": null,
   "metadata": {},
   "outputs": [],
   "source": [
    "fig, ax = plt.subplots(figsize = [10,10], facecolor = [0.9,0.9,0.9])\n",
    "\n",
    "x_axis = compare_predict_train_opti_notc.true\n",
    "y_axis = compare_predict_train_opti_notc.predict\n",
    "x_axis2 = range(400000)\n",
    "y_axis2 = range(400000)\n",
    "\n",
    "plt.scatter(x_axis, y_axis)\n",
    "plt.plot(x_axis2, y_axis2, 'r')\n",
    "plt.xlabel('True')\n",
    "plt.ylabel('Predict')\n",
    "plt.title('Train dataset_without trip counts')\n",
    "ax.spines['right'].set_color('none')\n",
    "ax.spines['top'].set_color('none')\n",
    "plt.show()"
   ]
  },
  {
   "cell_type": "code",
   "execution_count": null,
   "metadata": {},
   "outputs": [],
   "source": [
    "fig, ax = plt.subplots(figsize = [10,10], facecolor = [0.9,0.9,0.9])\n",
    "\n",
    "x_axis = compare_predict_test_opti_notc.true\n",
    "y_axis = compare_predict_test_opti_notc.predict\n",
    "x_axis2 = range(400000)\n",
    "y_axis2 = range(400000)\n",
    "\n",
    "plt.scatter(x_axis, y_axis)\n",
    "plt.plot(x_axis2, y_axis2, 'r')\n",
    "plt.xlabel('True')\n",
    "plt.ylabel('Predict')\n",
    "plt.title('Test dataset_without trip counts')\n",
    "ax.spines['right'].set_color('none')\n",
    "ax.spines['top'].set_color('none')\n",
    "plt.show()"
   ]
  },
  {
   "cell_type": "markdown",
   "metadata": {},
   "source": [
    "### 3.1.2 Error Analysis"
   ]
  },
  {
   "cell_type": "markdown",
   "metadata": {},
   "source": [
    "*** with all features***"
   ]
  },
  {
   "cell_type": "code",
   "execution_count": 29,
   "metadata": {
    "collapsed": true
   },
   "outputs": [],
   "source": [
    "def getimportantfeature(model, feature, number=5):\n",
    "    # calculate the most X important features\n",
    "    important_list = []\n",
    "    number_list = list(range(-number, 0))\n",
    "    temp = np.argpartition(np.abs(model.coef_), number_list)\n",
    "    for i in number_list[::-1]:\n",
    "        important_list.append(feature.columns.tolist()[temp[i]])\n",
    "    return important_list\n",
    "\n",
    "def getsimilarrow(dataset, index, feature_list, round_number=1):\n",
    "    # get the similar samples\n",
    "    sample = dataset.iloc[index]\n",
    "    subset = dataset[dataset[feature_list[0]].round(round_number) == sample[feature_list[0]].round(round_number)]\n",
    "    for feature in feature_list:\n",
    "        subset = subset[subset[feature].round(round_number) == sample[feature].round(round_number)]\n",
    "    return subset\n",
    "\n",
    "def comparesimilar(subset_index, index, target):\n",
    "    # get the value of the target and the mean value of the similar samples\n",
    "    subset_value = pd.DataFrame(target).loc[subset_index]\n",
    "    compare_value = subset_value.loc[index]\n",
    "    subset_value = subset_value[subset_value.index !=index]\n",
    "    print('outlier value:', compare_value)\n",
    "    print('mean of similar observations:', subset_value.duration.mean())\n",
    "    print('median of similar observations:', subset_value.duration.median())\n",
    "    return compare_value, subset_value\n"
   ]
  },
  {
   "cell_type": "code",
   "execution_count": 30,
   "metadata": {},
   "outputs": [
    {
     "data": {
      "text/plain": [
       "Lasso(alpha=18, copy_X=True, fit_intercept=True, max_iter=1000,\n",
       "   normalize=False, positive=False, precompute=False, random_state=None,\n",
       "   selection='cyclic', tol=0.0001, warm_start=False)"
      ]
     },
     "execution_count": 30,
     "metadata": {},
     "output_type": "execute_result"
    }
   ],
   "source": [
    "model = Lasso(alpha=18, copy_X=True, fit_intercept=True, normalize=False)\n",
    "model.fit(train_feature, train_target)"
   ]
  },
  {
   "cell_type": "code",
   "execution_count": null,
   "metadata": {},
   "outputs": [],
   "source": [
    "important_list = getimportantfeature(model, train_feature, 1)\n",
    "important_list"
   ]
  },
  {
   "cell_type": "code",
   "execution_count": 31,
   "metadata": {},
   "outputs": [
    {
     "ename": "NameError",
     "evalue": "name 'important_list' is not defined",
     "output_type": "error",
     "traceback": [
      "\u001b[0;31m---------------------------------------------------------------------------\u001b[0m",
      "\u001b[0;31mNameError\u001b[0m                                 Traceback (most recent call last)",
      "\u001b[0;32m<ipython-input-31-869fc0ec2bf3>\u001b[0m in \u001b[0;36m<module>\u001b[0;34m()\u001b[0m\n\u001b[0;32m----> 1\u001b[0;31m \u001b[0msubset\u001b[0m \u001b[0;34m=\u001b[0m \u001b[0mgetsimilarrow\u001b[0m\u001b[0;34m(\u001b[0m\u001b[0mtrain_feature\u001b[0m\u001b[0;34m,\u001b[0m \u001b[0;36m1325\u001b[0m\u001b[0;34m,\u001b[0m \u001b[0mimportant_list\u001b[0m\u001b[0;34m,\u001b[0m \u001b[0mround_number\u001b[0m\u001b[0;34m=\u001b[0m\u001b[0;36m1\u001b[0m\u001b[0;34m)\u001b[0m\u001b[0;34m\u001b[0m\u001b[0m\n\u001b[0m\u001b[1;32m      2\u001b[0m \u001b[0msubset\u001b[0m\u001b[0;34m.\u001b[0m\u001b[0mshape\u001b[0m\u001b[0;34m\u001b[0m\u001b[0m\n",
      "\u001b[0;31mNameError\u001b[0m: name 'important_list' is not defined"
     ]
    }
   ],
   "source": [
    "subset = getsimilarrow(train_feature, 1325, important_list, round_number=1)\n",
    "subset.shape"
   ]
  },
  {
   "cell_type": "code",
   "execution_count": null,
   "metadata": {},
   "outputs": [],
   "source": [
    "compare_value, subset_value = comparesimilar(subset.index, 1325, train_target)"
   ]
  },
  {
   "cell_type": "code",
   "execution_count": 32,
   "metadata": {},
   "outputs": [
    {
     "data": {
      "image/png": "[encoded data removed]",
      "text/plain": [
       "<matplotlib.figure.Figure at 0x11b592cf8>"
      ]
     },
     "metadata": {},
     "output_type": "display_data"
    }
   ],
   "source": [
    "fig, ax = plt.subplots(figsize = [10,10], facecolor = [0.9,0.9,0.9])\n",
    "x_axis = compare_predict_train_opti_oaf.true\n",
    "y_axis = compare_predict_train_opti_oaf.abs_precent\n",
    "plt.xlabel('Actual lifecycle')\n",
    "plt.ylabel('Error percent')\n",
    "plt.scatter(x_axis, y_axis)\n",
    "plt.axis([0, 10000, 0, 50])\n",
    "ax.spines['right'].set_color('none')\n",
    "ax.spines['top'].set_color('none')\n",
    "plt.show()"
   ]
  },
  {
   "cell_type": "code",
   "execution_count": 33,
   "metadata": {},
   "outputs": [
    {
     "data": {
      "text/plain": [
       "0.9137931034482759"
      ]
     },
     "execution_count": 33,
     "metadata": {},
     "output_type": "execute_result"
    }
   ],
   "source": [
    "# most big error precentage happen when actual lifecycle is less than 600 seconds\n",
    "temp= compare_predict_train_opti_oaf[compare_predict_train_opti_oaf.abs_precent>10]\n",
    "len(temp[temp.true<600])/temp.shape[0]"
   ]
  },
  {
   "cell_type": "code",
   "execution_count": 34,
   "metadata": {},
   "outputs": [
    {
     "data": {
      "text/plain": [
       "(9.45665004256168, 8.00042867963622)"
      ]
     },
     "execution_count": 34,
     "metadata": {},
     "output_type": "execute_result"
    }
   ],
   "source": [
    "# When lifecycle is less than 600 seconds, the error precentage also tends to be huge\n",
    "temp = compare_predict_train_opti_oaf[compare_predict_train_opti_oaf.true<600]\n",
    "temp.abs_precent.mean(), temp.abs_precent.median()"
   ]
  },
  {
   "cell_type": "markdown",
   "metadata": {},
   "source": [
    "### Thus we think these lifecycle < 600 are noise and decide to remove them from the original dataset"
   ]
  },
  {
   "cell_type": "markdown",
   "metadata": {},
   "source": [
    "*** Trim Dataset***"
   ]
  },
  {
   "cell_type": "code",
   "execution_count": 35,
   "metadata": {
    "collapsed": true
   },
   "outputs": [],
   "source": [
    "trim_cycle = life_cycle[life_cycle.duration > 600]"
   ]
  },
  {
   "cell_type": "code",
   "execution_count": 36,
   "metadata": {
    "collapsed": true
   },
   "outputs": [],
   "source": [
    "# reset index\n",
    "trim_cycle.reset_index(drop=True, inplace=True)\n",
    "\n",
    "# shuffle and generate index for training/test\n",
    "np.random.seed(seed=13579)\n",
    "#train_idx = np.random.choice(range(len(life_cycle)), int(len(life_cycle) * .8), replace=False)\n",
    "train_idx = np.random.choice(range(len(trim_cycle)), 2800, replace=False)\n",
    "test_idx = list(set(range(len(trim_cycle))) - set(list(train_idx)))\n",
    "\n",
    "# generate training/test\n",
    "bdata_train = trim_cycle.loc[train_idx]\n",
    "bdata_test = trim_cycle.loc[test_idx]\n",
    "bdata_train.reset_index(drop=True, inplace=True)\n",
    "bdata_test.reset_index(drop=True, inplace=True)\n",
    "\n",
    "# remove unnecessary columns\n",
    "train_feature_600 = bdata_train.drop(['duration', 'bike_group'], axis=1)\n",
    "test_feature_600 = bdata_test.drop(['duration', 'bike_group'], axis=1)\n",
    "train_target_600 = bdata_train['duration']\n",
    "test_target_600 = bdata_test['duration']"
   ]
  },
  {
   "cell_type": "code",
   "execution_count": null,
   "metadata": {
    "collapsed": true
   },
   "outputs": [],
   "source": [
    "#train_feature_600.to_csv('Dataset/train_feature_600.csv')\n",
    "#train_target_600.to_csv('Dataset/train_target_600.csv')\n",
    "#test_feature_600.to_csv('Dataset/test_feature_600.csv')\n",
    "#test_target_600.to_csv('Dataset/test_target_600.csv')"
   ]
  },
  {
   "cell_type": "markdown",
   "metadata": {},
   "source": [
    "***With all features***"
   ]
  },
  {
   "cell_type": "code",
   "execution_count": null,
   "metadata": {
    "collapsed": true,
    "scrolled": true
   },
   "outputs": [],
   "source": [
    "# find the best parameters \n",
    "#model = Lasso()\n",
    "#alpha_list = list(range(1,50))\n",
    "#parameters = {'alpha':alpha_list,'fit_intercept':[True,False], 'normalize':[True,False], 'copy_X':[True, False]}\n",
    "#grid = GridSearchCV(model, parameters, cv=10)\n",
    "#grid.fit(train_feature_600, train_target_600)\n",
    "#print(\"r2 / variance : \", grid.best_score_)\n",
    "#print(compute_rmse(grid.predict(test_feature_600),test_target_600))\n",
    "#grid.best_params_"
   ]
  },
  {
   "cell_type": "markdown",
   "metadata": {},
   "source": [
    "So the best parameters using all features are:\n",
    "{'alpha': 1, 'copy_X': True, 'fit_intercept': True, 'normalize': False}"
   ]
  },
  {
   "cell_type": "code",
   "execution_count": null,
   "metadata": {},
   "outputs": [],
   "source": [
    "model = Lasso(alpha=1, copy_X=True, fit_intercept=True, normalize=False)\n",
    "model.fit(train_feature_600, train_target_600)"
   ]
  },
  {
   "cell_type": "code",
   "execution_count": 37,
   "metadata": {
    "collapsed": true
   },
   "outputs": [],
   "source": [
    "rmse_600af_train = compute_rmse(model.predict(train_feature_600),train_target_600)/np.mean(train_target_600)\n",
    "rmse_600af_test = compute_rmse(model.predict(test_feature_600),test_target_600)/np.mean(test_target_600)\n",
    "row_name.append('trimmed_allfeatures')\n",
    "rmse_ratio_train.append(rmse_600af_train)\n",
    "rmse_ratio_test.append(rmse_600af_test)\n",
    "\n",
    "compare_predict_600af_train = caculateratio(model, train_feature_600, train_target_600)\n",
    "error_ratio_train.append(compare_predict_600af_train.abs_precent.median())\n",
    "compare_predict_600af_test = caculateratio(model, test_feature_600, test_target_600)\n",
    "error_ratio_test.append(compare_predict_600af_test.abs_precent.median())"
   ]
  },
  {
   "cell_type": "markdown",
   "metadata": {},
   "source": [
    "***Without Trip Count***"
   ]
  },
  {
   "cell_type": "code",
   "execution_count": 38,
   "metadata": {
    "collapsed": true
   },
   "outputs": [],
   "source": [
    "train_feature_600_new = train_feature_600.drop('trips number', axis=1)\n",
    "test_feature_600_new = test_feature_600.drop('trips number', axis=1)"
   ]
  },
  {
   "cell_type": "code",
   "execution_count": null,
   "metadata": {
    "collapsed": true,
    "scrolled": true
   },
   "outputs": [],
   "source": [
    "# find the best parameters \n",
    "#model = Lasso()\n",
    "#alpha_list = list(range(1,50))\n",
    "#parameters = {'alpha':alpha_list,'fit_intercept':[True,False], 'normalize':[True,False], 'copy_X':[True, False]}\n",
    "#grid = GridSearchCV(model, parameters, cv=10)\n",
    "#grid.fit(train_feature_600_new, train_target_600)\n",
    "#print(\"r2 / variance : \", grid.best_score_)\n",
    "#print(compute_rmse(grid.predict(test_feature_600_new),test_target_600))\n",
    "#grid.best_params_"
   ]
  },
  {
   "cell_type": "markdown",
   "metadata": {},
   "source": [
    "So the best parameters using all features are:\n",
    "{'alpha': 1, 'copy_X': True, 'fit_intercept': True, 'normalize': False}"
   ]
  },
  {
   "cell_type": "code",
   "execution_count": 39,
   "metadata": {},
   "outputs": [
    {
     "data": {
      "text/plain": [
       "Lasso(alpha=1, copy_X=True, fit_intercept=True, max_iter=1000,\n",
       "   normalize=False, positive=False, precompute=False, random_state=None,\n",
       "   selection='cyclic', tol=0.0001, warm_start=False)"
      ]
     },
     "execution_count": 39,
     "metadata": {},
     "output_type": "execute_result"
    }
   ],
   "source": [
    "model = Lasso(alpha=1, copy_X=True, fit_intercept=True, normalize=False)\n",
    "model.fit(train_feature_600_new, train_target_600)"
   ]
  },
  {
   "cell_type": "code",
   "execution_count": 40,
   "metadata": {
    "collapsed": true
   },
   "outputs": [],
   "source": [
    "rmse_600notcaf_train = compute_rmse(model.predict(train_feature_600_new),train_target_600)/np.mean(train_target_600)\n",
    "rmse_600notcaf_test = compute_rmse(model.predict(test_feature_600_new),test_target_600)/np.mean(test_target_600)\n",
    "row_name.append('trimmed_withouttripcounts')\n",
    "rmse_ratio_train.append(rmse_600notcaf_train)\n",
    "rmse_ratio_test.append(rmse_600notcaf_test)\n",
    "\n",
    "compare_predict_600notcaf_train = caculateratio(model, train_feature_600_new, train_target_600)\n",
    "error_ratio_train.append(compare_predict_600notcaf_train.abs_precent.median())\n",
    "compare_predict_600notcaf_test = caculateratio(model, test_feature_600_new, test_target_600)\n",
    "error_ratio_test.append(compare_predict_600notcaf_test.abs_precent.median())"
   ]
  },
  {
   "cell_type": "markdown",
   "metadata": {},
   "source": [
    "*** Compare results ***"
   ]
  },
  {
   "cell_type": "code",
   "execution_count": 41,
   "metadata": {},
   "outputs": [],
   "source": [
    "result_compare = pd.DataFrame({'Rmse_percent_train': rmse_ratio_train,\n",
    "                               'Rmse_percent_test': rmse_ratio_test,\n",
    "                               'Error_percent_train': error_ratio_train,\n",
    "                               'Error_percent_test': error_ratio_test},\n",
    "                                index = row_name)"
   ]
  },
  {
   "cell_type": "code",
   "execution_count": null,
   "metadata": {},
   "outputs": [],
   "source": [
    "result_compare.style.format(\"{:.2%}\")"
   ]
  },
  {
   "cell_type": "markdown",
   "metadata": {},
   "source": [
    "## 3.2 Decision Tree"
   ]
  },
  {
   "cell_type": "code",
   "execution_count": 51,
   "metadata": {
    "collapsed": true
   },
   "outputs": [],
   "source": [
    "def compute_rmse_ratio(predictions, yvalues):\n",
    "    pre = np.asarray(predictions)\n",
    "    y = np.asarray(yvalues)\n",
    "    rmse = np.sqrt(np.sum((pre-y) ** 2) / float(len(y)))\n",
    "    compute_rmse_ratio = rmse/np.mean(y)\n",
    "    return compute_rmse_ratio\n",
    "def caculateratio(clf, feature, target):\n",
    "    predict_y = clf.predict(feature)\n",
    "    compare_predict = pd.concat([target, pd.DataFrame(predict_y)], axis=1)\n",
    "    compare_predict.columns = ['true', 'predict']\n",
    "    compare_predict['error_ratio'] = (compare_predict.predict - compare_predict.true) / compare_predict.true\n",
    "    compare_predict['abs_ratio'] = np.abs(compare_predict['error_ratio'])\n",
    "    return compare_predict"
   ]
  },
  {
   "cell_type": "code",
   "execution_count": 65,
   "metadata": {},
   "outputs": [
    {
     "name": "stdout",
     "output_type": "stream",
     "text": [
      "Best parameters for tree using ALL features: {'max_depth': 5, 'min_samples_leaf': 5}\n",
      "Best score for tree on validation set using ALL features: 0.98\n"
     ]
    }
   ],
   "source": [
    "# remove unnecessary columns\n",
    "train_X = bdata_train.drop(['Unnamed: 0','duration', 'bike_group'], axis=1)\n",
    "test_X = bdata_test.drop(['Unnamed: 0','duration', 'bike_group'], axis=1)\n",
    "train_y = bdata_train['duration']\n",
    "test_y = bdata_test['duration']\n",
    "\n",
    "from sklearn.tree import DecisionTreeRegressor\n",
    "from sklearn.model_selection import GridSearchCV\n",
    "\n",
    "from sklearn.tree import DecisionTreeRegressor\n",
    "from sklearn.model_selection import GridSearchCV\n",
    "\n",
    "# First, get the optimal hyperparameters through GridSearchCV tuning using ALL features\n",
    "\n",
    "# Decision Tree hyperparameters tuning with all features\n",
    "param_grid_tree = {'max_depth': [1,5,10,15,20,25,30],\n",
    "                   'min_samples_leaf': [1,2,3,4,5]}\n",
    "                     \n",
    "grid_tree = GridSearchCV(DecisionTreeRegressor(criterion='mse', random_state=1234), param_grid_tree, cv=10)\n",
    "grid_tree.fit(train_X, train_y)\n",
    "best_tree = grid_tree.best_params_\n",
    "print('Best parameters for tree using ALL features: {}'.format(best_tree))\n",
    "print('Best score for tree on validation set using ALL features: {:.2f}'.format(grid_tree.best_score_))"
   ]
  },
  {
   "cell_type": "code",
   "execution_count": 66,
   "metadata": {},
   "outputs": [
    {
     "data": {
      "image/png": "[encoded data removed]",
      "text/plain": [
       "<matplotlib.figure.Figure at 0x11ba9acc0>"
      ]
     },
     "metadata": {},
     "output_type": "display_data"
    }
   ],
   "source": [
    "# Get feature importances using the optimal hyperparameters\n",
    "\n",
    "features = train_X.columns.tolist()\n",
    "clf_dt = DecisionTreeRegressor(criterion='mse', random_state=1234, max_depth=5 , min_samples_leaf=5)\n",
    "clf_dt.fit(train_X, train_y)\n",
    "importances_dt = clf_dt.feature_importances_\n",
    "\n",
    "idx_dt = np.argsort(importances_dt)\n",
    "plt.title(\"Decision Tree Feature Importance\")\n",
    "plt.barh(range(len(idx_dt)), importances_dt[idx_dt])\n",
    "plt.yticks(range(len(idx_dt)), [features[i] for i in idx_dt])\n",
    "plt.ylabel(\"Features\")\n",
    "plt.show()"
   ]
  },
  {
   "cell_type": "code",
   "execution_count": 67,
   "metadata": {},
   "outputs": [
    {
     "data": {
      "image/svg+xml": [
       "<?xml version=\"1.0\" encoding=\"UTF-8\" standalone=\"no\"?>\n",
       "<!DOCTYPE svg PUBLIC \"-//W3C//DTD SVG 1.1//EN\"\n",
       " \"http://www.w3.org/Graphics/SVG/1.1/DTD/svg11.dtd\">\n",
       "<!-- Generated by graphviz version 2.38.0 (20140413.2041)\n",
       " -->\n",
       "<!-- Title: Tree Pages: 1 -->\n",
       "<svg width=\"5510pt\" height=\"558pt\"\n",
       " viewBox=\"0.00 0.00 5509.73 558.00\" xmlns=\"http://www.w3.org/2000/svg\" xmlns:xlink=\"http://www.w3.org/1999/xlink\">\n",
       "<g id=\"graph0\" class=\"graph\" transform=\"scale(1 1) rotate(0) translate(4 554)\">\n",
       "<title>Tree</title>\n",
       "<polygon fill=\"white\" stroke=\"none\" points=\"-4,4 -4,-554 5505.73,-554 5505.73,4 -4,4\"/>\n",
       "<!-- 0 -->\n",
       "<g id=\"node1\" class=\"node\"><title>0</title>\n",
       "<path fill=\"#e58139\" fill-opacity=\"0.184314\" stroke=\"black\" d=\"M2913.59,-550C2913.59,-550 2782.14,-550 2782.14,-550 2776.14,-550 2770.14,-544 2770.14,-538 2770.14,-538 2770.14,-498 2770.14,-498 2770.14,-492 2776.14,-486 2782.14,-486 2782.14,-486 2913.59,-486 2913.59,-486 2919.59,-486 2925.59,-492 2925.59,-498 2925.59,-498 2925.59,-538 2925.59,-538 2925.59,-544 2919.59,-550 2913.59,-550\"/>\n",
       "<text text-anchor=\"start\" x=\"2783.71\" y=\"-534.8\" font-family=\"Helvetica,sans-Serif\" font-size=\"14.00\">trips number ≤ 195.0</text>\n",
       "<text text-anchor=\"start\" x=\"2778\" y=\"-520.8\" font-family=\"Helvetica,sans-Serif\" font-size=\"14.00\">mse = 12569880496.0</text>\n",
       "<text text-anchor=\"start\" x=\"2798.25\" y=\"-506.8\" font-family=\"Helvetica,sans-Serif\" font-size=\"14.00\">samples = 2800</text>\n",
       "<text text-anchor=\"start\" x=\"2786.17\" y=\"-492.8\" font-family=\"Helvetica,sans-Serif\" font-size=\"14.00\">value = 72022.7189</text>\n",
       "</g>\n",
       "<!-- 1 -->\n",
       "<g id=\"node2\" class=\"node\"><title>1</title>\n",
       "<path fill=\"#e58139\" fill-opacity=\"0.058824\" stroke=\"black\" d=\"M2161.06,-450C2161.06,-450 2030.67,-450 2030.67,-450 2024.67,-450 2018.67,-444 2018.67,-438 2018.67,-438 2018.67,-398 2018.67,-398 2018.67,-392 2024.67,-386 2030.67,-386 2030.67,-386 2161.06,-386 2161.06,-386 2167.06,-386 2173.06,-392 2173.06,-398 2173.06,-398 2173.06,-438 2173.06,-438 2173.06,-444 2167.06,-450 2161.06,-450\"/>\n",
       "<text text-anchor=\"start\" x=\"2035.6\" y=\"-434.8\" font-family=\"Helvetica,sans-Serif\" font-size=\"14.00\">trips number ≤ 49.5</text>\n",
       "<text text-anchor=\"start\" x=\"2026.52\" y=\"-420.8\" font-family=\"Helvetica,sans-Serif\" font-size=\"14.00\">mse = 1187912097.68</text>\n",
       "<text text-anchor=\"start\" x=\"2046.25\" y=\"-406.8\" font-family=\"Helvetica,sans-Serif\" font-size=\"14.00\">samples = 2296</text>\n",
       "<text text-anchor=\"start\" x=\"2034.17\" y=\"-392.8\" font-family=\"Helvetica,sans-Serif\" font-size=\"14.00\">value = 23319.8981</text>\n",
       "</g>\n",
       "<!-- 0&#45;&gt;1 -->\n",
       "<g id=\"edge1\" class=\"edge\"><title>0&#45;&gt;1</title>\n",
       "<path fill=\"none\" stroke=\"black\" d=\"M2769.87,-506.836C2628.55,-488.42 2331.15,-449.662 2183.23,-430.386\"/>\n",
       "<polygon fill=\"black\" stroke=\"black\" points=\"2183.65,-426.911 2173.28,-429.089 2182.74,-433.852 2183.65,-426.911\"/>\n",
       "<text text-anchor=\"middle\" x=\"2188.52\" y=\"-444.703\" font-family=\"Helvetica,sans-Serif\" font-size=\"14.00\">True</text>\n",
       "</g>\n",
       "<!-- 32 -->\n",
       "<g id=\"node33\" class=\"node\"><title>32</title>\n",
       "<path fill=\"#e58139\" fill-opacity=\"0.772549\" stroke=\"black\" d=\"M3495.8,-450C3495.8,-450 3371.92,-450 3371.92,-450 3365.92,-450 3359.92,-444 3359.92,-438 3359.92,-438 3359.92,-398 3359.92,-398 3359.92,-392 3365.92,-386 3371.92,-386 3371.92,-386 3495.8,-386 3495.8,-386 3501.8,-386 3507.8,-392 3507.8,-398 3507.8,-398 3507.8,-438 3507.8,-438 3507.8,-444 3501.8,-450 3495.8,-450\"/>\n",
       "<text text-anchor=\"start\" x=\"3369.71\" y=\"-434.8\" font-family=\"Helvetica,sans-Serif\" font-size=\"14.00\">trips number ≤ 341.5</text>\n",
       "<text text-anchor=\"start\" x=\"3367.89\" y=\"-420.8\" font-family=\"Helvetica,sans-Serif\" font-size=\"14.00\">mse = 4389863021.6</text>\n",
       "<text text-anchor=\"start\" x=\"3388.14\" y=\"-406.8\" font-family=\"Helvetica,sans-Serif\" font-size=\"14.00\">samples = 504</text>\n",
       "<text text-anchor=\"start\" x=\"3372.17\" y=\"-392.8\" font-family=\"Helvetica,sans-Serif\" font-size=\"14.00\">value = 293891.125</text>\n",
       "</g>\n",
       "<!-- 0&#45;&gt;32 -->\n",
       "<g id=\"edge32\" class=\"edge\"><title>0&#45;&gt;32</title>\n",
       "<path fill=\"none\" stroke=\"black\" d=\"M2925.68,-503.986C3035.84,-485.564 3236.43,-452.017 3349.86,-433.048\"/>\n",
       "<polygon fill=\"black\" stroke=\"black\" points=\"3350.61,-436.472 3359.89,-431.371 3349.45,-429.568 3350.61,-436.472\"/>\n",
       "<text text-anchor=\"middle\" x=\"3345.37\" y=\"-447.522\" font-family=\"Helvetica,sans-Serif\" font-size=\"14.00\">False</text>\n",
       "</g>\n",
       "<!-- 2 -->\n",
       "<g id=\"node3\" class=\"node\"><title>2</title>\n",
       "<path fill=\"#e58139\" fill-opacity=\"0.015686\" stroke=\"black\" d=\"M1082.06,-350C1082.06,-350 951.669,-350 951.669,-350 945.669,-350 939.669,-344 939.669,-338 939.669,-338 939.669,-298 939.669,-298 939.669,-292 945.669,-286 951.669,-286 951.669,-286 1082.06,-286 1082.06,-286 1088.06,-286 1094.06,-292 1094.06,-298 1094.06,-298 1094.06,-338 1094.06,-338 1094.06,-344 1088.06,-350 1082.06,-350\"/>\n",
       "<text text-anchor=\"start\" x=\"956.604\" y=\"-334.8\" font-family=\"Helvetica,sans-Serif\" font-size=\"14.00\">trips number ≤ 16.5</text>\n",
       "<text text-anchor=\"start\" x=\"947.516\" y=\"-320.8\" font-family=\"Helvetica,sans-Serif\" font-size=\"14.00\">mse = 103786817.311</text>\n",
       "<text text-anchor=\"start\" x=\"967.248\" y=\"-306.8\" font-family=\"Helvetica,sans-Serif\" font-size=\"14.00\">samples = 1827</text>\n",
       "<text text-anchor=\"start\" x=\"959.062\" y=\"-292.8\" font-family=\"Helvetica,sans-Serif\" font-size=\"14.00\">value = 8247.9672</text>\n",
       "</g>\n",
       "<!-- 1&#45;&gt;2 -->\n",
       "<g id=\"edge2\" class=\"edge\"><title>1&#45;&gt;2</title>\n",
       "<path fill=\"none\" stroke=\"black\" d=\"M2018.26,-409.952C1822.6,-392.181 1310.1,-345.633 1104.28,-326.94\"/>\n",
       "<polygon fill=\"black\" stroke=\"black\" points=\"1104.4,-323.436 1094.12,-326.017 1103.76,-330.407 1104.4,-323.436\"/>\n",
       "</g>\n",
       "<!-- 17 -->\n",
       "<g id=\"node18\" class=\"node\"><title>17</title>\n",
       "<path fill=\"#e58139\" fill-opacity=\"0.211765\" stroke=\"black\" d=\"M2161.59,-350C2161.59,-350 2030.14,-350 2030.14,-350 2024.14,-350 2018.14,-344 2018.14,-338 2018.14,-338 2018.14,-298 2018.14,-298 2018.14,-292 2024.14,-286 2030.14,-286 2030.14,-286 2161.59,-286 2161.59,-286 2167.59,-286 2173.59,-292 2173.59,-298 2173.59,-298 2173.59,-338 2173.59,-338 2173.59,-344 2167.59,-350 2161.59,-350\"/>\n",
       "<text text-anchor=\"start\" x=\"2032.23\" y=\"-334.8\" font-family=\"Helvetica,sans-Serif\" font-size=\"14.00\">trips number ≤ 116.5</text>\n",
       "<text text-anchor=\"start\" x=\"2026\" y=\"-320.8\" font-family=\"Helvetica,sans-Serif\" font-size=\"14.00\">mse = 1079005873.58</text>\n",
       "<text text-anchor=\"start\" x=\"2050.14\" y=\"-306.8\" font-family=\"Helvetica,sans-Serif\" font-size=\"14.00\">samples = 469</text>\n",
       "<text text-anchor=\"start\" x=\"2034.17\" y=\"-292.8\" font-family=\"Helvetica,sans-Serif\" font-size=\"14.00\">value = 82032.9424</text>\n",
       "</g>\n",
       "<!-- 1&#45;&gt;17 -->\n",
       "<g id=\"edge17\" class=\"edge\"><title>1&#45;&gt;17</title>\n",
       "<path fill=\"none\" stroke=\"black\" d=\"M2095.86,-385.992C2095.86,-377.859 2095.86,-368.959 2095.86,-360.378\"/>\n",
       "<polygon fill=\"black\" stroke=\"black\" points=\"2099.36,-360.142 2095.86,-350.142 2092.36,-360.142 2099.36,-360.142\"/>\n",
       "</g>\n",
       "<!-- 3 -->\n",
       "<g id=\"node4\" class=\"node\"><title>3</title>\n",
       "<path fill=\"#e58139\" fill-opacity=\"0.007843\" stroke=\"black\" d=\"M574.058,-250C574.058,-250 443.669,-250 443.669,-250 437.669,-250 431.669,-244 431.669,-238 431.669,-238 431.669,-198 431.669,-198 431.669,-192 437.669,-186 443.669,-186 443.669,-186 574.058,-186 574.058,-186 580.058,-186 586.058,-192 586.058,-198 586.058,-198 586.058,-238 586.058,-238 586.058,-244 580.058,-250 574.058,-250\"/>\n",
       "<text text-anchor=\"start\" x=\"452.498\" y=\"-234.8\" font-family=\"Helvetica,sans-Serif\" font-size=\"14.00\">trips number ≤ 8.5</text>\n",
       "<text text-anchor=\"start\" x=\"439.516\" y=\"-220.8\" font-family=\"Helvetica,sans-Serif\" font-size=\"14.00\">mse = 33009110.1098</text>\n",
       "<text text-anchor=\"start\" x=\"459.248\" y=\"-206.8\" font-family=\"Helvetica,sans-Serif\" font-size=\"14.00\">samples = 1553</text>\n",
       "<text text-anchor=\"start\" x=\"451.062\" y=\"-192.8\" font-family=\"Helvetica,sans-Serif\" font-size=\"14.00\">value = 5416.3818</text>\n",
       "</g>\n",
       "<!-- 2&#45;&gt;3 -->\n",
       "<g id=\"edge3\" class=\"edge\"><title>2&#45;&gt;3</title>\n",
       "<path fill=\"none\" stroke=\"black\" d=\"M939.433,-302.063C847.018,-284.235 692.881,-254.5 596.271,-235.862\"/>\n",
       "<polygon fill=\"black\" stroke=\"black\" points=\"596.718,-232.384 586.236,-233.926 595.392,-239.257 596.718,-232.384\"/>\n",
       "</g>\n",
       "<!-- 10 -->\n",
       "<g id=\"node11\" class=\"node\"><title>10</title>\n",
       "<path fill=\"#e58139\" fill-opacity=\"0.058824\" stroke=\"black\" d=\"M1082.59,-250C1082.59,-250 951.136,-250 951.136,-250 945.136,-250 939.136,-244 939.136,-238 939.136,-238 939.136,-198 939.136,-198 939.136,-192 945.136,-186 951.136,-186 951.136,-186 1082.59,-186 1082.59,-186 1088.59,-186 1094.59,-192 1094.59,-198 1094.59,-198 1094.59,-238 1094.59,-238 1094.59,-244 1088.59,-250 1082.59,-250\"/>\n",
       "<text text-anchor=\"start\" x=\"956.604\" y=\"-234.8\" font-family=\"Helvetica,sans-Serif\" font-size=\"14.00\">trips number ≤ 33.5</text>\n",
       "<text text-anchor=\"start\" x=\"947\" y=\"-220.8\" font-family=\"Helvetica,sans-Serif\" font-size=\"14.00\">mse = 201928767.671</text>\n",
       "<text text-anchor=\"start\" x=\"971.141\" y=\"-206.8\" font-family=\"Helvetica,sans-Serif\" font-size=\"14.00\">samples = 274</text>\n",
       "<text text-anchor=\"start\" x=\"959.062\" y=\"-192.8\" font-family=\"Helvetica,sans-Serif\" font-size=\"14.00\">value = 24297.062</text>\n",
       "</g>\n",
       "<!-- 2&#45;&gt;10 -->\n",
       "<g id=\"edge10\" class=\"edge\"><title>2&#45;&gt;10</title>\n",
       "<path fill=\"none\" stroke=\"black\" d=\"M1016.86,-285.992C1016.86,-277.859 1016.86,-268.959 1016.86,-260.378\"/>\n",
       "<polygon fill=\"black\" stroke=\"black\" points=\"1020.36,-260.142 1016.86,-250.142 1013.36,-260.142 1020.36,-260.142\"/>\n",
       "</g>\n",
       "<!-- 4 -->\n",
       "<g id=\"node5\" class=\"node\"><title>4</title>\n",
       "<path fill=\"#e58139\" fill-opacity=\"0.003922\" stroke=\"black\" d=\"M320.85,-150C320.85,-150 174.877,-150 174.877,-150 168.877,-150 162.877,-144 162.877,-138 162.877,-138 162.877,-98 162.877,-98 162.877,-92 168.877,-86 174.877,-86 174.877,-86 320.85,-86 320.85,-86 326.85,-86 332.85,-92 332.85,-98 332.85,-98 332.85,-138 332.85,-138 332.85,-144 326.85,-150 320.85,-150\"/>\n",
       "<text text-anchor=\"start\" x=\"170.87\" y=\"-134.8\" font-family=\"Helvetica,sans-Serif\" font-size=\"14.00\">subscriber ratio ≤ 0.9375</text>\n",
       "<text text-anchor=\"start\" x=\"178\" y=\"-120.8\" font-family=\"Helvetica,sans-Serif\" font-size=\"14.00\">mse = 16747785.3837</text>\n",
       "<text text-anchor=\"start\" x=\"198.248\" y=\"-106.8\" font-family=\"Helvetica,sans-Serif\" font-size=\"14.00\">samples = 1220</text>\n",
       "<text text-anchor=\"start\" x=\"190.062\" y=\"-92.8\" font-family=\"Helvetica,sans-Serif\" font-size=\"14.00\">value = 4017.9369</text>\n",
       "</g>\n",
       "<!-- 3&#45;&gt;4 -->\n",
       "<g id=\"edge4\" class=\"edge\"><title>3&#45;&gt;4</title>\n",
       "<path fill=\"none\" stroke=\"black\" d=\"M431.614,-187.995C402.994,-177.248 370.25,-164.954 340.407,-153.748\"/>\n",
       "<polygon fill=\"black\" stroke=\"black\" points=\"341.421,-150.39 330.828,-150.152 338.96,-156.944 341.421,-150.39\"/>\n",
       "</g>\n",
       "<!-- 7 -->\n",
       "<g id=\"node8\" class=\"node\"><title>7</title>\n",
       "<path fill=\"#e58139\" fill-opacity=\"0.023529\" stroke=\"black\" d=\"M581.85,-150C581.85,-150 435.877,-150 435.877,-150 429.877,-150 423.877,-144 423.877,-138 423.877,-138 423.877,-98 423.877,-98 423.877,-92 429.877,-86 435.877,-86 435.877,-86 581.85,-86 581.85,-86 587.85,-86 593.85,-92 593.85,-98 593.85,-98 593.85,-138 593.85,-138 593.85,-144 587.85,-150 581.85,-150\"/>\n",
       "<text text-anchor=\"start\" x=\"431.87\" y=\"-134.8\" font-family=\"Helvetica,sans-Serif\" font-size=\"14.00\">subscriber ratio ≤ 0.4833</text>\n",
       "<text text-anchor=\"start\" x=\"439\" y=\"-120.8\" font-family=\"Helvetica,sans-Serif\" font-size=\"14.00\">mse = 59170741.8572</text>\n",
       "<text text-anchor=\"start\" x=\"463.141\" y=\"-106.8\" font-family=\"Helvetica,sans-Serif\" font-size=\"14.00\">samples = 333</text>\n",
       "<text text-anchor=\"start\" x=\"447.169\" y=\"-92.8\" font-family=\"Helvetica,sans-Serif\" font-size=\"14.00\">value = 10539.8138</text>\n",
       "</g>\n",
       "<!-- 3&#45;&gt;7 -->\n",
       "<g id=\"edge7\" class=\"edge\"><title>3&#45;&gt;7</title>\n",
       "<path fill=\"none\" stroke=\"black\" d=\"M508.863,-185.992C508.863,-177.859 508.863,-168.959 508.863,-160.378\"/>\n",
       "<polygon fill=\"black\" stroke=\"black\" points=\"512.363,-160.142 508.863,-150.142 505.363,-160.142 512.363,-160.142\"/>\n",
       "</g>\n",
       "<!-- 5 -->\n",
       "<g id=\"node6\" class=\"node\"><title>5</title>\n",
       "<path fill=\"#e58139\" fill-opacity=\"0.011765\" stroke=\"black\" d=\"M143.59,-50C143.59,-50 12.1365,-50 12.1365,-50 6.13648,-50 0.136479,-44 0.136479,-38 0.136479,-38 0.136479,-12 0.136479,-12 0.136479,-6 6.13648,-0 12.1365,-0 12.1365,-0 143.59,-0 143.59,-0 149.59,-0 155.59,-6 155.59,-12 155.59,-12 155.59,-38 155.59,-38 155.59,-44 149.59,-50 143.59,-50\"/>\n",
       "<text text-anchor=\"start\" x=\"8\" y=\"-34.8\" font-family=\"Helvetica,sans-Serif\" font-size=\"14.00\">mse = 21555671.3528</text>\n",
       "<text text-anchor=\"start\" x=\"32.1411\" y=\"-20.8\" font-family=\"Helvetica,sans-Serif\" font-size=\"14.00\">samples = 694</text>\n",
       "<text text-anchor=\"start\" x=\"23.9551\" y=\"-6.8\" font-family=\"Helvetica,sans-Serif\" font-size=\"14.00\">value = 5691.304</text>\n",
       "</g>\n",
       "<!-- 4&#45;&gt;5 -->\n",
       "<g id=\"edge5\" class=\"edge\"><title>4&#45;&gt;5</title>\n",
       "<path fill=\"none\" stroke=\"black\" d=\"M189.834,-85.9375C170.988,-75.849 150.168,-64.7041 131.645,-54.7888\"/>\n",
       "<polygon fill=\"black\" stroke=\"black\" points=\"133.223,-51.6637 122.755,-50.0301 129.919,-57.8352 133.223,-51.6637\"/>\n",
       "</g>\n",
       "<!-- 6 -->\n",
       "<g id=\"node7\" class=\"node\"><title>6</title>\n",
       "<path fill=\"none\" stroke=\"black\" d=\"M309.804,-50C309.804,-50 185.923,-50 185.923,-50 179.923,-50 173.923,-44 173.923,-38 173.923,-38 173.923,-12 173.923,-12 173.923,-6 179.923,-0 185.923,-0 185.923,-0 309.804,-0 309.804,-0 315.804,-0 321.804,-6 321.804,-12 321.804,-12 321.804,-38 321.804,-38 321.804,-44 315.804,-50 309.804,-50\"/>\n",
       "<text text-anchor=\"start\" x=\"181.893\" y=\"-34.8\" font-family=\"Helvetica,sans-Serif\" font-size=\"14.00\">mse = 1835297.9384</text>\n",
       "<text text-anchor=\"start\" x=\"202.141\" y=\"-20.8\" font-family=\"Helvetica,sans-Serif\" font-size=\"14.00\">samples = 526</text>\n",
       "<text text-anchor=\"start\" x=\"190.578\" y=\"-6.8\" font-family=\"Helvetica,sans-Serif\" font-size=\"14.00\">value = 1810.1103</text>\n",
       "</g>\n",
       "<!-- 4&#45;&gt;6 -->\n",
       "<g id=\"edge6\" class=\"edge\"><title>4&#45;&gt;6</title>\n",
       "<path fill=\"none\" stroke=\"black\" d=\"M247.863,-85.9375C247.863,-77.6833 247.863,-68.7219 247.863,-60.3053\"/>\n",
       "<polygon fill=\"black\" stroke=\"black\" points=\"251.363,-60.03 247.863,-50.0301 244.363,-60.0301 251.363,-60.03\"/>\n",
       "</g>\n",
       "<!-- 8 -->\n",
       "<g id=\"node9\" class=\"node\"><title>8</title>\n",
       "<path fill=\"#e58139\" fill-opacity=\"0.054902\" stroke=\"black\" d=\"M474.272,-50C474.272,-50 351.455,-50 351.455,-50 345.455,-50 339.455,-44 339.455,-38 339.455,-38 339.455,-12 339.455,-12 339.455,-6 345.455,-0 351.455,-0 351.455,-0 474.272,-0 474.272,-0 480.272,-0 486.272,-6 486.272,-12 486.272,-12 486.272,-38 486.272,-38 486.272,-44 480.272,-50 474.272,-50\"/>\n",
       "<text text-anchor=\"start\" x=\"347.409\" y=\"-34.8\" font-family=\"Helvetica,sans-Serif\" font-size=\"14.00\">mse = 119540437.62</text>\n",
       "<text text-anchor=\"start\" x=\"371.034\" y=\"-20.8\" font-family=\"Helvetica,sans-Serif\" font-size=\"14.00\">samples = 38</text>\n",
       "<text text-anchor=\"start\" x=\"351.169\" y=\"-6.8\" font-family=\"Helvetica,sans-Serif\" font-size=\"14.00\">value = 22014.1053</text>\n",
       "</g>\n",
       "<!-- 7&#45;&gt;8 -->\n",
       "<g id=\"edge8\" class=\"edge\"><title>7&#45;&gt;8</title>\n",
       "<path fill=\"none\" stroke=\"black\" d=\"M476.094,-85.9375C466.225,-76.5827 455.398,-66.3196 445.536,-56.9708\"/>\n",
       "<polygon fill=\"black\" stroke=\"black\" points=\"447.879,-54.3695 438.214,-50.0301 443.063,-59.4498 447.879,-54.3695\"/>\n",
       "</g>\n",
       "<!-- 9 -->\n",
       "<g id=\"node10\" class=\"node\"><title>9</title>\n",
       "<path fill=\"#e58139\" fill-opacity=\"0.019608\" stroke=\"black\" d=\"M647.59,-50C647.59,-50 516.136,-50 516.136,-50 510.136,-50 504.136,-44 504.136,-38 504.136,-38 504.136,-12 504.136,-12 504.136,-6 510.136,-0 516.136,-0 516.136,-0 647.59,-0 647.59,-0 653.59,-0 659.59,-6 659.59,-12 659.59,-12 659.59,-38 659.59,-38 659.59,-44 653.59,-50 647.59,-50\"/>\n",
       "<text text-anchor=\"start\" x=\"512\" y=\"-34.8\" font-family=\"Helvetica,sans-Serif\" font-size=\"14.00\">mse = 32250180.1231</text>\n",
       "<text text-anchor=\"start\" x=\"536.141\" y=\"-20.8\" font-family=\"Helvetica,sans-Serif\" font-size=\"14.00\">samples = 295</text>\n",
       "<text text-anchor=\"start\" x=\"524.062\" y=\"-6.8\" font-family=\"Helvetica,sans-Serif\" font-size=\"14.00\">value = 9061.7695</text>\n",
       "</g>\n",
       "<!-- 7&#45;&gt;9 -->\n",
       "<g id=\"edge9\" class=\"edge\"><title>7&#45;&gt;9</title>\n",
       "<path fill=\"none\" stroke=\"black\" d=\"M533.782,-85.9375C540.992,-76.9496 548.874,-67.1231 556.133,-58.0747\"/>\n",
       "<polygon fill=\"black\" stroke=\"black\" points=\"559.059,-60.0205 562.586,-50.0301 553.599,-55.6403 559.059,-60.0205\"/>\n",
       "</g>\n",
       "<!-- 11 -->\n",
       "<g id=\"node12\" class=\"node\"><title>11</title>\n",
       "<path fill=\"#e58139\" fill-opacity=\"0.047059\" stroke=\"black\" d=\"M994.064,-150C994.064,-150 855.663,-150 855.663,-150 849.663,-150 843.663,-144 843.663,-138 843.663,-138 843.663,-98 843.663,-98 843.663,-92 849.663,-86 855.663,-86 855.663,-86 994.064,-86 994.064,-86 1000.06,-86 1006.06,-92 1006.06,-98 1006.06,-98 1006.06,-138 1006.06,-138 1006.06,-144 1000.06,-150 994.064,-150\"/>\n",
       "<text text-anchor=\"start\" x=\"851.763\" y=\"-134.8\" font-family=\"Helvetica,sans-Serif\" font-size=\"14.00\">subscriber ratio ≤ 0.746</text>\n",
       "<text text-anchor=\"start\" x=\"855\" y=\"-120.8\" font-family=\"Helvetica,sans-Serif\" font-size=\"14.00\">mse = 100889042.438</text>\n",
       "<text text-anchor=\"start\" x=\"879.141\" y=\"-106.8\" font-family=\"Helvetica,sans-Serif\" font-size=\"14.00\">samples = 199</text>\n",
       "<text text-anchor=\"start\" x=\"863.169\" y=\"-92.8\" font-family=\"Helvetica,sans-Serif\" font-size=\"14.00\">value = 19258.8794</text>\n",
       "</g>\n",
       "<!-- 10&#45;&gt;11 -->\n",
       "<g id=\"edge11\" class=\"edge\"><title>10&#45;&gt;11</title>\n",
       "<path fill=\"none\" stroke=\"black\" d=\"M987.754,-185.992C979.28,-176.966 969.918,-166.993 961.064,-157.562\"/>\n",
       "<polygon fill=\"black\" stroke=\"black\" points=\"963.495,-155.038 954.099,-150.142 958.392,-159.829 963.495,-155.038\"/>\n",
       "</g>\n",
       "<!-- 14 -->\n",
       "<g id=\"node15\" class=\"node\"><title>14</title>\n",
       "<path fill=\"#e58139\" fill-opacity=\"0.094118\" stroke=\"black\" d=\"M1181.85,-150C1181.85,-150 1035.88,-150 1035.88,-150 1029.88,-150 1023.88,-144 1023.88,-138 1023.88,-138 1023.88,-98 1023.88,-98 1023.88,-92 1029.88,-86 1035.88,-86 1035.88,-86 1181.85,-86 1181.85,-86 1187.85,-86 1193.85,-92 1193.85,-98 1193.85,-98 1193.85,-138 1193.85,-138 1193.85,-144 1187.85,-150 1181.85,-150\"/>\n",
       "<text text-anchor=\"start\" x=\"1031.87\" y=\"-134.8\" font-family=\"Helvetica,sans-Serif\" font-size=\"14.00\">subscriber ratio ≤ 0.7033</text>\n",
       "<text text-anchor=\"start\" x=\"1039\" y=\"-120.8\" font-family=\"Helvetica,sans-Serif\" font-size=\"14.00\">mse = 223967689.425</text>\n",
       "<text text-anchor=\"start\" x=\"1067.03\" y=\"-106.8\" font-family=\"Helvetica,sans-Serif\" font-size=\"14.00\">samples = 75</text>\n",
       "<text text-anchor=\"start\" x=\"1054.96\" y=\"-92.8\" font-family=\"Helvetica,sans-Serif\" font-size=\"14.00\">value = 37665.04</text>\n",
       "</g>\n",
       "<!-- 10&#45;&gt;14 -->\n",
       "<g id=\"edge14\" class=\"edge\"><title>10&#45;&gt;14</title>\n",
       "<path fill=\"none\" stroke=\"black\" d=\"M1045.97,-185.992C1054.45,-176.966 1063.81,-166.993 1072.66,-157.562\"/>\n",
       "<polygon fill=\"black\" stroke=\"black\" points=\"1075.33,-159.829 1079.63,-150.142 1070.23,-155.038 1075.33,-159.829\"/>\n",
       "</g>\n",
       "<!-- 12 -->\n",
       "<g id=\"node13\" class=\"node\"><title>12</title>\n",
       "<path fill=\"#e58139\" fill-opacity=\"0.070588\" stroke=\"black\" d=\"M821.59,-50C821.59,-50 690.136,-50 690.136,-50 684.136,-50 678.136,-44 678.136,-38 678.136,-38 678.136,-12 678.136,-12 678.136,-6 684.136,-0 690.136,-0 690.136,-0 821.59,-0 821.59,-0 827.59,-0 833.59,-6 833.59,-12 833.59,-12 833.59,-38 833.59,-38 833.59,-44 827.59,-50 821.59,-50\"/>\n",
       "<text text-anchor=\"start\" x=\"686\" y=\"-34.8\" font-family=\"Helvetica,sans-Serif\" font-size=\"14.00\">mse = 144932324.822</text>\n",
       "<text text-anchor=\"start\" x=\"714.034\" y=\"-20.8\" font-family=\"Helvetica,sans-Serif\" font-size=\"14.00\">samples = 52</text>\n",
       "<text text-anchor=\"start\" x=\"694.169\" y=\"-6.8\" font-family=\"Helvetica,sans-Serif\" font-size=\"14.00\">value = 28096.8462</text>\n",
       "</g>\n",
       "<!-- 11&#45;&gt;12 -->\n",
       "<g id=\"edge12\" class=\"edge\"><title>11&#45;&gt;12</title>\n",
       "<path fill=\"none\" stroke=\"black\" d=\"M867.176,-85.9375C848.44,-75.849 827.742,-64.7041 809.328,-54.7888\"/>\n",
       "<polygon fill=\"black\" stroke=\"black\" points=\"810.955,-51.6895 800.491,-50.0301 807.636,-57.8528 810.955,-51.6895\"/>\n",
       "</g>\n",
       "<!-- 13 -->\n",
       "<g id=\"node14\" class=\"node\"><title>13</title>\n",
       "<path fill=\"#e58139\" fill-opacity=\"0.039216\" stroke=\"black\" d=\"M995.59,-50C995.59,-50 864.136,-50 864.136,-50 858.136,-50 852.136,-44 852.136,-38 852.136,-38 852.136,-12 852.136,-12 852.136,-6 858.136,-0 864.136,-0 864.136,-0 995.59,-0 995.59,-0 1001.59,-0 1007.59,-6 1007.59,-12 1007.59,-12 1007.59,-38 1007.59,-38 1007.59,-44 1001.59,-50 995.59,-50\"/>\n",
       "<text text-anchor=\"start\" x=\"860\" y=\"-34.8\" font-family=\"Helvetica,sans-Serif\" font-size=\"14.00\">mse = 47904379.8005</text>\n",
       "<text text-anchor=\"start\" x=\"884.141\" y=\"-20.8\" font-family=\"Helvetica,sans-Serif\" font-size=\"14.00\">samples = 147</text>\n",
       "<text text-anchor=\"start\" x=\"868.169\" y=\"-6.8\" font-family=\"Helvetica,sans-Serif\" font-size=\"14.00\">value = 16132.5238</text>\n",
       "</g>\n",
       "<!-- 11&#45;&gt;13 -->\n",
       "<g id=\"edge13\" class=\"edge\"><title>11&#45;&gt;13</title>\n",
       "<path fill=\"none\" stroke=\"black\" d=\"M926.57,-85.9375C927.029,-77.5916 927.527,-68.5226 927.994,-60.025\"/>\n",
       "<polygon fill=\"black\" stroke=\"black\" points=\"931.489,-60.2071 928.543,-50.0301 924.5,-59.823 931.489,-60.2071\"/>\n",
       "</g>\n",
       "<!-- 15 -->\n",
       "<g id=\"node16\" class=\"node\"><title>15</title>\n",
       "<path fill=\"#e58139\" fill-opacity=\"0.149020\" stroke=\"black\" d=\"M1167.53,-50C1167.53,-50 1038.2,-50 1038.2,-50 1032.2,-50 1026.2,-44 1026.2,-38 1026.2,-38 1026.2,-12 1026.2,-12 1026.2,-6 1032.2,-0 1038.2,-0 1038.2,-0 1167.53,-0 1167.53,-0 1173.53,-0 1179.53,-6 1179.53,-12 1179.53,-12 1179.53,-38 1179.53,-38 1179.53,-44 1173.53,-50 1167.53,-50\"/>\n",
       "<text text-anchor=\"start\" x=\"1034.03\" y=\"-34.8\" font-family=\"Helvetica,sans-Serif\" font-size=\"14.00\">mse = 128948246.111</text>\n",
       "<text text-anchor=\"start\" x=\"1061.03\" y=\"-20.8\" font-family=\"Helvetica,sans-Serif\" font-size=\"14.00\">samples = 18</text>\n",
       "<text text-anchor=\"start\" x=\"1052.85\" y=\"-6.8\" font-family=\"Helvetica,sans-Serif\" font-size=\"14.00\">value = 58058.0</text>\n",
       "</g>\n",
       "<!-- 14&#45;&gt;15 -->\n",
       "<g id=\"edge15\" class=\"edge\"><title>14&#45;&gt;15</title>\n",
       "<path fill=\"none\" stroke=\"black\" d=\"M1106.82,-85.9375C1106.26,-77.5916 1105.67,-68.5226 1105.11,-60.025\"/>\n",
       "<polygon fill=\"black\" stroke=\"black\" points=\"1108.6,-59.7781 1104.45,-50.0301 1101.61,-60.2387 1108.6,-59.7781\"/>\n",
       "</g>\n",
       "<!-- 16 -->\n",
       "<g id=\"node17\" class=\"node\"><title>16</title>\n",
       "<path fill=\"#e58139\" fill-opacity=\"0.078431\" stroke=\"black\" d=\"M1339.53,-50C1339.53,-50 1210.2,-50 1210.2,-50 1204.2,-50 1198.2,-44 1198.2,-38 1198.2,-38 1198.2,-12 1198.2,-12 1198.2,-6 1204.2,-0 1210.2,-0 1210.2,-0 1339.53,-0 1339.53,-0 1345.53,-0 1351.53,-6 1351.53,-12 1351.53,-12 1351.53,-38 1351.53,-38 1351.53,-44 1345.53,-50 1339.53,-50\"/>\n",
       "<text text-anchor=\"start\" x=\"1206.03\" y=\"-34.8\" font-family=\"Helvetica,sans-Serif\" font-size=\"14.00\">mse = 81173489.7119</text>\n",
       "<text text-anchor=\"start\" x=\"1233.03\" y=\"-20.8\" font-family=\"Helvetica,sans-Serif\" font-size=\"14.00\">samples = 57</text>\n",
       "<text text-anchor=\"start\" x=\"1213.17\" y=\"-6.8\" font-family=\"Helvetica,sans-Serif\" font-size=\"14.00\">value = 31225.1579</text>\n",
       "</g>\n",
       "<!-- 14&#45;&gt;16 -->\n",
       "<g id=\"edge16\" class=\"edge\"><title>14&#45;&gt;16</title>\n",
       "<path fill=\"none\" stroke=\"black\" d=\"M1165.53,-85.9375C1183.76,-75.9407 1203.89,-64.9066 1221.85,-55.0595\"/>\n",
       "<polygon fill=\"black\" stroke=\"black\" points=\"1223.94,-57.9062 1231.03,-50.0301 1220.58,-51.768 1223.94,-57.9062\"/>\n",
       "</g>\n",
       "<!-- 18 -->\n",
       "<g id=\"node19\" class=\"node\"><title>18</title>\n",
       "<path fill=\"#e58139\" fill-opacity=\"0.168627\" stroke=\"black\" d=\"M1956.85,-250C1956.85,-250 1810.88,-250 1810.88,-250 1804.88,-250 1798.88,-244 1798.88,-238 1798.88,-238 1798.88,-198 1798.88,-198 1798.88,-192 1804.88,-186 1810.88,-186 1810.88,-186 1956.85,-186 1956.85,-186 1962.85,-186 1968.85,-192 1968.85,-198 1968.85,-198 1968.85,-238 1968.85,-238 1968.85,-244 1962.85,-250 1956.85,-250\"/>\n",
       "<text text-anchor=\"start\" x=\"1806.87\" y=\"-234.8\" font-family=\"Helvetica,sans-Serif\" font-size=\"14.00\">subscriber ratio ≤ 0.7679</text>\n",
       "<text text-anchor=\"start\" x=\"1814\" y=\"-220.8\" font-family=\"Helvetica,sans-Serif\" font-size=\"14.00\">mse = 391469135.538</text>\n",
       "<text text-anchor=\"start\" x=\"1838.14\" y=\"-206.8\" font-family=\"Helvetica,sans-Serif\" font-size=\"14.00\">samples = 336</text>\n",
       "<text text-anchor=\"start\" x=\"1826.06\" y=\"-192.8\" font-family=\"Helvetica,sans-Serif\" font-size=\"14.00\">value = 66269.625</text>\n",
       "</g>\n",
       "<!-- 17&#45;&gt;18 -->\n",
       "<g id=\"edge18\" class=\"edge\"><title>17&#45;&gt;18</title>\n",
       "<path fill=\"none\" stroke=\"black\" d=\"M2028.79,-285.992C2007.04,-275.938 1982.75,-264.71 1960.36,-254.363\"/>\n",
       "<polygon fill=\"black\" stroke=\"black\" points=\"1961.78,-251.162 1951.23,-250.142 1958.84,-257.516 1961.78,-251.162\"/>\n",
       "</g>\n",
       "<!-- 25 -->\n",
       "<g id=\"node26\" class=\"node\"><title>25</title>\n",
       "<path fill=\"#e58139\" fill-opacity=\"0.317647\" stroke=\"black\" d=\"M2289.06,-250C2289.06,-250 2158.67,-250 2158.67,-250 2152.67,-250 2146.67,-244 2146.67,-238 2146.67,-238 2146.67,-198 2146.67,-198 2146.67,-192 2152.67,-186 2158.67,-186 2158.67,-186 2289.06,-186 2289.06,-186 2295.06,-186 2301.06,-192 2301.06,-198 2301.06,-198 2301.06,-238 2301.06,-238 2301.06,-244 2295.06,-250 2289.06,-250\"/>\n",
       "<text text-anchor=\"start\" x=\"2159.71\" y=\"-234.8\" font-family=\"Helvetica,sans-Serif\" font-size=\"14.00\">trips number ≤ 153.5</text>\n",
       "<text text-anchor=\"start\" x=\"2154.52\" y=\"-220.8\" font-family=\"Helvetica,sans-Serif\" font-size=\"14.00\">mse = 602315640.117</text>\n",
       "<text text-anchor=\"start\" x=\"2178.14\" y=\"-206.8\" font-family=\"Helvetica,sans-Serif\" font-size=\"14.00\">samples = 133</text>\n",
       "<text text-anchor=\"start\" x=\"2158.28\" y=\"-192.8\" font-family=\"Helvetica,sans-Serif\" font-size=\"14.00\">value = 121856.0602</text>\n",
       "</g>\n",
       "<!-- 17&#45;&gt;25 -->\n",
       "<g id=\"edge25\" class=\"edge\"><title>17&#45;&gt;25</title>\n",
       "<path fill=\"none\" stroke=\"black\" d=\"M2136.36,-285.992C2148.62,-276.608 2162.21,-266.202 2174.96,-256.444\"/>\n",
       "<polygon fill=\"black\" stroke=\"black\" points=\"2177.38,-259.001 2183.19,-250.142 2173.12,-253.443 2177.38,-259.001\"/>\n",
       "</g>\n",
       "<!-- 19 -->\n",
       "<g id=\"node20\" class=\"node\"><title>19</title>\n",
       "<path fill=\"#e58139\" fill-opacity=\"0.211765\" stroke=\"black\" d=\"M1694.62,-150C1694.62,-150 1549.1,-150 1549.1,-150 1543.1,-150 1537.1,-144 1537.1,-138 1537.1,-138 1537.1,-98 1537.1,-98 1537.1,-92 1543.1,-86 1549.1,-86 1549.1,-86 1694.62,-86 1694.62,-86 1700.62,-86 1706.62,-92 1706.62,-98 1706.62,-98 1706.62,-138 1706.62,-138 1706.62,-144 1700.62,-150 1694.62,-150\"/>\n",
       "<text text-anchor=\"start\" x=\"1544.98\" y=\"-134.8\" font-family=\"Helvetica,sans-Serif\" font-size=\"14.00\">Visibyduration ≤ 15.8765</text>\n",
       "<text text-anchor=\"start\" x=\"1556.41\" y=\"-120.8\" font-family=\"Helvetica,sans-Serif\" font-size=\"14.00\">mse = 349113169.69</text>\n",
       "<text text-anchor=\"start\" x=\"1580.03\" y=\"-106.8\" font-family=\"Helvetica,sans-Serif\" font-size=\"14.00\">samples = 77</text>\n",
       "<text text-anchor=\"start\" x=\"1560.17\" y=\"-92.8\" font-family=\"Helvetica,sans-Serif\" font-size=\"14.00\">value = 82386.7013</text>\n",
       "</g>\n",
       "<!-- 18&#45;&gt;19 -->\n",
       "<g id=\"edge19\" class=\"edge\"><title>18&#45;&gt;19</title>\n",
       "<path fill=\"none\" stroke=\"black\" d=\"M1800.96,-185.992C1773.49,-175.714 1742.73,-164.21 1714.57,-153.675\"/>\n",
       "<polygon fill=\"black\" stroke=\"black\" points=\"1715.71,-150.368 1705.12,-150.142 1713.26,-156.924 1715.71,-150.368\"/>\n",
       "</g>\n",
       "<!-- 22 -->\n",
       "<g id=\"node23\" class=\"node\"><title>22</title>\n",
       "<path fill=\"#e58139\" fill-opacity=\"0.156863\" stroke=\"black\" d=\"M1945.8,-150C1945.8,-150 1821.92,-150 1821.92,-150 1815.92,-150 1809.92,-144 1809.92,-138 1809.92,-138 1809.92,-98 1809.92,-98 1809.92,-92 1815.92,-86 1821.92,-86 1821.92,-86 1945.8,-86 1945.8,-86 1951.8,-86 1957.8,-92 1957.8,-98 1957.8,-98 1957.8,-138 1957.8,-138 1957.8,-144 1951.8,-150 1945.8,-150\"/>\n",
       "<text text-anchor=\"start\" x=\"1823.6\" y=\"-134.8\" font-family=\"Helvetica,sans-Serif\" font-size=\"14.00\">trips number ≤ 93.5</text>\n",
       "<text text-anchor=\"start\" x=\"1817.89\" y=\"-120.8\" font-family=\"Helvetica,sans-Serif\" font-size=\"14.00\">mse = 303876381.51</text>\n",
       "<text text-anchor=\"start\" x=\"1838.14\" y=\"-106.8\" font-family=\"Helvetica,sans-Serif\" font-size=\"14.00\">samples = 259</text>\n",
       "<text text-anchor=\"start\" x=\"1822.17\" y=\"-92.8\" font-family=\"Helvetica,sans-Serif\" font-size=\"14.00\">value = 61478.0618</text>\n",
       "</g>\n",
       "<!-- 18&#45;&gt;22 -->\n",
       "<g id=\"edge22\" class=\"edge\"><title>18&#45;&gt;22</title>\n",
       "<path fill=\"none\" stroke=\"black\" d=\"M1883.86,-185.992C1883.86,-177.859 1883.86,-168.959 1883.86,-160.378\"/>\n",
       "<polygon fill=\"black\" stroke=\"black\" points=\"1887.36,-160.142 1883.86,-150.142 1880.36,-160.142 1887.36,-160.142\"/>\n",
       "</g>\n",
       "<!-- 20 -->\n",
       "<g id=\"node21\" class=\"node\"><title>20</title>\n",
       "<path fill=\"#e58139\" fill-opacity=\"0.203922\" stroke=\"black\" d=\"M1513.59,-50C1513.59,-50 1382.14,-50 1382.14,-50 1376.14,-50 1370.14,-44 1370.14,-38 1370.14,-38 1370.14,-12 1370.14,-12 1370.14,-6 1376.14,-0 1382.14,-0 1382.14,-0 1513.59,-0 1513.59,-0 1519.59,-0 1525.59,-6 1525.59,-12 1525.59,-12 1525.59,-38 1525.59,-38 1525.59,-44 1519.59,-50 1513.59,-50\"/>\n",
       "<text text-anchor=\"start\" x=\"1378\" y=\"-34.8\" font-family=\"Helvetica,sans-Serif\" font-size=\"14.00\">mse = 273223888.465</text>\n",
       "<text text-anchor=\"start\" x=\"1406.03\" y=\"-20.8\" font-family=\"Helvetica,sans-Serif\" font-size=\"14.00\">samples = 63</text>\n",
       "<text text-anchor=\"start\" x=\"1386.17\" y=\"-6.8\" font-family=\"Helvetica,sans-Serif\" font-size=\"14.00\">value = 78224.3016</text>\n",
       "</g>\n",
       "<!-- 19&#45;&gt;20 -->\n",
       "<g id=\"edge20\" class=\"edge\"><title>19&#45;&gt;20</title>\n",
       "<path fill=\"none\" stroke=\"black\" d=\"M1562.47,-85.9375C1543.18,-75.849 1521.87,-64.7041 1502.91,-54.7888\"/>\n",
       "<polygon fill=\"black\" stroke=\"black\" points=\"1504.29,-51.563 1493.81,-50.0301 1501.05,-57.7659 1504.29,-51.563\"/>\n",
       "</g>\n",
       "<!-- 21 -->\n",
       "<g id=\"node22\" class=\"node\"><title>21</title>\n",
       "<path fill=\"#e58139\" fill-opacity=\"0.262745\" stroke=\"black\" d=\"M1687.59,-50C1687.59,-50 1556.14,-50 1556.14,-50 1550.14,-50 1544.14,-44 1544.14,-38 1544.14,-38 1544.14,-12 1544.14,-12 1544.14,-6 1550.14,-0 1556.14,-0 1556.14,-0 1687.59,-0 1687.59,-0 1693.59,-0 1699.59,-6 1699.59,-12 1699.59,-12 1699.59,-38 1699.59,-38 1699.59,-44 1693.59,-50 1687.59,-50\"/>\n",
       "<text text-anchor=\"start\" x=\"1552\" y=\"-34.8\" font-family=\"Helvetica,sans-Serif\" font-size=\"14.00\">mse = 261807044.107</text>\n",
       "<text text-anchor=\"start\" x=\"1580.03\" y=\"-20.8\" font-family=\"Helvetica,sans-Serif\" font-size=\"14.00\">samples = 14</text>\n",
       "<text text-anchor=\"start\" x=\"1568.99\" y=\"-6.8\" font-family=\"Helvetica,sans-Serif\" font-size=\"14.00\">value = 101117.5</text>\n",
       "</g>\n",
       "<!-- 19&#45;&gt;21 -->\n",
       "<g id=\"edge21\" class=\"edge\"><title>19&#45;&gt;21</title>\n",
       "<path fill=\"none\" stroke=\"black\" d=\"M1621.86,-85.9375C1621.86,-77.6833 1621.86,-68.7219 1621.86,-60.3053\"/>\n",
       "<polygon fill=\"black\" stroke=\"black\" points=\"1625.36,-60.03 1621.86,-50.0301 1618.36,-60.0301 1625.36,-60.03\"/>\n",
       "</g>\n",
       "<!-- 23 -->\n",
       "<g id=\"node24\" class=\"node\"><title>23</title>\n",
       "<path fill=\"#e58139\" fill-opacity=\"0.141176\" stroke=\"black\" d=\"M1861.59,-50C1861.59,-50 1730.14,-50 1730.14,-50 1724.14,-50 1718.14,-44 1718.14,-38 1718.14,-38 1718.14,-12 1718.14,-12 1718.14,-6 1724.14,-0 1730.14,-0 1730.14,-0 1861.59,-0 1861.59,-0 1867.59,-0 1873.59,-6 1873.59,-12 1873.59,-12 1873.59,-38 1873.59,-38 1873.59,-44 1867.59,-50 1861.59,-50\"/>\n",
       "<text text-anchor=\"start\" x=\"1726\" y=\"-34.8\" font-family=\"Helvetica,sans-Serif\" font-size=\"14.00\">mse = 204845236.875</text>\n",
       "<text text-anchor=\"start\" x=\"1750.14\" y=\"-20.8\" font-family=\"Helvetica,sans-Serif\" font-size=\"14.00\">samples = 191</text>\n",
       "<text text-anchor=\"start\" x=\"1734.17\" y=\"-6.8\" font-family=\"Helvetica,sans-Serif\" font-size=\"14.00\">value = 55814.8586</text>\n",
       "</g>\n",
       "<!-- 22&#45;&gt;23 -->\n",
       "<g id=\"edge23\" class=\"edge\"><title>22&#45;&gt;23</title>\n",
       "<path fill=\"none\" stroke=\"black\" d=\"M1853.82,-85.9375C1844.87,-76.6744 1835.05,-66.5207 1826.08,-57.246\"/>\n",
       "<polygon fill=\"black\" stroke=\"black\" points=\"1828.57,-54.7856 1819.1,-50.0301 1823.54,-59.6517 1828.57,-54.7856\"/>\n",
       "</g>\n",
       "<!-- 24 -->\n",
       "<g id=\"node25\" class=\"node\"><title>24</title>\n",
       "<path fill=\"#e58139\" fill-opacity=\"0.200000\" stroke=\"black\" d=\"M2035.59,-50C2035.59,-50 1904.14,-50 1904.14,-50 1898.14,-50 1892.14,-44 1892.14,-38 1892.14,-38 1892.14,-12 1892.14,-12 1892.14,-6 1898.14,-0 1904.14,-0 1904.14,-0 2035.59,-0 2035.59,-0 2041.59,-0 2047.59,-6 2047.59,-12 2047.59,-12 2047.59,-38 2047.59,-38 2047.59,-44 2041.59,-50 2035.59,-50\"/>\n",
       "<text text-anchor=\"start\" x=\"1900\" y=\"-34.8\" font-family=\"Helvetica,sans-Serif\" font-size=\"14.00\">mse = 238922484.588</text>\n",
       "<text text-anchor=\"start\" x=\"1928.03\" y=\"-20.8\" font-family=\"Helvetica,sans-Serif\" font-size=\"14.00\">samples = 68</text>\n",
       "<text text-anchor=\"start\" x=\"1919.85\" y=\"-6.8\" font-family=\"Helvetica,sans-Serif\" font-size=\"14.00\">value = 77385.0</text>\n",
       "</g>\n",
       "<!-- 22&#45;&gt;24 -->\n",
       "<g id=\"edge24\" class=\"edge\"><title>22&#45;&gt;24</title>\n",
       "<path fill=\"none\" stroke=\"black\" d=\"M1913.22,-85.9375C1921.89,-76.7661 1931.38,-66.7217 1940.07,-57.5217\"/>\n",
       "<polygon fill=\"black\" stroke=\"black\" points=\"1942.83,-59.702 1947.15,-50.0301 1937.74,-54.894 1942.83,-59.702\"/>\n",
       "</g>\n",
       "<!-- 26 -->\n",
       "<g id=\"node27\" class=\"node\"><title>26</title>\n",
       "<path fill=\"#e58139\" fill-opacity=\"0.282353\" stroke=\"black\" d=\"M2296.85,-150C2296.85,-150 2150.88,-150 2150.88,-150 2144.88,-150 2138.88,-144 2138.88,-138 2138.88,-138 2138.88,-98 2138.88,-98 2138.88,-92 2144.88,-86 2150.88,-86 2150.88,-86 2296.85,-86 2296.85,-86 2302.85,-86 2308.85,-92 2308.85,-98 2308.85,-98 2308.85,-138 2308.85,-138 2308.85,-144 2302.85,-150 2296.85,-150\"/>\n",
       "<text text-anchor=\"start\" x=\"2146.87\" y=\"-134.8\" font-family=\"Helvetica,sans-Serif\" font-size=\"14.00\">subscriber ratio ≤ 0.8377</text>\n",
       "<text text-anchor=\"start\" x=\"2154\" y=\"-120.8\" font-family=\"Helvetica,sans-Serif\" font-size=\"14.00\">mse = 375935430.268</text>\n",
       "<text text-anchor=\"start\" x=\"2182.03\" y=\"-106.8\" font-family=\"Helvetica,sans-Serif\" font-size=\"14.00\">samples = 73</text>\n",
       "<text text-anchor=\"start\" x=\"2158.28\" y=\"-92.8\" font-family=\"Helvetica,sans-Serif\" font-size=\"14.00\">value = 109299.7534</text>\n",
       "</g>\n",
       "<!-- 25&#45;&gt;26 -->\n",
       "<g id=\"edge26\" class=\"edge\"><title>25&#45;&gt;26</title>\n",
       "<path fill=\"none\" stroke=\"black\" d=\"M2223.86,-185.992C2223.86,-177.859 2223.86,-168.959 2223.86,-160.378\"/>\n",
       "<polygon fill=\"black\" stroke=\"black\" points=\"2227.36,-160.142 2223.86,-150.142 2220.36,-160.142 2227.36,-160.142\"/>\n",
       "</g>\n",
       "<!-- 29 -->\n",
       "<g id=\"node30\" class=\"node\"><title>29</title>\n",
       "<path fill=\"#e58139\" fill-opacity=\"0.356863\" stroke=\"black\" d=\"M2564.85,-150C2564.85,-150 2418.88,-150 2418.88,-150 2412.88,-150 2406.88,-144 2406.88,-138 2406.88,-138 2406.88,-98 2406.88,-98 2406.88,-92 2412.88,-86 2418.88,-86 2418.88,-86 2564.85,-86 2564.85,-86 2570.85,-86 2576.85,-92 2576.85,-98 2576.85,-98 2576.85,-138 2576.85,-138 2576.85,-144 2570.85,-150 2564.85,-150\"/>\n",
       "<text text-anchor=\"start\" x=\"2414.87\" y=\"-134.8\" font-family=\"Helvetica,sans-Serif\" font-size=\"14.00\">subscriber ratio ≤ 0.8244</text>\n",
       "<text text-anchor=\"start\" x=\"2425.89\" y=\"-120.8\" font-family=\"Helvetica,sans-Serif\" font-size=\"14.00\">mse = 452542372.69</text>\n",
       "<text text-anchor=\"start\" x=\"2450.03\" y=\"-106.8\" font-family=\"Helvetica,sans-Serif\" font-size=\"14.00\">samples = 60</text>\n",
       "<text text-anchor=\"start\" x=\"2437.96\" y=\"-92.8\" font-family=\"Helvetica,sans-Serif\" font-size=\"14.00\">value = 137132.9</text>\n",
       "</g>\n",
       "<!-- 25&#45;&gt;29 -->\n",
       "<g id=\"edge29\" class=\"edge\"><title>25&#45;&gt;29</title>\n",
       "<path fill=\"none\" stroke=\"black\" d=\"M2301.38,-188.654C2331.36,-177.691 2365.96,-165.039 2397.38,-153.551\"/>\n",
       "<polygon fill=\"black\" stroke=\"black\" points=\"2398.82,-156.748 2407.01,-150.027 2396.42,-150.174 2398.82,-156.748\"/>\n",
       "</g>\n",
       "<!-- 27 -->\n",
       "<g id=\"node28\" class=\"node\"><title>27</title>\n",
       "<path fill=\"#e58139\" fill-opacity=\"0.309804\" stroke=\"black\" d=\"M2209.59,-50C2209.59,-50 2078.14,-50 2078.14,-50 2072.14,-50 2066.14,-44 2066.14,-38 2066.14,-38 2066.14,-12 2066.14,-12 2066.14,-6 2072.14,-0 2078.14,-0 2078.14,-0 2209.59,-0 2209.59,-0 2215.59,-0 2221.59,-6 2221.59,-12 2221.59,-12 2221.59,-38 2221.59,-38 2221.59,-44 2215.59,-50 2209.59,-50\"/>\n",
       "<text text-anchor=\"start\" x=\"2074\" y=\"-34.8\" font-family=\"Helvetica,sans-Serif\" font-size=\"14.00\">mse = 246581530.571</text>\n",
       "<text text-anchor=\"start\" x=\"2102.03\" y=\"-20.8\" font-family=\"Helvetica,sans-Serif\" font-size=\"14.00\">samples = 42</text>\n",
       "<text text-anchor=\"start\" x=\"2090.47\" y=\"-6.8\" font-family=\"Helvetica,sans-Serif\" font-size=\"14.00\">value = 118478.0</text>\n",
       "</g>\n",
       "<!-- 26&#45;&gt;27 -->\n",
       "<g id=\"edge27\" class=\"edge\"><title>26&#45;&gt;27</title>\n",
       "<path fill=\"none\" stroke=\"black\" d=\"M2196.56,-85.9375C2188.57,-76.8578 2179.84,-66.9225 2171.82,-57.798\"/>\n",
       "<polygon fill=\"black\" stroke=\"black\" points=\"2174.22,-55.2296 2164.99,-50.0301 2168.96,-59.8514 2174.22,-55.2296\"/>\n",
       "</g>\n",
       "<!-- 28 -->\n",
       "<g id=\"node29\" class=\"node\"><title>28</title>\n",
       "<path fill=\"#e58139\" fill-opacity=\"0.250980\" stroke=\"black\" d=\"M2383.59,-50C2383.59,-50 2252.14,-50 2252.14,-50 2246.14,-50 2240.14,-44 2240.14,-38 2240.14,-38 2240.14,-12 2240.14,-12 2240.14,-6 2246.14,-0 2252.14,-0 2252.14,-0 2383.59,-0 2383.59,-0 2389.59,-0 2395.59,-6 2395.59,-12 2395.59,-12 2395.59,-38 2395.59,-38 2395.59,-44 2389.59,-50 2383.59,-50\"/>\n",
       "<text text-anchor=\"start\" x=\"2248\" y=\"-34.8\" font-family=\"Helvetica,sans-Serif\" font-size=\"14.00\">mse = 282426890.141</text>\n",
       "<text text-anchor=\"start\" x=\"2276.03\" y=\"-20.8\" font-family=\"Helvetica,sans-Serif\" font-size=\"14.00\">samples = 31</text>\n",
       "<text text-anchor=\"start\" x=\"2256.17\" y=\"-6.8\" font-family=\"Helvetica,sans-Serif\" font-size=\"14.00\">value = 96864.7097</text>\n",
       "</g>\n",
       "<!-- 26&#45;&gt;28 -->\n",
       "<g id=\"edge28\" class=\"edge\"><title>26&#45;&gt;28</title>\n",
       "<path fill=\"none\" stroke=\"black\" d=\"M2255.95,-85.9375C2265.52,-76.6744 2276.01,-66.5207 2285.59,-57.246\"/>\n",
       "<polygon fill=\"black\" stroke=\"black\" points=\"2288.29,-59.5003 2293.04,-50.0301 2283.42,-54.4709 2288.29,-59.5003\"/>\n",
       "</g>\n",
       "<!-- 30 -->\n",
       "<g id=\"node31\" class=\"node\"><title>30</title>\n",
       "<path fill=\"#e58139\" fill-opacity=\"0.392157\" stroke=\"black\" d=\"M2557.59,-50C2557.59,-50 2426.14,-50 2426.14,-50 2420.14,-50 2414.14,-44 2414.14,-38 2414.14,-38 2414.14,-12 2414.14,-12 2414.14,-6 2420.14,-0 2426.14,-0 2426.14,-0 2557.59,-0 2557.59,-0 2563.59,-0 2569.59,-6 2569.59,-12 2569.59,-12 2569.59,-38 2569.59,-38 2569.59,-44 2563.59,-50 2557.59,-50\"/>\n",
       "<text text-anchor=\"start\" x=\"2422\" y=\"-34.8\" font-family=\"Helvetica,sans-Serif\" font-size=\"14.00\">mse = 257190662.096</text>\n",
       "<text text-anchor=\"start\" x=\"2450.03\" y=\"-20.8\" font-family=\"Helvetica,sans-Serif\" font-size=\"14.00\">samples = 31</text>\n",
       "<text text-anchor=\"start\" x=\"2426.28\" y=\"-6.8\" font-family=\"Helvetica,sans-Serif\" font-size=\"14.00\">value = 149914.9677</text>\n",
       "</g>\n",
       "<!-- 29&#45;&gt;30 -->\n",
       "<g id=\"edge30\" class=\"edge\"><title>29&#45;&gt;30</title>\n",
       "<path fill=\"none\" stroke=\"black\" d=\"M2491.86,-85.9375C2491.86,-77.6833 2491.86,-68.7219 2491.86,-60.3053\"/>\n",
       "<polygon fill=\"black\" stroke=\"black\" points=\"2495.36,-60.03 2491.86,-50.0301 2488.36,-60.0301 2495.36,-60.03\"/>\n",
       "</g>\n",
       "<!-- 31 -->\n",
       "<g id=\"node32\" class=\"node\"><title>31</title>\n",
       "<path fill=\"#e58139\" fill-opacity=\"0.321569\" stroke=\"black\" d=\"M2731.59,-50C2731.59,-50 2600.14,-50 2600.14,-50 2594.14,-50 2588.14,-44 2588.14,-38 2588.14,-38 2588.14,-12 2588.14,-12 2588.14,-6 2594.14,-0 2600.14,-0 2600.14,-0 2731.59,-0 2731.59,-0 2737.59,-0 2743.59,-6 2743.59,-12 2743.59,-12 2743.59,-38 2743.59,-38 2743.59,-44 2737.59,-50 2731.59,-50\"/>\n",
       "<text text-anchor=\"start\" x=\"2596\" y=\"-34.8\" font-family=\"Helvetica,sans-Serif\" font-size=\"14.00\">mse = 300024004.214</text>\n",
       "<text text-anchor=\"start\" x=\"2624.03\" y=\"-20.8\" font-family=\"Helvetica,sans-Serif\" font-size=\"14.00\">samples = 29</text>\n",
       "<text text-anchor=\"start\" x=\"2600.28\" y=\"-6.8\" font-family=\"Helvetica,sans-Serif\" font-size=\"14.00\">value = 123469.3103</text>\n",
       "</g>\n",
       "<!-- 29&#45;&gt;31 -->\n",
       "<g id=\"edge31\" class=\"edge\"><title>29&#45;&gt;31</title>\n",
       "<path fill=\"none\" stroke=\"black\" d=\"M2551.26,-85.9375C2570.55,-75.849 2591.86,-64.7041 2610.82,-54.7888\"/>\n",
       "<polygon fill=\"black\" stroke=\"black\" points=\"2612.68,-57.7659 2619.92,-50.0301 2609.43,-51.563 2612.68,-57.7659\"/>\n",
       "</g>\n",
       "<!-- 33 -->\n",
       "<g id=\"node34\" class=\"node\"><title>33</title>\n",
       "<path fill=\"#e58139\" fill-opacity=\"0.568627\" stroke=\"black\" d=\"M3499.59,-350C3499.59,-350 3368.14,-350 3368.14,-350 3362.14,-350 3356.14,-344 3356.14,-338 3356.14,-338 3356.14,-298 3356.14,-298 3356.14,-292 3362.14,-286 3368.14,-286 3368.14,-286 3499.59,-286 3499.59,-286 3505.59,-286 3511.59,-292 3511.59,-298 3511.59,-298 3511.59,-338 3511.59,-338 3511.59,-344 3505.59,-350 3499.59,-350\"/>\n",
       "<text text-anchor=\"start\" x=\"3369.71\" y=\"-334.8\" font-family=\"Helvetica,sans-Serif\" font-size=\"14.00\">trips number ≤ 260.5</text>\n",
       "<text text-anchor=\"start\" x=\"3364\" y=\"-320.8\" font-family=\"Helvetica,sans-Serif\" font-size=\"14.00\">mse = 1233390701.41</text>\n",
       "<text text-anchor=\"start\" x=\"3388.14\" y=\"-306.8\" font-family=\"Helvetica,sans-Serif\" font-size=\"14.00\">samples = 167</text>\n",
       "<text text-anchor=\"start\" x=\"3372.17\" y=\"-292.8\" font-family=\"Helvetica,sans-Serif\" font-size=\"14.00\">value = 216654.515</text>\n",
       "</g>\n",
       "<!-- 32&#45;&gt;33 -->\n",
       "<g id=\"edge33\" class=\"edge\"><title>32&#45;&gt;33</title>\n",
       "<path fill=\"none\" stroke=\"black\" d=\"M3433.86,-385.992C3433.86,-377.859 3433.86,-368.959 3433.86,-360.378\"/>\n",
       "<polygon fill=\"black\" stroke=\"black\" points=\"3437.36,-360.142 3433.86,-350.142 3430.36,-360.142 3437.36,-360.142\"/>\n",
       "</g>\n",
       "<!-- 48 -->\n",
       "<g id=\"node49\" class=\"node\"><title>48</title>\n",
       "<path fill=\"#e58139\" fill-opacity=\"0.874510\" stroke=\"black\" d=\"M4528.8,-350C4528.8,-350 4404.92,-350 4404.92,-350 4398.92,-350 4392.92,-344 4392.92,-338 4392.92,-338 4392.92,-298 4392.92,-298 4392.92,-292 4398.92,-286 4404.92,-286 4404.92,-286 4528.8,-286 4528.8,-286 4534.8,-286 4540.8,-292 4540.8,-298 4540.8,-298 4540.8,-338 4540.8,-338 4540.8,-344 4534.8,-350 4528.8,-350\"/>\n",
       "<text text-anchor=\"start\" x=\"4402.71\" y=\"-334.8\" font-family=\"Helvetica,sans-Serif\" font-size=\"14.00\">trips number ≤ 422.5</text>\n",
       "<text text-anchor=\"start\" x=\"4400.89\" y=\"-320.8\" font-family=\"Helvetica,sans-Serif\" font-size=\"14.00\">mse = 1532916255.3</text>\n",
       "<text text-anchor=\"start\" x=\"4421.14\" y=\"-306.8\" font-family=\"Helvetica,sans-Serif\" font-size=\"14.00\">samples = 337</text>\n",
       "<text text-anchor=\"start\" x=\"4401.28\" y=\"-292.8\" font-family=\"Helvetica,sans-Serif\" font-size=\"14.00\">value = 332165.6469</text>\n",
       "</g>\n",
       "<!-- 32&#45;&gt;48 -->\n",
       "<g id=\"edge48\" class=\"edge\"><title>32&#45;&gt;48</title>\n",
       "<path fill=\"none\" stroke=\"black\" d=\"M3508.15,-409.952C3695.38,-392.19 4185.64,-345.68 4382.88,-326.967\"/>\n",
       "<polygon fill=\"black\" stroke=\"black\" points=\"4383.27,-330.446 4392.9,-326.017 4382.61,-323.477 4383.27,-330.446\"/>\n",
       "</g>\n",
       "<!-- 34 -->\n",
       "<g id=\"node35\" class=\"node\"><title>34</title>\n",
       "<path fill=\"#e58139\" fill-opacity=\"0.505882\" stroke=\"black\" d=\"M3345.85,-250C3345.85,-250 3199.88,-250 3199.88,-250 3193.88,-250 3187.88,-244 3187.88,-238 3187.88,-238 3187.88,-198 3187.88,-198 3187.88,-192 3193.88,-186 3199.88,-186 3199.88,-186 3345.85,-186 3345.85,-186 3351.85,-186 3357.85,-192 3357.85,-198 3357.85,-198 3357.85,-238 3357.85,-238 3357.85,-244 3351.85,-250 3345.85,-250\"/>\n",
       "<text text-anchor=\"start\" x=\"3195.87\" y=\"-234.8\" font-family=\"Helvetica,sans-Serif\" font-size=\"14.00\">subscriber ratio ≤ 0.7651</text>\n",
       "<text text-anchor=\"start\" x=\"3203\" y=\"-220.8\" font-family=\"Helvetica,sans-Serif\" font-size=\"14.00\">mse = 769007456.405</text>\n",
       "<text text-anchor=\"start\" x=\"3231.03\" y=\"-206.8\" font-family=\"Helvetica,sans-Serif\" font-size=\"14.00\">samples = 80</text>\n",
       "<text text-anchor=\"start\" x=\"3207.28\" y=\"-192.8\" font-family=\"Helvetica,sans-Serif\" font-size=\"14.00\">value = 193083.9125</text>\n",
       "</g>\n",
       "<!-- 33&#45;&gt;34 -->\n",
       "<g id=\"edge34\" class=\"edge\"><title>33&#45;&gt;34</title>\n",
       "<path fill=\"none\" stroke=\"black\" d=\"M3382.92,-285.992C3367.06,-276.34 3349.43,-265.606 3333.01,-255.609\"/>\n",
       "<polygon fill=\"black\" stroke=\"black\" points=\"3334.39,-252.352 3324.03,-250.142 3330.75,-258.332 3334.39,-252.352\"/>\n",
       "</g>\n",
       "<!-- 41 -->\n",
       "<g id=\"node42\" class=\"node\"><title>41</title>\n",
       "<path fill=\"#e58139\" fill-opacity=\"0.623529\" stroke=\"black\" d=\"M3667.59,-250C3667.59,-250 3536.14,-250 3536.14,-250 3530.14,-250 3524.14,-244 3524.14,-238 3524.14,-238 3524.14,-198 3524.14,-198 3524.14,-192 3530.14,-186 3536.14,-186 3536.14,-186 3667.59,-186 3667.59,-186 3673.59,-186 3679.59,-192 3679.59,-198 3679.59,-198 3679.59,-238 3679.59,-238 3679.59,-244 3673.59,-250 3667.59,-250\"/>\n",
       "<text text-anchor=\"start\" x=\"3537.71\" y=\"-234.8\" font-family=\"Helvetica,sans-Serif\" font-size=\"14.00\">trips number ≤ 287.5</text>\n",
       "<text text-anchor=\"start\" x=\"3532\" y=\"-220.8\" font-family=\"Helvetica,sans-Serif\" font-size=\"14.00\">mse = 679770419.543</text>\n",
       "<text text-anchor=\"start\" x=\"3560.03\" y=\"-206.8\" font-family=\"Helvetica,sans-Serif\" font-size=\"14.00\">samples = 87</text>\n",
       "<text text-anchor=\"start\" x=\"3536.28\" y=\"-192.8\" font-family=\"Helvetica,sans-Serif\" font-size=\"14.00\">value = 238328.6322</text>\n",
       "</g>\n",
       "<!-- 33&#45;&gt;41 -->\n",
       "<g id=\"edge41\" class=\"edge\"><title>33&#45;&gt;41</title>\n",
       "<path fill=\"none\" stroke=\"black\" d=\"M3487.02,-285.992C3503.72,-276.251 3522.31,-265.408 3539.58,-255.332\"/>\n",
       "<polygon fill=\"black\" stroke=\"black\" points=\"3541.6,-258.204 3548.48,-250.142 3538.07,-252.158 3541.6,-258.204\"/>\n",
       "</g>\n",
       "<!-- 35 -->\n",
       "<g id=\"node36\" class=\"node\"><title>35</title>\n",
       "<path fill=\"#e58139\" fill-opacity=\"0.549020\" stroke=\"black\" d=\"M3079.59,-150C3079.59,-150 2948.14,-150 2948.14,-150 2942.14,-150 2936.14,-144 2936.14,-138 2936.14,-138 2936.14,-98 2936.14,-98 2936.14,-92 2942.14,-86 2948.14,-86 2948.14,-86 3079.59,-86 3079.59,-86 3085.59,-86 3091.59,-92 3091.59,-98 3091.59,-98 3091.59,-138 3091.59,-138 3091.59,-144 3085.59,-150 3079.59,-150\"/>\n",
       "<text text-anchor=\"start\" x=\"2949.71\" y=\"-134.8\" font-family=\"Helvetica,sans-Serif\" font-size=\"14.00\">trips number ≤ 223.0</text>\n",
       "<text text-anchor=\"start\" x=\"2944\" y=\"-120.8\" font-family=\"Helvetica,sans-Serif\" font-size=\"14.00\">mse = 697872177.556</text>\n",
       "<text text-anchor=\"start\" x=\"2972.03\" y=\"-106.8\" font-family=\"Helvetica,sans-Serif\" font-size=\"14.00\">samples = 36</text>\n",
       "<text text-anchor=\"start\" x=\"2948.28\" y=\"-92.8\" font-family=\"Helvetica,sans-Serif\" font-size=\"14.00\">value = 209353.3333</text>\n",
       "</g>\n",
       "<!-- 34&#45;&gt;35 -->\n",
       "<g id=\"edge35\" class=\"edge\"><title>34&#45;&gt;35</title>\n",
       "<path fill=\"none\" stroke=\"black\" d=\"M3190.91,-185.992C3162.42,-175.211 3130.36,-163.08 3101.43,-152.133\"/>\n",
       "<polygon fill=\"black\" stroke=\"black\" points=\"3102.34,-148.735 3091.75,-148.47 3099.86,-155.282 3102.34,-148.735\"/>\n",
       "</g>\n",
       "<!-- 38 -->\n",
       "<g id=\"node39\" class=\"node\"><title>38</title>\n",
       "<path fill=\"#e58139\" fill-opacity=\"0.470588\" stroke=\"black\" d=\"M3341.84,-150C3341.84,-150 3203.89,-150 3203.89,-150 3197.89,-150 3191.89,-144 3191.89,-138 3191.89,-138 3191.89,-98 3191.89,-98 3191.89,-92 3197.89,-86 3203.89,-86 3203.89,-86 3341.84,-86 3341.84,-86 3347.84,-86 3353.84,-92 3353.84,-98 3353.84,-98 3353.84,-138 3353.84,-138 3353.84,-144 3347.84,-150 3341.84,-150\"/>\n",
       "<text text-anchor=\"start\" x=\"3199.88\" y=\"-134.8\" font-family=\"Helvetica,sans-Serif\" font-size=\"14.00\">Visibyduration ≤ 9.5014</text>\n",
       "<text text-anchor=\"start\" x=\"3203\" y=\"-120.8\" font-family=\"Helvetica,sans-Serif\" font-size=\"14.00\">mse = 433449298.063</text>\n",
       "<text text-anchor=\"start\" x=\"3231.03\" y=\"-106.8\" font-family=\"Helvetica,sans-Serif\" font-size=\"14.00\">samples = 44</text>\n",
       "<text text-anchor=\"start\" x=\"3207.28\" y=\"-92.8\" font-family=\"Helvetica,sans-Serif\" font-size=\"14.00\">value = 179772.5682</text>\n",
       "</g>\n",
       "<!-- 34&#45;&gt;38 -->\n",
       "<g id=\"edge38\" class=\"edge\"><title>34&#45;&gt;38</title>\n",
       "<path fill=\"none\" stroke=\"black\" d=\"M3272.86,-185.992C3272.86,-177.859 3272.86,-168.959 3272.86,-160.378\"/>\n",
       "<polygon fill=\"black\" stroke=\"black\" points=\"3276.36,-160.142 3272.86,-150.142 3269.36,-160.142 3276.36,-160.142\"/>\n",
       "</g>\n",
       "<!-- 36 -->\n",
       "<g id=\"node37\" class=\"node\"><title>36</title>\n",
       "<path fill=\"#e58139\" fill-opacity=\"0.501961\" stroke=\"black\" d=\"M2905.59,-50C2905.59,-50 2774.14,-50 2774.14,-50 2768.14,-50 2762.14,-44 2762.14,-38 2762.14,-38 2762.14,-12 2762.14,-12 2762.14,-6 2768.14,-0 2774.14,-0 2774.14,-0 2905.59,-0 2905.59,-0 2911.59,-0 2917.59,-6 2917.59,-12 2917.59,-12 2917.59,-38 2917.59,-38 2917.59,-44 2911.59,-50 2905.59,-50\"/>\n",
       "<text text-anchor=\"start\" x=\"2770\" y=\"-34.8\" font-family=\"Helvetica,sans-Serif\" font-size=\"14.00\">mse = 237558145.368</text>\n",
       "<text text-anchor=\"start\" x=\"2798.03\" y=\"-20.8\" font-family=\"Helvetica,sans-Serif\" font-size=\"14.00\">samples = 19</text>\n",
       "<text text-anchor=\"start\" x=\"2785.96\" y=\"-6.8\" font-family=\"Helvetica,sans-Serif\" font-size=\"14.00\">value = 192066.0</text>\n",
       "</g>\n",
       "<!-- 35&#45;&gt;36 -->\n",
       "<g id=\"edge36\" class=\"edge\"><title>35&#45;&gt;36</title>\n",
       "<path fill=\"none\" stroke=\"black\" d=\"M2954.47,-85.9375C2935.18,-75.849 2913.87,-64.7041 2894.91,-54.7888\"/>\n",
       "<polygon fill=\"black\" stroke=\"black\" points=\"2896.29,-51.563 2885.81,-50.0301 2893.05,-57.7659 2896.29,-51.563\"/>\n",
       "</g>\n",
       "<!-- 37 -->\n",
       "<g id=\"node38\" class=\"node\"><title>37</title>\n",
       "<path fill=\"#e58139\" fill-opacity=\"0.600000\" stroke=\"black\" d=\"M3079.59,-50C3079.59,-50 2948.14,-50 2948.14,-50 2942.14,-50 2936.14,-44 2936.14,-38 2936.14,-38 2936.14,-12 2936.14,-12 2936.14,-6 2942.14,-0 2948.14,-0 2948.14,-0 3079.59,-0 3079.59,-0 3085.59,-0 3091.59,-6 3091.59,-12 3091.59,-12 3091.59,-38 3091.59,-38 3091.59,-44 3085.59,-50 3079.59,-50\"/>\n",
       "<text text-anchor=\"start\" x=\"2944\" y=\"-34.8\" font-family=\"Helvetica,sans-Serif\" font-size=\"14.00\">mse = 505023516.837</text>\n",
       "<text text-anchor=\"start\" x=\"2972.03\" y=\"-20.8\" font-family=\"Helvetica,sans-Serif\" font-size=\"14.00\">samples = 17</text>\n",
       "<text text-anchor=\"start\" x=\"2948.28\" y=\"-6.8\" font-family=\"Helvetica,sans-Serif\" font-size=\"14.00\">value = 228674.4706</text>\n",
       "</g>\n",
       "<!-- 35&#45;&gt;37 -->\n",
       "<g id=\"edge37\" class=\"edge\"><title>35&#45;&gt;37</title>\n",
       "<path fill=\"none\" stroke=\"black\" d=\"M3013.86,-85.9375C3013.86,-77.6833 3013.86,-68.7219 3013.86,-60.3053\"/>\n",
       "<polygon fill=\"black\" stroke=\"black\" points=\"3017.36,-60.03 3013.86,-50.0301 3010.36,-60.0301 3017.36,-60.03\"/>\n",
       "</g>\n",
       "<!-- 39 -->\n",
       "<g id=\"node40\" class=\"node\"><title>39</title>\n",
       "<path fill=\"#e58139\" fill-opacity=\"0.384314\" stroke=\"black\" d=\"M3245.8,-50C3245.8,-50 3121.92,-50 3121.92,-50 3115.92,-50 3109.92,-44 3109.92,-38 3109.92,-38 3109.92,-12 3109.92,-12 3109.92,-6 3115.92,-0 3121.92,-0 3121.92,-0 3245.8,-0 3245.8,-0 3251.8,-0 3257.8,-6 3257.8,-12 3257.8,-12 3257.8,-38 3257.8,-38 3257.8,-44 3251.8,-50 3245.8,-50\"/>\n",
       "<text text-anchor=\"start\" x=\"3117.89\" y=\"-34.8\" font-family=\"Helvetica,sans-Serif\" font-size=\"14.00\">mse = 269989668.56</text>\n",
       "<text text-anchor=\"start\" x=\"3145.93\" y=\"-20.8\" font-family=\"Helvetica,sans-Serif\" font-size=\"14.00\">samples = 5</text>\n",
       "<text text-anchor=\"start\" x=\"3129.96\" y=\"-6.8\" font-family=\"Helvetica,sans-Serif\" font-size=\"14.00\">value = 146584.2</text>\n",
       "</g>\n",
       "<!-- 38&#45;&gt;39 -->\n",
       "<g id=\"edge39\" class=\"edge\"><title>38&#45;&gt;39</title>\n",
       "<path fill=\"none\" stroke=\"black\" d=\"M3242.48,-85.9375C3233.42,-76.6744 3223.49,-66.5207 3214.42,-57.246\"/>\n",
       "<polygon fill=\"black\" stroke=\"black\" points=\"3216.86,-54.7321 3207.37,-50.0301 3211.86,-59.6265 3216.86,-54.7321\"/>\n",
       "</g>\n",
       "<!-- 40 -->\n",
       "<g id=\"node41\" class=\"node\"><title>40</title>\n",
       "<path fill=\"#e58139\" fill-opacity=\"0.482353\" stroke=\"black\" d=\"M3419.59,-50C3419.59,-50 3288.14,-50 3288.14,-50 3282.14,-50 3276.14,-44 3276.14,-38 3276.14,-38 3276.14,-12 3276.14,-12 3276.14,-6 3282.14,-0 3288.14,-0 3288.14,-0 3419.59,-0 3419.59,-0 3425.59,-0 3431.59,-6 3431.59,-12 3431.59,-12 3431.59,-38 3431.59,-38 3431.59,-44 3425.59,-50 3419.59,-50\"/>\n",
       "<text text-anchor=\"start\" x=\"3284\" y=\"-34.8\" font-family=\"Helvetica,sans-Serif\" font-size=\"14.00\">mse = 295087506.865</text>\n",
       "<text text-anchor=\"start\" x=\"3312.03\" y=\"-20.8\" font-family=\"Helvetica,sans-Serif\" font-size=\"14.00\">samples = 39</text>\n",
       "<text text-anchor=\"start\" x=\"3288.28\" y=\"-6.8\" font-family=\"Helvetica,sans-Serif\" font-size=\"14.00\">value = 184027.4872</text>\n",
       "</g>\n",
       "<!-- 38&#45;&gt;40 -->\n",
       "<g id=\"edge40\" class=\"edge\"><title>38&#45;&gt;40</title>\n",
       "<path fill=\"none\" stroke=\"black\" d=\"M3300.51,-85.9375C3308.68,-76.7661 3317.62,-66.7217 3325.81,-57.5217\"/>\n",
       "<polygon fill=\"black\" stroke=\"black\" points=\"3328.44,-59.8267 3332.47,-50.0301 3323.21,-55.1726 3328.44,-59.8267\"/>\n",
       "</g>\n",
       "<!-- 42 -->\n",
       "<g id=\"node43\" class=\"node\"><title>42</title>\n",
       "<path fill=\"#e58139\" fill-opacity=\"0.592157\" stroke=\"black\" d=\"M3674.85,-150C3674.85,-150 3528.88,-150 3528.88,-150 3522.88,-150 3516.88,-144 3516.88,-138 3516.88,-138 3516.88,-98 3516.88,-98 3516.88,-92 3522.88,-86 3528.88,-86 3528.88,-86 3674.85,-86 3674.85,-86 3680.85,-86 3686.85,-92 3686.85,-98 3686.85,-98 3686.85,-138 3686.85,-138 3686.85,-144 3680.85,-150 3674.85,-150\"/>\n",
       "<text text-anchor=\"start\" x=\"3524.87\" y=\"-134.8\" font-family=\"Helvetica,sans-Serif\" font-size=\"14.00\">subscriber ratio ≤ 0.8153</text>\n",
       "<text text-anchor=\"start\" x=\"3532\" y=\"-120.8\" font-family=\"Helvetica,sans-Serif\" font-size=\"14.00\">mse = 419434392.045</text>\n",
       "<text text-anchor=\"start\" x=\"3560.03\" y=\"-106.8\" font-family=\"Helvetica,sans-Serif\" font-size=\"14.00\">samples = 39</text>\n",
       "<text text-anchor=\"start\" x=\"3536.28\" y=\"-92.8\" font-family=\"Helvetica,sans-Serif\" font-size=\"14.00\">value = 225578.5128</text>\n",
       "</g>\n",
       "<!-- 41&#45;&gt;42 -->\n",
       "<g id=\"edge42\" class=\"edge\"><title>41&#45;&gt;42</title>\n",
       "<path fill=\"none\" stroke=\"black\" d=\"M3601.86,-185.992C3601.86,-177.859 3601.86,-168.959 3601.86,-160.378\"/>\n",
       "<polygon fill=\"black\" stroke=\"black\" points=\"3605.36,-160.142 3601.86,-150.142 3598.36,-160.142 3605.36,-160.142\"/>\n",
       "</g>\n",
       "<!-- 45 -->\n",
       "<g id=\"node46\" class=\"node\"><title>45</title>\n",
       "<path fill=\"#e58139\" fill-opacity=\"0.650980\" stroke=\"black\" d=\"M3923.59,-150C3923.59,-150 3792.14,-150 3792.14,-150 3786.14,-150 3780.14,-144 3780.14,-138 3780.14,-138 3780.14,-98 3780.14,-98 3780.14,-92 3786.14,-86 3792.14,-86 3792.14,-86 3923.59,-86 3923.59,-86 3929.59,-86 3935.59,-92 3935.59,-98 3935.59,-98 3935.59,-138 3935.59,-138 3935.59,-144 3929.59,-150 3923.59,-150\"/>\n",
       "<text text-anchor=\"start\" x=\"3790.19\" y=\"-134.8\" font-family=\"Helvetica,sans-Serif\" font-size=\"14.00\">evening rate ≤ 0.3046</text>\n",
       "<text text-anchor=\"start\" x=\"3788\" y=\"-120.8\" font-family=\"Helvetica,sans-Serif\" font-size=\"14.00\">mse = 651890277.802</text>\n",
       "<text text-anchor=\"start\" x=\"3816.03\" y=\"-106.8\" font-family=\"Helvetica,sans-Serif\" font-size=\"14.00\">samples = 48</text>\n",
       "<text text-anchor=\"start\" x=\"3792.28\" y=\"-92.8\" font-family=\"Helvetica,sans-Serif\" font-size=\"14.00\">value = 248688.1042</text>\n",
       "</g>\n",
       "<!-- 41&#45;&gt;45 -->\n",
       "<g id=\"edge45\" class=\"edge\"><title>41&#45;&gt;45</title>\n",
       "<path fill=\"none\" stroke=\"black\" d=\"M3679.71,-187.198C3708.39,-176.222 3741.04,-163.72 3770.5,-152.444\"/>\n",
       "<polygon fill=\"black\" stroke=\"black\" points=\"3771.85,-155.673 3779.94,-148.829 3769.35,-149.136 3771.85,-155.673\"/>\n",
       "</g>\n",
       "<!-- 43 -->\n",
       "<g id=\"node44\" class=\"node\"><title>43</title>\n",
       "<path fill=\"#e58139\" fill-opacity=\"0.607843\" stroke=\"black\" d=\"M3592.06,-50C3592.06,-50 3461.67,-50 3461.67,-50 3455.67,-50 3449.67,-44 3449.67,-38 3449.67,-38 3449.67,-12 3449.67,-12 3449.67,-6 3455.67,-0 3461.67,-0 3461.67,-0 3592.06,-0 3592.06,-0 3598.06,-0 3604.06,-6 3604.06,-12 3604.06,-12 3604.06,-38 3604.06,-38 3604.06,-44 3598.06,-50 3592.06,-50\"/>\n",
       "<text text-anchor=\"start\" x=\"3457.52\" y=\"-34.8\" font-family=\"Helvetica,sans-Serif\" font-size=\"14.00\">mse = 330453311.891</text>\n",
       "<text text-anchor=\"start\" x=\"3485.03\" y=\"-20.8\" font-family=\"Helvetica,sans-Serif\" font-size=\"14.00\">samples = 29</text>\n",
       "<text text-anchor=\"start\" x=\"3461.28\" y=\"-6.8\" font-family=\"Helvetica,sans-Serif\" font-size=\"14.00\">value = 231946.6207</text>\n",
       "</g>\n",
       "<!-- 42&#45;&gt;43 -->\n",
       "<g id=\"edge43\" class=\"edge\"><title>42&#45;&gt;43</title>\n",
       "<path fill=\"none\" stroke=\"black\" d=\"M3576.26,-85.9375C3568.78,-76.8578 3560.59,-66.9225 3553.07,-57.798\"/>\n",
       "<polygon fill=\"black\" stroke=\"black\" points=\"3555.73,-55.5209 3546.67,-50.0301 3550.33,-59.973 3555.73,-55.5209\"/>\n",
       "</g>\n",
       "<!-- 44 -->\n",
       "<g id=\"node45\" class=\"node\"><title>44</title>\n",
       "<path fill=\"#e58139\" fill-opacity=\"0.541176\" stroke=\"black\" d=\"M3750.02,-50C3750.02,-50 3633.71,-50 3633.71,-50 3627.71,-50 3621.71,-44 3621.71,-38 3621.71,-38 3621.71,-12 3621.71,-12 3621.71,-6 3627.71,-0 3633.71,-0 3633.71,-0 3750.02,-0 3750.02,-0 3756.02,-0 3762.02,-6 3762.02,-12 3762.02,-12 3762.02,-38 3762.02,-38 3762.02,-44 3756.02,-50 3750.02,-50\"/>\n",
       "<text text-anchor=\"start\" x=\"3629.79\" y=\"-34.8\" font-family=\"Helvetica,sans-Serif\" font-size=\"14.00\">mse = 218827381.0</text>\n",
       "<text text-anchor=\"start\" x=\"3650.03\" y=\"-20.8\" font-family=\"Helvetica,sans-Serif\" font-size=\"14.00\">samples = 10</text>\n",
       "<text text-anchor=\"start\" x=\"3638.99\" y=\"-6.8\" font-family=\"Helvetica,sans-Serif\" font-size=\"14.00\">value = 207111.0</text>\n",
       "</g>\n",
       "<!-- 42&#45;&gt;44 -->\n",
       "<g id=\"edge44\" class=\"edge\"><title>42&#45;&gt;44</title>\n",
       "<path fill=\"none\" stroke=\"black\" d=\"M3632.58,-85.9375C3641.75,-76.6744 3651.79,-66.5207 3660.96,-57.246\"/>\n",
       "<polygon fill=\"black\" stroke=\"black\" points=\"3663.55,-59.6013 3668.1,-50.0301 3658.58,-54.679 3663.55,-59.6013\"/>\n",
       "</g>\n",
       "<!-- 46 -->\n",
       "<g id=\"node47\" class=\"node\"><title>46</title>\n",
       "<path fill=\"#e58139\" fill-opacity=\"0.698039\" stroke=\"black\" d=\"M3923.59,-50C3923.59,-50 3792.14,-50 3792.14,-50 3786.14,-50 3780.14,-44 3780.14,-38 3780.14,-38 3780.14,-12 3780.14,-12 3780.14,-6 3786.14,-0 3792.14,-0 3792.14,-0 3923.59,-0 3923.59,-0 3929.59,-0 3935.59,-6 3935.59,-12 3935.59,-12 3935.59,-38 3935.59,-38 3935.59,-44 3929.59,-50 3923.59,-50\"/>\n",
       "<text text-anchor=\"start\" x=\"3788\" y=\"-34.8\" font-family=\"Helvetica,sans-Serif\" font-size=\"14.00\">mse = 646486686.715</text>\n",
       "<text text-anchor=\"start\" x=\"3816.03\" y=\"-20.8\" font-family=\"Helvetica,sans-Serif\" font-size=\"14.00\">samples = 16</text>\n",
       "<text text-anchor=\"start\" x=\"3792.28\" y=\"-6.8\" font-family=\"Helvetica,sans-Serif\" font-size=\"14.00\">value = 266063.3125</text>\n",
       "</g>\n",
       "<!-- 45&#45;&gt;46 -->\n",
       "<g id=\"edge46\" class=\"edge\"><title>45&#45;&gt;46</title>\n",
       "<path fill=\"none\" stroke=\"black\" d=\"M3857.86,-85.9375C3857.86,-77.6833 3857.86,-68.7219 3857.86,-60.3053\"/>\n",
       "<polygon fill=\"black\" stroke=\"black\" points=\"3861.36,-60.03 3857.86,-50.0301 3854.36,-60.0301 3861.36,-60.03\"/>\n",
       "</g>\n",
       "<!-- 47 -->\n",
       "<g id=\"node48\" class=\"node\"><title>47</title>\n",
       "<path fill=\"#e58139\" fill-opacity=\"0.631373\" stroke=\"black\" d=\"M4097.59,-50C4097.59,-50 3966.14,-50 3966.14,-50 3960.14,-50 3954.14,-44 3954.14,-38 3954.14,-38 3954.14,-12 3954.14,-12 3954.14,-6 3960.14,-0 3966.14,-0 3966.14,-0 4097.59,-0 4097.59,-0 4103.59,-0 4109.59,-6 4109.59,-12 4109.59,-12 4109.59,-38 4109.59,-38 4109.59,-44 4103.59,-50 4097.59,-50\"/>\n",
       "<text text-anchor=\"start\" x=\"3962\" y=\"-34.8\" font-family=\"Helvetica,sans-Serif\" font-size=\"14.00\">mse = 428168674.875</text>\n",
       "<text text-anchor=\"start\" x=\"3990.03\" y=\"-20.8\" font-family=\"Helvetica,sans-Serif\" font-size=\"14.00\">samples = 32</text>\n",
       "<text text-anchor=\"start\" x=\"3977.96\" y=\"-6.8\" font-family=\"Helvetica,sans-Serif\" font-size=\"14.00\">value = 240000.5</text>\n",
       "</g>\n",
       "<!-- 45&#45;&gt;47 -->\n",
       "<g id=\"edge47\" class=\"edge\"><title>45&#45;&gt;47</title>\n",
       "<path fill=\"none\" stroke=\"black\" d=\"M3917.26,-85.9375C3936.55,-75.849 3957.86,-64.7041 3976.82,-54.7888\"/>\n",
       "<polygon fill=\"black\" stroke=\"black\" points=\"3978.68,-57.7659 3985.92,-50.0301 3975.43,-51.563 3978.68,-57.7659\"/>\n",
       "</g>\n",
       "<!-- 49 -->\n",
       "<g id=\"node50\" class=\"node\"><title>49</title>\n",
       "<path fill=\"#e58139\" fill-opacity=\"0.803922\" stroke=\"black\" d=\"M4539.85,-250C4539.85,-250 4393.88,-250 4393.88,-250 4387.88,-250 4381.88,-244 4381.88,-238 4381.88,-238 4381.88,-198 4381.88,-198 4381.88,-192 4387.88,-186 4393.88,-186 4393.88,-186 4539.85,-186 4539.85,-186 4545.85,-186 4551.85,-192 4551.85,-198 4551.85,-198 4551.85,-238 4551.85,-238 4551.85,-244 4545.85,-250 4539.85,-250\"/>\n",
       "<text text-anchor=\"start\" x=\"4389.87\" y=\"-234.8\" font-family=\"Helvetica,sans-Serif\" font-size=\"14.00\">subscriber ratio ≤ 0.8105</text>\n",
       "<text text-anchor=\"start\" x=\"4397\" y=\"-220.8\" font-family=\"Helvetica,sans-Serif\" font-size=\"14.00\">mse = 1078610193.38</text>\n",
       "<text text-anchor=\"start\" x=\"4421.14\" y=\"-206.8\" font-family=\"Helvetica,sans-Serif\" font-size=\"14.00\">samples = 153</text>\n",
       "<text text-anchor=\"start\" x=\"4401.28\" y=\"-192.8\" font-family=\"Helvetica,sans-Serif\" font-size=\"14.00\">value = 305556.9673</text>\n",
       "</g>\n",
       "<!-- 48&#45;&gt;49 -->\n",
       "<g id=\"edge49\" class=\"edge\"><title>48&#45;&gt;49</title>\n",
       "<path fill=\"none\" stroke=\"black\" d=\"M4466.86,-285.992C4466.86,-277.859 4466.86,-268.959 4466.86,-260.378\"/>\n",
       "<polygon fill=\"black\" stroke=\"black\" points=\"4470.36,-260.142 4466.86,-250.142 4463.36,-260.142 4470.36,-260.142\"/>\n",
       "</g>\n",
       "<!-- 56 -->\n",
       "<g id=\"node57\" class=\"node\"><title>56</title>\n",
       "<path fill=\"#e58139\" fill-opacity=\"0.933333\" stroke=\"black\" d=\"M5021.59,-250C5021.59,-250 4890.14,-250 4890.14,-250 4884.14,-250 4878.14,-244 4878.14,-238 4878.14,-238 4878.14,-198 4878.14,-198 4878.14,-192 4884.14,-186 4890.14,-186 4890.14,-186 5021.59,-186 5021.59,-186 5027.59,-186 5033.59,-192 5033.59,-198 5033.59,-198 5033.59,-238 5033.59,-238 5033.59,-244 5027.59,-250 5021.59,-250\"/>\n",
       "<text text-anchor=\"start\" x=\"4891.71\" y=\"-234.8\" font-family=\"Helvetica,sans-Serif\" font-size=\"14.00\">trips number ≤ 457.5</text>\n",
       "<text text-anchor=\"start\" x=\"4886\" y=\"-220.8\" font-family=\"Helvetica,sans-Serif\" font-size=\"14.00\">mse = 832399678.464</text>\n",
       "<text text-anchor=\"start\" x=\"4910.14\" y=\"-206.8\" font-family=\"Helvetica,sans-Serif\" font-size=\"14.00\">samples = 184</text>\n",
       "<text text-anchor=\"start\" x=\"4890.28\" y=\"-192.8\" font-family=\"Helvetica,sans-Serif\" font-size=\"14.00\">value = 354291.3424</text>\n",
       "</g>\n",
       "<!-- 48&#45;&gt;56 -->\n",
       "<g id=\"edge56\" class=\"edge\"><title>48&#45;&gt;56</title>\n",
       "<path fill=\"none\" stroke=\"black\" d=\"M4540.87,-302.169C4628.58,-284.59 4774.6,-255.328 4867.98,-236.613\"/>\n",
       "<polygon fill=\"black\" stroke=\"black\" points=\"4868.85,-240.007 4877.97,-234.61 4867.48,-233.144 4868.85,-240.007\"/>\n",
       "</g>\n",
       "<!-- 50 -->\n",
       "<g id=\"node51\" class=\"node\"><title>50</title>\n",
       "<path fill=\"#e58139\" fill-opacity=\"0.862745\" stroke=\"black\" d=\"M4445.59,-150C4445.59,-150 4314.14,-150 4314.14,-150 4308.14,-150 4302.14,-144 4302.14,-138 4302.14,-138 4302.14,-98 4302.14,-98 4302.14,-92 4308.14,-86 4314.14,-86 4314.14,-86 4445.59,-86 4445.59,-86 4451.59,-86 4457.59,-92 4457.59,-98 4457.59,-98 4457.59,-138 4457.59,-138 4457.59,-144 4451.59,-150 4445.59,-150\"/>\n",
       "<text text-anchor=\"start\" x=\"4315.71\" y=\"-134.8\" font-family=\"Helvetica,sans-Serif\" font-size=\"14.00\">trips number ≤ 371.5</text>\n",
       "<text text-anchor=\"start\" x=\"4310\" y=\"-120.8\" font-family=\"Helvetica,sans-Serif\" font-size=\"14.00\">mse = 916499332.957</text>\n",
       "<text text-anchor=\"start\" x=\"4338.03\" y=\"-106.8\" font-family=\"Helvetica,sans-Serif\" font-size=\"14.00\">samples = 52</text>\n",
       "<text text-anchor=\"start\" x=\"4322.06\" y=\"-92.8\" font-family=\"Helvetica,sans-Serif\" font-size=\"14.00\">value = 328132.25</text>\n",
       "</g>\n",
       "<!-- 49&#45;&gt;50 -->\n",
       "<g id=\"edge50\" class=\"edge\"><title>49&#45;&gt;50</title>\n",
       "<path fill=\"none\" stroke=\"black\" d=\"M4439.34,-185.992C4431.4,-177.055 4422.64,-167.191 4414.35,-157.842\"/>\n",
       "<polygon fill=\"black\" stroke=\"black\" points=\"4416.77,-155.297 4407.51,-150.142 4411.53,-159.944 4416.77,-155.297\"/>\n",
       "</g>\n",
       "<!-- 53 -->\n",
       "<g id=\"node54\" class=\"node\"><title>53</title>\n",
       "<path fill=\"#e58139\" fill-opacity=\"0.772549\" stroke=\"black\" d=\"M4619.59,-150C4619.59,-150 4488.14,-150 4488.14,-150 4482.14,-150 4476.14,-144 4476.14,-138 4476.14,-138 4476.14,-98 4476.14,-98 4476.14,-92 4482.14,-86 4488.14,-86 4488.14,-86 4619.59,-86 4619.59,-86 4625.59,-86 4631.59,-92 4631.59,-98 4631.59,-98 4631.59,-138 4631.59,-138 4631.59,-144 4625.59,-150 4619.59,-150\"/>\n",
       "<text text-anchor=\"start\" x=\"4489.71\" y=\"-134.8\" font-family=\"Helvetica,sans-Serif\" font-size=\"14.00\">trips number ≤ 370.0</text>\n",
       "<text text-anchor=\"start\" x=\"4484\" y=\"-120.8\" font-family=\"Helvetica,sans-Serif\" font-size=\"14.00\">mse = 764590336.839</text>\n",
       "<text text-anchor=\"start\" x=\"4508.14\" y=\"-106.8\" font-family=\"Helvetica,sans-Serif\" font-size=\"14.00\">samples = 101</text>\n",
       "<text text-anchor=\"start\" x=\"4488.28\" y=\"-92.8\" font-family=\"Helvetica,sans-Serif\" font-size=\"14.00\">value = 293934.0495</text>\n",
       "</g>\n",
       "<!-- 49&#45;&gt;53 -->\n",
       "<g id=\"edge53\" class=\"edge\"><title>49&#45;&gt;53</title>\n",
       "<path fill=\"none\" stroke=\"black\" d=\"M4494.39,-185.992C4502.32,-177.055 4511.08,-167.191 4519.38,-157.842\"/>\n",
       "<polygon fill=\"black\" stroke=\"black\" points=\"4522.19,-159.944 4526.22,-150.142 4516.96,-155.297 4522.19,-159.944\"/>\n",
       "</g>\n",
       "<!-- 51 -->\n",
       "<g id=\"node52\" class=\"node\"><title>51</title>\n",
       "<path fill=\"#e58139\" fill-opacity=\"0.792157\" stroke=\"black\" d=\"M4271.59,-50C4271.59,-50 4140.14,-50 4140.14,-50 4134.14,-50 4128.14,-44 4128.14,-38 4128.14,-38 4128.14,-12 4128.14,-12 4128.14,-6 4134.14,-0 4140.14,-0 4140.14,-0 4271.59,-0 4271.59,-0 4277.59,-0 4283.59,-6 4283.59,-12 4283.59,-12 4283.59,-38 4283.59,-38 4283.59,-44 4277.59,-50 4271.59,-50\"/>\n",
       "<text text-anchor=\"start\" x=\"4136\" y=\"-34.8\" font-family=\"Helvetica,sans-Serif\" font-size=\"14.00\">mse = 613337245.621</text>\n",
       "<text text-anchor=\"start\" x=\"4164.03\" y=\"-20.8\" font-family=\"Helvetica,sans-Serif\" font-size=\"14.00\">samples = 13</text>\n",
       "<text text-anchor=\"start\" x=\"4140.28\" y=\"-6.8\" font-family=\"Helvetica,sans-Serif\" font-size=\"14.00\">value = 302041.6154</text>\n",
       "</g>\n",
       "<!-- 50&#45;&gt;51 -->\n",
       "<g id=\"edge51\" class=\"edge\"><title>50&#45;&gt;51</title>\n",
       "<path fill=\"none\" stroke=\"black\" d=\"M4320.47,-85.9375C4301.18,-75.849 4279.87,-64.7041 4260.91,-54.7888\"/>\n",
       "<polygon fill=\"black\" stroke=\"black\" points=\"4262.29,-51.563 4251.81,-50.0301 4259.05,-57.7659 4262.29,-51.563\"/>\n",
       "</g>\n",
       "<!-- 52 -->\n",
       "<g id=\"node53\" class=\"node\"><title>52</title>\n",
       "<path fill=\"#e58139\" fill-opacity=\"0.886275\" stroke=\"black\" d=\"M4445.59,-50C4445.59,-50 4314.14,-50 4314.14,-50 4308.14,-50 4302.14,-44 4302.14,-38 4302.14,-38 4302.14,-12 4302.14,-12 4302.14,-6 4308.14,-0 4314.14,-0 4314.14,-0 4445.59,-0 4445.59,-0 4451.59,-0 4457.59,-6 4457.59,-12 4457.59,-12 4457.59,-38 4457.59,-38 4457.59,-44 4451.59,-50 4445.59,-50\"/>\n",
       "<text text-anchor=\"start\" x=\"4310\" y=\"-34.8\" font-family=\"Helvetica,sans-Serif\" font-size=\"14.00\">mse = 715010600.009</text>\n",
       "<text text-anchor=\"start\" x=\"4338.03\" y=\"-20.8\" font-family=\"Helvetica,sans-Serif\" font-size=\"14.00\">samples = 39</text>\n",
       "<text text-anchor=\"start\" x=\"4314.28\" y=\"-6.8\" font-family=\"Helvetica,sans-Serif\" font-size=\"14.00\">value = 336829.1282</text>\n",
       "</g>\n",
       "<!-- 50&#45;&gt;52 -->\n",
       "<g id=\"edge52\" class=\"edge\"><title>50&#45;&gt;52</title>\n",
       "<path fill=\"none\" stroke=\"black\" d=\"M4379.86,-85.9375C4379.86,-77.6833 4379.86,-68.7219 4379.86,-60.3053\"/>\n",
       "<polygon fill=\"black\" stroke=\"black\" points=\"4383.36,-60.03 4379.86,-50.0301 4376.36,-60.0301 4383.36,-60.03\"/>\n",
       "</g>\n",
       "<!-- 54 -->\n",
       "<g id=\"node55\" class=\"node\"><title>54</title>\n",
       "<path fill=\"#e58139\" fill-opacity=\"0.709804\" stroke=\"black\" d=\"M4619.59,-50C4619.59,-50 4488.14,-50 4488.14,-50 4482.14,-50 4476.14,-44 4476.14,-38 4476.14,-38 4476.14,-12 4476.14,-12 4476.14,-6 4482.14,-0 4488.14,-0 4488.14,-0 4619.59,-0 4619.59,-0 4625.59,-0 4631.59,-6 4631.59,-12 4631.59,-12 4631.59,-38 4631.59,-38 4631.59,-44 4625.59,-50 4619.59,-50\"/>\n",
       "<text text-anchor=\"start\" x=\"4484\" y=\"-34.8\" font-family=\"Helvetica,sans-Serif\" font-size=\"14.00\">mse = 457257860.083</text>\n",
       "<text text-anchor=\"start\" x=\"4512.03\" y=\"-20.8\" font-family=\"Helvetica,sans-Serif\" font-size=\"14.00\">samples = 24</text>\n",
       "<text text-anchor=\"start\" x=\"4499.96\" y=\"-6.8\" font-family=\"Helvetica,sans-Serif\" font-size=\"14.00\">value = 270539.0</text>\n",
       "</g>\n",
       "<!-- 53&#45;&gt;54 -->\n",
       "<g id=\"edge54\" class=\"edge\"><title>53&#45;&gt;54</title>\n",
       "<path fill=\"none\" stroke=\"black\" d=\"M4553.86,-85.9375C4553.86,-77.6833 4553.86,-68.7219 4553.86,-60.3053\"/>\n",
       "<polygon fill=\"black\" stroke=\"black\" points=\"4557.36,-60.03 4553.86,-50.0301 4550.36,-60.0301 4557.36,-60.03\"/>\n",
       "</g>\n",
       "<!-- 55 -->\n",
       "<g id=\"node56\" class=\"node\"><title>55</title>\n",
       "<path fill=\"#e58139\" fill-opacity=\"0.792157\" stroke=\"black\" d=\"M4793.59,-50C4793.59,-50 4662.14,-50 4662.14,-50 4656.14,-50 4650.14,-44 4650.14,-38 4650.14,-38 4650.14,-12 4650.14,-12 4650.14,-6 4656.14,-0 4662.14,-0 4662.14,-0 4793.59,-0 4793.59,-0 4799.59,-0 4805.59,-6 4805.59,-12 4805.59,-12 4805.59,-38 4805.59,-38 4805.59,-44 4799.59,-50 4793.59,-50\"/>\n",
       "<text text-anchor=\"start\" x=\"4658\" y=\"-34.8\" font-family=\"Helvetica,sans-Serif\" font-size=\"14.00\">mse = 636613699.571</text>\n",
       "<text text-anchor=\"start\" x=\"4686.03\" y=\"-20.8\" font-family=\"Helvetica,sans-Serif\" font-size=\"14.00\">samples = 77</text>\n",
       "<text text-anchor=\"start\" x=\"4666.17\" y=\"-6.8\" font-family=\"Helvetica,sans-Serif\" font-size=\"14.00\">value = 301226.013</text>\n",
       "</g>\n",
       "<!-- 53&#45;&gt;55 -->\n",
       "<g id=\"edge55\" class=\"edge\"><title>53&#45;&gt;55</title>\n",
       "<path fill=\"none\" stroke=\"black\" d=\"M4613.26,-85.9375C4632.55,-75.849 4653.86,-64.7041 4672.82,-54.7888\"/>\n",
       "<polygon fill=\"black\" stroke=\"black\" points=\"4674.68,-57.7659 4681.92,-50.0301 4671.43,-51.563 4674.68,-57.7659\"/>\n",
       "</g>\n",
       "<!-- 57 -->\n",
       "<g id=\"node58\" class=\"node\"><title>57</title>\n",
       "<path fill=\"#e58139\" fill-opacity=\"0.905882\" stroke=\"black\" d=\"M5080.41,-150C5080.41,-150 4831.31,-150 4831.31,-150 4825.31,-150 4819.31,-144 4819.31,-138 4819.31,-138 4819.31,-98 4819.31,-98 4819.31,-92 4825.31,-86 4831.31,-86 4831.31,-86 5080.41,-86 5080.41,-86 5086.41,-86 5092.41,-92 5092.41,-98 5092.41,-98 5092.41,-138 5092.41,-138 5092.41,-144 5086.41,-150 5080.41,-150\"/>\n",
       "<text text-anchor=\"start\" x=\"4827.09\" y=\"-134.8\" font-family=\"Helvetica,sans-Serif\" font-size=\"14.00\">mean_household_income ≤ 153156.0625</text>\n",
       "<text text-anchor=\"start\" x=\"4886\" y=\"-120.8\" font-family=\"Helvetica,sans-Serif\" font-size=\"14.00\">mse = 638445015.583</text>\n",
       "<text text-anchor=\"start\" x=\"4914.03\" y=\"-106.8\" font-family=\"Helvetica,sans-Serif\" font-size=\"14.00\">samples = 99</text>\n",
       "<text text-anchor=\"start\" x=\"4890.28\" y=\"-92.8\" font-family=\"Helvetica,sans-Serif\" font-size=\"14.00\">value = 344052.8485</text>\n",
       "</g>\n",
       "<!-- 56&#45;&gt;57 -->\n",
       "<g id=\"edge57\" class=\"edge\"><title>56&#45;&gt;57</title>\n",
       "<path fill=\"none\" stroke=\"black\" d=\"M4955.86,-185.992C4955.86,-177.859 4955.86,-168.959 4955.86,-160.378\"/>\n",
       "<polygon fill=\"black\" stroke=\"black\" points=\"4959.36,-160.142 4955.86,-150.142 4952.36,-160.142 4959.36,-160.142\"/>\n",
       "</g>\n",
       "<!-- 60 -->\n",
       "<g id=\"node61\" class=\"node\"><title>60</title>\n",
       "<path fill=\"#e58139\" fill-opacity=\"0.964706\" stroke=\"black\" d=\"M5322.85,-150C5322.85,-150 5176.88,-150 5176.88,-150 5170.88,-150 5164.88,-144 5164.88,-138 5164.88,-138 5164.88,-98 5164.88,-98 5164.88,-92 5170.88,-86 5176.88,-86 5176.88,-86 5322.85,-86 5322.85,-86 5328.85,-86 5334.85,-92 5334.85,-98 5334.85,-98 5334.85,-138 5334.85,-138 5334.85,-144 5328.85,-150 5322.85,-150\"/>\n",
       "<text text-anchor=\"start\" x=\"5172.87\" y=\"-134.8\" font-family=\"Helvetica,sans-Serif\" font-size=\"14.00\">subscriber ratio ≤ 0.8433</text>\n",
       "<text text-anchor=\"start\" x=\"5180\" y=\"-120.8\" font-family=\"Helvetica,sans-Serif\" font-size=\"14.00\">mse = 794005806.357</text>\n",
       "<text text-anchor=\"start\" x=\"5208.03\" y=\"-106.8\" font-family=\"Helvetica,sans-Serif\" font-size=\"14.00\">samples = 85</text>\n",
       "<text text-anchor=\"start\" x=\"5184.28\" y=\"-92.8\" font-family=\"Helvetica,sans-Serif\" font-size=\"14.00\">value = 366216.1765</text>\n",
       "</g>\n",
       "<!-- 56&#45;&gt;60 -->\n",
       "<g id=\"edge60\" class=\"edge\"><title>56&#45;&gt;60</title>\n",
       "<path fill=\"none\" stroke=\"black\" d=\"M5033.88,-190.995C5071.05,-178.606 5115.82,-163.68 5154.95,-150.639\"/>\n",
       "<polygon fill=\"black\" stroke=\"black\" points=\"5156.38,-153.849 5164.76,-147.367 5154.17,-147.209 5156.38,-153.849\"/>\n",
       "</g>\n",
       "<!-- 58 -->\n",
       "<g id=\"node59\" class=\"node\"><title>58</title>\n",
       "<path fill=\"#e58139\" fill-opacity=\"0.917647\" stroke=\"black\" d=\"M4967.59,-50C4967.59,-50 4836.14,-50 4836.14,-50 4830.14,-50 4824.14,-44 4824.14,-38 4824.14,-38 4824.14,-12 4824.14,-12 4824.14,-6 4830.14,-0 4836.14,-0 4836.14,-0 4967.59,-0 4967.59,-0 4973.59,-0 4979.59,-6 4979.59,-12 4979.59,-12 4979.59,-38 4979.59,-38 4979.59,-44 4973.59,-50 4967.59,-50\"/>\n",
       "<text text-anchor=\"start\" x=\"4832\" y=\"-34.8\" font-family=\"Helvetica,sans-Serif\" font-size=\"14.00\">mse = 618068652.756</text>\n",
       "<text text-anchor=\"start\" x=\"4860.03\" y=\"-20.8\" font-family=\"Helvetica,sans-Serif\" font-size=\"14.00\">samples = 80</text>\n",
       "<text text-anchor=\"start\" x=\"4836.28\" y=\"-6.8\" font-family=\"Helvetica,sans-Serif\" font-size=\"14.00\">value = 348720.6375</text>\n",
       "</g>\n",
       "<!-- 57&#45;&gt;58 -->\n",
       "<g id=\"edge58\" class=\"edge\"><title>57&#45;&gt;58</title>\n",
       "<path fill=\"none\" stroke=\"black\" d=\"M4937.43,-85.9375C4932.26,-77.2247 4926.62,-67.724 4921.39,-58.9078\"/>\n",
       "<polygon fill=\"black\" stroke=\"black\" points=\"4924.24,-56.8438 4916.12,-50.0301 4918.22,-60.4161 4924.24,-56.8438\"/>\n",
       "</g>\n",
       "<!-- 59 -->\n",
       "<g id=\"node60\" class=\"node\"><title>59</title>\n",
       "<path fill=\"#e58139\" fill-opacity=\"0.850980\" stroke=\"black\" d=\"M5141.59,-50C5141.59,-50 5010.14,-50 5010.14,-50 5004.14,-50 4998.14,-44 4998.14,-38 4998.14,-38 4998.14,-12 4998.14,-12 4998.14,-6 5004.14,-0 5010.14,-0 5010.14,-0 5141.59,-0 5141.59,-0 5147.59,-0 5153.59,-6 5153.59,-12 5153.59,-12 5153.59,-38 5153.59,-38 5153.59,-44 5147.59,-50 5141.59,-50\"/>\n",
       "<text text-anchor=\"start\" x=\"5006\" y=\"-34.8\" font-family=\"Helvetica,sans-Serif\" font-size=\"14.00\">mse = 246226449.158</text>\n",
       "<text text-anchor=\"start\" x=\"5034.03\" y=\"-20.8\" font-family=\"Helvetica,sans-Serif\" font-size=\"14.00\">samples = 19</text>\n",
       "<text text-anchor=\"start\" x=\"5021.96\" y=\"-6.8\" font-family=\"Helvetica,sans-Serif\" font-size=\"14.00\">value = 324399.0</text>\n",
       "</g>\n",
       "<!-- 57&#45;&gt;59 -->\n",
       "<g id=\"edge59\" class=\"edge\"><title>57&#45;&gt;59</title>\n",
       "<path fill=\"none\" stroke=\"black\" d=\"M4996.82,-85.9375C5009.52,-76.3076 5023.49,-65.7151 5036.11,-56.1483\"/>\n",
       "<polygon fill=\"black\" stroke=\"black\" points=\"5038.32,-58.8613 5044.18,-50.0301 5034.09,-53.2837 5038.32,-58.8613\"/>\n",
       "</g>\n",
       "<!-- 61 -->\n",
       "<g id=\"node62\" class=\"node\"><title>61</title>\n",
       "<path fill=\"#e58139\" stroke=\"black\" d=\"M5315.59,-50C5315.59,-50 5184.14,-50 5184.14,-50 5178.14,-50 5172.14,-44 5172.14,-38 5172.14,-38 5172.14,-12 5172.14,-12 5172.14,-6 5178.14,-0 5184.14,-0 5184.14,-0 5315.59,-0 5315.59,-0 5321.59,-0 5327.59,-6 5327.59,-12 5327.59,-12 5327.59,-38 5327.59,-38 5327.59,-44 5321.59,-50 5315.59,-50\"/>\n",
       "<text text-anchor=\"start\" x=\"5180\" y=\"-34.8\" font-family=\"Helvetica,sans-Serif\" font-size=\"14.00\">mse = 576538410.303</text>\n",
       "<text text-anchor=\"start\" x=\"5208.03\" y=\"-20.8\" font-family=\"Helvetica,sans-Serif\" font-size=\"14.00\">samples = 46</text>\n",
       "<text text-anchor=\"start\" x=\"5184.28\" y=\"-6.8\" font-family=\"Helvetica,sans-Serif\" font-size=\"14.00\">value = 380025.0435</text>\n",
       "</g>\n",
       "<!-- 60&#45;&gt;61 -->\n",
       "<g id=\"edge61\" class=\"edge\"><title>60&#45;&gt;61</title>\n",
       "<path fill=\"none\" stroke=\"black\" d=\"M5249.86,-85.9375C5249.86,-77.6833 5249.86,-68.7219 5249.86,-60.3053\"/>\n",
       "<polygon fill=\"black\" stroke=\"black\" points=\"5253.36,-60.03 5249.86,-50.0301 5246.36,-60.0301 5253.36,-60.03\"/>\n",
       "</g>\n",
       "<!-- 62 -->\n",
       "<g id=\"node63\" class=\"node\"><title>62</title>\n",
       "<path fill=\"#e58139\" fill-opacity=\"0.921569\" stroke=\"black\" d=\"M5489.59,-50C5489.59,-50 5358.14,-50 5358.14,-50 5352.14,-50 5346.14,-44 5346.14,-38 5346.14,-38 5346.14,-12 5346.14,-12 5346.14,-6 5352.14,-0 5358.14,-0 5358.14,-0 5489.59,-0 5489.59,-0 5495.59,-0 5501.59,-6 5501.59,-12 5501.59,-12 5501.59,-38 5501.59,-38 5501.59,-44 5495.59,-50 5489.59,-50\"/>\n",
       "<text text-anchor=\"start\" x=\"5354\" y=\"-34.8\" font-family=\"Helvetica,sans-Serif\" font-size=\"14.00\">mse = 560316726.214</text>\n",
       "<text text-anchor=\"start\" x=\"5382.03\" y=\"-20.8\" font-family=\"Helvetica,sans-Serif\" font-size=\"14.00\">samples = 39</text>\n",
       "<text text-anchor=\"start\" x=\"5358.28\" y=\"-6.8\" font-family=\"Helvetica,sans-Serif\" font-size=\"14.00\">value = 349928.7949</text>\n",
       "</g>\n",
       "<!-- 60&#45;&gt;62 -->\n",
       "<g id=\"edge62\" class=\"edge\"><title>60&#45;&gt;62</title>\n",
       "<path fill=\"none\" stroke=\"black\" d=\"M5309.26,-85.9375C5328.55,-75.849 5349.86,-64.7041 5368.82,-54.7888\"/>\n",
       "<polygon fill=\"black\" stroke=\"black\" points=\"5370.68,-57.7659 5377.92,-50.0301 5367.43,-51.563 5370.68,-57.7659\"/>\n",
       "</g>\n",
       "</g>\n",
       "</svg>\n"
      ],
      "text/plain": [
       "<graphviz.files.Source at 0x11ba0cd68>"
      ]
     },
     "execution_count": 67,
     "metadata": {},
     "output_type": "execute_result"
    }
   ],
   "source": [
    "from sklearn import tree\n",
    "from sklearn.tree import export_graphviz\n",
    "import graphviz\n",
    "\n",
    "dot_data = tree.export_graphviz(clf_dt, out_file=None, max_depth=5,\n",
    "                         feature_names= features,  \n",
    "                         filled=True, rounded=True,  \n",
    "                         special_characters=True)  \n",
    "graph = graphviz.Source(dot_data)  \n",
    "graph "
   ]
  },
  {
   "cell_type": "code",
   "execution_count": 68,
   "metadata": {},
   "outputs": [
    {
     "data": {
      "text/plain": [
       "[('trips number', 0.99482396599054967),\n",
       " ('subscriber ratio', 0.0043551283933097968),\n",
       " ('Visibyduration', 0.00035133782743743412),\n",
       " ('mean_household_income', 0.00026119470054277735),\n",
       " ('evening rate', 0.00020837308816040571),\n",
       " ('Tempbyduration', 0.0),\n",
       " ('Humibyduration', 0.0),\n",
       " ('Presbyduration', 0.0),\n",
       " ('Dewbyduration', 0.0),\n",
       " ('morning rate', 0.0),\n",
       " ('afternoon rate', 0.0),\n",
       " ('night rate', 0.0),\n",
       " ('commuting_to_work_perc_PT', 0.0),\n",
       " ('mean_work_commuting_time_min', 0.0),\n",
       " ('perc_HS_or_higher', 0.0),\n",
       " ('perc_bachelor_or_higher', 0.0),\n",
       " ('start_crime_score', 0.0),\n",
       " ('end_crime_score', 0.0)]"
      ]
     },
     "execution_count": 68,
     "metadata": {},
     "output_type": "execute_result"
    }
   ],
   "source": [
    "import operator\n",
    "\n",
    "# Get the most important features\n",
    "\n",
    "map_importance_dt = dict(zip(features, importances_dt))\n",
    "map_importance_dt = sorted(map_importance_dt.items(), key=operator.itemgetter(1), reverse=True)\n",
    "map_importance_dt"
   ]
  },
  {
   "cell_type": "code",
   "execution_count": 100,
   "metadata": {},
   "outputs": [
    {
     "data": {
      "text/plain": [
       "['trips number', 'subscriber ratio', 'Visibyduration', 'mean_household_income']"
      ]
     },
     "execution_count": 100,
     "metadata": {},
     "output_type": "execute_result"
    }
   ],
   "source": [
    "# Get the top 4 most important features with importance score > 0.00025\n",
    "feature_4 = [item[0] for item in map_importance_dt[:4]]\n",
    "feature_4"
   ]
  },
  {
   "cell_type": "code",
   "execution_count": 70,
   "metadata": {},
   "outputs": [
    {
     "data": {
      "text/html": [
       "<div>\n",
       "<style>\n",
       "    .dataframe thead tr:only-child th {\n",
       "        text-align: right;\n",
       "    }\n",
       "\n",
       "    .dataframe thead th {\n",
       "        text-align: left;\n",
       "    }\n",
       "\n",
       "    .dataframe tbody tr th {\n",
       "        vertical-align: top;\n",
       "    }\n",
       "</style>\n",
       "<table border=\"1\" class=\"dataframe\">\n",
       "  <thead>\n",
       "    <tr style=\"text-align: right;\">\n",
       "      <th></th>\n",
       "      <th>trips number</th>\n",
       "      <th>subscriber ratio</th>\n",
       "      <th>Visibyduration</th>\n",
       "      <th>mean_household_income</th>\n",
       "    </tr>\n",
       "  </thead>\n",
       "  <tbody>\n",
       "    <tr>\n",
       "      <th>0</th>\n",
       "      <td>4</td>\n",
       "      <td>0.25</td>\n",
       "      <td>9.438355</td>\n",
       "      <td>203908.0</td>\n",
       "    </tr>\n",
       "    <tr>\n",
       "      <th>1</th>\n",
       "      <td>4</td>\n",
       "      <td>0.50</td>\n",
       "      <td>10.000000</td>\n",
       "      <td>137578.5</td>\n",
       "    </tr>\n",
       "  </tbody>\n",
       "</table>\n",
       "</div>"
      ],
      "text/plain": [
       "   trips number  subscriber ratio  Visibyduration  mean_household_income\n",
       "0             4              0.25        9.438355               203908.0\n",
       "1             4              0.50       10.000000               137578.5"
      ]
     },
     "execution_count": 70,
     "metadata": {},
     "output_type": "execute_result"
    }
   ],
   "source": [
    "# Create new dataframes for train/test features using only the 4 most important features\n",
    "train_X4 = train_X.loc[:, feature_4]\n",
    "test_X4 = test_X.loc[:, feature_4]\n",
    "train_X4.head(2)"
   ]
  },
  {
   "cell_type": "code",
   "execution_count": 71,
   "metadata": {},
   "outputs": [
    {
     "name": "stdout",
     "output_type": "stream",
     "text": [
      "Tree RMSE Percentage of training set using ALL features: 17%\n",
      "Tree RMSE Percentage of test set using ALL features: 21%\n",
      "Tree Error Percentage of training set using ALL features: 25%\n",
      "Tree Error Percentage of test set using ALL features: 26%\n"
     ]
    }
   ],
   "source": [
    "# Before moving on, we get the RMSE for train/test sets using ALL feature with optimal hyperparameters\n",
    "\n",
    "# train RMSE\n",
    "y_train_predict_dt = clf_dt.predict(train_X)\n",
    "rmse_ratio_train_dt = compute_rmse_ratio(y_train_predict_dt, train_y)\n",
    "\n",
    "\n",
    "# test RMSE\n",
    "y_test_predict_dt = clf_dt.predict(test_X)\n",
    "rmse_ratio_test_dt = compute_rmse_ratio(y_test_predict_dt, test_y)\n",
    "\n",
    "print(\"Tree RMSE Percentage of training set using ALL features: {:.0%}\".format(rmse_ratio_train_dt))\n",
    "print(\"Tree RMSE Percentage of test set using ALL features: {:.0%}\".format(rmse_ratio_test_dt))\n",
    "\n",
    "# Error Ratio\n",
    "err_ratio_train_dt = np.median(caculateratio(clf_dt, train_X, train_y).abs_ratio)\n",
    "err_ratio_test_dt = np.median(caculateratio(clf_dt, test_X, test_y).abs_ratio)\n",
    "print(\"Tree Error Percentage of training set using ALL features: {:.0%}\".format(err_ratio_train_dt))\n",
    "print(\"Tree Error Percentage of test set using ALL features: {:.0%}\".format(err_ratio_test_dt))"
   ]
  },
  {
   "cell_type": "code",
   "execution_count": 72,
   "metadata": {},
   "outputs": [
    {
     "name": "stdout",
     "output_type": "stream",
     "text": [
      "Best parameters for tree using 4 features: {'max_depth': 10, 'min_samples_leaf': 5}\n",
      "Best score for tree on validation set using 4 features: 0.99\n"
     ]
    }
   ],
   "source": [
    "# Secondly, get optimal hyperparameters through GridSearchCV tuning using only 4 most important features\n",
    "\n",
    "param_grid_tree_4 = {'max_depth': [1,5,10,15,20,25,30],\n",
    "                     'min_samples_leaf': [1,2,3,4,5]}\n",
    "grid_tree_4 = GridSearchCV(DecisionTreeRegressor(criterion='mse', random_state=1234), param_grid_tree_4, cv=10)\n",
    "grid_tree_4.fit(train_X4, train_y)\n",
    "best_tree_4 = grid_tree_4.best_params_\n",
    "print('Best parameters for tree using 4 features: {}'.format(best_tree_4))\n",
    "print('Best score for tree on validation set using 4 features: {:.2f}'.format(grid_tree_4.best_score_))"
   ]
  },
  {
   "cell_type": "code",
   "execution_count": 73,
   "metadata": {},
   "outputs": [
    {
     "data": {
      "text/plain": [
       "DecisionTreeRegressor(criterion='mse', max_depth=10, max_features=None,\n",
       "           max_leaf_nodes=None, min_impurity_split=1e-07,\n",
       "           min_samples_leaf=5, min_samples_split=2,\n",
       "           min_weight_fraction_leaf=0.0, presort=False, random_state=1234,\n",
       "           splitter='best')"
      ]
     },
     "execution_count": 73,
     "metadata": {},
     "output_type": "execute_result"
    }
   ],
   "source": [
    "# Run/Fit the model with optimal hyperparameters using only 7 most important features\n",
    "\n",
    "clf_dt_4 = DecisionTreeRegressor(criterion='mse', random_state=1234, max_depth=10 , min_samples_leaf=5)\n",
    "clf_dt_4.fit(train_X4, train_y)"
   ]
  },
  {
   "cell_type": "code",
   "execution_count": 74,
   "metadata": {},
   "outputs": [
    {
     "name": "stdout",
     "output_type": "stream",
     "text": [
      "Tree RMSE Percentage of training set using 4 features: 12%\n",
      "Tree RMSE Percentage of test set using 4 features: 21%\n",
      "Tree Error Percentage of training set using 4 features: 15%\n",
      "Tree Error Percentage of test set using 4 features: 22%\n"
     ]
    }
   ],
   "source": [
    "# get the RMSE for train/test sets using 4 features with optimal hyperparameters\n",
    "\n",
    "# train RMSE ratio with 4 features\n",
    "y_train_predict_dt_4 = clf_dt_4.predict(train_X4)\n",
    "rmse_ratio_train_dt_4 = compute_rmse_ratio(y_train_predict_dt_4, train_y)\n",
    "\n",
    "# test RMSE ratio with 4 features\n",
    "y_test_predict_dt_4 = clf_dt_4.predict(test_X4)\n",
    "rmse_ratio_test_dt_4 = compute_rmse_ratio(y_test_predict_dt_4, test_y)\n",
    "print(\"Tree RMSE Percentage of training set using 4 features: {:.0%}\".format(rmse_ratio_train_dt_4))\n",
    "print(\"Tree RMSE Percentage of test set using 4 features: {:.0%}\".format(rmse_ratio_test_dt_4))\n",
    "\n",
    "# Error Ratio\n",
    "err_ratio_train_dt_4 = np.median(caculateratio(clf_dt_4, train_X4, train_y).abs_ratio)\n",
    "err_ratio_test_dt_4 = np.median(caculateratio(clf_dt_4, test_X4, test_y).abs_ratio)\n",
    "print(\"Tree Error Percentage of training set using 4 features: {:.0%}\".format(err_ratio_train_dt_4))\n",
    "print(\"Tree Error Percentage of test set using 4 features: {:.0%}\".format(err_ratio_test_dt_4))"
   ]
  },
  {
   "cell_type": "markdown",
   "metadata": {},
   "source": [
    "***Re-run Model after Removing trips number variable***"
   ]
  },
  {
   "cell_type": "code",
   "execution_count": 75,
   "metadata": {},
   "outputs": [
    {
     "name": "stdout",
     "output_type": "stream",
     "text": [
      "(2800, 17)\n",
      "(658, 17)\n"
     ]
    }
   ],
   "source": [
    "# Get the new dataframes for train/test set after removing \"trips number\" variable, considering it might not be independent\n",
    "train_X_wt_tn = train_X.drop([\"trips number\"], axis=1)\n",
    "test_X_wt_tn = test_X.drop([\"trips number\"], axis=1)\n",
    "print(train_X_wt_tn.shape)\n",
    "print(test_X_wt_tn.shape)"
   ]
  },
  {
   "cell_type": "code",
   "execution_count": 84,
   "metadata": {},
   "outputs": [
    {
     "name": "stdout",
     "output_type": "stream",
     "text": [
      "Tree Best parameters using ALL features without \"trips number\": {'max_depth': 10, 'min_samples_leaf': 5}\n",
      "Tree Best score on validation set using ALL features without \"trips number\": 0.89\n"
     ]
    }
   ],
   "source": [
    "# First, get the optimal hyperparameters through GridSearchCV tuning using ALL features without \"trips number\"\n",
    "\n",
    "# Decision Tree hyperparameters tuning with all features without \"trips number\"\n",
    "param_grid_tree_wt_tn = {'max_depth': [1,5,10,15,20,25,30],\n",
    "                           'min_samples_leaf': [1,2,3,4,5]}\n",
    "grid_tree_wt_tn = GridSearchCV(DecisionTreeRegressor(criterion='mse', random_state=1234), param_grid_tree_wt_tn, cv=10)\n",
    "grid_tree_wt_tn.fit(train_X_wt_tn, train_y)\n",
    "best_tree_wt_tn = grid_tree_wt_tn.best_params_\n",
    "print('Tree Best parameters using ALL features without \"trips number\": {}'.format(best_tree_wt_tn))\n",
    "print('Tree Best score on validation set using ALL features without \"trips number\": {:.2f}'.format(grid_tree_wt_tn.best_score_))"
   ]
  },
  {
   "cell_type": "code",
   "execution_count": 85,
   "metadata": {},
   "outputs": [
    {
     "data": {
      "image/png": "[encoded data removed]",
      "text/plain": [
       "<matplotlib.figure.Figure at 0x11ba36c18>"
      ]
     },
     "metadata": {},
     "output_type": "display_data"
    }
   ],
   "source": [
    "# Get feature importances using the optimal hyperparameters (without trips numbers)\n",
    "\n",
    "features_wt_tn = train_X_wt_tn.columns.tolist()\n",
    "clf_dt_wt_tn = DecisionTreeRegressor(criterion='mse', random_state=1234, max_depth=10 , min_samples_leaf=5)\n",
    "clf_dt_wt_tn.fit(train_X_wt_tn, train_y)\n",
    "importances_dt_wt_tn = clf_dt_wt_tn.feature_importances_\n",
    "\n",
    "idx_dt_wt_tn = np.argsort(importances_dt_wt_tn)\n",
    "plt.title(\"Decision Tree Feature Importance without trips number\")\n",
    "plt.barh(range(len(idx_dt_wt_tn)), importances_dt_wt_tn[idx_dt_wt_tn])\n",
    "plt.yticks(range(len(idx_dt_wt_tn)), [features_wt_tn[i] for i in idx_dt_wt_tn])\n",
    "plt.ylabel(\"Features without trips number\")\n",
    "plt.show()"
   ]
  },
  {
   "cell_type": "code",
   "execution_count": 86,
   "metadata": {},
   "outputs": [
    {
     "data": {
      "image/svg+xml": [
       "<?xml version=\"1.0\" encoding=\"UTF-8\" standalone=\"no\"?>\n",
       "<!DOCTYPE svg PUBLIC \"-//W3C//DTD SVG 1.1//EN\"\n",
       " \"http://www.w3.org/Graphics/SVG/1.1/DTD/svg11.dtd\">\n",
       "<!-- Generated by graphviz version 2.38.0 (20140413.2041)\n",
       " -->\n",
       "<!-- Title: Tree Pages: 1 -->\n",
       "<svg width=\"6186pt\" height=\"644pt\"\n",
       " viewBox=\"0.00 0.00 6186.36 644.00\" xmlns=\"http://www.w3.org/2000/svg\" xmlns:xlink=\"http://www.w3.org/1999/xlink\">\n",
       "<g id=\"graph0\" class=\"graph\" transform=\"scale(1 1) rotate(0) translate(4 640)\">\n",
       "<title>Tree</title>\n",
       "<polygon fill=\"white\" stroke=\"none\" points=\"-4,4 -4,-640 6182.36,-640 6182.36,4 -4,4\"/>\n",
       "<!-- 0 -->\n",
       "<g id=\"node1\" class=\"node\"><title>0</title>\n",
       "<path fill=\"#e58139\" fill-opacity=\"0.180392\" stroke=\"black\" d=\"M3094.25,-636C3094.25,-636 2913.2,-636 2913.2,-636 2907.2,-636 2901.2,-630 2901.2,-624 2901.2,-624 2901.2,-584 2901.2,-584 2901.2,-578 2907.2,-572 2913.2,-572 2913.2,-572 3094.25,-572 3094.25,-572 3100.25,-572 3106.25,-578 3106.25,-584 3106.25,-584 3106.25,-624 3106.25,-624 3106.25,-630 3100.25,-636 3094.25,-636\"/>\n",
       "<text text-anchor=\"start\" x=\"2909.21\" y=\"-620.8\" font-family=\"Helvetica,sans-Serif\" font-size=\"14.00\">end_crime_score ≤ 2841.8604</text>\n",
       "<text text-anchor=\"start\" x=\"2933.86\" y=\"-606.8\" font-family=\"Helvetica,sans-Serif\" font-size=\"14.00\">mse = 12569880496.0</text>\n",
       "<text text-anchor=\"start\" x=\"2954.11\" y=\"-592.8\" font-family=\"Helvetica,sans-Serif\" font-size=\"14.00\">samples = 2800</text>\n",
       "<text text-anchor=\"start\" x=\"2942.03\" y=\"-578.8\" font-family=\"Helvetica,sans-Serif\" font-size=\"14.00\">value = 72022.7189</text>\n",
       "</g>\n",
       "<!-- 1 -->\n",
       "<g id=\"node2\" class=\"node\"><title>1</title>\n",
       "<path fill=\"#e58139\" fill-opacity=\"0.035294\" stroke=\"black\" d=\"M2252.67,-536C2252.67,-536 2128.79,-536 2128.79,-536 2122.79,-536 2116.79,-530 2116.79,-524 2116.79,-524 2116.79,-484 2116.79,-484 2116.79,-478 2122.79,-472 2128.79,-472 2128.79,-472 2252.67,-472 2252.67,-472 2258.67,-472 2264.67,-478 2264.67,-484 2264.67,-484 2264.67,-524 2264.67,-524 2264.67,-530 2258.67,-536 2252.67,-536\"/>\n",
       "<text text-anchor=\"start\" x=\"2132.4\" y=\"-520.8\" font-family=\"Helvetica,sans-Serif\" font-size=\"14.00\">night rate ≤ 0.0017</text>\n",
       "<text text-anchor=\"start\" x=\"2124.76\" y=\"-506.8\" font-family=\"Helvetica,sans-Serif\" font-size=\"14.00\">mse = 556732223.85</text>\n",
       "<text text-anchor=\"start\" x=\"2141.11\" y=\"-492.8\" font-family=\"Helvetica,sans-Serif\" font-size=\"14.00\">samples = 1895</text>\n",
       "<text text-anchor=\"start\" x=\"2129.03\" y=\"-478.8\" font-family=\"Helvetica,sans-Serif\" font-size=\"14.00\">value = 14158.8449</text>\n",
       "</g>\n",
       "<!-- 0&#45;&gt;1 -->\n",
       "<g id=\"edge1\" class=\"edge\"><title>0&#45;&gt;1</title>\n",
       "<path fill=\"none\" stroke=\"black\" d=\"M2901.17,-590.638C2738.64,-571.046 2424.95,-533.233 2274.81,-515.135\"/>\n",
       "<polygon fill=\"black\" stroke=\"black\" points=\"2275.07,-511.641 2264.72,-513.919 2274.23,-518.591 2275.07,-511.641\"/>\n",
       "<text text-anchor=\"middle\" x=\"2280.15\" y=\"-529.385\" font-family=\"Helvetica,sans-Serif\" font-size=\"14.00\">True</text>\n",
       "</g>\n",
       "<!-- 344 -->\n",
       "<g id=\"node65\" class=\"node\"><title>344</title>\n",
       "<path fill=\"#e58139\" fill-opacity=\"0.482353\" stroke=\"black\" d=\"M3896.41,-536C3896.41,-536 3739.04,-536 3739.04,-536 3733.04,-536 3727.04,-530 3727.04,-524 3727.04,-524 3727.04,-484 3727.04,-484 3727.04,-478 3733.04,-472 3739.04,-472 3739.04,-472 3896.41,-472 3896.41,-472 3902.41,-472 3908.41,-478 3908.41,-484 3908.41,-484 3908.41,-524 3908.41,-524 3908.41,-530 3902.41,-536 3896.41,-536\"/>\n",
       "<text text-anchor=\"start\" x=\"3734.89\" y=\"-520.8\" font-family=\"Helvetica,sans-Serif\" font-size=\"14.00\">Tempbyduration ≤ 58.9094</text>\n",
       "<text text-anchor=\"start\" x=\"3747.86\" y=\"-506.8\" font-family=\"Helvetica,sans-Serif\" font-size=\"14.00\">mse = 16033207744.5</text>\n",
       "<text text-anchor=\"start\" x=\"3772.01\" y=\"-492.8\" font-family=\"Helvetica,sans-Serif\" font-size=\"14.00\">samples = 905</text>\n",
       "<text text-anchor=\"start\" x=\"3752.14\" y=\"-478.8\" font-family=\"Helvetica,sans-Serif\" font-size=\"14.00\">value = 193185.1956</text>\n",
       "</g>\n",
       "<!-- 0&#45;&gt;344 -->\n",
       "<g id=\"edge64\" class=\"edge\"><title>0&#45;&gt;344</title>\n",
       "<path fill=\"none\" stroke=\"black\" d=\"M3106.41,-590.638C3263.35,-571.744 3561.03,-535.904 3716.87,-517.142\"/>\n",
       "<polygon fill=\"black\" stroke=\"black\" points=\"3717.42,-520.602 3726.93,-515.932 3716.58,-513.652 3717.42,-520.602\"/>\n",
       "<text text-anchor=\"middle\" x=\"3711.49\" y=\"-531.396\" font-family=\"Helvetica,sans-Serif\" font-size=\"14.00\">False</text>\n",
       "</g>\n",
       "<!-- 2 -->\n",
       "<g id=\"node3\" class=\"node\"><title>2</title>\n",
       "<path fill=\"#e58139\" fill-opacity=\"0.011765\" stroke=\"black\" d=\"M1166.71,-436C1166.71,-436 1020.74,-436 1020.74,-436 1014.74,-436 1008.74,-430 1008.74,-424 1008.74,-424 1008.74,-384 1008.74,-384 1008.74,-378 1014.74,-372 1020.74,-372 1020.74,-372 1166.71,-372 1166.71,-372 1172.71,-372 1178.71,-378 1178.71,-384 1178.71,-384 1178.71,-424 1178.71,-424 1178.71,-430 1172.71,-436 1166.71,-436\"/>\n",
       "<text text-anchor=\"start\" x=\"1016.73\" y=\"-420.8\" font-family=\"Helvetica,sans-Serif\" font-size=\"14.00\">subscriber ratio ≤ 0.9773</text>\n",
       "<text text-anchor=\"start\" x=\"1023.86\" y=\"-406.8\" font-family=\"Helvetica,sans-Serif\" font-size=\"14.00\">mse = 35816706.1586</text>\n",
       "<text text-anchor=\"start\" x=\"1044.11\" y=\"-392.8\" font-family=\"Helvetica,sans-Serif\" font-size=\"14.00\">samples = 1047</text>\n",
       "<text text-anchor=\"start\" x=\"1036.44\" y=\"-378.8\" font-family=\"Helvetica,sans-Serif\" font-size=\"14.00\">value = 4992.0611</text>\n",
       "</g>\n",
       "<!-- 1&#45;&gt;2 -->\n",
       "<g id=\"edge2\" class=\"edge\"><title>1&#45;&gt;2</title>\n",
       "<path fill=\"none\" stroke=\"black\" d=\"M2116.62,-496.379C1923.31,-479.11 1403.87,-432.706 1188.89,-413.501\"/>\n",
       "<polygon fill=\"black\" stroke=\"black\" points=\"1189.16,-410.011 1178.89,-412.608 1188.54,-416.984 1189.16,-410.011\"/>\n",
       "</g>\n",
       "<!-- 207 -->\n",
       "<g id=\"node34\" class=\"node\"><title>207</title>\n",
       "<path fill=\"#e58139\" fill-opacity=\"0.062745\" stroke=\"black\" d=\"M2269.41,-436C2269.41,-436 2112.04,-436 2112.04,-436 2106.04,-436 2100.04,-430 2100.04,-424 2100.04,-424 2100.04,-384 2100.04,-384 2100.04,-378 2106.04,-372 2112.04,-372 2112.04,-372 2269.41,-372 2269.41,-372 2275.41,-372 2281.41,-378 2281.41,-384 2281.41,-384 2281.41,-424 2281.41,-424 2281.41,-430 2275.41,-436 2269.41,-436\"/>\n",
       "<text text-anchor=\"start\" x=\"2107.89\" y=\"-420.8\" font-family=\"Helvetica,sans-Serif\" font-size=\"14.00\">Tempbyduration ≤ 64.6761</text>\n",
       "<text text-anchor=\"start\" x=\"2124.76\" y=\"-406.8\" font-family=\"Helvetica,sans-Serif\" font-size=\"14.00\">mse = 968045659.58</text>\n",
       "<text text-anchor=\"start\" x=\"2145.01\" y=\"-392.8\" font-family=\"Helvetica,sans-Serif\" font-size=\"14.00\">samples = 848</text>\n",
       "<text text-anchor=\"start\" x=\"2132.93\" y=\"-378.8\" font-family=\"Helvetica,sans-Serif\" font-size=\"14.00\">value = 25476.796</text>\n",
       "</g>\n",
       "<!-- 1&#45;&gt;207 -->\n",
       "<g id=\"edge33\" class=\"edge\"><title>1&#45;&gt;207</title>\n",
       "<path fill=\"none\" stroke=\"black\" d=\"M2190.73,-471.992C2190.73,-463.859 2190.73,-454.959 2190.73,-446.378\"/>\n",
       "<polygon fill=\"black\" stroke=\"black\" points=\"2194.23,-446.142 2190.73,-436.142 2187.23,-446.142 2194.23,-446.142\"/>\n",
       "</g>\n",
       "<!-- 3 -->\n",
       "<g id=\"node4\" class=\"node\"><title>3</title>\n",
       "<path fill=\"#e58139\" fill-opacity=\"0.015686\" stroke=\"black\" d=\"M646.683,-336C646.683,-336 508.772,-336 508.772,-336 502.772,-336 496.772,-330 496.772,-324 496.772,-324 496.772,-284 496.772,-284 496.772,-278 502.772,-272 508.772,-272 508.772,-272 646.683,-272 646.683,-272 652.683,-272 658.683,-278 658.683,-284 658.683,-284 658.683,-324 658.683,-324 658.683,-330 652.683,-336 646.683,-336\"/>\n",
       "<text text-anchor=\"start\" x=\"505\" y=\"-320.8\" font-family=\"Helvetica,sans-Serif\" font-size=\"14.00\">afternoon rate ≤ 0.0065</text>\n",
       "<text text-anchor=\"start\" x=\"507.864\" y=\"-306.8\" font-family=\"Helvetica,sans-Serif\" font-size=\"14.00\">mse = 47860795.9782</text>\n",
       "<text text-anchor=\"start\" x=\"532.005\" y=\"-292.8\" font-family=\"Helvetica,sans-Serif\" font-size=\"14.00\">samples = 620</text>\n",
       "<text text-anchor=\"start\" x=\"519.926\" y=\"-278.8\" font-family=\"Helvetica,sans-Serif\" font-size=\"14.00\">value = 7122.2855</text>\n",
       "</g>\n",
       "<!-- 2&#45;&gt;3 -->\n",
       "<g id=\"edge3\" class=\"edge\"><title>2&#45;&gt;3</title>\n",
       "<path fill=\"none\" stroke=\"black\" d=\"M1008.52,-386.817C914.8,-369.018 764.778,-340.525 668.788,-322.294\"/>\n",
       "<polygon fill=\"black\" stroke=\"black\" points=\"669.282,-318.826 658.805,-320.398 667.976,-325.703 669.282,-318.826\"/>\n",
       "</g>\n",
       "<!-- 112 -->\n",
       "<g id=\"node19\" class=\"node\"><title>112</title>\n",
       "<path fill=\"#e58139\" fill-opacity=\"0.003922\" stroke=\"black\" d=\"M1158.4,-336C1158.4,-336 1029.06,-336 1029.06,-336 1023.06,-336 1017.06,-330 1017.06,-324 1017.06,-324 1017.06,-284 1017.06,-284 1017.06,-278 1023.06,-272 1029.06,-272 1029.06,-272 1158.4,-272 1158.4,-272 1164.4,-272 1170.4,-278 1170.4,-284 1170.4,-284 1170.4,-324 1170.4,-324 1170.4,-330 1164.4,-336 1158.4,-336\"/>\n",
       "<text text-anchor=\"start\" x=\"1024.89\" y=\"-320.8\" font-family=\"Helvetica,sans-Serif\" font-size=\"14.00\">afternoon rate ≤ 0.025</text>\n",
       "<text text-anchor=\"start\" x=\"1027.76\" y=\"-306.8\" font-family=\"Helvetica,sans-Serif\" font-size=\"14.00\">mse = 2172820.3278</text>\n",
       "<text text-anchor=\"start\" x=\"1048.01\" y=\"-292.8\" font-family=\"Helvetica,sans-Serif\" font-size=\"14.00\">samples = 427</text>\n",
       "<text text-anchor=\"start\" x=\"1035.93\" y=\"-278.8\" font-family=\"Helvetica,sans-Serif\" font-size=\"14.00\">value = 1898.9953</text>\n",
       "</g>\n",
       "<!-- 2&#45;&gt;112 -->\n",
       "<g id=\"edge18\" class=\"edge\"><title>2&#45;&gt;112</title>\n",
       "<path fill=\"none\" stroke=\"black\" d=\"M1093.73,-371.992C1093.73,-363.859 1093.73,-354.959 1093.73,-346.378\"/>\n",
       "<polygon fill=\"black\" stroke=\"black\" points=\"1097.23,-346.142 1093.73,-336.142 1090.23,-346.142 1097.23,-346.142\"/>\n",
       "</g>\n",
       "<!-- 4 -->\n",
       "<g id=\"node5\" class=\"node\"><title>4</title>\n",
       "<path fill=\"#e58139\" fill-opacity=\"0.007843\" stroke=\"black\" d=\"M352.488,-236C352.488,-236 206.967,-236 206.967,-236 200.967,-236 194.967,-230 194.967,-224 194.967,-224 194.967,-184 194.967,-184 194.967,-178 200.967,-172 206.967,-172 206.967,-172 352.488,-172 352.488,-172 358.488,-172 364.488,-178 364.488,-184 364.488,-184 364.488,-224 364.488,-224 364.488,-230 358.488,-236 352.488,-236\"/>\n",
       "<text text-anchor=\"start\" x=\"202.847\" y=\"-220.8\" font-family=\"Helvetica,sans-Serif\" font-size=\"14.00\">Visibyduration ≤ 16.1623</text>\n",
       "<text text-anchor=\"start\" x=\"210.38\" y=\"-206.8\" font-family=\"Helvetica,sans-Serif\" font-size=\"14.00\">mse = 11456608.5443</text>\n",
       "<text text-anchor=\"start\" x=\"234.005\" y=\"-192.8\" font-family=\"Helvetica,sans-Serif\" font-size=\"14.00\">samples = 189</text>\n",
       "<text text-anchor=\"start\" x=\"221.926\" y=\"-178.8\" font-family=\"Helvetica,sans-Serif\" font-size=\"14.00\">value = 4159.9735</text>\n",
       "</g>\n",
       "<!-- 3&#45;&gt;4 -->\n",
       "<g id=\"edge4\" class=\"edge\"><title>3&#45;&gt;4</title>\n",
       "<path fill=\"none\" stroke=\"black\" d=\"M496.691,-276.351C458.956,-263.941 413.819,-249.097 374.511,-236.17\"/>\n",
       "<polygon fill=\"black\" stroke=\"black\" points=\"375.244,-232.727 364.651,-232.928 373.057,-239.377 375.244,-232.727\"/>\n",
       "</g>\n",
       "<!-- 35 -->\n",
       "<g id=\"node12\" class=\"node\"><title>35</title>\n",
       "<path fill=\"#e58139\" fill-opacity=\"0.019608\" stroke=\"black\" d=\"M702.279,-236C702.279,-236 453.176,-236 453.176,-236 447.176,-236 441.176,-230 441.176,-224 441.176,-224 441.176,-184 441.176,-184 441.176,-178 447.176,-172 453.176,-172 453.176,-172 702.279,-172 702.279,-172 708.279,-172 714.279,-178 714.279,-184 714.279,-184 714.279,-224 714.279,-224 714.279,-230 708.279,-236 702.279,-236\"/>\n",
       "<text text-anchor=\"start\" x=\"448.952\" y=\"-220.8\" font-family=\"Helvetica,sans-Serif\" font-size=\"14.00\">mean_household_income ≤ 142496.9375</text>\n",
       "<text text-anchor=\"start\" x=\"507.864\" y=\"-206.8\" font-family=\"Helvetica,sans-Serif\" font-size=\"14.00\">mse = 58289034.3322</text>\n",
       "<text text-anchor=\"start\" x=\"532.005\" y=\"-192.8\" font-family=\"Helvetica,sans-Serif\" font-size=\"14.00\">samples = 431</text>\n",
       "<text text-anchor=\"start\" x=\"519.926\" y=\"-178.8\" font-family=\"Helvetica,sans-Serif\" font-size=\"14.00\">value = 8421.3039</text>\n",
       "</g>\n",
       "<!-- 3&#45;&gt;35 -->\n",
       "<g id=\"edge11\" class=\"edge\"><title>3&#45;&gt;35</title>\n",
       "<path fill=\"none\" stroke=\"black\" d=\"M577.728,-271.992C577.728,-263.859 577.728,-254.959 577.728,-246.378\"/>\n",
       "<polygon fill=\"black\" stroke=\"black\" points=\"581.228,-246.142 577.728,-236.142 574.228,-246.142 581.228,-246.142\"/>\n",
       "</g>\n",
       "<!-- 5 -->\n",
       "<g id=\"node6\" class=\"node\"><title>5</title>\n",
       "<path fill=\"#e58139\" fill-opacity=\"0.007843\" stroke=\"black\" d=\"M163.683,-136C163.683,-136 11.7719,-136 11.7719,-136 5.77187,-136 -0.228131,-130 -0.228131,-124 -0.228131,-124 -0.228131,-84 -0.228131,-84 -0.228131,-78 5.77187,-72 11.7719,-72 11.7719,-72 163.683,-72 163.683,-72 169.683,-72 175.683,-78 175.683,-84 175.683,-84 175.683,-124 175.683,-124 175.683,-130 169.683,-136 163.683,-136\"/>\n",
       "<text text-anchor=\"start\" x=\"8\" y=\"-120.8\" font-family=\"Helvetica,sans-Serif\" font-size=\"14.00\">Dewbyduration ≤ 33.6526</text>\n",
       "<text text-anchor=\"start\" x=\"21.7573\" y=\"-106.8\" font-family=\"Helvetica,sans-Serif\" font-size=\"14.00\">mse = 8970937.5605</text>\n",
       "<text text-anchor=\"start\" x=\"42.0054\" y=\"-92.8\" font-family=\"Helvetica,sans-Serif\" font-size=\"14.00\">samples = 156</text>\n",
       "<text text-anchor=\"start\" x=\"29.9263\" y=\"-78.8\" font-family=\"Helvetica,sans-Serif\" font-size=\"14.00\">value = 3739.1282</text>\n",
       "</g>\n",
       "<!-- 4&#45;&gt;5 -->\n",
       "<g id=\"edge5\" class=\"edge\"><title>4&#45;&gt;5</title>\n",
       "<path fill=\"none\" stroke=\"black\" d=\"M218.978,-171.992C199.542,-162.072 177.868,-151.009 157.823,-140.778\"/>\n",
       "<polygon fill=\"black\" stroke=\"black\" points=\"159.239,-137.571 148.741,-136.142 156.057,-143.806 159.239,-137.571\"/>\n",
       "</g>\n",
       "<!-- 26 -->\n",
       "<g id=\"node9\" class=\"node\"><title>26</title>\n",
       "<path fill=\"#e58139\" fill-opacity=\"0.011765\" stroke=\"black\" d=\"M354.059,-136C354.059,-136 205.396,-136 205.396,-136 199.396,-136 193.396,-130 193.396,-124 193.396,-124 193.396,-84 193.396,-84 193.396,-78 199.396,-72 205.396,-72 205.396,-72 354.059,-72 354.059,-72 360.059,-72 366.059,-78 366.059,-84 366.059,-84 366.059,-124 366.059,-124 366.059,-130 360.059,-136 354.059,-136\"/>\n",
       "<text text-anchor=\"start\" x=\"201.562\" y=\"-120.8\" font-family=\"Helvetica,sans-Serif\" font-size=\"14.00\">Humibyduration ≤ 0.4309</text>\n",
       "<text text-anchor=\"start\" x=\"210.38\" y=\"-106.8\" font-family=\"Helvetica,sans-Serif\" font-size=\"14.00\">mse = 18411888.0624</text>\n",
       "<text text-anchor=\"start\" x=\"237.898\" y=\"-92.8\" font-family=\"Helvetica,sans-Serif\" font-size=\"14.00\">samples = 33</text>\n",
       "<text text-anchor=\"start\" x=\"221.926\" y=\"-78.8\" font-family=\"Helvetica,sans-Serif\" font-size=\"14.00\">value = 6149.4242</text>\n",
       "</g>\n",
       "<!-- 4&#45;&gt;26 -->\n",
       "<g id=\"edge8\" class=\"edge\"><title>4&#45;&gt;26</title>\n",
       "<path fill=\"none\" stroke=\"black\" d=\"M279.728,-171.992C279.728,-163.859 279.728,-154.959 279.728,-146.378\"/>\n",
       "<polygon fill=\"black\" stroke=\"black\" points=\"283.228,-146.142 279.728,-136.142 276.228,-146.142 283.228,-146.142\"/>\n",
       "</g>\n",
       "<!-- 6 -->\n",
       "<g id=\"node7\" class=\"node\"><title>6</title>\n",
       "<path fill=\"#c0c0c0\" stroke=\"black\" d=\"M87.7275,-36C87.7275,-36 57.7275,-36 57.7275,-36 51.7275,-36 45.7275,-30 45.7275,-24 45.7275,-24 45.7275,-12 45.7275,-12 45.7275,-6 51.7275,-0 57.7275,-0 57.7275,-0 87.7275,-0 87.7275,-0 93.7275,-0 99.7275,-6 99.7275,-12 99.7275,-12 99.7275,-24 99.7275,-24 99.7275,-30 93.7275,-36 87.7275,-36\"/>\n",
       "<text text-anchor=\"middle\" x=\"72.7275\" y=\"-13.8\" font-family=\"Helvetica,sans-Serif\" font-size=\"14.00\">(...)</text>\n",
       "</g>\n",
       "<!-- 5&#45;&gt;6 -->\n",
       "<g id=\"edge6\" class=\"edge\"><title>5&#45;&gt;6</title>\n",
       "<path fill=\"none\" stroke=\"black\" d=\"M82.1421,-71.7215C80.6594,-63.4186 79.0698,-54.5167 77.6268,-46.4357\"/>\n",
       "<polygon fill=\"black\" stroke=\"black\" points=\"81.039,-45.6338 75.8355,-36.4049 74.148,-46.8644 81.039,-45.6338\"/>\n",
       "</g>\n",
       "<!-- 9 -->\n",
       "<g id=\"node8\" class=\"node\"><title>9</title>\n",
       "<path fill=\"#c0c0c0\" stroke=\"black\" d=\"M159.728,-36C159.728,-36 129.728,-36 129.728,-36 123.728,-36 117.728,-30 117.728,-24 117.728,-24 117.728,-12 117.728,-12 117.728,-6 123.728,-0 129.728,-0 129.728,-0 159.728,-0 159.728,-0 165.728,-0 171.728,-6 171.728,-12 171.728,-12 171.728,-24 171.728,-24 171.728,-30 165.728,-36 159.728,-36\"/>\n",
       "<text text-anchor=\"middle\" x=\"144.728\" y=\"-13.8\" font-family=\"Helvetica,sans-Serif\" font-size=\"14.00\">(...)</text>\n",
       "</g>\n",
       "<!-- 5&#45;&gt;9 -->\n",
       "<g id=\"edge7\" class=\"edge\"><title>5&#45;&gt;9</title>\n",
       "<path fill=\"none\" stroke=\"black\" d=\"M108.952,-71.7215C114.966,-62.8589 121.443,-53.3137 127.212,-44.813\"/>\n",
       "<polygon fill=\"black\" stroke=\"black\" points=\"130.198,-46.6449 132.917,-36.4049 124.406,-42.7144 130.198,-46.6449\"/>\n",
       "</g>\n",
       "<!-- 27 -->\n",
       "<g id=\"node10\" class=\"node\"><title>27</title>\n",
       "<path fill=\"#c0c0c0\" stroke=\"black\" d=\"M238.728,-36C238.728,-36 208.728,-36 208.728,-36 202.728,-36 196.728,-30 196.728,-24 196.728,-24 196.728,-12 196.728,-12 196.728,-6 202.728,-0 208.728,-0 208.728,-0 238.728,-0 238.728,-0 244.728,-0 250.728,-6 250.728,-12 250.728,-12 250.728,-24 250.728,-24 250.728,-30 244.728,-36 238.728,-36\"/>\n",
       "<text text-anchor=\"middle\" x=\"223.728\" y=\"-13.8\" font-family=\"Helvetica,sans-Serif\" font-size=\"14.00\">(...)</text>\n",
       "</g>\n",
       "<!-- 26&#45;&gt;27 -->\n",
       "<g id=\"edge9\" class=\"edge\"><title>26&#45;&gt;27</title>\n",
       "<path fill=\"none\" stroke=\"black\" d=\"M258.875,-71.7215C252.967,-62.8589 246.603,-53.3137 240.936,-44.813\"/>\n",
       "<polygon fill=\"black\" stroke=\"black\" points=\"243.79,-42.7839 235.331,-36.4049 237.966,-46.6668 243.79,-42.7839\"/>\n",
       "</g>\n",
       "<!-- 28 -->\n",
       "<g id=\"node11\" class=\"node\"><title>28</title>\n",
       "<path fill=\"#c0c0c0\" stroke=\"black\" d=\"M310.728,-36C310.728,-36 280.728,-36 280.728,-36 274.728,-36 268.728,-30 268.728,-24 268.728,-24 268.728,-12 268.728,-12 268.728,-6 274.728,-0 280.728,-0 280.728,-0 310.728,-0 310.728,-0 316.728,-0 322.728,-6 322.728,-12 322.728,-12 322.728,-24 322.728,-24 322.728,-30 316.728,-36 310.728,-36\"/>\n",
       "<text text-anchor=\"middle\" x=\"295.728\" y=\"-13.8\" font-family=\"Helvetica,sans-Serif\" font-size=\"14.00\">(...)</text>\n",
       "</g>\n",
       "<!-- 26&#45;&gt;28 -->\n",
       "<g id=\"edge10\" class=\"edge\"><title>26&#45;&gt;28</title>\n",
       "<path fill=\"none\" stroke=\"black\" d=\"M285.685,-71.7215C287.267,-63.4186 288.962,-54.5167 290.502,-46.4357\"/>\n",
       "<polygon fill=\"black\" stroke=\"black\" points=\"293.979,-46.8832 292.412,-36.4049 287.103,-45.5733 293.979,-46.8832\"/>\n",
       "</g>\n",
       "<!-- 36 -->\n",
       "<g id=\"node13\" class=\"node\"><title>36</title>\n",
       "<path fill=\"#e58139\" fill-opacity=\"0.015686\" stroke=\"black\" d=\"M527.454,-136C527.454,-136 396.001,-136 396.001,-136 390.001,-136 384.001,-130 384.001,-124 384.001,-124 384.001,-84 384.001,-84 384.001,-78 390.001,-72 396.001,-72 396.001,-72 527.454,-72 527.454,-72 533.454,-72 539.454,-78 539.454,-84 539.454,-84 539.454,-124 539.454,-124 539.454,-130 533.454,-136 527.454,-136\"/>\n",
       "<text text-anchor=\"start\" x=\"394.059\" y=\"-120.8\" font-family=\"Helvetica,sans-Serif\" font-size=\"14.00\">evening rate ≤ 0.0073</text>\n",
       "<text text-anchor=\"start\" x=\"391.864\" y=\"-106.8\" font-family=\"Helvetica,sans-Serif\" font-size=\"14.00\">mse = 25545303.4212</text>\n",
       "<text text-anchor=\"start\" x=\"416.005\" y=\"-92.8\" font-family=\"Helvetica,sans-Serif\" font-size=\"14.00\">samples = 288</text>\n",
       "<text text-anchor=\"start\" x=\"403.926\" y=\"-78.8\" font-family=\"Helvetica,sans-Serif\" font-size=\"14.00\">value = 6834.0486</text>\n",
       "</g>\n",
       "<!-- 35&#45;&gt;36 -->\n",
       "<g id=\"edge12\" class=\"edge\"><title>35&#45;&gt;36</title>\n",
       "<path fill=\"none\" stroke=\"black\" d=\"M541.024,-171.992C530.023,-162.698 517.834,-152.4 506.379,-142.723\"/>\n",
       "<polygon fill=\"black\" stroke=\"black\" points=\"508.488,-139.922 498.59,-136.142 503.97,-145.27 508.488,-139.922\"/>\n",
       "</g>\n",
       "<!-- 79 -->\n",
       "<g id=\"node16\" class=\"node\"><title>79</title>\n",
       "<path fill=\"#e58139\" fill-opacity=\"0.027451\" stroke=\"black\" d=\"M701.454,-136C701.454,-136 570.001,-136 570.001,-136 564.001,-136 558.001,-130 558.001,-124 558.001,-124 558.001,-84 558.001,-84 558.001,-78 564.001,-72 570.001,-72 570.001,-72 701.454,-72 701.454,-72 707.454,-72 713.454,-78 713.454,-84 713.454,-84 713.454,-124 713.454,-124 713.454,-130 707.454,-136 701.454,-136\"/>\n",
       "<text text-anchor=\"start\" x=\"568.059\" y=\"-120.8\" font-family=\"Helvetica,sans-Serif\" font-size=\"14.00\">evening rate ≤ 0.0141</text>\n",
       "<text text-anchor=\"start\" x=\"565.864\" y=\"-106.8\" font-family=\"Helvetica,sans-Serif\" font-size=\"14.00\">mse = 108941500.279</text>\n",
       "<text text-anchor=\"start\" x=\"590.005\" y=\"-92.8\" font-family=\"Helvetica,sans-Serif\" font-size=\"14.00\">samples = 143</text>\n",
       "<text text-anchor=\"start\" x=\"578.442\" y=\"-78.8\" font-family=\"Helvetica,sans-Serif\" font-size=\"14.00\">value = 11618.014</text>\n",
       "</g>\n",
       "<!-- 35&#45;&gt;79 -->\n",
       "<g id=\"edge15\" class=\"edge\"><title>35&#45;&gt;79</title>\n",
       "<path fill=\"none\" stroke=\"black\" d=\"M596.079,-171.992C601.157,-163.413 606.74,-153.978 612.074,-144.966\"/>\n",
       "<polygon fill=\"black\" stroke=\"black\" points=\"615.215,-146.531 617.296,-136.142 609.191,-142.966 615.215,-146.531\"/>\n",
       "</g>\n",
       "<!-- 37 -->\n",
       "<g id=\"node14\" class=\"node\"><title>37</title>\n",
       "<path fill=\"#c0c0c0\" stroke=\"black\" d=\"M419.728,-36C419.728,-36 389.728,-36 389.728,-36 383.728,-36 377.728,-30 377.728,-24 377.728,-24 377.728,-12 377.728,-12 377.728,-6 383.728,-0 389.728,-0 389.728,-0 419.728,-0 419.728,-0 425.728,-0 431.728,-6 431.728,-12 431.728,-12 431.728,-24 431.728,-24 431.728,-30 425.728,-36 419.728,-36\"/>\n",
       "<text text-anchor=\"middle\" x=\"404.728\" y=\"-13.8\" font-family=\"Helvetica,sans-Serif\" font-size=\"14.00\">(...)</text>\n",
       "</g>\n",
       "<!-- 36&#45;&gt;37 -->\n",
       "<g id=\"edge13\" class=\"edge\"><title>36&#45;&gt;37</title>\n",
       "<path fill=\"none\" stroke=\"black\" d=\"M440.503,-71.7215C434.489,-62.8589 428.012,-53.3137 422.243,-44.813\"/>\n",
       "<polygon fill=\"black\" stroke=\"black\" points=\"425.049,-42.7144 416.538,-36.4049 419.257,-46.6449 425.049,-42.7144\"/>\n",
       "</g>\n",
       "<!-- 58 -->\n",
       "<g id=\"node15\" class=\"node\"><title>58</title>\n",
       "<path fill=\"#c0c0c0\" stroke=\"black\" d=\"M491.728,-36C491.728,-36 461.728,-36 461.728,-36 455.728,-36 449.728,-30 449.728,-24 449.728,-24 449.728,-12 449.728,-12 449.728,-6 455.728,-0 461.728,-0 461.728,-0 491.728,-0 491.728,-0 497.728,-0 503.728,-6 503.728,-12 503.728,-12 503.728,-24 503.728,-24 503.728,-30 497.728,-36 491.728,-36\"/>\n",
       "<text text-anchor=\"middle\" x=\"476.728\" y=\"-13.8\" font-family=\"Helvetica,sans-Serif\" font-size=\"14.00\">(...)</text>\n",
       "</g>\n",
       "<!-- 36&#45;&gt;58 -->\n",
       "<g id=\"edge14\" class=\"edge\"><title>36&#45;&gt;58</title>\n",
       "<path fill=\"none\" stroke=\"black\" d=\"M467.313,-71.7215C468.796,-63.4186 470.385,-54.5167 471.828,-46.4357\"/>\n",
       "<polygon fill=\"black\" stroke=\"black\" points=\"475.307,-46.8644 473.62,-36.4049 468.416,-45.6338 475.307,-46.8644\"/>\n",
       "</g>\n",
       "<!-- 80 -->\n",
       "<g id=\"node17\" class=\"node\"><title>80</title>\n",
       "<path fill=\"#c0c0c0\" stroke=\"black\" d=\"M614.728,-36C614.728,-36 584.728,-36 584.728,-36 578.728,-36 572.728,-30 572.728,-24 572.728,-24 572.728,-12 572.728,-12 572.728,-6 578.728,-0 584.728,-0 584.728,-0 614.728,-0 614.728,-0 620.728,-0 626.728,-6 626.728,-12 626.728,-12 626.728,-24 626.728,-24 626.728,-30 620.728,-36 614.728,-36\"/>\n",
       "<text text-anchor=\"middle\" x=\"599.728\" y=\"-13.8\" font-family=\"Helvetica,sans-Serif\" font-size=\"14.00\">(...)</text>\n",
       "</g>\n",
       "<!-- 79&#45;&gt;80 -->\n",
       "<g id=\"edge16\" class=\"edge\"><title>79&#45;&gt;80</title>\n",
       "<path fill=\"none\" stroke=\"black\" d=\"M622.322,-71.7215C618.644,-63.1388 614.691,-53.9159 611.137,-45.6214\"/>\n",
       "<polygon fill=\"black\" stroke=\"black\" points=\"614.343,-44.2176 607.187,-36.4049 607.909,-46.9751 614.343,-44.2176\"/>\n",
       "</g>\n",
       "<!-- 91 -->\n",
       "<g id=\"node18\" class=\"node\"><title>91</title>\n",
       "<path fill=\"#c0c0c0\" stroke=\"black\" d=\"M686.728,-36C686.728,-36 656.728,-36 656.728,-36 650.728,-36 644.728,-30 644.728,-24 644.728,-24 644.728,-12 644.728,-12 644.728,-6 650.728,-0 656.728,-0 656.728,-0 686.728,-0 686.728,-0 692.728,-0 698.728,-6 698.728,-12 698.728,-12 698.728,-24 698.728,-24 698.728,-30 692.728,-36 686.728,-36\"/>\n",
       "<text text-anchor=\"middle\" x=\"671.728\" y=\"-13.8\" font-family=\"Helvetica,sans-Serif\" font-size=\"14.00\">(...)</text>\n",
       "</g>\n",
       "<!-- 79&#45;&gt;91 -->\n",
       "<g id=\"edge17\" class=\"edge\"><title>79&#45;&gt;91</title>\n",
       "<path fill=\"none\" stroke=\"black\" d=\"M649.133,-71.7215C652.811,-63.1388 656.764,-53.9159 660.318,-45.6214\"/>\n",
       "<polygon fill=\"black\" stroke=\"black\" points=\"663.546,-46.9751 664.268,-36.4049 657.112,-44.2176 663.546,-46.9751\"/>\n",
       "</g>\n",
       "<!-- 113 -->\n",
       "<g id=\"node20\" class=\"node\"><title>113</title>\n",
       "<path fill=\"#e58139\" fill-opacity=\"0.003922\" stroke=\"black\" d=\"M1072.1,-236C1072.1,-236 943.352,-236 943.352,-236 937.352,-236 931.352,-230 931.352,-224 931.352,-224 931.352,-184 931.352,-184 931.352,-178 937.352,-172 943.352,-172 943.352,-172 1072.1,-172 1072.1,-172 1078.1,-172 1084.1,-178 1084.1,-184 1084.1,-184 1084.1,-224 1084.1,-224 1084.1,-230 1078.1,-236 1072.1,-236\"/>\n",
       "<text text-anchor=\"start\" x=\"939.29\" y=\"-220.8\" font-family=\"Helvetica,sans-Serif\" font-size=\"14.00\">morning rate ≤ 0.0334</text>\n",
       "<text text-anchor=\"start\" x=\"945.65\" y=\"-206.8\" font-family=\"Helvetica,sans-Serif\" font-size=\"14.00\">mse = 989098.9009</text>\n",
       "<text text-anchor=\"start\" x=\"962.005\" y=\"-192.8\" font-family=\"Helvetica,sans-Serif\" font-size=\"14.00\">samples = 232</text>\n",
       "<text text-anchor=\"start\" x=\"950.442\" y=\"-178.8\" font-family=\"Helvetica,sans-Serif\" font-size=\"14.00\">value = 1511.3534</text>\n",
       "</g>\n",
       "<!-- 112&#45;&gt;113 -->\n",
       "<g id=\"edge19\" class=\"edge\"><title>112&#45;&gt;113</title>\n",
       "<path fill=\"none\" stroke=\"black\" d=\"M1066.52,-271.992C1058.67,-263.055 1050.02,-253.191 1041.81,-243.842\"/>\n",
       "<polygon fill=\"black\" stroke=\"black\" points=\"1044.28,-241.35 1035.06,-236.142 1039.02,-245.967 1044.28,-241.35\"/>\n",
       "</g>\n",
       "<!-- 160 -->\n",
       "<g id=\"node27\" class=\"node\"><title>160</title>\n",
       "<path fill=\"#e58139\" fill-opacity=\"0.003922\" stroke=\"black\" d=\"M1243.4,-236C1243.4,-236 1114.06,-236 1114.06,-236 1108.06,-236 1102.06,-230 1102.06,-224 1102.06,-224 1102.06,-184 1102.06,-184 1102.06,-178 1108.06,-172 1114.06,-172 1114.06,-172 1243.4,-172 1243.4,-172 1249.4,-172 1255.4,-178 1255.4,-184 1255.4,-184 1255.4,-224 1255.4,-224 1255.4,-230 1249.4,-236 1243.4,-236\"/>\n",
       "<text text-anchor=\"start\" x=\"1109.89\" y=\"-220.8\" font-family=\"Helvetica,sans-Serif\" font-size=\"14.00\">afternoon rate ≤ 0.385</text>\n",
       "<text text-anchor=\"start\" x=\"1112.76\" y=\"-206.8\" font-family=\"Helvetica,sans-Serif\" font-size=\"14.00\">mse = 3189666.7384</text>\n",
       "<text text-anchor=\"start\" x=\"1133.01\" y=\"-192.8\" font-family=\"Helvetica,sans-Serif\" font-size=\"14.00\">samples = 195</text>\n",
       "<text text-anchor=\"start\" x=\"1120.93\" y=\"-178.8\" font-family=\"Helvetica,sans-Serif\" font-size=\"14.00\">value = 2360.1897</text>\n",
       "</g>\n",
       "<!-- 112&#45;&gt;160 -->\n",
       "<g id=\"edge26\" class=\"edge\"><title>112&#45;&gt;160</title>\n",
       "<path fill=\"none\" stroke=\"black\" d=\"M1120.62,-271.992C1128.37,-263.055 1136.93,-253.191 1145.04,-243.842\"/>\n",
       "<polygon fill=\"black\" stroke=\"black\" points=\"1147.81,-245.99 1151.72,-236.142 1142.52,-241.404 1147.81,-245.99\"/>\n",
       "</g>\n",
       "<!-- 114 -->\n",
       "<g id=\"node21\" class=\"node\"><title>114</title>\n",
       "<path fill=\"none\" stroke=\"black\" d=\"M901.41,-136C901.41,-136 744.045,-136 744.045,-136 738.045,-136 732.045,-130 732.045,-124 732.045,-124 732.045,-84 732.045,-84 732.045,-78 738.045,-72 744.045,-72 744.045,-72 901.41,-72 901.41,-72 907.41,-72 913.41,-78 913.41,-84 913.41,-84 913.41,-124 913.41,-124 913.41,-130 907.41,-136 901.41,-136\"/>\n",
       "<text text-anchor=\"start\" x=\"739.886\" y=\"-120.8\" font-family=\"Helvetica,sans-Serif\" font-size=\"14.00\">Tempbyduration ≤ 62.4221</text>\n",
       "<text text-anchor=\"start\" x=\"760.65\" y=\"-106.8\" font-family=\"Helvetica,sans-Serif\" font-size=\"14.00\">mse = 334785.9516</text>\n",
       "<text text-anchor=\"start\" x=\"780.898\" y=\"-92.8\" font-family=\"Helvetica,sans-Serif\" font-size=\"14.00\">samples = 79</text>\n",
       "<text text-anchor=\"start\" x=\"765.442\" y=\"-78.8\" font-family=\"Helvetica,sans-Serif\" font-size=\"14.00\">value = 1173.8481</text>\n",
       "</g>\n",
       "<!-- 113&#45;&gt;114 -->\n",
       "<g id=\"edge20\" class=\"edge\"><title>113&#45;&gt;114</title>\n",
       "<path fill=\"none\" stroke=\"black\" d=\"M949.192,-171.992C930.55,-162.117 909.77,-151.109 890.528,-140.916\"/>\n",
       "<polygon fill=\"black\" stroke=\"black\" points=\"891.992,-137.731 881.517,-136.142 888.715,-143.916 891.992,-137.731\"/>\n",
       "</g>\n",
       "<!-- 135 -->\n",
       "<g id=\"node24\" class=\"node\"><title>135</title>\n",
       "<path fill=\"#e58139\" fill-opacity=\"0.003922\" stroke=\"black\" d=\"M1072.1,-136C1072.1,-136 943.352,-136 943.352,-136 937.352,-136 931.352,-130 931.352,-124 931.352,-124 931.352,-84 931.352,-84 931.352,-78 937.352,-72 943.352,-72 943.352,-72 1072.1,-72 1072.1,-72 1078.1,-72 1084.1,-78 1084.1,-84 1084.1,-84 1084.1,-124 1084.1,-124 1084.1,-130 1078.1,-136 1072.1,-136\"/>\n",
       "<text text-anchor=\"start\" x=\"939.29\" y=\"-120.8\" font-family=\"Helvetica,sans-Serif\" font-size=\"14.00\">morning rate ≤ 0.2551</text>\n",
       "<text text-anchor=\"start\" x=\"942.273\" y=\"-106.8\" font-family=\"Helvetica,sans-Serif\" font-size=\"14.00\">mse = 1237761.4119</text>\n",
       "<text text-anchor=\"start\" x=\"962.005\" y=\"-92.8\" font-family=\"Helvetica,sans-Serif\" font-size=\"14.00\">samples = 153</text>\n",
       "<text text-anchor=\"start\" x=\"949.926\" y=\"-78.8\" font-family=\"Helvetica,sans-Serif\" font-size=\"14.00\">value = 1685.6209</text>\n",
       "</g>\n",
       "<!-- 113&#45;&gt;135 -->\n",
       "<g id=\"edge23\" class=\"edge\"><title>113&#45;&gt;135</title>\n",
       "<path fill=\"none\" stroke=\"black\" d=\"M1007.73,-171.992C1007.73,-163.859 1007.73,-154.959 1007.73,-146.378\"/>\n",
       "<polygon fill=\"black\" stroke=\"black\" points=\"1011.23,-146.142 1007.73,-136.142 1004.23,-146.142 1011.23,-146.142\"/>\n",
       "</g>\n",
       "<!-- 115 -->\n",
       "<g id=\"node22\" class=\"node\"><title>115</title>\n",
       "<path fill=\"#c0c0c0\" stroke=\"black\" d=\"M826.728,-36C826.728,-36 796.728,-36 796.728,-36 790.728,-36 784.728,-30 784.728,-24 784.728,-24 784.728,-12 784.728,-12 784.728,-6 790.728,-0 796.728,-0 796.728,-0 826.728,-0 826.728,-0 832.728,-0 838.728,-6 838.728,-12 838.728,-12 838.728,-24 838.728,-24 838.728,-30 832.728,-36 826.728,-36\"/>\n",
       "<text text-anchor=\"middle\" x=\"811.728\" y=\"-13.8\" font-family=\"Helvetica,sans-Serif\" font-size=\"14.00\">(...)</text>\n",
       "</g>\n",
       "<!-- 114&#45;&gt;115 -->\n",
       "<g id=\"edge21\" class=\"edge\"><title>114&#45;&gt;115</title>\n",
       "<path fill=\"none\" stroke=\"black\" d=\"M818.632,-71.7215C817.544,-63.4186 816.379,-54.5167 815.32,-46.4357\"/>\n",
       "<polygon fill=\"black\" stroke=\"black\" points=\"818.776,-45.8657 814.007,-36.4049 811.835,-46.7747 818.776,-45.8657\"/>\n",
       "</g>\n",
       "<!-- 130 -->\n",
       "<g id=\"node23\" class=\"node\"><title>130</title>\n",
       "<path fill=\"#c0c0c0\" stroke=\"black\" d=\"M898.728,-36C898.728,-36 868.728,-36 868.728,-36 862.728,-36 856.728,-30 856.728,-24 856.728,-24 856.728,-12 856.728,-12 856.728,-6 862.728,-0 868.728,-0 868.728,-0 898.728,-0 898.728,-0 904.728,-0 910.728,-6 910.728,-12 910.728,-12 910.728,-24 910.728,-24 910.728,-30 904.728,-36 898.728,-36\"/>\n",
       "<text text-anchor=\"middle\" x=\"883.728\" y=\"-13.8\" font-family=\"Helvetica,sans-Serif\" font-size=\"14.00\">(...)</text>\n",
       "</g>\n",
       "<!-- 114&#45;&gt;130 -->\n",
       "<g id=\"edge22\" class=\"edge\"><title>114&#45;&gt;130</title>\n",
       "<path fill=\"none\" stroke=\"black\" d=\"M845.442,-71.7215C851.945,-62.7656 858.955,-53.1127 865.177,-44.5449\"/>\n",
       "<polygon fill=\"black\" stroke=\"black\" points=\"868.044,-46.553 871.088,-36.4049 862.38,-42.4398 868.044,-46.553\"/>\n",
       "</g>\n",
       "<!-- 136 -->\n",
       "<g id=\"node25\" class=\"node\"><title>136</title>\n",
       "<path fill=\"#c0c0c0\" stroke=\"black\" d=\"M976.728,-36C976.728,-36 946.728,-36 946.728,-36 940.728,-36 934.728,-30 934.728,-24 934.728,-24 934.728,-12 934.728,-12 934.728,-6 940.728,-0 946.728,-0 946.728,-0 976.728,-0 976.728,-0 982.728,-0 988.728,-6 988.728,-12 988.728,-12 988.728,-24 988.728,-24 988.728,-30 982.728,-36 976.728,-36\"/>\n",
       "<text text-anchor=\"middle\" x=\"961.728\" y=\"-13.8\" font-family=\"Helvetica,sans-Serif\" font-size=\"14.00\">(...)</text>\n",
       "</g>\n",
       "<!-- 135&#45;&gt;136 -->\n",
       "<g id=\"edge24\" class=\"edge\"><title>135&#45;&gt;136</title>\n",
       "<path fill=\"none\" stroke=\"black\" d=\"M990.599,-71.7215C985.848,-63.0455 980.738,-53.7153 976.158,-45.3513\"/>\n",
       "<polygon fill=\"black\" stroke=\"black\" points=\"979.132,-43.4947 971.259,-36.4049 972.992,-46.8569 979.132,-43.4947\"/>\n",
       "</g>\n",
       "<!-- 143 -->\n",
       "<g id=\"node26\" class=\"node\"><title>143</title>\n",
       "<path fill=\"#c0c0c0\" stroke=\"black\" d=\"M1048.73,-36C1048.73,-36 1018.73,-36 1018.73,-36 1012.73,-36 1006.73,-30 1006.73,-24 1006.73,-24 1006.73,-12 1006.73,-12 1006.73,-6 1012.73,-0 1018.73,-0 1018.73,-0 1048.73,-0 1048.73,-0 1054.73,-0 1060.73,-6 1060.73,-12 1060.73,-12 1060.73,-24 1060.73,-24 1060.73,-30 1054.73,-36 1048.73,-36\"/>\n",
       "<text text-anchor=\"middle\" x=\"1033.73\" y=\"-13.8\" font-family=\"Helvetica,sans-Serif\" font-size=\"14.00\">(...)</text>\n",
       "</g>\n",
       "<!-- 135&#45;&gt;143 -->\n",
       "<g id=\"edge25\" class=\"edge\"><title>135&#45;&gt;143</title>\n",
       "<path fill=\"none\" stroke=\"black\" d=\"M1017.41,-71.7215C1020.01,-63.3253 1022.8,-54.3166 1025.32,-46.1636\"/>\n",
       "<polygon fill=\"black\" stroke=\"black\" points=\"1028.73,-46.9926 1028.34,-36.4049 1022.04,-44.9228 1028.73,-46.9926\"/>\n",
       "</g>\n",
       "<!-- 161 -->\n",
       "<g id=\"node28\" class=\"node\"><title>161</title>\n",
       "<path fill=\"#e58139\" fill-opacity=\"0.003922\" stroke=\"black\" d=\"M1241.57,-136C1241.57,-136 1113.89,-136 1113.89,-136 1107.89,-136 1101.89,-130 1101.89,-124 1101.89,-124 1101.89,-84 1101.89,-84 1101.89,-78 1107.89,-72 1113.89,-72 1113.89,-72 1241.57,-72 1241.57,-72 1247.57,-72 1253.57,-78 1253.57,-84 1253.57,-84 1253.57,-124 1253.57,-124 1253.57,-130 1247.57,-136 1241.57,-136\"/>\n",
       "<text text-anchor=\"start\" x=\"1110.06\" y=\"-120.8\" font-family=\"Helvetica,sans-Serif\" font-size=\"14.00\">evening rate ≤ 0.1663</text>\n",
       "<text text-anchor=\"start\" x=\"1111.76\" y=\"-106.8\" font-family=\"Helvetica,sans-Serif\" font-size=\"14.00\">mse = 2643818.3361</text>\n",
       "<text text-anchor=\"start\" x=\"1135.9\" y=\"-92.8\" font-family=\"Helvetica,sans-Serif\" font-size=\"14.00\">samples = 89</text>\n",
       "<text text-anchor=\"start\" x=\"1119.93\" y=\"-78.8\" font-family=\"Helvetica,sans-Serif\" font-size=\"14.00\">value = 2951.4382</text>\n",
       "</g>\n",
       "<!-- 160&#45;&gt;161 -->\n",
       "<g id=\"edge27\" class=\"edge\"><title>160&#45;&gt;161</title>\n",
       "<path fill=\"none\" stroke=\"black\" d=\"M1178.41,-171.992C1178.33,-163.859 1178.24,-154.959 1178.15,-146.378\"/>\n",
       "<polygon fill=\"black\" stroke=\"black\" points=\"1181.65,-146.106 1178.05,-136.142 1174.65,-146.178 1181.65,-146.106\"/>\n",
       "</g>\n",
       "<!-- 180 -->\n",
       "<g id=\"node31\" class=\"node\"><title>180</title>\n",
       "<path fill=\"#e58139\" fill-opacity=\"0.003922\" stroke=\"black\" d=\"M1418.05,-136C1418.05,-136 1283.4,-136 1283.4,-136 1277.4,-136 1271.4,-130 1271.4,-124 1271.4,-124 1271.4,-84 1271.4,-84 1271.4,-78 1277.4,-72 1283.4,-72 1283.4,-72 1418.05,-72 1418.05,-72 1424.05,-72 1430.05,-78 1430.05,-84 1430.05,-84 1430.05,-124 1430.05,-124 1430.05,-130 1424.05,-136 1418.05,-136\"/>\n",
       "<text text-anchor=\"start\" x=\"1279.57\" y=\"-120.8\" font-family=\"Helvetica,sans-Serif\" font-size=\"14.00\">Tempbyduration ≤ 65.1</text>\n",
       "<text text-anchor=\"start\" x=\"1284.76\" y=\"-106.8\" font-family=\"Helvetica,sans-Serif\" font-size=\"14.00\">mse = 3108024.1802</text>\n",
       "<text text-anchor=\"start\" x=\"1305.01\" y=\"-92.8\" font-family=\"Helvetica,sans-Serif\" font-size=\"14.00\">samples = 106</text>\n",
       "<text text-anchor=\"start\" x=\"1292.93\" y=\"-78.8\" font-family=\"Helvetica,sans-Serif\" font-size=\"14.00\">value = 1863.7642</text>\n",
       "</g>\n",
       "<!-- 160&#45;&gt;180 -->\n",
       "<g id=\"edge30\" class=\"edge\"><title>160&#45;&gt;180</title>\n",
       "<path fill=\"none\" stroke=\"black\" d=\"M1233.15,-171.992C1250.25,-162.251 1269.28,-151.408 1286.96,-141.332\"/>\n",
       "<polygon fill=\"black\" stroke=\"black\" points=\"1289.11,-144.134 1296.07,-136.142 1285.65,-138.052 1289.11,-144.134\"/>\n",
       "</g>\n",
       "<!-- 162 -->\n",
       "<g id=\"node29\" class=\"node\"><title>162</title>\n",
       "<path fill=\"#c0c0c0\" stroke=\"black\" d=\"M1132.73,-36C1132.73,-36 1102.73,-36 1102.73,-36 1096.73,-36 1090.73,-30 1090.73,-24 1090.73,-24 1090.73,-12 1090.73,-12 1090.73,-6 1096.73,-0 1102.73,-0 1102.73,-0 1132.73,-0 1132.73,-0 1138.73,-0 1144.73,-6 1144.73,-12 1144.73,-12 1144.73,-24 1144.73,-24 1144.73,-30 1138.73,-36 1132.73,-36\"/>\n",
       "<text text-anchor=\"middle\" x=\"1117.73\" y=\"-13.8\" font-family=\"Helvetica,sans-Serif\" font-size=\"14.00\">(...)</text>\n",
       "</g>\n",
       "<!-- 161&#45;&gt;162 -->\n",
       "<g id=\"edge28\" class=\"edge\"><title>161&#45;&gt;162</title>\n",
       "<path fill=\"none\" stroke=\"black\" d=\"M1155.39,-71.7215C1148.99,-62.7656 1142.09,-53.1127 1135.97,-44.5449\"/>\n",
       "<polygon fill=\"black\" stroke=\"black\" points=\"1138.82,-42.5079 1130.16,-36.4049 1133.12,-46.5766 1138.82,-42.5079\"/>\n",
       "</g>\n",
       "<!-- 167 -->\n",
       "<g id=\"node30\" class=\"node\"><title>167</title>\n",
       "<path fill=\"#c0c0c0\" stroke=\"black\" d=\"M1204.73,-36C1204.73,-36 1174.73,-36 1174.73,-36 1168.73,-36 1162.73,-30 1162.73,-24 1162.73,-24 1162.73,-12 1162.73,-12 1162.73,-6 1168.73,-0 1174.73,-0 1174.73,-0 1204.73,-0 1204.73,-0 1210.73,-0 1216.73,-6 1216.73,-12 1216.73,-12 1216.73,-24 1216.73,-24 1216.73,-30 1210.73,-36 1204.73,-36\"/>\n",
       "<text text-anchor=\"middle\" x=\"1189.73\" y=\"-13.8\" font-family=\"Helvetica,sans-Serif\" font-size=\"14.00\">(...)</text>\n",
       "</g>\n",
       "<!-- 161&#45;&gt;167 -->\n",
       "<g id=\"edge29\" class=\"edge\"><title>161&#45;&gt;167</title>\n",
       "<path fill=\"none\" stroke=\"black\" d=\"M1182.2,-71.7215C1183.38,-63.4186 1184.65,-54.5167 1185.81,-46.4357\"/>\n",
       "<polygon fill=\"black\" stroke=\"black\" points=\"1189.29,-46.7994 1187.24,-36.4049 1182.36,-45.8093 1189.29,-46.7994\"/>\n",
       "</g>\n",
       "<!-- 181 -->\n",
       "<g id=\"node32\" class=\"node\"><title>181</title>\n",
       "<path fill=\"#c0c0c0\" stroke=\"black\" d=\"M1308.73,-36C1308.73,-36 1278.73,-36 1278.73,-36 1272.73,-36 1266.73,-30 1266.73,-24 1266.73,-24 1266.73,-12 1266.73,-12 1266.73,-6 1272.73,-0 1278.73,-0 1278.73,-0 1308.73,-0 1308.73,-0 1314.73,-0 1320.73,-6 1320.73,-12 1320.73,-12 1320.73,-24 1320.73,-24 1320.73,-30 1314.73,-36 1308.73,-36\"/>\n",
       "<text text-anchor=\"middle\" x=\"1293.73\" y=\"-13.8\" font-family=\"Helvetica,sans-Serif\" font-size=\"14.00\">(...)</text>\n",
       "</g>\n",
       "<!-- 180&#45;&gt;181 -->\n",
       "<g id=\"edge31\" class=\"edge\"><title>180&#45;&gt;181</title>\n",
       "<path fill=\"none\" stroke=\"black\" d=\"M1329.5,-71.7215C1323.49,-62.8589 1317.01,-53.3137 1311.24,-44.813\"/>\n",
       "<polygon fill=\"black\" stroke=\"black\" points=\"1314.05,-42.7144 1305.54,-36.4049 1308.26,-46.6449 1314.05,-42.7144\"/>\n",
       "</g>\n",
       "<!-- 198 -->\n",
       "<g id=\"node33\" class=\"node\"><title>198</title>\n",
       "<path fill=\"#c0c0c0\" stroke=\"black\" d=\"M1380.73,-36C1380.73,-36 1350.73,-36 1350.73,-36 1344.73,-36 1338.73,-30 1338.73,-24 1338.73,-24 1338.73,-12 1338.73,-12 1338.73,-6 1344.73,-0 1350.73,-0 1350.73,-0 1380.73,-0 1380.73,-0 1386.73,-0 1392.73,-6 1392.73,-12 1392.73,-12 1392.73,-24 1392.73,-24 1392.73,-30 1386.73,-36 1380.73,-36\"/>\n",
       "<text text-anchor=\"middle\" x=\"1365.73\" y=\"-13.8\" font-family=\"Helvetica,sans-Serif\" font-size=\"14.00\">(...)</text>\n",
       "</g>\n",
       "<!-- 180&#45;&gt;198 -->\n",
       "<g id=\"edge32\" class=\"edge\"><title>180&#45;&gt;198</title>\n",
       "<path fill=\"none\" stroke=\"black\" d=\"M1356.31,-71.7215C1357.8,-63.4186 1359.39,-54.5167 1360.83,-46.4357\"/>\n",
       "<polygon fill=\"black\" stroke=\"black\" points=\"1364.31,-46.8644 1362.62,-36.4049 1357.42,-45.6338 1364.31,-46.8644\"/>\n",
       "</g>\n",
       "<!-- 208 -->\n",
       "<g id=\"node35\" class=\"node\"><title>208</title>\n",
       "<path fill=\"#e58139\" fill-opacity=\"0.023529\" stroke=\"black\" d=\"M2082.25,-336C2082.25,-336 1901.2,-336 1901.2,-336 1895.2,-336 1889.2,-330 1889.2,-324 1889.2,-324 1889.2,-284 1889.2,-284 1889.2,-278 1895.2,-272 1901.2,-272 1901.2,-272 2082.25,-272 2082.25,-272 2088.25,-272 2094.25,-278 2094.25,-284 2094.25,-284 2094.25,-324 2094.25,-324 2094.25,-330 2088.25,-336 2082.25,-336\"/>\n",
       "<text text-anchor=\"start\" x=\"1897.21\" y=\"-320.8\" font-family=\"Helvetica,sans-Serif\" font-size=\"14.00\">end_crime_score ≤ 2581.5024</text>\n",
       "<text text-anchor=\"start\" x=\"1922.9\" y=\"-306.8\" font-family=\"Helvetica,sans-Serif\" font-size=\"14.00\">mse = 311416414.511</text>\n",
       "<text text-anchor=\"start\" x=\"1946.01\" y=\"-292.8\" font-family=\"Helvetica,sans-Serif\" font-size=\"14.00\">samples = 429</text>\n",
       "<text text-anchor=\"start\" x=\"1930.03\" y=\"-278.8\" font-family=\"Helvetica,sans-Serif\" font-size=\"14.00\">value = 10401.4289</text>\n",
       "</g>\n",
       "<!-- 207&#45;&gt;208 -->\n",
       "<g id=\"edge34\" class=\"edge\"><title>207&#45;&gt;208</title>\n",
       "<path fill=\"none\" stroke=\"black\" d=\"M2127.76,-371.992C2107.53,-362.027 2084.95,-350.91 2064.1,-340.64\"/>\n",
       "<polygon fill=\"black\" stroke=\"black\" points=\"2065.48,-337.421 2054.97,-336.142 2062.39,-343.7 2065.48,-337.421\"/>\n",
       "</g>\n",
       "<!-- 277 -->\n",
       "<g id=\"node50\" class=\"node\"><title>277</title>\n",
       "<path fill=\"#e58139\" fill-opacity=\"0.101961\" stroke=\"black\" d=\"M2458.77,-336C2458.77,-336 2318.68,-336 2318.68,-336 2312.68,-336 2306.68,-330 2306.68,-324 2306.68,-324 2306.68,-284 2306.68,-284 2306.68,-278 2312.68,-272 2318.68,-272 2318.68,-272 2458.77,-272 2458.77,-272 2464.77,-272 2470.77,-278 2470.77,-284 2470.77,-284 2470.77,-324 2470.77,-324 2470.77,-330 2464.77,-336 2458.77,-336\"/>\n",
       "<text text-anchor=\"start\" x=\"2314.46\" y=\"-320.8\" font-family=\"Helvetica,sans-Serif\" font-size=\"14.00\">Humibyduration ≤ 0.503</text>\n",
       "<text text-anchor=\"start\" x=\"2319.9\" y=\"-306.8\" font-family=\"Helvetica,sans-Serif\" font-size=\"14.00\">mse = 1169411331.51</text>\n",
       "<text text-anchor=\"start\" x=\"2343.01\" y=\"-292.8\" font-family=\"Helvetica,sans-Serif\" font-size=\"14.00\">samples = 419</text>\n",
       "<text text-anchor=\"start\" x=\"2331.44\" y=\"-278.8\" font-family=\"Helvetica,sans-Serif\" font-size=\"14.00\">value = 40911.957</text>\n",
       "</g>\n",
       "<!-- 207&#45;&gt;277 -->\n",
       "<g id=\"edge49\" class=\"edge\"><title>207&#45;&gt;277</title>\n",
       "<path fill=\"none\" stroke=\"black\" d=\"M2253.38,-371.992C2273.51,-362.027 2295.97,-350.91 2316.72,-340.64\"/>\n",
       "<polygon fill=\"black\" stroke=\"black\" points=\"2318.4,-343.715 2325.81,-336.142 2315.29,-337.442 2318.4,-343.715\"/>\n",
       "</g>\n",
       "<!-- 209 -->\n",
       "<g id=\"node36\" class=\"node\"><title>209</title>\n",
       "<path fill=\"#e58139\" fill-opacity=\"0.019608\" stroke=\"black\" d=\"M1767.71,-236C1767.71,-236 1621.74,-236 1621.74,-236 1615.74,-236 1609.74,-230 1609.74,-224 1609.74,-224 1609.74,-184 1609.74,-184 1609.74,-178 1615.74,-172 1621.74,-172 1621.74,-172 1767.71,-172 1767.71,-172 1773.71,-172 1779.71,-178 1779.71,-184 1779.71,-184 1779.71,-224 1779.71,-224 1779.71,-230 1773.71,-236 1767.71,-236\"/>\n",
       "<text text-anchor=\"start\" x=\"1617.73\" y=\"-220.8\" font-family=\"Helvetica,sans-Serif\" font-size=\"14.00\">subscriber ratio ≤ 0.9865</text>\n",
       "<text text-anchor=\"start\" x=\"1624.86\" y=\"-206.8\" font-family=\"Helvetica,sans-Serif\" font-size=\"14.00\">mse = 65520224.5087</text>\n",
       "<text text-anchor=\"start\" x=\"1649.01\" y=\"-192.8\" font-family=\"Helvetica,sans-Serif\" font-size=\"14.00\">samples = 406</text>\n",
       "<text text-anchor=\"start\" x=\"1636.93\" y=\"-178.8\" font-family=\"Helvetica,sans-Serif\" font-size=\"14.00\">value = 7740.1823</text>\n",
       "</g>\n",
       "<!-- 208&#45;&gt;209 -->\n",
       "<g id=\"edge35\" class=\"edge\"><title>208&#45;&gt;209</title>\n",
       "<path fill=\"none\" stroke=\"black\" d=\"M1897.75,-271.992C1863.27,-260.613 1824.23,-247.731 1789.66,-236.324\"/>\n",
       "<polygon fill=\"black\" stroke=\"black\" points=\"1790.63,-232.958 1780.03,-233.149 1788.43,-239.606 1790.63,-232.958\"/>\n",
       "</g>\n",
       "<!-- 270 -->\n",
       "<g id=\"node43\" class=\"node\"><title>270</title>\n",
       "<path fill=\"#e58139\" fill-opacity=\"0.141176\" stroke=\"black\" d=\"M2064.71,-236C2064.71,-236 1918.74,-236 1918.74,-236 1912.74,-236 1906.74,-230 1906.74,-224 1906.74,-224 1906.74,-184 1906.74,-184 1906.74,-178 1912.74,-172 1918.74,-172 1918.74,-172 2064.71,-172 2064.71,-172 2070.71,-172 2076.71,-178 2076.71,-184 2076.71,-184 2076.71,-224 2076.71,-224 2076.71,-230 2070.71,-236 2064.71,-236\"/>\n",
       "<text text-anchor=\"start\" x=\"1914.73\" y=\"-220.8\" font-family=\"Helvetica,sans-Serif\" font-size=\"14.00\">subscriber ratio ≤ 0.8863</text>\n",
       "<text text-anchor=\"start\" x=\"1925.76\" y=\"-206.8\" font-family=\"Helvetica,sans-Serif\" font-size=\"14.00\">mse = 2320183248.0</text>\n",
       "<text text-anchor=\"start\" x=\"1949.9\" y=\"-192.8\" font-family=\"Helvetica,sans-Serif\" font-size=\"14.00\">samples = 23</text>\n",
       "<text text-anchor=\"start\" x=\"1930.03\" y=\"-178.8\" font-family=\"Helvetica,sans-Serif\" font-size=\"14.00\">value = 57378.2174</text>\n",
       "</g>\n",
       "<!-- 208&#45;&gt;270 -->\n",
       "<g id=\"edge42\" class=\"edge\"><title>208&#45;&gt;270</title>\n",
       "<path fill=\"none\" stroke=\"black\" d=\"M1991.73,-271.992C1991.73,-263.859 1991.73,-254.959 1991.73,-246.378\"/>\n",
       "<polygon fill=\"black\" stroke=\"black\" points=\"1995.23,-246.142 1991.73,-236.142 1988.23,-246.142 1995.23,-246.142\"/>\n",
       "</g>\n",
       "<!-- 210 -->\n",
       "<g id=\"node37\" class=\"node\"><title>210</title>\n",
       "<path fill=\"#e58139\" fill-opacity=\"0.023529\" stroke=\"black\" d=\"M1591.45,-136C1591.45,-136 1460,-136 1460,-136 1454,-136 1448,-130 1448,-124 1448,-124 1448,-84 1448,-84 1448,-78 1454,-72 1460,-72 1460,-72 1591.45,-72 1591.45,-72 1597.45,-72 1603.45,-78 1603.45,-84 1603.45,-84 1603.45,-124 1603.45,-124 1603.45,-130 1597.45,-136 1591.45,-136\"/>\n",
       "<text text-anchor=\"start\" x=\"1467.4\" y=\"-120.8\" font-family=\"Helvetica,sans-Serif\" font-size=\"14.00\">night rate ≤ 0.0312</text>\n",
       "<text text-anchor=\"start\" x=\"1455.86\" y=\"-106.8\" font-family=\"Helvetica,sans-Serif\" font-size=\"14.00\">mse = 80444689.9835</text>\n",
       "<text text-anchor=\"start\" x=\"1480.01\" y=\"-92.8\" font-family=\"Helvetica,sans-Serif\" font-size=\"14.00\">samples = 258</text>\n",
       "<text text-anchor=\"start\" x=\"1464.03\" y=\"-78.8\" font-family=\"Helvetica,sans-Serif\" font-size=\"14.00\">value = 10371.5543</text>\n",
       "</g>\n",
       "<!-- 209&#45;&gt;210 -->\n",
       "<g id=\"edge36\" class=\"edge\"><title>209&#45;&gt;210</title>\n",
       "<path fill=\"none\" stroke=\"black\" d=\"M1641.25,-171.992C1624.46,-162.251 1605.76,-151.408 1588.38,-141.332\"/>\n",
       "<polygon fill=\"black\" stroke=\"black\" points=\"1589.84,-138.131 1579.43,-136.142 1586.33,-144.187 1589.84,-138.131\"/>\n",
       "</g>\n",
       "<!-- 241 -->\n",
       "<g id=\"node40\" class=\"node\"><title>241</title>\n",
       "<path fill=\"#e58139\" fill-opacity=\"0.007843\" stroke=\"black\" d=\"M1756.14,-136C1756.14,-136 1633.32,-136 1633.32,-136 1627.32,-136 1621.32,-130 1621.32,-124 1621.32,-124 1621.32,-84 1621.32,-84 1621.32,-78 1627.32,-72 1633.32,-72 1633.32,-72 1756.14,-72 1756.14,-72 1762.14,-72 1768.14,-78 1768.14,-84 1768.14,-84 1768.14,-124 1768.14,-124 1768.14,-130 1762.14,-136 1756.14,-136\"/>\n",
       "<text text-anchor=\"start\" x=\"1636.4\" y=\"-120.8\" font-family=\"Helvetica,sans-Serif\" font-size=\"14.00\">night rate ≤ 0.0657</text>\n",
       "<text text-anchor=\"start\" x=\"1629.27\" y=\"-106.8\" font-family=\"Helvetica,sans-Serif\" font-size=\"14.00\">mse = 6391144.7193</text>\n",
       "<text text-anchor=\"start\" x=\"1649.01\" y=\"-92.8\" font-family=\"Helvetica,sans-Serif\" font-size=\"14.00\">samples = 148</text>\n",
       "<text text-anchor=\"start\" x=\"1636.93\" y=\"-78.8\" font-family=\"Helvetica,sans-Serif\" font-size=\"14.00\">value = 3153.0608</text>\n",
       "</g>\n",
       "<!-- 209&#45;&gt;241 -->\n",
       "<g id=\"edge39\" class=\"edge\"><title>209&#45;&gt;241</title>\n",
       "<path fill=\"none\" stroke=\"black\" d=\"M1694.73,-171.992C1694.73,-163.859 1694.73,-154.959 1694.73,-146.378\"/>\n",
       "<polygon fill=\"black\" stroke=\"black\" points=\"1698.23,-146.142 1694.73,-136.142 1691.23,-146.142 1698.23,-146.142\"/>\n",
       "</g>\n",
       "<!-- 211 -->\n",
       "<g id=\"node38\" class=\"node\"><title>211</title>\n",
       "<path fill=\"#c0c0c0\" stroke=\"black\" d=\"M1480.73,-36C1480.73,-36 1450.73,-36 1450.73,-36 1444.73,-36 1438.73,-30 1438.73,-24 1438.73,-24 1438.73,-12 1438.73,-12 1438.73,-6 1444.73,-0 1450.73,-0 1450.73,-0 1480.73,-0 1480.73,-0 1486.73,-0 1492.73,-6 1492.73,-12 1492.73,-12 1492.73,-24 1492.73,-24 1492.73,-30 1486.73,-36 1480.73,-36\"/>\n",
       "<text text-anchor=\"middle\" x=\"1465.73\" y=\"-13.8\" font-family=\"Helvetica,sans-Serif\" font-size=\"14.00\">(...)</text>\n",
       "</g>\n",
       "<!-- 210&#45;&gt;211 -->\n",
       "<g id=\"edge37\" class=\"edge\"><title>210&#45;&gt;211</title>\n",
       "<path fill=\"none\" stroke=\"black\" d=\"M1503.39,-71.7215C1496.99,-62.7656 1490.09,-53.1127 1483.97,-44.5449\"/>\n",
       "<polygon fill=\"black\" stroke=\"black\" points=\"1486.82,-42.5079 1478.16,-36.4049 1481.12,-46.5766 1486.82,-42.5079\"/>\n",
       "</g>\n",
       "<!-- 218 -->\n",
       "<g id=\"node39\" class=\"node\"><title>218</title>\n",
       "<path fill=\"#c0c0c0\" stroke=\"black\" d=\"M1552.73,-36C1552.73,-36 1522.73,-36 1522.73,-36 1516.73,-36 1510.73,-30 1510.73,-24 1510.73,-24 1510.73,-12 1510.73,-12 1510.73,-6 1516.73,-0 1522.73,-0 1522.73,-0 1552.73,-0 1552.73,-0 1558.73,-0 1564.73,-6 1564.73,-12 1564.73,-12 1564.73,-24 1564.73,-24 1564.73,-30 1558.73,-36 1552.73,-36\"/>\n",
       "<text text-anchor=\"middle\" x=\"1537.73\" y=\"-13.8\" font-family=\"Helvetica,sans-Serif\" font-size=\"14.00\">(...)</text>\n",
       "</g>\n",
       "<!-- 210&#45;&gt;218 -->\n",
       "<g id=\"edge38\" class=\"edge\"><title>210&#45;&gt;218</title>\n",
       "<path fill=\"none\" stroke=\"black\" d=\"M1530.2,-71.7215C1531.38,-63.4186 1532.65,-54.5167 1533.81,-46.4357\"/>\n",
       "<polygon fill=\"black\" stroke=\"black\" points=\"1537.29,-46.7994 1535.24,-36.4049 1530.36,-45.8093 1537.29,-46.7994\"/>\n",
       "</g>\n",
       "<!-- 242 -->\n",
       "<g id=\"node41\" class=\"node\"><title>242</title>\n",
       "<path fill=\"#c0c0c0\" stroke=\"black\" d=\"M1673.73,-36C1673.73,-36 1643.73,-36 1643.73,-36 1637.73,-36 1631.73,-30 1631.73,-24 1631.73,-24 1631.73,-12 1631.73,-12 1631.73,-6 1637.73,-0 1643.73,-0 1643.73,-0 1673.73,-0 1673.73,-0 1679.73,-0 1685.73,-6 1685.73,-12 1685.73,-12 1685.73,-24 1685.73,-24 1685.73,-30 1679.73,-36 1673.73,-36\"/>\n",
       "<text text-anchor=\"middle\" x=\"1658.73\" y=\"-13.8\" font-family=\"Helvetica,sans-Serif\" font-size=\"14.00\">(...)</text>\n",
       "</g>\n",
       "<!-- 241&#45;&gt;242 -->\n",
       "<g id=\"edge40\" class=\"edge\"><title>241&#45;&gt;242</title>\n",
       "<path fill=\"none\" stroke=\"black\" d=\"M1681.32,-71.7215C1677.64,-63.1388 1673.69,-53.9159 1670.14,-45.6214\"/>\n",
       "<polygon fill=\"black\" stroke=\"black\" points=\"1673.34,-44.2176 1666.19,-36.4049 1666.91,-46.9751 1673.34,-44.2176\"/>\n",
       "</g>\n",
       "<!-- 247 -->\n",
       "<g id=\"node42\" class=\"node\"><title>247</title>\n",
       "<path fill=\"#c0c0c0\" stroke=\"black\" d=\"M1745.73,-36C1745.73,-36 1715.73,-36 1715.73,-36 1709.73,-36 1703.73,-30 1703.73,-24 1703.73,-24 1703.73,-12 1703.73,-12 1703.73,-6 1709.73,-0 1715.73,-0 1715.73,-0 1745.73,-0 1745.73,-0 1751.73,-0 1757.73,-6 1757.73,-12 1757.73,-12 1757.73,-24 1757.73,-24 1757.73,-30 1751.73,-36 1745.73,-36\"/>\n",
       "<text text-anchor=\"middle\" x=\"1730.73\" y=\"-13.8\" font-family=\"Helvetica,sans-Serif\" font-size=\"14.00\">(...)</text>\n",
       "</g>\n",
       "<!-- 241&#45;&gt;247 -->\n",
       "<g id=\"edge41\" class=\"edge\"><title>241&#45;&gt;247</title>\n",
       "<path fill=\"none\" stroke=\"black\" d=\"M1708.13,-71.7215C1711.81,-63.1388 1715.76,-53.9159 1719.32,-45.6214\"/>\n",
       "<polygon fill=\"black\" stroke=\"black\" points=\"1722.55,-46.9751 1723.27,-36.4049 1716.11,-44.2176 1722.55,-46.9751\"/>\n",
       "</g>\n",
       "<!-- 271 -->\n",
       "<g id=\"node44\" class=\"node\"><title>271</title>\n",
       "<path fill=\"#e58139\" fill-opacity=\"0.231373\" stroke=\"black\" d=\"M1979.25,-136C1979.25,-136 1798.2,-136 1798.2,-136 1792.2,-136 1786.2,-130 1786.2,-124 1786.2,-124 1786.2,-84 1786.2,-84 1786.2,-78 1792.2,-72 1798.2,-72 1798.2,-72 1979.25,-72 1979.25,-72 1985.25,-72 1991.25,-78 1991.25,-84 1991.25,-84 1991.25,-124 1991.25,-124 1991.25,-130 1985.25,-136 1979.25,-136\"/>\n",
       "<text text-anchor=\"start\" x=\"1794.21\" y=\"-120.8\" font-family=\"Helvetica,sans-Serif\" font-size=\"14.00\">end_crime_score ≤ 2775.2192</text>\n",
       "<text text-anchor=\"start\" x=\"1818.86\" y=\"-106.8\" font-family=\"Helvetica,sans-Serif\" font-size=\"14.00\">mse = 2944083613.96</text>\n",
       "<text text-anchor=\"start\" x=\"1846.9\" y=\"-92.8\" font-family=\"Helvetica,sans-Serif\" font-size=\"14.00\">samples = 10</text>\n",
       "<text text-anchor=\"start\" x=\"1838.71\" y=\"-78.8\" font-family=\"Helvetica,sans-Serif\" font-size=\"14.00\">value = 92645.2</text>\n",
       "</g>\n",
       "<!-- 270&#45;&gt;271 -->\n",
       "<g id=\"edge43\" class=\"edge\"><title>270&#45;&gt;271</title>\n",
       "<path fill=\"none\" stroke=\"black\" d=\"M1959.14,-171.992C1949.56,-162.876 1938.96,-152.796 1928.96,-143.282\"/>\n",
       "<polygon fill=\"black\" stroke=\"black\" points=\"1931.12,-140.5 1921.46,-136.142 1926.29,-145.571 1931.12,-140.5\"/>\n",
       "</g>\n",
       "<!-- 274 -->\n",
       "<g id=\"node47\" class=\"node\"><title>274</title>\n",
       "<path fill=\"#e58139\" fill-opacity=\"0.074510\" stroke=\"black\" d=\"M2167.71,-136C2167.71,-136 2021.74,-136 2021.74,-136 2015.74,-136 2009.74,-130 2009.74,-124 2009.74,-124 2009.74,-84 2009.74,-84 2009.74,-78 2015.74,-72 2021.74,-72 2021.74,-72 2167.71,-72 2167.71,-72 2173.71,-72 2179.71,-78 2179.71,-84 2179.71,-84 2179.71,-124 2179.71,-124 2179.71,-130 2173.71,-136 2167.71,-136\"/>\n",
       "<text text-anchor=\"start\" x=\"2017.73\" y=\"-120.8\" font-family=\"Helvetica,sans-Serif\" font-size=\"14.00\">subscriber ratio ≤ 0.9391</text>\n",
       "<text text-anchor=\"start\" x=\"2024.86\" y=\"-106.8\" font-family=\"Helvetica,sans-Serif\" font-size=\"14.00\">mse = 147568680.485</text>\n",
       "<text text-anchor=\"start\" x=\"2052.9\" y=\"-92.8\" font-family=\"Helvetica,sans-Serif\" font-size=\"14.00\">samples = 13</text>\n",
       "<text text-anchor=\"start\" x=\"2033.03\" y=\"-78.8\" font-family=\"Helvetica,sans-Serif\" font-size=\"14.00\">value = 30249.7692</text>\n",
       "</g>\n",
       "<!-- 270&#45;&gt;274 -->\n",
       "<g id=\"edge46\" class=\"edge\"><title>270&#45;&gt;274</title>\n",
       "<path fill=\"none\" stroke=\"black\" d=\"M2024.32,-171.992C2033.9,-162.876 2044.49,-152.796 2054.49,-143.282\"/>\n",
       "<polygon fill=\"black\" stroke=\"black\" points=\"2057.16,-145.571 2062,-136.142 2052.34,-140.5 2057.16,-145.571\"/>\n",
       "</g>\n",
       "<!-- 272 -->\n",
       "<g id=\"node45\" class=\"node\"><title>272</title>\n",
       "<path fill=\"#c0c0c0\" stroke=\"black\" d=\"M1880.73,-36C1880.73,-36 1850.73,-36 1850.73,-36 1844.73,-36 1838.73,-30 1838.73,-24 1838.73,-24 1838.73,-12 1838.73,-12 1838.73,-6 1844.73,-0 1850.73,-0 1850.73,-0 1880.73,-0 1880.73,-0 1886.73,-0 1892.73,-6 1892.73,-12 1892.73,-12 1892.73,-24 1892.73,-24 1892.73,-30 1886.73,-36 1880.73,-36\"/>\n",
       "<text text-anchor=\"middle\" x=\"1865.73\" y=\"-13.8\" font-family=\"Helvetica,sans-Serif\" font-size=\"14.00\">(...)</text>\n",
       "</g>\n",
       "<!-- 271&#45;&gt;272 -->\n",
       "<g id=\"edge44\" class=\"edge\"><title>271&#45;&gt;272</title>\n",
       "<path fill=\"none\" stroke=\"black\" d=\"M1880.16,-71.7215C1877.86,-63.3253 1875.4,-54.3166 1873.17,-46.1636\"/>\n",
       "<polygon fill=\"black\" stroke=\"black\" points=\"1876.51,-45.1255 1870.49,-36.4049 1869.76,-46.9742 1876.51,-45.1255\"/>\n",
       "</g>\n",
       "<!-- 273 -->\n",
       "<g id=\"node46\" class=\"node\"><title>273</title>\n",
       "<path fill=\"#c0c0c0\" stroke=\"black\" d=\"M1952.73,-36C1952.73,-36 1922.73,-36 1922.73,-36 1916.73,-36 1910.73,-30 1910.73,-24 1910.73,-24 1910.73,-12 1910.73,-12 1910.73,-6 1916.73,-0 1922.73,-0 1922.73,-0 1952.73,-0 1952.73,-0 1958.73,-0 1964.73,-6 1964.73,-12 1964.73,-12 1964.73,-24 1964.73,-24 1964.73,-30 1958.73,-36 1952.73,-36\"/>\n",
       "<text text-anchor=\"middle\" x=\"1937.73\" y=\"-13.8\" font-family=\"Helvetica,sans-Serif\" font-size=\"14.00\">(...)</text>\n",
       "</g>\n",
       "<!-- 271&#45;&gt;273 -->\n",
       "<g id=\"edge45\" class=\"edge\"><title>271&#45;&gt;273</title>\n",
       "<path fill=\"none\" stroke=\"black\" d=\"M1906.97,-71.7215C1912.09,-62.9522 1917.59,-53.5146 1922.51,-45.0818\"/>\n",
       "<polygon fill=\"black\" stroke=\"black\" points=\"1925.56,-46.8062 1927.57,-36.4049 1919.51,-43.2791 1925.56,-46.8062\"/>\n",
       "</g>\n",
       "<!-- 275 -->\n",
       "<g id=\"node48\" class=\"node\"><title>275</title>\n",
       "<path fill=\"#c0c0c0\" stroke=\"black\" d=\"M2055.73,-36C2055.73,-36 2025.73,-36 2025.73,-36 2019.73,-36 2013.73,-30 2013.73,-24 2013.73,-24 2013.73,-12 2013.73,-12 2013.73,-6 2019.73,-0 2025.73,-0 2025.73,-0 2055.73,-0 2055.73,-0 2061.73,-0 2067.73,-6 2067.73,-12 2067.73,-12 2067.73,-24 2067.73,-24 2067.73,-30 2061.73,-36 2055.73,-36\"/>\n",
       "<text text-anchor=\"middle\" x=\"2040.73\" y=\"-13.8\" font-family=\"Helvetica,sans-Serif\" font-size=\"14.00\">(...)</text>\n",
       "</g>\n",
       "<!-- 274&#45;&gt;275 -->\n",
       "<g id=\"edge47\" class=\"edge\"><title>274&#45;&gt;275</title>\n",
       "<path fill=\"none\" stroke=\"black\" d=\"M2074.62,-71.7215C2068.98,-62.9522 2062.92,-53.5146 2057.49,-45.0818\"/>\n",
       "<polygon fill=\"black\" stroke=\"black\" points=\"2060.27,-42.924 2051.92,-36.4049 2054.38,-46.7093 2060.27,-42.924\"/>\n",
       "</g>\n",
       "<!-- 276 -->\n",
       "<g id=\"node49\" class=\"node\"><title>276</title>\n",
       "<path fill=\"#c0c0c0\" stroke=\"black\" d=\"M2127.73,-36C2127.73,-36 2097.73,-36 2097.73,-36 2091.73,-36 2085.73,-30 2085.73,-24 2085.73,-24 2085.73,-12 2085.73,-12 2085.73,-6 2091.73,-0 2097.73,-0 2097.73,-0 2127.73,-0 2127.73,-0 2133.73,-0 2139.73,-6 2139.73,-12 2139.73,-12 2139.73,-24 2139.73,-24 2139.73,-30 2133.73,-36 2127.73,-36\"/>\n",
       "<text text-anchor=\"middle\" x=\"2112.73\" y=\"-13.8\" font-family=\"Helvetica,sans-Serif\" font-size=\"14.00\">(...)</text>\n",
       "</g>\n",
       "<!-- 274&#45;&gt;276 -->\n",
       "<g id=\"edge48\" class=\"edge\"><title>274&#45;&gt;276</title>\n",
       "<path fill=\"none\" stroke=\"black\" d=\"M2101.43,-71.7215C2103.21,-63.4186 2105.12,-54.5167 2106.85,-46.4357\"/>\n",
       "<polygon fill=\"black\" stroke=\"black\" points=\"2110.32,-46.9163 2109,-36.4049 2103.48,-45.4495 2110.32,-46.9163\"/>\n",
       "</g>\n",
       "<!-- 278 -->\n",
       "<g id=\"node51\" class=\"node\"><title>278</title>\n",
       "<path fill=\"#e58139\" fill-opacity=\"0.035294\" stroke=\"black\" d=\"M2461.49,-236C2461.49,-236 2315.97,-236 2315.97,-236 2309.97,-236 2303.97,-230 2303.97,-224 2303.97,-224 2303.97,-184 2303.97,-184 2303.97,-178 2309.97,-172 2315.97,-172 2315.97,-172 2461.49,-172 2461.49,-172 2467.49,-172 2473.49,-178 2473.49,-184 2473.49,-184 2473.49,-224 2473.49,-224 2473.49,-230 2467.49,-236 2461.49,-236\"/>\n",
       "<text text-anchor=\"start\" x=\"2311.85\" y=\"-220.8\" font-family=\"Helvetica,sans-Serif\" font-size=\"14.00\">Visibyduration ≤ 10.1514</text>\n",
       "<text text-anchor=\"start\" x=\"2318.86\" y=\"-206.8\" font-family=\"Helvetica,sans-Serif\" font-size=\"14.00\">mse = 238466393.648</text>\n",
       "<text text-anchor=\"start\" x=\"2346.9\" y=\"-192.8\" font-family=\"Helvetica,sans-Serif\" font-size=\"14.00\">samples = 93</text>\n",
       "<text text-anchor=\"start\" x=\"2327.03\" y=\"-178.8\" font-family=\"Helvetica,sans-Serif\" font-size=\"14.00\">value = 15142.4839</text>\n",
       "</g>\n",
       "<!-- 277&#45;&gt;278 -->\n",
       "<g id=\"edge50\" class=\"edge\"><title>277&#45;&gt;278</title>\n",
       "<path fill=\"none\" stroke=\"black\" d=\"M2388.73,-271.992C2388.73,-263.859 2388.73,-254.959 2388.73,-246.378\"/>\n",
       "<polygon fill=\"black\" stroke=\"black\" points=\"2392.23,-246.142 2388.73,-236.142 2385.23,-246.142 2392.23,-246.142\"/>\n",
       "</g>\n",
       "<!-- 301 -->\n",
       "<g id=\"node58\" class=\"node\"><title>301</title>\n",
       "<path fill=\"#e58139\" fill-opacity=\"0.117647\" stroke=\"black\" d=\"M2856.18,-236C2856.18,-236 2711.28,-236 2711.28,-236 2705.28,-236 2699.28,-230 2699.28,-224 2699.28,-224 2699.28,-184 2699.28,-184 2699.28,-178 2705.28,-172 2711.28,-172 2711.28,-172 2856.18,-172 2856.18,-172 2862.18,-172 2868.18,-178 2868.18,-184 2868.18,-184 2868.18,-224 2868.18,-224 2868.18,-230 2862.18,-236 2856.18,-236\"/>\n",
       "<text text-anchor=\"start\" x=\"2707.5\" y=\"-220.8\" font-family=\"Helvetica,sans-Serif\" font-size=\"14.00\">Presbyduration ≤ 29.927</text>\n",
       "<text text-anchor=\"start\" x=\"2714.38\" y=\"-206.8\" font-family=\"Helvetica,sans-Serif\" font-size=\"14.00\">mse = 1191502289.45</text>\n",
       "<text text-anchor=\"start\" x=\"2738.01\" y=\"-192.8\" font-family=\"Helvetica,sans-Serif\" font-size=\"14.00\">samples = 326</text>\n",
       "<text text-anchor=\"start\" x=\"2722.03\" y=\"-178.8\" font-family=\"Helvetica,sans-Serif\" font-size=\"14.00\">value = 48263.3712</text>\n",
       "</g>\n",
       "<!-- 277&#45;&gt;301 -->\n",
       "<g id=\"edge57\" class=\"edge\"><title>277&#45;&gt;301</title>\n",
       "<path fill=\"none\" stroke=\"black\" d=\"M2471.05,-282.575C2534.71,-266.782 2622.91,-244.9 2689.4,-228.402\"/>\n",
       "<polygon fill=\"black\" stroke=\"black\" points=\"2690.6,-231.71 2699.47,-225.905 2688.92,-224.916 2690.6,-231.71\"/>\n",
       "</g>\n",
       "<!-- 279 -->\n",
       "<g id=\"node52\" class=\"node\"><title>279</title>\n",
       "<path fill=\"#e58139\" fill-opacity=\"0.027451\" stroke=\"black\" d=\"M2341.45,-136C2341.45,-136 2210,-136 2210,-136 2204,-136 2198,-130 2198,-124 2198,-124 2198,-84 2198,-84 2198,-78 2204,-72 2210,-72 2210,-72 2341.45,-72 2341.45,-72 2347.45,-72 2353.45,-78 2353.45,-84 2353.45,-84 2353.45,-124 2353.45,-124 2353.45,-130 2347.45,-136 2341.45,-136\"/>\n",
       "<text text-anchor=\"start\" x=\"2207.29\" y=\"-120.8\" font-family=\"Helvetica,sans-Serif\" font-size=\"14.00\">morning rate ≤ 0.0069</text>\n",
       "<text text-anchor=\"start\" x=\"2205.86\" y=\"-106.8\" font-family=\"Helvetica,sans-Serif\" font-size=\"14.00\">mse = 108384653.062</text>\n",
       "<text text-anchor=\"start\" x=\"2233.9\" y=\"-92.8\" font-family=\"Helvetica,sans-Serif\" font-size=\"14.00\">samples = 76</text>\n",
       "<text text-anchor=\"start\" x=\"2214.55\" y=\"-78.8\" font-family=\"Helvetica,sans-Serif\" font-size=\"14.00\">value = 11448.8684</text>\n",
       "</g>\n",
       "<!-- 278&#45;&gt;279 -->\n",
       "<g id=\"edge51\" class=\"edge\"><title>278&#45;&gt;279</title>\n",
       "<path fill=\"none\" stroke=\"black\" d=\"M2352.97,-171.992C2342.26,-162.698 2330.38,-152.4 2319.22,-142.723\"/>\n",
       "<polygon fill=\"black\" stroke=\"black\" points=\"2321.48,-140.05 2311.64,-136.142 2316.9,-145.338 2321.48,-140.05\"/>\n",
       "</g>\n",
       "<!-- 298 -->\n",
       "<g id=\"node55\" class=\"node\"><title>298</title>\n",
       "<path fill=\"#e58139\" fill-opacity=\"0.078431\" stroke=\"black\" d=\"M2619.74,-136C2619.74,-136 2383.72,-136 2383.72,-136 2377.72,-136 2371.72,-130 2371.72,-124 2371.72,-124 2371.72,-84 2371.72,-84 2371.72,-78 2377.72,-72 2383.72,-72 2383.72,-72 2619.74,-72 2619.74,-72 2625.74,-72 2631.74,-78 2631.74,-84 2631.74,-84 2631.74,-124 2631.74,-124 2631.74,-130 2625.74,-136 2619.74,-136\"/>\n",
       "<text text-anchor=\"start\" x=\"2379.72\" y=\"-120.8\" font-family=\"Helvetica,sans-Serif\" font-size=\"14.00\">commuting_to_work_perc_PT ≤ 7.0531</text>\n",
       "<text text-anchor=\"start\" x=\"2435.76\" y=\"-106.8\" font-family=\"Helvetica,sans-Serif\" font-size=\"14.00\">mse = 486349899.28</text>\n",
       "<text text-anchor=\"start\" x=\"2459.9\" y=\"-92.8\" font-family=\"Helvetica,sans-Serif\" font-size=\"14.00\">samples = 17</text>\n",
       "<text text-anchor=\"start\" x=\"2440.55\" y=\"-78.8\" font-family=\"Helvetica,sans-Serif\" font-size=\"14.00\">value = 31655.1176</text>\n",
       "</g>\n",
       "<!-- 278&#45;&gt;298 -->\n",
       "<g id=\"edge54\" class=\"edge\"><title>278&#45;&gt;298</title>\n",
       "<path fill=\"none\" stroke=\"black\" d=\"M2424.48,-171.992C2435.2,-162.698 2447.07,-152.4 2458.23,-142.723\"/>\n",
       "<polygon fill=\"black\" stroke=\"black\" points=\"2460.56,-145.338 2465.82,-136.142 2455.97,-140.05 2460.56,-145.338\"/>\n",
       "</g>\n",
       "<!-- 280 -->\n",
       "<g id=\"node53\" class=\"node\"><title>280</title>\n",
       "<path fill=\"#c0c0c0\" stroke=\"black\" d=\"M2254.73,-36C2254.73,-36 2224.73,-36 2224.73,-36 2218.73,-36 2212.73,-30 2212.73,-24 2212.73,-24 2212.73,-12 2212.73,-12 2212.73,-6 2218.73,-0 2224.73,-0 2224.73,-0 2254.73,-0 2254.73,-0 2260.73,-0 2266.73,-6 2266.73,-12 2266.73,-12 2266.73,-24 2266.73,-24 2266.73,-30 2260.73,-36 2254.73,-36\"/>\n",
       "<text text-anchor=\"middle\" x=\"2239.73\" y=\"-13.8\" font-family=\"Helvetica,sans-Serif\" font-size=\"14.00\">(...)</text>\n",
       "</g>\n",
       "<!-- 279&#45;&gt;280 -->\n",
       "<g id=\"edge52\" class=\"edge\"><title>279&#45;&gt;280</title>\n",
       "<path fill=\"none\" stroke=\"black\" d=\"M2262.32,-71.7215C2258.64,-63.1388 2254.69,-53.9159 2251.14,-45.6214\"/>\n",
       "<polygon fill=\"black\" stroke=\"black\" points=\"2254.34,-44.2176 2247.19,-36.4049 2247.91,-46.9751 2254.34,-44.2176\"/>\n",
       "</g>\n",
       "<!-- 283 -->\n",
       "<g id=\"node54\" class=\"node\"><title>283</title>\n",
       "<path fill=\"#c0c0c0\" stroke=\"black\" d=\"M2326.73,-36C2326.73,-36 2296.73,-36 2296.73,-36 2290.73,-36 2284.73,-30 2284.73,-24 2284.73,-24 2284.73,-12 2284.73,-12 2284.73,-6 2290.73,-0 2296.73,-0 2296.73,-0 2326.73,-0 2326.73,-0 2332.73,-0 2338.73,-6 2338.73,-12 2338.73,-12 2338.73,-24 2338.73,-24 2338.73,-30 2332.73,-36 2326.73,-36\"/>\n",
       "<text text-anchor=\"middle\" x=\"2311.73\" y=\"-13.8\" font-family=\"Helvetica,sans-Serif\" font-size=\"14.00\">(...)</text>\n",
       "</g>\n",
       "<!-- 279&#45;&gt;283 -->\n",
       "<g id=\"edge53\" class=\"edge\"><title>279&#45;&gt;283</title>\n",
       "<path fill=\"none\" stroke=\"black\" d=\"M2289.13,-71.7215C2292.81,-63.1388 2296.76,-53.9159 2300.32,-45.6214\"/>\n",
       "<polygon fill=\"black\" stroke=\"black\" points=\"2303.55,-46.9751 2304.27,-36.4049 2297.11,-44.2176 2303.55,-46.9751\"/>\n",
       "</g>\n",
       "<!-- 299 -->\n",
       "<g id=\"node56\" class=\"node\"><title>299</title>\n",
       "<path fill=\"#c0c0c0\" stroke=\"black\" d=\"M2480.73,-36C2480.73,-36 2450.73,-36 2450.73,-36 2444.73,-36 2438.73,-30 2438.73,-24 2438.73,-24 2438.73,-12 2438.73,-12 2438.73,-6 2444.73,-0 2450.73,-0 2450.73,-0 2480.73,-0 2480.73,-0 2486.73,-0 2492.73,-6 2492.73,-12 2492.73,-12 2492.73,-24 2492.73,-24 2492.73,-30 2486.73,-36 2480.73,-36\"/>\n",
       "<text text-anchor=\"middle\" x=\"2465.73\" y=\"-13.8\" font-family=\"Helvetica,sans-Serif\" font-size=\"14.00\">(...)</text>\n",
       "</g>\n",
       "<!-- 298&#45;&gt;299 -->\n",
       "<g id=\"edge55\" class=\"edge\"><title>298&#45;&gt;299</title>\n",
       "<path fill=\"none\" stroke=\"black\" d=\"M2488.32,-71.7215C2484.64,-63.1388 2480.69,-53.9159 2477.14,-45.6214\"/>\n",
       "<polygon fill=\"black\" stroke=\"black\" points=\"2480.34,-44.2176 2473.19,-36.4049 2473.91,-46.9751 2480.34,-44.2176\"/>\n",
       "</g>\n",
       "<!-- 300 -->\n",
       "<g id=\"node57\" class=\"node\"><title>300</title>\n",
       "<path fill=\"#c0c0c0\" stroke=\"black\" d=\"M2552.73,-36C2552.73,-36 2522.73,-36 2522.73,-36 2516.73,-36 2510.73,-30 2510.73,-24 2510.73,-24 2510.73,-12 2510.73,-12 2510.73,-6 2516.73,-0 2522.73,-0 2522.73,-0 2552.73,-0 2552.73,-0 2558.73,-0 2564.73,-6 2564.73,-12 2564.73,-12 2564.73,-24 2564.73,-24 2564.73,-30 2558.73,-36 2552.73,-36\"/>\n",
       "<text text-anchor=\"middle\" x=\"2537.73\" y=\"-13.8\" font-family=\"Helvetica,sans-Serif\" font-size=\"14.00\">(...)</text>\n",
       "</g>\n",
       "<!-- 298&#45;&gt;300 -->\n",
       "<g id=\"edge56\" class=\"edge\"><title>298&#45;&gt;300</title>\n",
       "<path fill=\"none\" stroke=\"black\" d=\"M2515.13,-71.7215C2518.81,-63.1388 2522.76,-53.9159 2526.32,-45.6214\"/>\n",
       "<polygon fill=\"black\" stroke=\"black\" points=\"2529.55,-46.9751 2530.27,-36.4049 2523.11,-44.2176 2529.55,-46.9751\"/>\n",
       "</g>\n",
       "<!-- 302 -->\n",
       "<g id=\"node59\" class=\"node\"><title>302</title>\n",
       "<path fill=\"#e58139\" fill-opacity=\"0.039216\" stroke=\"black\" d=\"M2905.52,-136C2905.52,-136 2661.93,-136 2661.93,-136 2655.93,-136 2649.93,-130 2649.93,-124 2649.93,-124 2649.93,-84 2649.93,-84 2649.93,-78 2655.93,-72 2661.93,-72 2661.93,-72 2905.52,-72 2905.52,-72 2911.52,-72 2917.52,-78 2917.52,-84 2917.52,-84 2917.52,-124 2917.52,-124 2917.52,-130 2911.52,-136 2905.52,-136\"/>\n",
       "<text text-anchor=\"start\" x=\"2657.83\" y=\"-120.8\" font-family=\"Helvetica,sans-Serif\" font-size=\"14.00\">commuting_to_work_perc_PT ≤ 16.8318</text>\n",
       "<text text-anchor=\"start\" x=\"2713.86\" y=\"-106.8\" font-family=\"Helvetica,sans-Serif\" font-size=\"14.00\">mse = 320097965.293</text>\n",
       "<text text-anchor=\"start\" x=\"2741.9\" y=\"-92.8\" font-family=\"Helvetica,sans-Serif\" font-size=\"14.00\">samples = 58</text>\n",
       "<text text-anchor=\"start\" x=\"2722.03\" y=\"-78.8\" font-family=\"Helvetica,sans-Serif\" font-size=\"14.00\">value = 16836.9828</text>\n",
       "</g>\n",
       "<!-- 301&#45;&gt;302 -->\n",
       "<g id=\"edge58\" class=\"edge\"><title>301&#45;&gt;302</title>\n",
       "<path fill=\"none\" stroke=\"black\" d=\"M2783.73,-171.992C2783.73,-163.859 2783.73,-154.959 2783.73,-146.378\"/>\n",
       "<polygon fill=\"black\" stroke=\"black\" points=\"2787.23,-146.142 2783.73,-136.142 2780.23,-146.142 2787.23,-146.142\"/>\n",
       "</g>\n",
       "<!-- 317 -->\n",
       "<g id=\"node62\" class=\"node\"><title>317</title>\n",
       "<path fill=\"#e58139\" fill-opacity=\"0.137255\" stroke=\"black\" d=\"M3077.92,-136C3077.92,-136 2947.53,-136 2947.53,-136 2941.53,-136 2935.53,-130 2935.53,-124 2935.53,-124 2935.53,-84 2935.53,-84 2935.53,-78 2941.53,-72 2947.53,-72 2947.53,-72 3077.92,-72 3077.92,-72 3083.92,-72 3089.92,-78 3089.92,-84 3089.92,-84 3089.92,-124 3089.92,-124 3089.92,-130 3083.92,-136 3077.92,-136\"/>\n",
       "<text text-anchor=\"start\" x=\"2945.06\" y=\"-120.8\" font-family=\"Helvetica,sans-Serif\" font-size=\"14.00\">evening rate ≤ 0.1913</text>\n",
       "<text text-anchor=\"start\" x=\"2943.38\" y=\"-106.8\" font-family=\"Helvetica,sans-Serif\" font-size=\"14.00\">mse = 1120094818.16</text>\n",
       "<text text-anchor=\"start\" x=\"2967.01\" y=\"-92.8\" font-family=\"Helvetica,sans-Serif\" font-size=\"14.00\">samples = 268</text>\n",
       "<text text-anchor=\"start\" x=\"2951.03\" y=\"-78.8\" font-family=\"Helvetica,sans-Serif\" font-size=\"14.00\">value = 55064.6045</text>\n",
       "</g>\n",
       "<!-- 301&#45;&gt;317 -->\n",
       "<g id=\"edge61\" class=\"edge\"><title>301&#45;&gt;317</title>\n",
       "<path fill=\"none\" stroke=\"black\" d=\"M2856.18,-171.992C2879.89,-161.849 2906.38,-150.51 2930.74,-140.088\"/>\n",
       "<polygon fill=\"black\" stroke=\"black\" points=\"2932.14,-143.295 2939.96,-136.142 2929.39,-136.859 2932.14,-143.295\"/>\n",
       "</g>\n",
       "<!-- 303 -->\n",
       "<g id=\"node60\" class=\"node\"><title>303</title>\n",
       "<path fill=\"#c0c0c0\" stroke=\"black\" d=\"M2762.73,-36C2762.73,-36 2732.73,-36 2732.73,-36 2726.73,-36 2720.73,-30 2720.73,-24 2720.73,-24 2720.73,-12 2720.73,-12 2720.73,-6 2726.73,-0 2732.73,-0 2732.73,-0 2762.73,-0 2762.73,-0 2768.73,-0 2774.73,-6 2774.73,-12 2774.73,-12 2774.73,-24 2774.73,-24 2774.73,-30 2768.73,-36 2762.73,-36\"/>\n",
       "<text text-anchor=\"middle\" x=\"2747.73\" y=\"-13.8\" font-family=\"Helvetica,sans-Serif\" font-size=\"14.00\">(...)</text>\n",
       "</g>\n",
       "<!-- 302&#45;&gt;303 -->\n",
       "<g id=\"edge59\" class=\"edge\"><title>302&#45;&gt;303</title>\n",
       "<path fill=\"none\" stroke=\"black\" d=\"M2770.32,-71.7215C2766.64,-63.1388 2762.69,-53.9159 2759.14,-45.6214\"/>\n",
       "<polygon fill=\"black\" stroke=\"black\" points=\"2762.34,-44.2176 2755.19,-36.4049 2755.91,-46.9751 2762.34,-44.2176\"/>\n",
       "</g>\n",
       "<!-- 316 -->\n",
       "<g id=\"node61\" class=\"node\"><title>316</title>\n",
       "<path fill=\"#c0c0c0\" stroke=\"black\" d=\"M2834.73,-36C2834.73,-36 2804.73,-36 2804.73,-36 2798.73,-36 2792.73,-30 2792.73,-24 2792.73,-24 2792.73,-12 2792.73,-12 2792.73,-6 2798.73,-0 2804.73,-0 2804.73,-0 2834.73,-0 2834.73,-0 2840.73,-0 2846.73,-6 2846.73,-12 2846.73,-12 2846.73,-24 2846.73,-24 2846.73,-30 2840.73,-36 2834.73,-36\"/>\n",
       "<text text-anchor=\"middle\" x=\"2819.73\" y=\"-13.8\" font-family=\"Helvetica,sans-Serif\" font-size=\"14.00\">(...)</text>\n",
       "</g>\n",
       "<!-- 302&#45;&gt;316 -->\n",
       "<g id=\"edge60\" class=\"edge\"><title>302&#45;&gt;316</title>\n",
       "<path fill=\"none\" stroke=\"black\" d=\"M2797.13,-71.7215C2800.81,-63.1388 2804.76,-53.9159 2808.32,-45.6214\"/>\n",
       "<polygon fill=\"black\" stroke=\"black\" points=\"2811.55,-46.9751 2812.27,-36.4049 2805.11,-44.2176 2811.55,-46.9751\"/>\n",
       "</g>\n",
       "<!-- 318 -->\n",
       "<g id=\"node63\" class=\"node\"><title>318</title>\n",
       "<path fill=\"#c0c0c0\" stroke=\"black\" d=\"M3000.73,-36C3000.73,-36 2970.73,-36 2970.73,-36 2964.73,-36 2958.73,-30 2958.73,-24 2958.73,-24 2958.73,-12 2958.73,-12 2958.73,-6 2964.73,-0 2970.73,-0 2970.73,-0 3000.73,-0 3000.73,-0 3006.73,-0 3012.73,-6 3012.73,-12 3012.73,-12 3012.73,-24 3012.73,-24 3012.73,-30 3006.73,-36 3000.73,-36\"/>\n",
       "<text text-anchor=\"middle\" x=\"2985.73\" y=\"-13.8\" font-family=\"Helvetica,sans-Serif\" font-size=\"14.00\">(...)</text>\n",
       "</g>\n",
       "<!-- 317&#45;&gt;318 -->\n",
       "<g id=\"edge62\" class=\"edge\"><title>317&#45;&gt;318</title>\n",
       "<path fill=\"none\" stroke=\"black\" d=\"M3002.67,-71.7215C2999.97,-63.3253 2997.08,-54.3166 2994.46,-46.1636\"/>\n",
       "<polygon fill=\"black\" stroke=\"black\" points=\"2997.71,-44.8541 2991.32,-36.4049 2991.05,-46.9962 2997.71,-44.8541\"/>\n",
       "</g>\n",
       "<!-- 327 -->\n",
       "<g id=\"node64\" class=\"node\"><title>327</title>\n",
       "<path fill=\"#c0c0c0\" stroke=\"black\" d=\"M3072.73,-36C3072.73,-36 3042.73,-36 3042.73,-36 3036.73,-36 3030.73,-30 3030.73,-24 3030.73,-24 3030.73,-12 3030.73,-12 3030.73,-6 3036.73,-0 3042.73,-0 3042.73,-0 3072.73,-0 3072.73,-0 3078.73,-0 3084.73,-6 3084.73,-12 3084.73,-12 3084.73,-24 3084.73,-24 3084.73,-30 3078.73,-36 3072.73,-36\"/>\n",
       "<text text-anchor=\"middle\" x=\"3057.73\" y=\"-13.8\" font-family=\"Helvetica,sans-Serif\" font-size=\"14.00\">(...)</text>\n",
       "</g>\n",
       "<!-- 317&#45;&gt;327 -->\n",
       "<g id=\"edge63\" class=\"edge\"><title>317&#45;&gt;327</title>\n",
       "<path fill=\"none\" stroke=\"black\" d=\"M3029.48,-71.7215C3034.13,-63.0455 3039.13,-53.7153 3043.61,-45.3513\"/>\n",
       "<polygon fill=\"black\" stroke=\"black\" points=\"3046.77,-46.8725 3048.4,-36.4049 3040.6,-43.5669 3046.77,-46.8725\"/>\n",
       "</g>\n",
       "<!-- 345 -->\n",
       "<g id=\"node66\" class=\"node\"><title>345</title>\n",
       "<path fill=\"#e58139\" fill-opacity=\"0.192157\" stroke=\"black\" d=\"M3893.68,-436C3893.68,-436 3741.77,-436 3741.77,-436 3735.77,-436 3729.77,-430 3729.77,-424 3729.77,-424 3729.77,-384 3729.77,-384 3729.77,-378 3735.77,-372 3741.77,-372 3741.77,-372 3893.68,-372 3893.68,-372 3899.68,-372 3905.68,-378 3905.68,-384 3905.68,-384 3905.68,-424 3905.68,-424 3905.68,-430 3899.68,-436 3893.68,-436\"/>\n",
       "<text text-anchor=\"start\" x=\"3738\" y=\"-420.8\" font-family=\"Helvetica,sans-Serif\" font-size=\"14.00\">Dewbyduration ≤ 46.0582</text>\n",
       "<text text-anchor=\"start\" x=\"3747.86\" y=\"-406.8\" font-family=\"Helvetica,sans-Serif\" font-size=\"14.00\">mse = 3348700453.53</text>\n",
       "<text text-anchor=\"start\" x=\"3772.01\" y=\"-392.8\" font-family=\"Helvetica,sans-Serif\" font-size=\"14.00\">samples = 280</text>\n",
       "<text text-anchor=\"start\" x=\"3756.03\" y=\"-378.8\" font-family=\"Helvetica,sans-Serif\" font-size=\"14.00\">value = 76526.8286</text>\n",
       "</g>\n",
       "<!-- 344&#45;&gt;345 -->\n",
       "<g id=\"edge65\" class=\"edge\"><title>344&#45;&gt;345</title>\n",
       "<path fill=\"none\" stroke=\"black\" d=\"M3817.73,-471.992C3817.73,-463.859 3817.73,-454.959 3817.73,-446.378\"/>\n",
       "<polygon fill=\"black\" stroke=\"black\" points=\"3821.23,-446.142 3817.73,-436.142 3814.23,-446.142 3821.23,-446.142\"/>\n",
       "</g>\n",
       "<!-- 412 -->\n",
       "<g id=\"node93\" class=\"node\"><title>412</title>\n",
       "<path fill=\"#e58139\" fill-opacity=\"0.615686\" stroke=\"black\" d=\"M4982.71,-436C4982.71,-436 4836.74,-436 4836.74,-436 4830.74,-436 4824.74,-430 4824.74,-424 4824.74,-424 4824.74,-384 4824.74,-384 4824.74,-378 4830.74,-372 4836.74,-372 4836.74,-372 4982.71,-372 4982.71,-372 4988.71,-372 4994.71,-378 4994.71,-384 4994.71,-384 4994.71,-424 4994.71,-424 4994.71,-430 4988.71,-436 4982.71,-436\"/>\n",
       "<text text-anchor=\"start\" x=\"4832.73\" y=\"-420.8\" font-family=\"Helvetica,sans-Serif\" font-size=\"14.00\">subscriber ratio ≤ 0.7532</text>\n",
       "<text text-anchor=\"start\" x=\"4839.86\" y=\"-406.8\" font-family=\"Helvetica,sans-Serif\" font-size=\"14.00\">mse = 12887541015.5</text>\n",
       "<text text-anchor=\"start\" x=\"4864.01\" y=\"-392.8\" font-family=\"Helvetica,sans-Serif\" font-size=\"14.00\">samples = 625</text>\n",
       "<text text-anchor=\"start\" x=\"4848.03\" y=\"-378.8\" font-family=\"Helvetica,sans-Serif\" font-size=\"14.00\">value = 245448.144</text>\n",
       "</g>\n",
       "<!-- 344&#45;&gt;412 -->\n",
       "<g id=\"edge92\" class=\"edge\"><title>344&#45;&gt;412</title>\n",
       "<path fill=\"none\" stroke=\"black\" d=\"M3908.49,-494.855C4112.68,-476.53 4606.6,-432.204 4814.73,-413.525\"/>\n",
       "<polygon fill=\"black\" stroke=\"black\" points=\"4815.08,-417.008 4824.73,-412.628 4814.45,-410.036 4815.08,-417.008\"/>\n",
       "</g>\n",
       "<!-- 346 -->\n",
       "<g id=\"node67\" class=\"node\"><title>346</title>\n",
       "<path fill=\"#e58139\" fill-opacity=\"0.231373\" stroke=\"black\" d=\"M3724.41,-336C3724.41,-336 3567.04,-336 3567.04,-336 3561.04,-336 3555.04,-330 3555.04,-324 3555.04,-324 3555.04,-284 3555.04,-284 3555.04,-278 3561.04,-272 3567.04,-272 3567.04,-272 3724.41,-272 3724.41,-272 3730.41,-272 3736.41,-278 3736.41,-284 3736.41,-284 3736.41,-324 3736.41,-324 3736.41,-330 3730.41,-336 3724.41,-336\"/>\n",
       "<text text-anchor=\"start\" x=\"3562.89\" y=\"-320.8\" font-family=\"Helvetica,sans-Serif\" font-size=\"14.00\">Tempbyduration ≤ 54.0745</text>\n",
       "<text text-anchor=\"start\" x=\"3579.76\" y=\"-306.8\" font-family=\"Helvetica,sans-Serif\" font-size=\"14.00\">mse = 3439824099.1</text>\n",
       "<text text-anchor=\"start\" x=\"3600.01\" y=\"-292.8\" font-family=\"Helvetica,sans-Serif\" font-size=\"14.00\">samples = 205</text>\n",
       "<text text-anchor=\"start\" x=\"3584.03\" y=\"-278.8\" font-family=\"Helvetica,sans-Serif\" font-size=\"14.00\">value = 92929.2927</text>\n",
       "</g>\n",
       "<!-- 345&#45;&gt;346 -->\n",
       "<g id=\"edge66\" class=\"edge\"><title>345&#45;&gt;346</title>\n",
       "<path fill=\"none\" stroke=\"black\" d=\"M3763.31,-371.992C3746.21,-362.251 3727.18,-351.408 3709.49,-341.332\"/>\n",
       "<polygon fill=\"black\" stroke=\"black\" points=\"3710.81,-338.052 3700.39,-336.142 3707.34,-344.134 3710.81,-338.052\"/>\n",
       "</g>\n",
       "<!-- 387 -->\n",
       "<g id=\"node78\" class=\"node\"><title>387</title>\n",
       "<path fill=\"#e58139\" fill-opacity=\"0.078431\" stroke=\"black\" d=\"M4065.68,-336C4065.68,-336 3913.77,-336 3913.77,-336 3907.77,-336 3901.77,-330 3901.77,-324 3901.77,-324 3901.77,-284 3901.77,-284 3901.77,-278 3907.77,-272 3913.77,-272 3913.77,-272 4065.68,-272 4065.68,-272 4071.68,-272 4077.68,-278 4077.68,-284 4077.68,-284 4077.68,-324 4077.68,-324 4077.68,-330 4071.68,-336 4065.68,-336\"/>\n",
       "<text text-anchor=\"start\" x=\"3910\" y=\"-320.8\" font-family=\"Helvetica,sans-Serif\" font-size=\"14.00\">Dewbyduration ≤ 48.9559</text>\n",
       "<text text-anchor=\"start\" x=\"3919.86\" y=\"-306.8\" font-family=\"Helvetica,sans-Serif\" font-size=\"14.00\">mse = 354216963.551</text>\n",
       "<text text-anchor=\"start\" x=\"3947.9\" y=\"-292.8\" font-family=\"Helvetica,sans-Serif\" font-size=\"14.00\">samples = 75</text>\n",
       "<text text-anchor=\"start\" x=\"3928.03\" y=\"-278.8\" font-family=\"Helvetica,sans-Serif\" font-size=\"14.00\">value = 31693.4267</text>\n",
       "</g>\n",
       "<!-- 345&#45;&gt;387 -->\n",
       "<g id=\"edge77\" class=\"edge\"><title>345&#45;&gt;387</title>\n",
       "<path fill=\"none\" stroke=\"black\" d=\"M3872.15,-371.992C3889.25,-362.251 3908.28,-351.408 3925.96,-341.332\"/>\n",
       "<polygon fill=\"black\" stroke=\"black\" points=\"3928.11,-344.134 3935.07,-336.142 3924.65,-338.052 3928.11,-344.134\"/>\n",
       "</g>\n",
       "<!-- 347 -->\n",
       "<g id=\"node68\" class=\"node\"><title>347</title>\n",
       "<path fill=\"#e58139\" fill-opacity=\"0.082353\" stroke=\"black\" d=\"M3455.41,-236C3455.41,-236 3298.04,-236 3298.04,-236 3292.04,-236 3286.04,-230 3286.04,-224 3286.04,-224 3286.04,-184 3286.04,-184 3286.04,-178 3292.04,-172 3298.04,-172 3298.04,-172 3455.41,-172 3455.41,-172 3461.41,-172 3467.41,-178 3467.41,-184 3467.41,-184 3467.41,-224 3467.41,-224 3467.41,-230 3461.41,-236 3455.41,-236\"/>\n",
       "<text text-anchor=\"start\" x=\"3293.89\" y=\"-220.8\" font-family=\"Helvetica,sans-Serif\" font-size=\"14.00\">Tempbyduration ≤ 53.0582</text>\n",
       "<text text-anchor=\"start\" x=\"3306.86\" y=\"-206.8\" font-family=\"Helvetica,sans-Serif\" font-size=\"14.00\">mse = 723066747.953</text>\n",
       "<text text-anchor=\"start\" x=\"3334.9\" y=\"-192.8\" font-family=\"Helvetica,sans-Serif\" font-size=\"14.00\">samples = 27</text>\n",
       "<text text-anchor=\"start\" x=\"3315.03\" y=\"-178.8\" font-family=\"Helvetica,sans-Serif\" font-size=\"14.00\">value = 33170.4815</text>\n",
       "</g>\n",
       "<!-- 346&#45;&gt;347 -->\n",
       "<g id=\"edge67\" class=\"edge\"><title>346&#45;&gt;347</title>\n",
       "<path fill=\"none\" stroke=\"black\" d=\"M3560.61,-271.992C3532.4,-261.714 3500.83,-250.21 3471.91,-239.675\"/>\n",
       "<polygon fill=\"black\" stroke=\"black\" points=\"3472.8,-236.277 3462.21,-236.142 3470.41,-242.854 3472.8,-236.277\"/>\n",
       "</g>\n",
       "<!-- 354 -->\n",
       "<g id=\"node73\" class=\"node\"><title>354</title>\n",
       "<path fill=\"#e58139\" fill-opacity=\"0.254902\" stroke=\"black\" d=\"M3707.67,-236C3707.67,-236 3583.79,-236 3583.79,-236 3577.79,-236 3571.79,-230 3571.79,-224 3571.79,-224 3571.79,-184 3571.79,-184 3571.79,-178 3577.79,-172 3583.79,-172 3583.79,-172 3707.67,-172 3707.67,-172 3713.67,-172 3719.67,-178 3719.67,-184 3719.67,-184 3719.67,-224 3719.67,-224 3719.67,-230 3713.67,-236 3707.67,-236\"/>\n",
       "<text text-anchor=\"start\" x=\"3587.4\" y=\"-220.8\" font-family=\"Helvetica,sans-Serif\" font-size=\"14.00\">night rate ≤ 0.0019</text>\n",
       "<text text-anchor=\"start\" x=\"3579.76\" y=\"-206.8\" font-family=\"Helvetica,sans-Serif\" font-size=\"14.00\">mse = 3228064581.6</text>\n",
       "<text text-anchor=\"start\" x=\"3600.01\" y=\"-192.8\" font-family=\"Helvetica,sans-Serif\" font-size=\"14.00\">samples = 178</text>\n",
       "<text text-anchor=\"start\" x=\"3580.14\" y=\"-178.8\" font-family=\"Helvetica,sans-Serif\" font-size=\"14.00\">value = 101993.8315</text>\n",
       "</g>\n",
       "<!-- 346&#45;&gt;354 -->\n",
       "<g id=\"edge72\" class=\"edge\"><title>346&#45;&gt;354</title>\n",
       "<path fill=\"none\" stroke=\"black\" d=\"M3645.73,-271.992C3645.73,-263.859 3645.73,-254.959 3645.73,-246.378\"/>\n",
       "<polygon fill=\"black\" stroke=\"black\" points=\"3649.23,-246.142 3645.73,-236.142 3642.23,-246.142 3649.23,-246.142\"/>\n",
       "</g>\n",
       "<!-- 348 -->\n",
       "<g id=\"node69\" class=\"node\"><title>348</title>\n",
       "<path fill=\"#e58139\" fill-opacity=\"0.054902\" stroke=\"black\" d=\"M3269.06,-136C3269.06,-136 3120.4,-136 3120.4,-136 3114.4,-136 3108.4,-130 3108.4,-124 3108.4,-124 3108.4,-84 3108.4,-84 3108.4,-78 3114.4,-72 3120.4,-72 3120.4,-72 3269.06,-72 3269.06,-72 3275.06,-72 3281.06,-78 3281.06,-84 3281.06,-84 3281.06,-124 3281.06,-124 3281.06,-130 3275.06,-136 3269.06,-136\"/>\n",
       "<text text-anchor=\"start\" x=\"3116.56\" y=\"-120.8\" font-family=\"Helvetica,sans-Serif\" font-size=\"14.00\">Humibyduration ≤ 0.6375</text>\n",
       "<text text-anchor=\"start\" x=\"3124.86\" y=\"-106.8\" font-family=\"Helvetica,sans-Serif\" font-size=\"14.00\">mse = 334034858.917</text>\n",
       "<text text-anchor=\"start\" x=\"3152.9\" y=\"-92.8\" font-family=\"Helvetica,sans-Serif\" font-size=\"14.00\">samples = 18</text>\n",
       "<text text-anchor=\"start\" x=\"3133.03\" y=\"-78.8\" font-family=\"Helvetica,sans-Serif\" font-size=\"14.00\">value = 22185.8333</text>\n",
       "</g>\n",
       "<!-- 347&#45;&gt;348 -->\n",
       "<g id=\"edge68\" class=\"edge\"><title>347&#45;&gt;348</title>\n",
       "<path fill=\"none\" stroke=\"black\" d=\"M3319.14,-171.992C3300.8,-162.117 3280.36,-151.109 3261.43,-140.916\"/>\n",
       "<polygon fill=\"black\" stroke=\"black\" points=\"3263.03,-137.802 3252.56,-136.142 3259.71,-143.965 3263.03,-137.802\"/>\n",
       "</g>\n",
       "<!-- 353 -->\n",
       "<g id=\"node72\" class=\"node\"><title>353</title>\n",
       "<path fill=\"#e58139\" fill-opacity=\"0.137255\" stroke=\"black\" d=\"M3442.45,-129C3442.45,-129 3311,-129 3311,-129 3305,-129 3299,-123 3299,-117 3299,-117 3299,-91 3299,-91 3299,-85 3305,-79 3311,-79 3311,-79 3442.45,-79 3442.45,-79 3448.45,-79 3454.45,-85 3454.45,-91 3454.45,-91 3454.45,-117 3454.45,-117 3454.45,-123 3448.45,-129 3442.45,-129\"/>\n",
       "<text text-anchor=\"start\" x=\"3306.86\" y=\"-113.8\" font-family=\"Helvetica,sans-Serif\" font-size=\"14.00\">mse = 777155556.395</text>\n",
       "<text text-anchor=\"start\" x=\"3338.79\" y=\"-99.8\" font-family=\"Helvetica,sans-Serif\" font-size=\"14.00\">samples = 9</text>\n",
       "<text text-anchor=\"start\" x=\"3315.03\" y=\"-85.8\" font-family=\"Helvetica,sans-Serif\" font-size=\"14.00\">value = 55139.7778</text>\n",
       "</g>\n",
       "<!-- 347&#45;&gt;353 -->\n",
       "<g id=\"edge71\" class=\"edge\"><title>347&#45;&gt;353</title>\n",
       "<path fill=\"none\" stroke=\"black\" d=\"M3376.73,-171.992C3376.73,-161.646 3376.73,-150.057 3376.73,-139.465\"/>\n",
       "<polygon fill=\"black\" stroke=\"black\" points=\"3380.23,-139.288 3376.73,-129.288 3373.23,-139.288 3380.23,-139.288\"/>\n",
       "</g>\n",
       "<!-- 349 -->\n",
       "<g id=\"node70\" class=\"node\"><title>349</title>\n",
       "<path fill=\"#c0c0c0\" stroke=\"black\" d=\"M3163.73,-36C3163.73,-36 3133.73,-36 3133.73,-36 3127.73,-36 3121.73,-30 3121.73,-24 3121.73,-24 3121.73,-12 3121.73,-12 3121.73,-6 3127.73,-0 3133.73,-0 3133.73,-0 3163.73,-0 3163.73,-0 3169.73,-0 3175.73,-6 3175.73,-12 3175.73,-12 3175.73,-24 3175.73,-24 3175.73,-30 3169.73,-36 3163.73,-36\"/>\n",
       "<text text-anchor=\"middle\" x=\"3148.73\" y=\"-13.8\" font-family=\"Helvetica,sans-Serif\" font-size=\"14.00\">(...)</text>\n",
       "</g>\n",
       "<!-- 348&#45;&gt;349 -->\n",
       "<g id=\"edge69\" class=\"edge\"><title>348&#45;&gt;349</title>\n",
       "<path fill=\"none\" stroke=\"black\" d=\"M3177.6,-71.7215C3172.85,-63.0455 3167.74,-53.7153 3163.16,-45.3513\"/>\n",
       "<polygon fill=\"black\" stroke=\"black\" points=\"3166.13,-43.4947 3158.26,-36.4049 3159.99,-46.8569 3166.13,-43.4947\"/>\n",
       "</g>\n",
       "<!-- 352 -->\n",
       "<g id=\"node71\" class=\"node\"><title>352</title>\n",
       "<path fill=\"#c0c0c0\" stroke=\"black\" d=\"M3235.73,-36C3235.73,-36 3205.73,-36 3205.73,-36 3199.73,-36 3193.73,-30 3193.73,-24 3193.73,-24 3193.73,-12 3193.73,-12 3193.73,-6 3199.73,-0 3205.73,-0 3205.73,-0 3235.73,-0 3235.73,-0 3241.73,-0 3247.73,-6 3247.73,-12 3247.73,-12 3247.73,-24 3247.73,-24 3247.73,-30 3241.73,-36 3235.73,-36\"/>\n",
       "<text text-anchor=\"middle\" x=\"3220.73\" y=\"-13.8\" font-family=\"Helvetica,sans-Serif\" font-size=\"14.00\">(...)</text>\n",
       "</g>\n",
       "<!-- 348&#45;&gt;352 -->\n",
       "<g id=\"edge70\" class=\"edge\"><title>348&#45;&gt;352</title>\n",
       "<path fill=\"none\" stroke=\"black\" d=\"M3204.41,-71.7215C3207.01,-63.3253 3209.8,-54.3166 3212.32,-46.1636\"/>\n",
       "<polygon fill=\"black\" stroke=\"black\" points=\"3215.73,-46.9926 3215.34,-36.4049 3209.04,-44.9228 3215.73,-46.9926\"/>\n",
       "</g>\n",
       "<!-- 355 -->\n",
       "<g id=\"node74\" class=\"node\"><title>355</title>\n",
       "<path fill=\"#e58139\" fill-opacity=\"0.031373\" stroke=\"black\" d=\"M3616.45,-129C3616.45,-129 3485,-129 3485,-129 3479,-129 3473,-123 3473,-117 3473,-117 3473,-91 3473,-91 3473,-85 3479,-79 3485,-79 3485,-79 3616.45,-79 3616.45,-79 3622.45,-79 3628.45,-85 3628.45,-91 3628.45,-91 3628.45,-117 3628.45,-117 3628.45,-123 3622.45,-129 3616.45,-129\"/>\n",
       "<text text-anchor=\"start\" x=\"3480.86\" y=\"-113.8\" font-family=\"Helvetica,sans-Serif\" font-size=\"14.00\">mse = 88276850.6667</text>\n",
       "<text text-anchor=\"start\" x=\"3512.79\" y=\"-99.8\" font-family=\"Helvetica,sans-Serif\" font-size=\"14.00\">samples = 9</text>\n",
       "<text text-anchor=\"start\" x=\"3489.03\" y=\"-85.8\" font-family=\"Helvetica,sans-Serif\" font-size=\"14.00\">value = 13643.6667</text>\n",
       "</g>\n",
       "<!-- 354&#45;&gt;355 -->\n",
       "<g id=\"edge73\" class=\"edge\"><title>354&#45;&gt;355</title>\n",
       "<path fill=\"none\" stroke=\"black\" d=\"M3615.67,-171.992C3604.7,-160.676 3592.29,-147.874 3581.28,-136.514\"/>\n",
       "<polygon fill=\"black\" stroke=\"black\" points=\"3583.75,-134.032 3574.27,-129.288 3578.72,-138.904 3583.75,-134.032\"/>\n",
       "</g>\n",
       "<!-- 356 -->\n",
       "<g id=\"node75\" class=\"node\"><title>356</title>\n",
       "<path fill=\"#e58139\" fill-opacity=\"0.266667\" stroke=\"black\" d=\"M3804.71,-136C3804.71,-136 3658.74,-136 3658.74,-136 3652.74,-136 3646.74,-130 3646.74,-124 3646.74,-124 3646.74,-84 3646.74,-84 3646.74,-78 3652.74,-72 3658.74,-72 3658.74,-72 3804.71,-72 3804.71,-72 3810.71,-72 3816.71,-78 3816.71,-84 3816.71,-84 3816.71,-124 3816.71,-124 3816.71,-130 3810.71,-136 3804.71,-136\"/>\n",
       "<text text-anchor=\"start\" x=\"3654.73\" y=\"-120.8\" font-family=\"Helvetica,sans-Serif\" font-size=\"14.00\">subscriber ratio ≤ 0.8856</text>\n",
       "<text text-anchor=\"start\" x=\"3662.38\" y=\"-106.8\" font-family=\"Helvetica,sans-Serif\" font-size=\"14.00\">mse = 2957443911.63</text>\n",
       "<text text-anchor=\"start\" x=\"3686.01\" y=\"-92.8\" font-family=\"Helvetica,sans-Serif\" font-size=\"14.00\">samples = 169</text>\n",
       "<text text-anchor=\"start\" x=\"3666.14\" y=\"-78.8\" font-family=\"Helvetica,sans-Serif\" font-size=\"14.00\">value = 106698.8698</text>\n",
       "</g>\n",
       "<!-- 354&#45;&gt;356 -->\n",
       "<g id=\"edge74\" class=\"edge\"><title>354&#45;&gt;356</title>\n",
       "<path fill=\"none\" stroke=\"black\" d=\"M3672.94,-171.992C3680.78,-163.055 3689.44,-153.191 3697.64,-143.842\"/>\n",
       "<polygon fill=\"black\" stroke=\"black\" points=\"3700.43,-145.967 3704.4,-136.142 3695.17,-141.35 3700.43,-145.967\"/>\n",
       "</g>\n",
       "<!-- 357 -->\n",
       "<g id=\"node76\" class=\"node\"><title>357</title>\n",
       "<path fill=\"#c0c0c0\" stroke=\"black\" d=\"M3710.73,-36C3710.73,-36 3680.73,-36 3680.73,-36 3674.73,-36 3668.73,-30 3668.73,-24 3668.73,-24 3668.73,-12 3668.73,-12 3668.73,-6 3674.73,-0 3680.73,-0 3680.73,-0 3710.73,-0 3710.73,-0 3716.73,-0 3722.73,-6 3722.73,-12 3722.73,-12 3722.73,-24 3722.73,-24 3722.73,-30 3716.73,-36 3710.73,-36\"/>\n",
       "<text text-anchor=\"middle\" x=\"3695.73\" y=\"-13.8\" font-family=\"Helvetica,sans-Serif\" font-size=\"14.00\">(...)</text>\n",
       "</g>\n",
       "<!-- 356&#45;&gt;357 -->\n",
       "<g id=\"edge75\" class=\"edge\"><title>356&#45;&gt;357</title>\n",
       "<path fill=\"none\" stroke=\"black\" d=\"M3718.32,-71.7215C3714.64,-63.1388 3710.69,-53.9159 3707.14,-45.6214\"/>\n",
       "<polygon fill=\"black\" stroke=\"black\" points=\"3710.34,-44.2176 3703.19,-36.4049 3703.91,-46.9751 3710.34,-44.2176\"/>\n",
       "</g>\n",
       "<!-- 376 -->\n",
       "<g id=\"node77\" class=\"node\"><title>376</title>\n",
       "<path fill=\"#c0c0c0\" stroke=\"black\" d=\"M3782.73,-36C3782.73,-36 3752.73,-36 3752.73,-36 3746.73,-36 3740.73,-30 3740.73,-24 3740.73,-24 3740.73,-12 3740.73,-12 3740.73,-6 3746.73,-0 3752.73,-0 3752.73,-0 3782.73,-0 3782.73,-0 3788.73,-0 3794.73,-6 3794.73,-12 3794.73,-12 3794.73,-24 3794.73,-24 3794.73,-30 3788.73,-36 3782.73,-36\"/>\n",
       "<text text-anchor=\"middle\" x=\"3767.73\" y=\"-13.8\" font-family=\"Helvetica,sans-Serif\" font-size=\"14.00\">(...)</text>\n",
       "</g>\n",
       "<!-- 356&#45;&gt;376 -->\n",
       "<g id=\"edge76\" class=\"edge\"><title>356&#45;&gt;376</title>\n",
       "<path fill=\"none\" stroke=\"black\" d=\"M3745.13,-71.7215C3748.81,-63.1388 3752.76,-53.9159 3756.32,-45.6214\"/>\n",
       "<polygon fill=\"black\" stroke=\"black\" points=\"3759.55,-46.9751 3760.27,-36.4049 3753.11,-44.2176 3759.55,-46.9751\"/>\n",
       "</g>\n",
       "<!-- 388 -->\n",
       "<g id=\"node79\" class=\"node\"><title>388</title>\n",
       "<path fill=\"#e58139\" fill-opacity=\"0.098039\" stroke=\"black\" d=\"M4068.41,-236C4068.41,-236 3911.04,-236 3911.04,-236 3905.04,-236 3899.04,-230 3899.04,-224 3899.04,-224 3899.04,-184 3899.04,-184 3899.04,-178 3905.04,-172 3911.04,-172 3911.04,-172 4068.41,-172 4068.41,-172 4074.41,-172 4080.41,-178 4080.41,-184 4080.41,-184 4080.41,-224 4080.41,-224 4080.41,-230 4074.41,-236 4068.41,-236\"/>\n",
       "<text text-anchor=\"start\" x=\"3906.89\" y=\"-220.8\" font-family=\"Helvetica,sans-Serif\" font-size=\"14.00\">Tempbyduration ≤ 56.8224</text>\n",
       "<text text-anchor=\"start\" x=\"3919.86\" y=\"-206.8\" font-family=\"Helvetica,sans-Serif\" font-size=\"14.00\">mse = 329477032.375</text>\n",
       "<text text-anchor=\"start\" x=\"3947.9\" y=\"-192.8\" font-family=\"Helvetica,sans-Serif\" font-size=\"14.00\">samples = 48</text>\n",
       "<text text-anchor=\"start\" x=\"3928.55\" y=\"-178.8\" font-family=\"Helvetica,sans-Serif\" font-size=\"14.00\">value = 39117.4792</text>\n",
       "</g>\n",
       "<!-- 387&#45;&gt;388 -->\n",
       "<g id=\"edge78\" class=\"edge\"><title>387&#45;&gt;388</title>\n",
       "<path fill=\"none\" stroke=\"black\" d=\"M3989.73,-271.992C3989.73,-263.859 3989.73,-254.959 3989.73,-246.378\"/>\n",
       "<polygon fill=\"black\" stroke=\"black\" points=\"3993.23,-246.142 3989.73,-236.142 3986.23,-246.142 3993.23,-246.142\"/>\n",
       "</g>\n",
       "<!-- 403 -->\n",
       "<g id=\"node86\" class=\"node\"><title>403</title>\n",
       "<path fill=\"#e58139\" fill-opacity=\"0.043137\" stroke=\"black\" d=\"M4365.25,-236C4365.25,-236 4184.2,-236 4184.2,-236 4178.2,-236 4172.2,-230 4172.2,-224 4172.2,-224 4172.2,-184 4172.2,-184 4172.2,-178 4178.2,-172 4184.2,-172 4184.2,-172 4365.25,-172 4365.25,-172 4371.25,-172 4377.25,-178 4377.25,-184 4377.25,-184 4377.25,-224 4377.25,-224 4377.25,-230 4371.25,-236 4365.25,-236\"/>\n",
       "<text text-anchor=\"start\" x=\"4180.21\" y=\"-220.8\" font-family=\"Helvetica,sans-Serif\" font-size=\"14.00\">end_crime_score ≤ 3490.3521</text>\n",
       "<text text-anchor=\"start\" x=\"4204.86\" y=\"-206.8\" font-family=\"Helvetica,sans-Serif\" font-size=\"14.00\">mse = 126018542.321</text>\n",
       "<text text-anchor=\"start\" x=\"4232.9\" y=\"-192.8\" font-family=\"Helvetica,sans-Serif\" font-size=\"14.00\">samples = 27</text>\n",
       "<text text-anchor=\"start\" x=\"4214.58\" y=\"-178.8\" font-family=\"Helvetica,sans-Serif\" font-size=\"14.00\">value = 18495.1111</text>\n",
       "</g>\n",
       "<!-- 387&#45;&gt;403 -->\n",
       "<g id=\"edge85\" class=\"edge\"><title>387&#45;&gt;403</title>\n",
       "<path fill=\"none\" stroke=\"black\" d=\"M4077.56,-272.797C4108.24,-262.247 4142.91,-250.326 4174.52,-239.456\"/>\n",
       "<polygon fill=\"black\" stroke=\"black\" points=\"4175.91,-242.68 4184.23,-236.119 4173.63,-236.061 4175.91,-242.68\"/>\n",
       "</g>\n",
       "<!-- 389 -->\n",
       "<g id=\"node80\" class=\"node\"><title>389</title>\n",
       "<path fill=\"#e58139\" fill-opacity=\"0.113725\" stroke=\"black\" d=\"M3984.68,-136C3984.68,-136 3846.77,-136 3846.77,-136 3840.77,-136 3834.77,-130 3834.77,-124 3834.77,-124 3834.77,-84 3834.77,-84 3834.77,-78 3840.77,-72 3846.77,-72 3846.77,-72 3984.68,-72 3984.68,-72 3990.68,-72 3996.68,-78 3996.68,-84 3996.68,-84 3996.68,-124 3996.68,-124 3996.68,-130 3990.68,-136 3984.68,-136\"/>\n",
       "<text text-anchor=\"start\" x=\"3843\" y=\"-120.8\" font-family=\"Helvetica,sans-Serif\" font-size=\"14.00\">afternoon rate ≤ 0.3196</text>\n",
       "<text text-anchor=\"start\" x=\"3845.86\" y=\"-106.8\" font-family=\"Helvetica,sans-Serif\" font-size=\"14.00\">mse = 307482221.213</text>\n",
       "<text text-anchor=\"start\" x=\"3873.9\" y=\"-92.8\" font-family=\"Helvetica,sans-Serif\" font-size=\"14.00\">samples = 29</text>\n",
       "<text text-anchor=\"start\" x=\"3854.03\" y=\"-78.8\" font-family=\"Helvetica,sans-Serif\" font-size=\"14.00\">value = 45593.5517</text>\n",
       "</g>\n",
       "<!-- 388&#45;&gt;389 -->\n",
       "<g id=\"edge79\" class=\"edge\"><title>388&#45;&gt;389</title>\n",
       "<path fill=\"none\" stroke=\"black\" d=\"M3966.31,-171.992C3959.7,-163.234 3952.41,-153.585 3945.48,-144.404\"/>\n",
       "<polygon fill=\"black\" stroke=\"black\" points=\"3948.06,-142.014 3939.24,-136.142 3942.48,-146.232 3948.06,-142.014\"/>\n",
       "</g>\n",
       "<!-- 398 -->\n",
       "<g id=\"node83\" class=\"node\"><title>398</title>\n",
       "<path fill=\"#e58139\" fill-opacity=\"0.070588\" stroke=\"black\" d=\"M4156.92,-136C4156.92,-136 4026.53,-136 4026.53,-136 4020.53,-136 4014.53,-130 4014.53,-124 4014.53,-124 4014.53,-84 4014.53,-84 4014.53,-78 4020.53,-72 4026.53,-72 4026.53,-72 4156.92,-72 4156.92,-72 4162.92,-72 4168.92,-78 4168.92,-84 4168.92,-84 4168.92,-124 4168.92,-124 4168.92,-130 4162.92,-136 4156.92,-136\"/>\n",
       "<text text-anchor=\"start\" x=\"4023.29\" y=\"-120.8\" font-family=\"Helvetica,sans-Serif\" font-size=\"14.00\">morning rate ≤ 0.2881</text>\n",
       "<text text-anchor=\"start\" x=\"4022.38\" y=\"-106.8\" font-family=\"Helvetica,sans-Serif\" font-size=\"14.00\">mse = 201331145.945</text>\n",
       "<text text-anchor=\"start\" x=\"4049.9\" y=\"-92.8\" font-family=\"Helvetica,sans-Serif\" font-size=\"14.00\">samples = 19</text>\n",
       "<text text-anchor=\"start\" x=\"4030.03\" y=\"-78.8\" font-family=\"Helvetica,sans-Serif\" font-size=\"14.00\">value = 29232.9474</text>\n",
       "</g>\n",
       "<!-- 388&#45;&gt;398 -->\n",
       "<g id=\"edge82\" class=\"edge\"><title>388&#45;&gt;398</title>\n",
       "<path fill=\"none\" stroke=\"black\" d=\"M4022,-171.992C4031.49,-162.876 4041.98,-152.796 4051.88,-143.282\"/>\n",
       "<polygon fill=\"black\" stroke=\"black\" points=\"4054.53,-145.595 4059.31,-136.142 4049.68,-140.547 4054.53,-145.595\"/>\n",
       "</g>\n",
       "<!-- 390 -->\n",
       "<g id=\"node81\" class=\"node\"><title>390</title>\n",
       "<path fill=\"#c0c0c0\" stroke=\"black\" d=\"M3874.73,-36C3874.73,-36 3844.73,-36 3844.73,-36 3838.73,-36 3832.73,-30 3832.73,-24 3832.73,-24 3832.73,-12 3832.73,-12 3832.73,-6 3838.73,-0 3844.73,-0 3844.73,-0 3874.73,-0 3874.73,-0 3880.73,-0 3886.73,-6 3886.73,-12 3886.73,-12 3886.73,-24 3886.73,-24 3886.73,-30 3880.73,-36 3874.73,-36\"/>\n",
       "<text text-anchor=\"middle\" x=\"3859.73\" y=\"-13.8\" font-family=\"Helvetica,sans-Serif\" font-size=\"14.00\">(...)</text>\n",
       "</g>\n",
       "<!-- 389&#45;&gt;390 -->\n",
       "<g id=\"edge80\" class=\"edge\"><title>389&#45;&gt;390</title>\n",
       "<path fill=\"none\" stroke=\"black\" d=\"M3894.88,-71.7215C3888.97,-62.8589 3882.6,-53.3137 3876.94,-44.813\"/>\n",
       "<polygon fill=\"black\" stroke=\"black\" points=\"3879.79,-42.7839 3871.33,-36.4049 3873.97,-46.6668 3879.79,-42.7839\"/>\n",
       "</g>\n",
       "<!-- 397 -->\n",
       "<g id=\"node82\" class=\"node\"><title>397</title>\n",
       "<path fill=\"#c0c0c0\" stroke=\"black\" d=\"M3946.73,-36C3946.73,-36 3916.73,-36 3916.73,-36 3910.73,-36 3904.73,-30 3904.73,-24 3904.73,-24 3904.73,-12 3904.73,-12 3904.73,-6 3910.73,-0 3916.73,-0 3916.73,-0 3946.73,-0 3946.73,-0 3952.73,-0 3958.73,-6 3958.73,-12 3958.73,-12 3958.73,-24 3958.73,-24 3958.73,-30 3952.73,-36 3946.73,-36\"/>\n",
       "<text text-anchor=\"middle\" x=\"3931.73\" y=\"-13.8\" font-family=\"Helvetica,sans-Serif\" font-size=\"14.00\">(...)</text>\n",
       "</g>\n",
       "<!-- 389&#45;&gt;397 -->\n",
       "<g id=\"edge81\" class=\"edge\"><title>389&#45;&gt;397</title>\n",
       "<path fill=\"none\" stroke=\"black\" d=\"M3921.69,-71.7215C3923.27,-63.4186 3924.96,-54.5167 3926.5,-46.4357\"/>\n",
       "<polygon fill=\"black\" stroke=\"black\" points=\"3929.98,-46.8832 3928.41,-36.4049 3923.1,-45.5733 3929.98,-46.8832\"/>\n",
       "</g>\n",
       "<!-- 399 -->\n",
       "<g id=\"node84\" class=\"node\"><title>399</title>\n",
       "<path fill=\"#c0c0c0\" stroke=\"black\" d=\"M4070.73,-36C4070.73,-36 4040.73,-36 4040.73,-36 4034.73,-36 4028.73,-30 4028.73,-24 4028.73,-24 4028.73,-12 4028.73,-12 4028.73,-6 4034.73,-0 4040.73,-0 4040.73,-0 4070.73,-0 4070.73,-0 4076.73,-0 4082.73,-6 4082.73,-12 4082.73,-12 4082.73,-24 4082.73,-24 4082.73,-30 4076.73,-36 4070.73,-36\"/>\n",
       "<text text-anchor=\"middle\" x=\"4055.73\" y=\"-13.8\" font-family=\"Helvetica,sans-Serif\" font-size=\"14.00\">(...)</text>\n",
       "</g>\n",
       "<!-- 398&#45;&gt;399 -->\n",
       "<g id=\"edge83\" class=\"edge\"><title>398&#45;&gt;399</title>\n",
       "<path fill=\"none\" stroke=\"black\" d=\"M4078.32,-71.7215C4074.64,-63.1388 4070.69,-53.9159 4067.14,-45.6214\"/>\n",
       "<polygon fill=\"black\" stroke=\"black\" points=\"4070.34,-44.2176 4063.19,-36.4049 4063.91,-46.9751 4070.34,-44.2176\"/>\n",
       "</g>\n",
       "<!-- 402 -->\n",
       "<g id=\"node85\" class=\"node\"><title>402</title>\n",
       "<path fill=\"#c0c0c0\" stroke=\"black\" d=\"M4142.73,-36C4142.73,-36 4112.73,-36 4112.73,-36 4106.73,-36 4100.73,-30 4100.73,-24 4100.73,-24 4100.73,-12 4100.73,-12 4100.73,-6 4106.73,-0 4112.73,-0 4112.73,-0 4142.73,-0 4142.73,-0 4148.73,-0 4154.73,-6 4154.73,-12 4154.73,-12 4154.73,-24 4154.73,-24 4154.73,-30 4148.73,-36 4142.73,-36\"/>\n",
       "<text text-anchor=\"middle\" x=\"4127.73\" y=\"-13.8\" font-family=\"Helvetica,sans-Serif\" font-size=\"14.00\">(...)</text>\n",
       "</g>\n",
       "<!-- 398&#45;&gt;402 -->\n",
       "<g id=\"edge84\" class=\"edge\"><title>398&#45;&gt;402</title>\n",
       "<path fill=\"none\" stroke=\"black\" d=\"M4105.13,-71.7215C4108.81,-63.1388 4112.76,-53.9159 4116.32,-45.6214\"/>\n",
       "<polygon fill=\"black\" stroke=\"black\" points=\"4119.55,-46.9751 4120.27,-36.4049 4113.11,-44.2176 4119.55,-46.9751\"/>\n",
       "</g>\n",
       "<!-- 404 -->\n",
       "<g id=\"node87\" class=\"node\"><title>404</title>\n",
       "<path fill=\"#e58139\" fill-opacity=\"0.062745\" stroke=\"black\" d=\"M4350.68,-136C4350.68,-136 4198.77,-136 4198.77,-136 4192.77,-136 4186.77,-130 4186.77,-124 4186.77,-124 4186.77,-84 4186.77,-84 4186.77,-78 4192.77,-72 4198.77,-72 4198.77,-72 4350.68,-72 4350.68,-72 4356.68,-72 4362.68,-78 4362.68,-84 4362.68,-84 4362.68,-124 4362.68,-124 4362.68,-130 4356.68,-136 4350.68,-136\"/>\n",
       "<text text-anchor=\"start\" x=\"4195\" y=\"-120.8\" font-family=\"Helvetica,sans-Serif\" font-size=\"14.00\">Dewbyduration ≤ 50.1761</text>\n",
       "<text text-anchor=\"start\" x=\"4204.86\" y=\"-106.8\" font-family=\"Helvetica,sans-Serif\" font-size=\"14.00\">mse = 74268236.4961</text>\n",
       "<text text-anchor=\"start\" x=\"4232.9\" y=\"-92.8\" font-family=\"Helvetica,sans-Serif\" font-size=\"14.00\">samples = 16</text>\n",
       "<text text-anchor=\"start\" x=\"4213.03\" y=\"-78.8\" font-family=\"Helvetica,sans-Serif\" font-size=\"14.00\">value = 25431.5625</text>\n",
       "</g>\n",
       "<!-- 403&#45;&gt;404 -->\n",
       "<g id=\"edge86\" class=\"edge\"><title>403&#45;&gt;404</title>\n",
       "<path fill=\"none\" stroke=\"black\" d=\"M4274.73,-171.992C4274.73,-163.859 4274.73,-154.959 4274.73,-146.378\"/>\n",
       "<polygon fill=\"black\" stroke=\"black\" points=\"4278.23,-146.142 4274.73,-136.142 4271.23,-146.142 4278.23,-146.142\"/>\n",
       "</g>\n",
       "<!-- 409 -->\n",
       "<g id=\"node90\" class=\"node\"><title>409</title>\n",
       "<path fill=\"#e58139\" fill-opacity=\"0.019608\" stroke=\"black\" d=\"M4538.71,-136C4538.71,-136 4392.74,-136 4392.74,-136 4386.74,-136 4380.74,-130 4380.74,-124 4380.74,-124 4380.74,-84 4380.74,-84 4380.74,-78 4386.74,-72 4392.74,-72 4392.74,-72 4538.71,-72 4538.71,-72 4544.71,-72 4550.71,-78 4550.71,-84 4550.71,-84 4550.71,-124 4550.71,-124 4550.71,-130 4544.71,-136 4538.71,-136\"/>\n",
       "<text text-anchor=\"start\" x=\"4388.73\" y=\"-120.8\" font-family=\"Helvetica,sans-Serif\" font-size=\"14.00\">subscriber ratio ≤ 0.9677</text>\n",
       "<text text-anchor=\"start\" x=\"4396.38\" y=\"-106.8\" font-family=\"Helvetica,sans-Serif\" font-size=\"14.00\">mse = 29511527.6529</text>\n",
       "<text text-anchor=\"start\" x=\"4424.41\" y=\"-92.8\" font-family=\"Helvetica,sans-Serif\" font-size=\"14.00\">samples = 11</text>\n",
       "<text text-anchor=\"start\" x=\"4407.93\" y=\"-78.8\" font-family=\"Helvetica,sans-Serif\" font-size=\"14.00\">value = 8405.7273</text>\n",
       "</g>\n",
       "<!-- 403&#45;&gt;409 -->\n",
       "<g id=\"edge89\" class=\"edge\"><title>403&#45;&gt;409</title>\n",
       "<path fill=\"none\" stroke=\"black\" d=\"M4335.16,-171.992C4354.5,-162.072 4376.06,-151.009 4396,-140.778\"/>\n",
       "<polygon fill=\"black\" stroke=\"black\" points=\"4397.73,-143.822 4405.03,-136.142 4394.54,-137.594 4397.73,-143.822\"/>\n",
       "</g>\n",
       "<!-- 405 -->\n",
       "<g id=\"node88\" class=\"node\"><title>405</title>\n",
       "<path fill=\"#c0c0c0\" stroke=\"black\" d=\"M4265.73,-36C4265.73,-36 4235.73,-36 4235.73,-36 4229.73,-36 4223.73,-30 4223.73,-24 4223.73,-24 4223.73,-12 4223.73,-12 4223.73,-6 4229.73,-0 4235.73,-0 4235.73,-0 4265.73,-0 4265.73,-0 4271.73,-0 4277.73,-6 4277.73,-12 4277.73,-12 4277.73,-24 4277.73,-24 4277.73,-30 4271.73,-36 4265.73,-36\"/>\n",
       "<text text-anchor=\"middle\" x=\"4250.73\" y=\"-13.8\" font-family=\"Helvetica,sans-Serif\" font-size=\"14.00\">(...)</text>\n",
       "</g>\n",
       "<!-- 404&#45;&gt;405 -->\n",
       "<g id=\"edge87\" class=\"edge\"><title>404&#45;&gt;405</title>\n",
       "<path fill=\"none\" stroke=\"black\" d=\"M4265.79,-71.7215C4263.39,-63.3253 4260.82,-54.3166 4258.49,-46.1636\"/>\n",
       "<polygon fill=\"black\" stroke=\"black\" points=\"4261.81,-45.0585 4255.7,-36.4049 4255.08,-46.9816 4261.81,-45.0585\"/>\n",
       "</g>\n",
       "<!-- 408 -->\n",
       "<g id=\"node89\" class=\"node\"><title>408</title>\n",
       "<path fill=\"#c0c0c0\" stroke=\"black\" d=\"M4337.73,-36C4337.73,-36 4307.73,-36 4307.73,-36 4301.73,-36 4295.73,-30 4295.73,-24 4295.73,-24 4295.73,-12 4295.73,-12 4295.73,-6 4301.73,-0 4307.73,-0 4307.73,-0 4337.73,-0 4337.73,-0 4343.73,-0 4349.73,-6 4349.73,-12 4349.73,-12 4349.73,-24 4349.73,-24 4349.73,-30 4343.73,-36 4337.73,-36\"/>\n",
       "<text text-anchor=\"middle\" x=\"4322.73\" y=\"-13.8\" font-family=\"Helvetica,sans-Serif\" font-size=\"14.00\">(...)</text>\n",
       "</g>\n",
       "<!-- 404&#45;&gt;408 -->\n",
       "<g id=\"edge88\" class=\"edge\"><title>404&#45;&gt;408</title>\n",
       "<path fill=\"none\" stroke=\"black\" d=\"M4292.6,-71.7215C4297.56,-63.0455 4302.89,-53.7153 4307.67,-45.3513\"/>\n",
       "<polygon fill=\"black\" stroke=\"black\" points=\"4310.86,-46.8238 4312.78,-36.4049 4304.78,-43.3508 4310.86,-46.8238\"/>\n",
       "</g>\n",
       "<!-- 410 -->\n",
       "<g id=\"node91\" class=\"node\"><title>410</title>\n",
       "<path fill=\"#c0c0c0\" stroke=\"black\" d=\"M4432.73,-36C4432.73,-36 4402.73,-36 4402.73,-36 4396.73,-36 4390.73,-30 4390.73,-24 4390.73,-24 4390.73,-12 4390.73,-12 4390.73,-6 4396.73,-0 4402.73,-0 4402.73,-0 4432.73,-0 4432.73,-0 4438.73,-0 4444.73,-6 4444.73,-12 4444.73,-12 4444.73,-24 4444.73,-24 4444.73,-30 4438.73,-36 4432.73,-36\"/>\n",
       "<text text-anchor=\"middle\" x=\"4417.73\" y=\"-13.8\" font-family=\"Helvetica,sans-Serif\" font-size=\"14.00\">(...)</text>\n",
       "</g>\n",
       "<!-- 409&#45;&gt;410 -->\n",
       "<g id=\"edge90\" class=\"edge\"><title>409&#45;&gt;410</title>\n",
       "<path fill=\"none\" stroke=\"black\" d=\"M4447.85,-71.7215C4442.9,-63.0455 4437.56,-53.7153 4432.79,-45.3513\"/>\n",
       "<polygon fill=\"black\" stroke=\"black\" points=\"4435.67,-43.3508 4427.67,-36.4049 4429.6,-46.8238 4435.67,-43.3508\"/>\n",
       "</g>\n",
       "<!-- 411 -->\n",
       "<g id=\"node92\" class=\"node\"><title>411</title>\n",
       "<path fill=\"#c0c0c0\" stroke=\"black\" d=\"M4504.73,-36C4504.73,-36 4474.73,-36 4474.73,-36 4468.73,-36 4462.73,-30 4462.73,-24 4462.73,-24 4462.73,-12 4462.73,-12 4462.73,-6 4468.73,-0 4474.73,-0 4474.73,-0 4504.73,-0 4504.73,-0 4510.73,-0 4516.73,-6 4516.73,-12 4516.73,-12 4516.73,-24 4516.73,-24 4516.73,-30 4510.73,-36 4504.73,-36\"/>\n",
       "<text text-anchor=\"middle\" x=\"4489.73\" y=\"-13.8\" font-family=\"Helvetica,sans-Serif\" font-size=\"14.00\">(...)</text>\n",
       "</g>\n",
       "<!-- 409&#45;&gt;411 -->\n",
       "<g id=\"edge91\" class=\"edge\"><title>409&#45;&gt;411</title>\n",
       "<path fill=\"none\" stroke=\"black\" d=\"M4474.66,-71.7215C4477.06,-63.3253 4479.64,-54.3166 4481.97,-46.1636\"/>\n",
       "<polygon fill=\"black\" stroke=\"black\" points=\"4485.37,-46.9816 4484.75,-36.4049 4478.64,-45.0585 4485.37,-46.9816\"/>\n",
       "</g>\n",
       "<!-- 413 -->\n",
       "<g id=\"node94\" class=\"node\"><title>413</title>\n",
       "<path fill=\"#e58139\" fill-opacity=\"0.290196\" stroke=\"black\" d=\"M4978.7,-336C4978.7,-336 4840.75,-336 4840.75,-336 4834.75,-336 4828.75,-330 4828.75,-324 4828.75,-324 4828.75,-284 4828.75,-284 4828.75,-278 4834.75,-272 4840.75,-272 4840.75,-272 4978.7,-272 4978.7,-272 4984.7,-272 4990.7,-278 4990.7,-284 4990.7,-284 4990.7,-324 4990.7,-324 4990.7,-330 4984.7,-336 4978.7,-336\"/>\n",
       "<text text-anchor=\"start\" x=\"4836.74\" y=\"-320.8\" font-family=\"Helvetica,sans-Serif\" font-size=\"14.00\">Visibyduration ≤ 9.9473</text>\n",
       "<text text-anchor=\"start\" x=\"4839.86\" y=\"-306.8\" font-family=\"Helvetica,sans-Serif\" font-size=\"14.00\">mse = 7526640306.29</text>\n",
       "<text text-anchor=\"start\" x=\"4864.01\" y=\"-292.8\" font-family=\"Helvetica,sans-Serif\" font-size=\"14.00\">samples = 159</text>\n",
       "<text text-anchor=\"start\" x=\"4844.66\" y=\"-278.8\" font-family=\"Helvetica,sans-Serif\" font-size=\"14.00\">value = 116821.8302</text>\n",
       "</g>\n",
       "<!-- 412&#45;&gt;413 -->\n",
       "<g id=\"edge93\" class=\"edge\"><title>412&#45;&gt;413</title>\n",
       "<path fill=\"none\" stroke=\"black\" d=\"M4909.73,-371.992C4909.73,-363.859 4909.73,-354.959 4909.73,-346.378\"/>\n",
       "<polygon fill=\"black\" stroke=\"black\" points=\"4913.23,-346.142 4909.73,-336.142 4906.23,-346.142 4913.23,-346.142\"/>\n",
       "</g>\n",
       "<!-- 462 -->\n",
       "<g id=\"node107\" class=\"node\"><title>462</title>\n",
       "<path fill=\"#e58139\" fill-opacity=\"0.725490\" stroke=\"black\" d=\"M5566.68,-336C5566.68,-336 5414.77,-336 5414.77,-336 5408.77,-336 5402.77,-330 5402.77,-324 5402.77,-324 5402.77,-284 5402.77,-284 5402.77,-278 5408.77,-272 5414.77,-272 5414.77,-272 5566.68,-272 5566.68,-272 5572.68,-272 5578.68,-278 5578.68,-284 5578.68,-284 5578.68,-324 5578.68,-324 5578.68,-330 5572.68,-336 5566.68,-336\"/>\n",
       "<text text-anchor=\"start\" x=\"5411\" y=\"-320.8\" font-family=\"Helvetica,sans-Serif\" font-size=\"14.00\">Dewbyduration ≤ 51.3841</text>\n",
       "<text text-anchor=\"start\" x=\"5420.86\" y=\"-306.8\" font-family=\"Helvetica,sans-Serif\" font-size=\"14.00\">mse = 7145485406.01</text>\n",
       "<text text-anchor=\"start\" x=\"5445.01\" y=\"-292.8\" font-family=\"Helvetica,sans-Serif\" font-size=\"14.00\">samples = 466</text>\n",
       "<text text-anchor=\"start\" x=\"5425.14\" y=\"-278.8\" font-family=\"Helvetica,sans-Serif\" font-size=\"14.00\">value = 289335.6631</text>\n",
       "</g>\n",
       "<!-- 412&#45;&gt;462 -->\n",
       "<g id=\"edge106\" class=\"edge\"><title>412&#45;&gt;462</title>\n",
       "<path fill=\"none\" stroke=\"black\" d=\"M4994.83,-388.645C5100.69,-370.789 5281.06,-340.366 5392.63,-321.547\"/>\n",
       "<polygon fill=\"black\" stroke=\"black\" points=\"5393.26,-324.99 5402.54,-319.875 5392.1,-318.087 5393.26,-324.99\"/>\n",
       "</g>\n",
       "<!-- 414 -->\n",
       "<g id=\"node95\" class=\"node\"><title>414</title>\n",
       "<path fill=\"#e58139\" fill-opacity=\"0.443137\" stroke=\"black\" d=\"M4916.28,-236C4916.28,-236 4667.18,-236 4667.18,-236 4661.18,-236 4655.18,-230 4655.18,-224 4655.18,-224 4655.18,-184 4655.18,-184 4655.18,-178 4661.18,-172 4667.18,-172 4667.18,-172 4916.28,-172 4916.28,-172 4922.28,-172 4928.28,-178 4928.28,-184 4928.28,-184 4928.28,-224 4928.28,-224 4928.28,-230 4922.28,-236 4916.28,-236\"/>\n",
       "<text text-anchor=\"start\" x=\"4662.95\" y=\"-220.8\" font-family=\"Helvetica,sans-Serif\" font-size=\"14.00\">mean_household_income ≤ 139649.1875</text>\n",
       "<text text-anchor=\"start\" x=\"4721.86\" y=\"-206.8\" font-family=\"Helvetica,sans-Serif\" font-size=\"14.00\">mse = 6010696420.72</text>\n",
       "<text text-anchor=\"start\" x=\"4749.9\" y=\"-192.8\" font-family=\"Helvetica,sans-Serif\" font-size=\"14.00\">samples = 77</text>\n",
       "<text text-anchor=\"start\" x=\"4726.14\" y=\"-178.8\" font-family=\"Helvetica,sans-Serif\" font-size=\"14.00\">value = 177244.6623</text>\n",
       "</g>\n",
       "<!-- 413&#45;&gt;414 -->\n",
       "<g id=\"edge94\" class=\"edge\"><title>413&#45;&gt;414</title>\n",
       "<path fill=\"none\" stroke=\"black\" d=\"M4872.39,-271.992C4861.2,-262.698 4848.8,-252.4 4837.15,-242.723\"/>\n",
       "<polygon fill=\"black\" stroke=\"black\" points=\"4839.15,-239.839 4829.23,-236.142 4834.68,-245.224 4839.15,-239.839\"/>\n",
       "</g>\n",
       "<!-- 433 -->\n",
       "<g id=\"node100\" class=\"node\"><title>433</title>\n",
       "<path fill=\"#e58139\" fill-opacity=\"0.149020\" stroke=\"black\" d=\"M5096.7,-236C5096.7,-236 4958.75,-236 4958.75,-236 4952.75,-236 4946.75,-230 4946.75,-224 4946.75,-224 4946.75,-184 4946.75,-184 4946.75,-178 4952.75,-172 4958.75,-172 4958.75,-172 5096.7,-172 5096.7,-172 5102.7,-172 5108.7,-178 5108.7,-184 5108.7,-184 5108.7,-224 5108.7,-224 5108.7,-230 5102.7,-236 5096.7,-236\"/>\n",
       "<text text-anchor=\"start\" x=\"4954.74\" y=\"-220.8\" font-family=\"Helvetica,sans-Serif\" font-size=\"14.00\">Visibyduration ≤ 9.9989</text>\n",
       "<text text-anchor=\"start\" x=\"4957.86\" y=\"-206.8\" font-family=\"Helvetica,sans-Serif\" font-size=\"14.00\">mse = 2302588064.17</text>\n",
       "<text text-anchor=\"start\" x=\"4985.9\" y=\"-192.8\" font-family=\"Helvetica,sans-Serif\" font-size=\"14.00\">samples = 82</text>\n",
       "<text text-anchor=\"start\" x=\"4966.03\" y=\"-178.8\" font-family=\"Helvetica,sans-Serif\" font-size=\"14.00\">value = 60083.3171</text>\n",
       "</g>\n",
       "<!-- 413&#45;&gt;433 -->\n",
       "<g id=\"edge99\" class=\"edge\"><title>413&#45;&gt;433</title>\n",
       "<path fill=\"none\" stroke=\"black\" d=\"M4947.06,-271.992C4958.25,-262.698 4970.65,-252.4 4982.31,-242.723\"/>\n",
       "<polygon fill=\"black\" stroke=\"black\" points=\"4984.77,-245.224 4990.23,-236.142 4980.3,-239.839 4984.77,-245.224\"/>\n",
       "</g>\n",
       "<!-- 415 -->\n",
       "<g id=\"node96\" class=\"node\"><title>415</title>\n",
       "<path fill=\"#e58139\" fill-opacity=\"0.098039\" stroke=\"black\" d=\"M4696.88,-129C4696.88,-129 4580.57,-129 4580.57,-129 4574.57,-129 4568.57,-123 4568.57,-117 4568.57,-117 4568.57,-91 4568.57,-91 4568.57,-85 4574.57,-79 4580.57,-79 4580.57,-79 4696.88,-79 4696.88,-79 4702.88,-79 4708.88,-85 4708.88,-91 4708.88,-91 4708.88,-117 4708.88,-117 4708.88,-123 4702.88,-129 4696.88,-129\"/>\n",
       "<text text-anchor=\"start\" x=\"4576.65\" y=\"-113.8\" font-family=\"Helvetica,sans-Serif\" font-size=\"14.00\">mse = 422366986.5</text>\n",
       "<text text-anchor=\"start\" x=\"4600.79\" y=\"-99.8\" font-family=\"Helvetica,sans-Serif\" font-size=\"14.00\">samples = 8</text>\n",
       "<text text-anchor=\"start\" x=\"4588.71\" y=\"-85.8\" font-family=\"Helvetica,sans-Serif\" font-size=\"14.00\">value = 39130.5</text>\n",
       "</g>\n",
       "<!-- 414&#45;&gt;415 -->\n",
       "<g id=\"edge95\" class=\"edge\"><title>414&#45;&gt;415</title>\n",
       "<path fill=\"none\" stroke=\"black\" d=\"M4743.32,-171.992C4724.81,-160.137 4703.75,-146.651 4685.41,-134.901\"/>\n",
       "<polygon fill=\"black\" stroke=\"black\" points=\"4686.95,-131.734 4676.65,-129.288 4683.18,-137.629 4686.95,-131.734\"/>\n",
       "</g>\n",
       "<!-- 416 -->\n",
       "<g id=\"node97\" class=\"node\"><title>416</title>\n",
       "<path fill=\"#e58139\" fill-opacity=\"0.482353\" stroke=\"black\" d=\"M4889.15,-136C4889.15,-136 4738.3,-136 4738.3,-136 4732.3,-136 4726.3,-130 4726.3,-124 4726.3,-124 4726.3,-84 4726.3,-84 4726.3,-78 4732.3,-72 4738.3,-72 4738.3,-72 4889.15,-72 4889.15,-72 4895.15,-72 4901.15,-78 4901.15,-84 4901.15,-84 4901.15,-124 4901.15,-124 4901.15,-130 4895.15,-136 4889.15,-136\"/>\n",
       "<text text-anchor=\"start\" x=\"4734.52\" y=\"-120.8\" font-family=\"Helvetica,sans-Serif\" font-size=\"14.00\">Dewbyduration ≤ 49.9113</text>\n",
       "<text text-anchor=\"start\" x=\"4743.86\" y=\"-106.8\" font-family=\"Helvetica,sans-Serif\" font-size=\"14.00\">mse = 4190540234.06</text>\n",
       "<text text-anchor=\"start\" x=\"4771.9\" y=\"-92.8\" font-family=\"Helvetica,sans-Serif\" font-size=\"14.00\">samples = 69</text>\n",
       "<text text-anchor=\"start\" x=\"4748.14\" y=\"-78.8\" font-family=\"Helvetica,sans-Serif\" font-size=\"14.00\">value = 193257.8986</text>\n",
       "</g>\n",
       "<!-- 414&#45;&gt;416 -->\n",
       "<g id=\"edge96\" class=\"edge\"><title>414&#45;&gt;416</title>\n",
       "<path fill=\"none\" stroke=\"black\" d=\"M4798.69,-171.992C4800.53,-163.77 4802.56,-154.763 4804.5,-146.095\"/>\n",
       "<polygon fill=\"black\" stroke=\"black\" points=\"4807.96,-146.666 4806.74,-136.142 4801.13,-145.133 4807.96,-146.666\"/>\n",
       "</g>\n",
       "<!-- 417 -->\n",
       "<g id=\"node98\" class=\"node\"><title>417</title>\n",
       "<path fill=\"#c0c0c0\" stroke=\"black\" d=\"M4804.73,-36C4804.73,-36 4774.73,-36 4774.73,-36 4768.73,-36 4762.73,-30 4762.73,-24 4762.73,-24 4762.73,-12 4762.73,-12 4762.73,-6 4768.73,-0 4774.73,-0 4774.73,-0 4804.73,-0 4804.73,-0 4810.73,-0 4816.73,-6 4816.73,-12 4816.73,-12 4816.73,-24 4816.73,-24 4816.73,-30 4810.73,-36 4804.73,-36\"/>\n",
       "<text text-anchor=\"middle\" x=\"4789.73\" y=\"-13.8\" font-family=\"Helvetica,sans-Serif\" font-size=\"14.00\">(...)</text>\n",
       "</g>\n",
       "<!-- 416&#45;&gt;417 -->\n",
       "<g id=\"edge97\" class=\"edge\"><title>416&#45;&gt;417</title>\n",
       "<path fill=\"none\" stroke=\"black\" d=\"M4804.79,-71.7215C4802.39,-63.3253 4799.82,-54.3166 4797.49,-46.1636\"/>\n",
       "<polygon fill=\"black\" stroke=\"black\" points=\"4800.81,-45.0585 4794.7,-36.4049 4794.08,-46.9816 4800.81,-45.0585\"/>\n",
       "</g>\n",
       "<!-- 430 -->\n",
       "<g id=\"node99\" class=\"node\"><title>430</title>\n",
       "<path fill=\"#c0c0c0\" stroke=\"black\" d=\"M4876.73,-36C4876.73,-36 4846.73,-36 4846.73,-36 4840.73,-36 4834.73,-30 4834.73,-24 4834.73,-24 4834.73,-12 4834.73,-12 4834.73,-6 4840.73,-0 4846.73,-0 4846.73,-0 4876.73,-0 4876.73,-0 4882.73,-0 4888.73,-6 4888.73,-12 4888.73,-12 4888.73,-24 4888.73,-24 4888.73,-30 4882.73,-36 4876.73,-36\"/>\n",
       "<text text-anchor=\"middle\" x=\"4861.73\" y=\"-13.8\" font-family=\"Helvetica,sans-Serif\" font-size=\"14.00\">(...)</text>\n",
       "</g>\n",
       "<!-- 416&#45;&gt;430 -->\n",
       "<g id=\"edge98\" class=\"edge\"><title>416&#45;&gt;430</title>\n",
       "<path fill=\"none\" stroke=\"black\" d=\"M4831.6,-71.7215C4836.56,-63.0455 4841.89,-53.7153 4846.67,-45.3513\"/>\n",
       "<polygon fill=\"black\" stroke=\"black\" points=\"4849.86,-46.8238 4851.78,-36.4049 4843.78,-43.3508 4849.86,-46.8238\"/>\n",
       "</g>\n",
       "<!-- 434 -->\n",
       "<g id=\"node101\" class=\"node\"><title>434</title>\n",
       "<path fill=\"#e58139\" fill-opacity=\"0.227451\" stroke=\"black\" d=\"M5082.68,-136C5082.68,-136 4930.77,-136 4930.77,-136 4924.77,-136 4918.77,-130 4918.77,-124 4918.77,-124 4918.77,-84 4918.77,-84 4918.77,-78 4924.77,-72 4930.77,-72 4930.77,-72 5082.68,-72 5082.68,-72 5088.68,-72 5094.68,-78 5094.68,-84 5094.68,-84 5094.68,-124 5094.68,-124 5094.68,-130 5088.68,-136 5082.68,-136\"/>\n",
       "<text text-anchor=\"start\" x=\"4927\" y=\"-120.8\" font-family=\"Helvetica,sans-Serif\" font-size=\"14.00\">Dewbyduration ≤ 52.1343</text>\n",
       "<text text-anchor=\"start\" x=\"4936.86\" y=\"-106.8\" font-family=\"Helvetica,sans-Serif\" font-size=\"14.00\">mse = 2122768748.18</text>\n",
       "<text text-anchor=\"start\" x=\"4964.9\" y=\"-92.8\" font-family=\"Helvetica,sans-Serif\" font-size=\"14.00\">samples = 35</text>\n",
       "<text text-anchor=\"start\" x=\"4945.03\" y=\"-78.8\" font-family=\"Helvetica,sans-Serif\" font-size=\"14.00\">value = 91752.3714</text>\n",
       "</g>\n",
       "<!-- 433&#45;&gt;434 -->\n",
       "<g id=\"edge100\" class=\"edge\"><title>433&#45;&gt;434</title>\n",
       "<path fill=\"none\" stroke=\"black\" d=\"M5021.08,-171.992C5019.32,-163.77 5017.39,-154.763 5015.53,-146.095\"/>\n",
       "<polygon fill=\"black\" stroke=\"black\" points=\"5018.92,-145.187 5013.4,-136.142 5012.07,-146.654 5018.92,-145.187\"/>\n",
       "</g>\n",
       "<!-- 447 -->\n",
       "<g id=\"node104\" class=\"node\"><title>447</title>\n",
       "<path fill=\"#e58139\" fill-opacity=\"0.090196\" stroke=\"black\" d=\"M5276.96,-136C5276.96,-136 5124.49,-136 5124.49,-136 5118.49,-136 5112.49,-130 5112.49,-124 5112.49,-124 5112.49,-84 5112.49,-84 5112.49,-78 5118.49,-72 5124.49,-72 5124.49,-72 5276.96,-72 5276.96,-72 5282.96,-72 5288.96,-78 5288.96,-84 5288.96,-84 5288.96,-124 5288.96,-124 5288.96,-130 5282.96,-136 5276.96,-136\"/>\n",
       "<text text-anchor=\"start\" x=\"5120.61\" y=\"-120.8\" font-family=\"Helvetica,sans-Serif\" font-size=\"14.00\">Presbyduration ≤ 29.9261</text>\n",
       "<text text-anchor=\"start\" x=\"5131.38\" y=\"-106.8\" font-family=\"Helvetica,sans-Serif\" font-size=\"14.00\">mse = 1133460193.64</text>\n",
       "<text text-anchor=\"start\" x=\"5158.9\" y=\"-92.8\" font-family=\"Helvetica,sans-Serif\" font-size=\"14.00\">samples = 47</text>\n",
       "<text text-anchor=\"start\" x=\"5139.03\" y=\"-78.8\" font-family=\"Helvetica,sans-Serif\" font-size=\"14.00\">value = 36499.9787</text>\n",
       "</g>\n",
       "<!-- 433&#45;&gt;447 -->\n",
       "<g id=\"edge103\" class=\"edge\"><title>433&#45;&gt;447</title>\n",
       "<path fill=\"none\" stroke=\"black\" d=\"M5082.47,-171.992C5099.66,-162.251 5118.8,-151.408 5136.59,-141.332\"/>\n",
       "<polygon fill=\"black\" stroke=\"black\" points=\"5138.78,-144.117 5145.75,-136.142 5135.33,-138.026 5138.78,-144.117\"/>\n",
       "</g>\n",
       "<!-- 435 -->\n",
       "<g id=\"node102\" class=\"node\"><title>435</title>\n",
       "<path fill=\"#c0c0c0\" stroke=\"black\" d=\"M4972.73,-36C4972.73,-36 4942.73,-36 4942.73,-36 4936.73,-36 4930.73,-30 4930.73,-24 4930.73,-24 4930.73,-12 4930.73,-12 4930.73,-6 4936.73,-0 4942.73,-0 4942.73,-0 4972.73,-0 4972.73,-0 4978.73,-0 4984.73,-6 4984.73,-12 4984.73,-12 4984.73,-24 4984.73,-24 4984.73,-30 4978.73,-36 4972.73,-36\"/>\n",
       "<text text-anchor=\"middle\" x=\"4957.73\" y=\"-13.8\" font-family=\"Helvetica,sans-Serif\" font-size=\"14.00\">(...)</text>\n",
       "</g>\n",
       "<!-- 434&#45;&gt;435 -->\n",
       "<g id=\"edge101\" class=\"edge\"><title>434&#45;&gt;435</title>\n",
       "<path fill=\"none\" stroke=\"black\" d=\"M4988.48,-71.7215C4983.37,-62.9522 4977.86,-53.5146 4972.94,-45.0818\"/>\n",
       "<polygon fill=\"black\" stroke=\"black\" points=\"4975.94,-43.2791 4967.88,-36.4049 4969.9,-46.8062 4975.94,-43.2791\"/>\n",
       "</g>\n",
       "<!-- 442 -->\n",
       "<g id=\"node103\" class=\"node\"><title>442</title>\n",
       "<path fill=\"#c0c0c0\" stroke=\"black\" d=\"M5044.73,-36C5044.73,-36 5014.73,-36 5014.73,-36 5008.73,-36 5002.73,-30 5002.73,-24 5002.73,-24 5002.73,-12 5002.73,-12 5002.73,-6 5008.73,-0 5014.73,-0 5014.73,-0 5044.73,-0 5044.73,-0 5050.73,-0 5056.73,-6 5056.73,-12 5056.73,-12 5056.73,-24 5056.73,-24 5056.73,-30 5050.73,-36 5044.73,-36\"/>\n",
       "<text text-anchor=\"middle\" x=\"5029.73\" y=\"-13.8\" font-family=\"Helvetica,sans-Serif\" font-size=\"14.00\">(...)</text>\n",
       "</g>\n",
       "<!-- 434&#45;&gt;442 -->\n",
       "<g id=\"edge102\" class=\"edge\"><title>434&#45;&gt;442</title>\n",
       "<path fill=\"none\" stroke=\"black\" d=\"M5015.29,-71.7215C5017.59,-63.3253 5020.06,-54.3166 5022.29,-46.1636\"/>\n",
       "<polygon fill=\"black\" stroke=\"black\" points=\"5025.7,-46.9742 5024.96,-36.4049 5018.95,-45.1255 5025.7,-46.9742\"/>\n",
       "</g>\n",
       "<!-- 448 -->\n",
       "<g id=\"node105\" class=\"node\"><title>448</title>\n",
       "<path fill=\"#c0c0c0\" stroke=\"black\" d=\"M5191.73,-36C5191.73,-36 5161.73,-36 5161.73,-36 5155.73,-36 5149.73,-30 5149.73,-24 5149.73,-24 5149.73,-12 5149.73,-12 5149.73,-6 5155.73,-0 5161.73,-0 5161.73,-0 5191.73,-0 5191.73,-0 5197.73,-0 5203.73,-6 5203.73,-12 5203.73,-12 5203.73,-24 5203.73,-24 5203.73,-30 5197.73,-36 5191.73,-36\"/>\n",
       "<text text-anchor=\"middle\" x=\"5176.73\" y=\"-13.8\" font-family=\"Helvetica,sans-Serif\" font-size=\"14.00\">(...)</text>\n",
       "</g>\n",
       "<!-- 447&#45;&gt;448 -->\n",
       "<g id=\"edge104\" class=\"edge\"><title>447&#45;&gt;448</title>\n",
       "<path fill=\"none\" stroke=\"black\" d=\"M5191.79,-71.7215C5189.39,-63.3253 5186.82,-54.3166 5184.49,-46.1636\"/>\n",
       "<polygon fill=\"black\" stroke=\"black\" points=\"5187.81,-45.0585 5181.7,-36.4049 5181.08,-46.9816 5187.81,-45.0585\"/>\n",
       "</g>\n",
       "<!-- 453 -->\n",
       "<g id=\"node106\" class=\"node\"><title>453</title>\n",
       "<path fill=\"#c0c0c0\" stroke=\"black\" d=\"M5263.73,-36C5263.73,-36 5233.73,-36 5233.73,-36 5227.73,-36 5221.73,-30 5221.73,-24 5221.73,-24 5221.73,-12 5221.73,-12 5221.73,-6 5227.73,-0 5233.73,-0 5233.73,-0 5263.73,-0 5263.73,-0 5269.73,-0 5275.73,-6 5275.73,-12 5275.73,-12 5275.73,-24 5275.73,-24 5275.73,-30 5269.73,-36 5263.73,-36\"/>\n",
       "<text text-anchor=\"middle\" x=\"5248.73\" y=\"-13.8\" font-family=\"Helvetica,sans-Serif\" font-size=\"14.00\">(...)</text>\n",
       "</g>\n",
       "<!-- 447&#45;&gt;453 -->\n",
       "<g id=\"edge105\" class=\"edge\"><title>447&#45;&gt;453</title>\n",
       "<path fill=\"none\" stroke=\"black\" d=\"M5218.6,-71.7215C5223.56,-63.0455 5228.89,-53.7153 5233.67,-45.3513\"/>\n",
       "<polygon fill=\"black\" stroke=\"black\" points=\"5236.86,-46.8238 5238.78,-36.4049 5230.78,-43.3508 5236.86,-46.8238\"/>\n",
       "</g>\n",
       "<!-- 463 -->\n",
       "<g id=\"node108\" class=\"node\"><title>463</title>\n",
       "<path fill=\"#e58139\" fill-opacity=\"0.600000\" stroke=\"black\" d=\"M5566.96,-236C5566.96,-236 5414.49,-236 5414.49,-236 5408.49,-236 5402.49,-230 5402.49,-224 5402.49,-224 5402.49,-184 5402.49,-184 5402.49,-178 5408.49,-172 5414.49,-172 5414.49,-172 5566.96,-172 5566.96,-172 5572.96,-172 5578.96,-178 5578.96,-184 5578.96,-184 5578.96,-224 5578.96,-224 5578.96,-230 5572.96,-236 5566.96,-236\"/>\n",
       "<text text-anchor=\"start\" x=\"5410.61\" y=\"-220.8\" font-family=\"Helvetica,sans-Serif\" font-size=\"14.00\">Presbyduration ≤ 29.9685</text>\n",
       "<text text-anchor=\"start\" x=\"5424.76\" y=\"-206.8\" font-family=\"Helvetica,sans-Serif\" font-size=\"14.00\">mse = 8055655791.4</text>\n",
       "<text text-anchor=\"start\" x=\"5445.01\" y=\"-192.8\" font-family=\"Helvetica,sans-Serif\" font-size=\"14.00\">samples = 194</text>\n",
       "<text text-anchor=\"start\" x=\"5425.14\" y=\"-178.8\" font-family=\"Helvetica,sans-Serif\" font-size=\"14.00\">value = 239824.9639</text>\n",
       "</g>\n",
       "<!-- 462&#45;&gt;463 -->\n",
       "<g id=\"edge107\" class=\"edge\"><title>462&#45;&gt;463</title>\n",
       "<path fill=\"none\" stroke=\"black\" d=\"M5490.73,-271.992C5490.73,-263.859 5490.73,-254.959 5490.73,-246.378\"/>\n",
       "<polygon fill=\"black\" stroke=\"black\" points=\"5494.23,-246.142 5490.73,-236.142 5487.23,-246.142 5494.23,-246.142\"/>\n",
       "</g>\n",
       "<!-- 492 -->\n",
       "<g id=\"node115\" class=\"node\"><title>492</title>\n",
       "<path fill=\"#e58139\" fill-opacity=\"0.815686\" stroke=\"black\" d=\"M5849.4,-236C5849.4,-236 5706.06,-236 5706.06,-236 5700.06,-236 5694.06,-230 5694.06,-224 5694.06,-224 5694.06,-184 5694.06,-184 5694.06,-178 5700.06,-172 5706.06,-172 5706.06,-172 5849.4,-172 5849.4,-172 5855.4,-172 5861.4,-178 5861.4,-184 5861.4,-184 5861.4,-224 5861.4,-224 5861.4,-230 5855.4,-236 5849.4,-236\"/>\n",
       "<text text-anchor=\"start\" x=\"5701.89\" y=\"-220.8\" font-family=\"Helvetica,sans-Serif\" font-size=\"14.00\">Dewbyduration ≤ 54.532</text>\n",
       "<text text-anchor=\"start\" x=\"5707.86\" y=\"-206.8\" font-family=\"Helvetica,sans-Serif\" font-size=\"14.00\">mse = 3500967134.53</text>\n",
       "<text text-anchor=\"start\" x=\"5732.01\" y=\"-192.8\" font-family=\"Helvetica,sans-Serif\" font-size=\"14.00\">samples = 272</text>\n",
       "<text text-anchor=\"start\" x=\"5712.14\" y=\"-178.8\" font-family=\"Helvetica,sans-Serif\" font-size=\"14.00\">value = 324648.4412</text>\n",
       "</g>\n",
       "<!-- 462&#45;&gt;492 -->\n",
       "<g id=\"edge114\" class=\"edge\"><title>462&#45;&gt;492</title>\n",
       "<path fill=\"none\" stroke=\"black\" d=\"M5578.79,-272.931C5612.08,-261.562 5650.08,-248.587 5683.88,-237.044\"/>\n",
       "<polygon fill=\"black\" stroke=\"black\" points=\"5685.43,-240.214 5693.76,-233.67 5683.17,-233.59 5685.43,-240.214\"/>\n",
       "</g>\n",
       "<!-- 464 -->\n",
       "<g id=\"node109\" class=\"node\"><title>464</title>\n",
       "<path fill=\"#e58139\" fill-opacity=\"0.196078\" stroke=\"black\" d=\"M5470.96,-136C5470.96,-136 5318.49,-136 5318.49,-136 5312.49,-136 5306.49,-130 5306.49,-124 5306.49,-124 5306.49,-84 5306.49,-84 5306.49,-78 5312.49,-72 5318.49,-72 5318.49,-72 5470.96,-72 5470.96,-72 5476.96,-72 5482.96,-78 5482.96,-84 5482.96,-84 5482.96,-124 5482.96,-124 5482.96,-130 5476.96,-136 5470.96,-136\"/>\n",
       "<text text-anchor=\"start\" x=\"5314.61\" y=\"-120.8\" font-family=\"Helvetica,sans-Serif\" font-size=\"14.00\">Presbyduration ≤ 29.9453</text>\n",
       "<text text-anchor=\"start\" x=\"5324.86\" y=\"-106.8\" font-family=\"Helvetica,sans-Serif\" font-size=\"14.00\">mse = 4715919351.34</text>\n",
       "<text text-anchor=\"start\" x=\"5353.41\" y=\"-92.8\" font-family=\"Helvetica,sans-Serif\" font-size=\"14.00\">samples = 11</text>\n",
       "<text text-anchor=\"start\" x=\"5333.03\" y=\"-78.8\" font-family=\"Helvetica,sans-Serif\" font-size=\"14.00\">value = 78909.4545</text>\n",
       "</g>\n",
       "<!-- 463&#45;&gt;464 -->\n",
       "<g id=\"edge108\" class=\"edge\"><title>463&#45;&gt;464</title>\n",
       "<path fill=\"none\" stroke=\"black\" d=\"M5460.35,-171.992C5451.51,-162.966 5441.74,-152.993 5432.5,-143.562\"/>\n",
       "<polygon fill=\"black\" stroke=\"black\" points=\"5434.73,-140.837 5425.23,-136.142 5429.73,-145.735 5434.73,-140.837\"/>\n",
       "</g>\n",
       "<!-- 467 -->\n",
       "<g id=\"node112\" class=\"node\"><title>467</title>\n",
       "<path fill=\"#e58139\" fill-opacity=\"0.623529\" stroke=\"black\" d=\"M5661.06,-136C5661.06,-136 5512.4,-136 5512.4,-136 5506.4,-136 5500.4,-130 5500.4,-124 5500.4,-124 5500.4,-84 5500.4,-84 5500.4,-78 5506.4,-72 5512.4,-72 5512.4,-72 5661.06,-72 5661.06,-72 5667.06,-72 5673.06,-78 5673.06,-84 5673.06,-84 5673.06,-124 5673.06,-124 5673.06,-130 5667.06,-136 5661.06,-136\"/>\n",
       "<text text-anchor=\"start\" x=\"5508.56\" y=\"-120.8\" font-family=\"Helvetica,sans-Serif\" font-size=\"14.00\">Humibyduration ≤ 0.5849</text>\n",
       "<text text-anchor=\"start\" x=\"5516.86\" y=\"-106.8\" font-family=\"Helvetica,sans-Serif\" font-size=\"14.00\">mse = 6606389399.03</text>\n",
       "<text text-anchor=\"start\" x=\"5541.01\" y=\"-92.8\" font-family=\"Helvetica,sans-Serif\" font-size=\"14.00\">samples = 183</text>\n",
       "<text text-anchor=\"start\" x=\"5521.14\" y=\"-78.8\" font-family=\"Helvetica,sans-Serif\" font-size=\"14.00\">value = 249497.4809</text>\n",
       "</g>\n",
       "<!-- 463&#45;&gt;467 -->\n",
       "<g id=\"edge111\" class=\"edge\"><title>463&#45;&gt;467</title>\n",
       "<path fill=\"none\" stroke=\"black\" d=\"M5521.1,-171.992C5529.94,-162.966 5539.71,-152.993 5548.95,-143.562\"/>\n",
       "<polygon fill=\"black\" stroke=\"black\" points=\"5551.72,-145.735 5556.22,-136.142 5546.72,-140.837 5551.72,-145.735\"/>\n",
       "</g>\n",
       "<!-- 465 -->\n",
       "<g id=\"node110\" class=\"node\"><title>465</title>\n",
       "<path fill=\"#c0c0c0\" stroke=\"black\" d=\"M5360.73,-36C5360.73,-36 5330.73,-36 5330.73,-36 5324.73,-36 5318.73,-30 5318.73,-24 5318.73,-24 5318.73,-12 5318.73,-12 5318.73,-6 5324.73,-0 5330.73,-0 5330.73,-0 5360.73,-0 5360.73,-0 5366.73,-0 5372.73,-6 5372.73,-12 5372.73,-12 5372.73,-24 5372.73,-24 5372.73,-30 5366.73,-36 5360.73,-36\"/>\n",
       "<text text-anchor=\"middle\" x=\"5345.73\" y=\"-13.8\" font-family=\"Helvetica,sans-Serif\" font-size=\"14.00\">(...)</text>\n",
       "</g>\n",
       "<!-- 464&#45;&gt;465 -->\n",
       "<g id=\"edge109\" class=\"edge\"><title>464&#45;&gt;465</title>\n",
       "<path fill=\"none\" stroke=\"black\" d=\"M5376.48,-71.7215C5371.37,-62.9522 5365.86,-53.5146 5360.94,-45.0818\"/>\n",
       "<polygon fill=\"black\" stroke=\"black\" points=\"5363.94,-43.2791 5355.88,-36.4049 5357.9,-46.8062 5363.94,-43.2791\"/>\n",
       "</g>\n",
       "<!-- 466 -->\n",
       "<g id=\"node111\" class=\"node\"><title>466</title>\n",
       "<path fill=\"#c0c0c0\" stroke=\"black\" d=\"M5432.73,-36C5432.73,-36 5402.73,-36 5402.73,-36 5396.73,-36 5390.73,-30 5390.73,-24 5390.73,-24 5390.73,-12 5390.73,-12 5390.73,-6 5396.73,-0 5402.73,-0 5402.73,-0 5432.73,-0 5432.73,-0 5438.73,-0 5444.73,-6 5444.73,-12 5444.73,-12 5444.73,-24 5444.73,-24 5444.73,-30 5438.73,-36 5432.73,-36\"/>\n",
       "<text text-anchor=\"middle\" x=\"5417.73\" y=\"-13.8\" font-family=\"Helvetica,sans-Serif\" font-size=\"14.00\">(...)</text>\n",
       "</g>\n",
       "<!-- 464&#45;&gt;466 -->\n",
       "<g id=\"edge110\" class=\"edge\"><title>464&#45;&gt;466</title>\n",
       "<path fill=\"none\" stroke=\"black\" d=\"M5403.29,-71.7215C5405.59,-63.3253 5408.06,-54.3166 5410.29,-46.1636\"/>\n",
       "<polygon fill=\"black\" stroke=\"black\" points=\"5413.7,-46.9742 5412.96,-36.4049 5406.95,-45.1255 5413.7,-46.9742\"/>\n",
       "</g>\n",
       "<!-- 468 -->\n",
       "<g id=\"node113\" class=\"node\"><title>468</title>\n",
       "<path fill=\"#c0c0c0\" stroke=\"black\" d=\"M5552.73,-36C5552.73,-36 5522.73,-36 5522.73,-36 5516.73,-36 5510.73,-30 5510.73,-24 5510.73,-24 5510.73,-12 5510.73,-12 5510.73,-6 5516.73,-0 5522.73,-0 5522.73,-0 5552.73,-0 5552.73,-0 5558.73,-0 5564.73,-6 5564.73,-12 5564.73,-12 5564.73,-24 5564.73,-24 5564.73,-30 5558.73,-36 5552.73,-36\"/>\n",
       "<text text-anchor=\"middle\" x=\"5537.73\" y=\"-13.8\" font-family=\"Helvetica,sans-Serif\" font-size=\"14.00\">(...)</text>\n",
       "</g>\n",
       "<!-- 467&#45;&gt;468 -->\n",
       "<g id=\"edge112\" class=\"edge\"><title>467&#45;&gt;468</title>\n",
       "<path fill=\"none\" stroke=\"black\" d=\"M5568.48,-71.7215C5563.37,-62.9522 5557.86,-53.5146 5552.94,-45.0818\"/>\n",
       "<polygon fill=\"black\" stroke=\"black\" points=\"5555.94,-43.2791 5547.88,-36.4049 5549.9,-46.8062 5555.94,-43.2791\"/>\n",
       "</g>\n",
       "<!-- 477 -->\n",
       "<g id=\"node114\" class=\"node\"><title>477</title>\n",
       "<path fill=\"#c0c0c0\" stroke=\"black\" d=\"M5624.73,-36C5624.73,-36 5594.73,-36 5594.73,-36 5588.73,-36 5582.73,-30 5582.73,-24 5582.73,-24 5582.73,-12 5582.73,-12 5582.73,-6 5588.73,-0 5594.73,-0 5594.73,-0 5624.73,-0 5624.73,-0 5630.73,-0 5636.73,-6 5636.73,-12 5636.73,-12 5636.73,-24 5636.73,-24 5636.73,-30 5630.73,-36 5624.73,-36\"/>\n",
       "<text text-anchor=\"middle\" x=\"5609.73\" y=\"-13.8\" font-family=\"Helvetica,sans-Serif\" font-size=\"14.00\">(...)</text>\n",
       "</g>\n",
       "<!-- 467&#45;&gt;477 -->\n",
       "<g id=\"edge113\" class=\"edge\"><title>467&#45;&gt;477</title>\n",
       "<path fill=\"none\" stroke=\"black\" d=\"M5595.29,-71.7215C5597.59,-63.3253 5600.06,-54.3166 5602.29,-46.1636\"/>\n",
       "<polygon fill=\"black\" stroke=\"black\" points=\"5605.7,-46.9742 5604.96,-36.4049 5598.95,-45.1255 5605.7,-46.9742\"/>\n",
       "</g>\n",
       "<!-- 493 -->\n",
       "<g id=\"node116\" class=\"node\"><title>493</title>\n",
       "<path fill=\"#e58139\" fill-opacity=\"0.835294\" stroke=\"black\" d=\"M5853.15,-136C5853.15,-136 5702.3,-136 5702.3,-136 5696.3,-136 5690.3,-130 5690.3,-124 5690.3,-124 5690.3,-84 5690.3,-84 5690.3,-78 5696.3,-72 5702.3,-72 5702.3,-72 5853.15,-72 5853.15,-72 5859.15,-72 5865.15,-78 5865.15,-84 5865.15,-84 5865.15,-124 5865.15,-124 5865.15,-130 5859.15,-136 5853.15,-136\"/>\n",
       "<text text-anchor=\"start\" x=\"5698.52\" y=\"-120.8\" font-family=\"Helvetica,sans-Serif\" font-size=\"14.00\">Dewbyduration ≤ 53.8611</text>\n",
       "<text text-anchor=\"start\" x=\"5707.86\" y=\"-106.8\" font-family=\"Helvetica,sans-Serif\" font-size=\"14.00\">mse = 1864646659.48</text>\n",
       "<text text-anchor=\"start\" x=\"5732.01\" y=\"-92.8\" font-family=\"Helvetica,sans-Serif\" font-size=\"14.00\">samples = 260</text>\n",
       "<text text-anchor=\"start\" x=\"5712.14\" y=\"-78.8\" font-family=\"Helvetica,sans-Serif\" font-size=\"14.00\">value = 333023.3269</text>\n",
       "</g>\n",
       "<!-- 492&#45;&gt;493 -->\n",
       "<g id=\"edge115\" class=\"edge\"><title>492&#45;&gt;493</title>\n",
       "<path fill=\"none\" stroke=\"black\" d=\"M5777.73,-171.992C5777.73,-163.859 5777.73,-154.959 5777.73,-146.378\"/>\n",
       "<polygon fill=\"black\" stroke=\"black\" points=\"5781.23,-146.142 5777.73,-136.142 5774.23,-146.142 5781.23,-146.142\"/>\n",
       "</g>\n",
       "<!-- 524 -->\n",
       "<g id=\"node119\" class=\"node\"><title>524</title>\n",
       "<path fill=\"#e58139\" fill-opacity=\"0.356863\" stroke=\"black\" d=\"M6166.5,-136C6166.5,-136 5894.96,-136 5894.96,-136 5888.96,-136 5882.96,-130 5882.96,-124 5882.96,-124 5882.96,-84 5882.96,-84 5882.96,-78 5888.96,-72 5894.96,-72 5894.96,-72 6166.5,-72 6166.5,-72 6172.5,-72 6178.5,-78 6178.5,-84 6178.5,-84 6178.5,-124 6178.5,-124 6178.5,-130 6172.5,-136 6166.5,-136\"/>\n",
       "<text text-anchor=\"start\" x=\"5891.09\" y=\"-120.8\" font-family=\"Helvetica,sans-Serif\" font-size=\"14.00\">mean_work_commuting_time_min ≤ 28.1489</text>\n",
       "<text text-anchor=\"start\" x=\"5960.86\" y=\"-106.8\" font-family=\"Helvetica,sans-Serif\" font-size=\"14.00\">mse = 4508677004.24</text>\n",
       "<text text-anchor=\"start\" x=\"5988.9\" y=\"-92.8\" font-family=\"Helvetica,sans-Serif\" font-size=\"14.00\">samples = 12</text>\n",
       "<text text-anchor=\"start\" x=\"5965.14\" y=\"-78.8\" font-family=\"Helvetica,sans-Serif\" font-size=\"14.00\">value = 143192.5833</text>\n",
       "</g>\n",
       "<!-- 492&#45;&gt;524 -->\n",
       "<g id=\"edge118\" class=\"edge\"><title>492&#45;&gt;524</title>\n",
       "<path fill=\"none\" stroke=\"black\" d=\"M5857.78,-171.992C5884.2,-161.759 5913.75,-150.31 5940.85,-139.813\"/>\n",
       "<polygon fill=\"black\" stroke=\"black\" points=\"5942.27,-143.018 5950.33,-136.142 5939.74,-136.491 5942.27,-143.018\"/>\n",
       "</g>\n",
       "<!-- 494 -->\n",
       "<g id=\"node117\" class=\"node\"><title>494</title>\n",
       "<path fill=\"#c0c0c0\" stroke=\"black\" d=\"M5756.73,-36C5756.73,-36 5726.73,-36 5726.73,-36 5720.73,-36 5714.73,-30 5714.73,-24 5714.73,-24 5714.73,-12 5714.73,-12 5714.73,-6 5720.73,-0 5726.73,-0 5726.73,-0 5756.73,-0 5756.73,-0 5762.73,-0 5768.73,-6 5768.73,-12 5768.73,-12 5768.73,-24 5768.73,-24 5768.73,-30 5762.73,-36 5756.73,-36\"/>\n",
       "<text text-anchor=\"middle\" x=\"5741.73\" y=\"-13.8\" font-family=\"Helvetica,sans-Serif\" font-size=\"14.00\">(...)</text>\n",
       "</g>\n",
       "<!-- 493&#45;&gt;494 -->\n",
       "<g id=\"edge116\" class=\"edge\"><title>493&#45;&gt;494</title>\n",
       "<path fill=\"none\" stroke=\"black\" d=\"M5764.32,-71.7215C5760.64,-63.1388 5756.69,-53.9159 5753.14,-45.6214\"/>\n",
       "<polygon fill=\"black\" stroke=\"black\" points=\"5756.34,-44.2176 5749.19,-36.4049 5749.91,-46.9751 5756.34,-44.2176\"/>\n",
       "</g>\n",
       "<!-- 521 -->\n",
       "<g id=\"node118\" class=\"node\"><title>521</title>\n",
       "<path fill=\"#c0c0c0\" stroke=\"black\" d=\"M5828.73,-36C5828.73,-36 5798.73,-36 5798.73,-36 5792.73,-36 5786.73,-30 5786.73,-24 5786.73,-24 5786.73,-12 5786.73,-12 5786.73,-6 5792.73,-0 5798.73,-0 5798.73,-0 5828.73,-0 5828.73,-0 5834.73,-0 5840.73,-6 5840.73,-12 5840.73,-12 5840.73,-24 5840.73,-24 5840.73,-30 5834.73,-36 5828.73,-36\"/>\n",
       "<text text-anchor=\"middle\" x=\"5813.73\" y=\"-13.8\" font-family=\"Helvetica,sans-Serif\" font-size=\"14.00\">(...)</text>\n",
       "</g>\n",
       "<!-- 493&#45;&gt;521 -->\n",
       "<g id=\"edge117\" class=\"edge\"><title>493&#45;&gt;521</title>\n",
       "<path fill=\"none\" stroke=\"black\" d=\"M5791.13,-71.7215C5794.81,-63.1388 5798.76,-53.9159 5802.32,-45.6214\"/>\n",
       "<polygon fill=\"black\" stroke=\"black\" points=\"5805.55,-46.9751 5806.27,-36.4049 5799.11,-44.2176 5805.55,-46.9751\"/>\n",
       "</g>\n",
       "<!-- 525 -->\n",
       "<g id=\"node120\" class=\"node\"><title>525</title>\n",
       "<path fill=\"#c0c0c0\" stroke=\"black\" d=\"M6009.73,-36C6009.73,-36 5979.73,-36 5979.73,-36 5973.73,-36 5967.73,-30 5967.73,-24 5967.73,-24 5967.73,-12 5967.73,-12 5967.73,-6 5973.73,-0 5979.73,-0 5979.73,-0 6009.73,-0 6009.73,-0 6015.73,-0 6021.73,-6 6021.73,-12 6021.73,-12 6021.73,-24 6021.73,-24 6021.73,-30 6015.73,-36 6009.73,-36\"/>\n",
       "<text text-anchor=\"middle\" x=\"5994.73\" y=\"-13.8\" font-family=\"Helvetica,sans-Serif\" font-size=\"14.00\">(...)</text>\n",
       "</g>\n",
       "<!-- 524&#45;&gt;525 -->\n",
       "<g id=\"edge119\" class=\"edge\"><title>524&#45;&gt;525</title>\n",
       "<path fill=\"none\" stroke=\"black\" d=\"M6017.32,-71.7215C6013.64,-63.1388 6009.69,-53.9159 6006.14,-45.6214\"/>\n",
       "<polygon fill=\"black\" stroke=\"black\" points=\"6009.34,-44.2176 6002.19,-36.4049 6002.91,-46.9751 6009.34,-44.2176\"/>\n",
       "</g>\n",
       "<!-- 526 -->\n",
       "<g id=\"node121\" class=\"node\"><title>526</title>\n",
       "<path fill=\"#c0c0c0\" stroke=\"black\" d=\"M6081.73,-36C6081.73,-36 6051.73,-36 6051.73,-36 6045.73,-36 6039.73,-30 6039.73,-24 6039.73,-24 6039.73,-12 6039.73,-12 6039.73,-6 6045.73,-0 6051.73,-0 6051.73,-0 6081.73,-0 6081.73,-0 6087.73,-0 6093.73,-6 6093.73,-12 6093.73,-12 6093.73,-24 6093.73,-24 6093.73,-30 6087.73,-36 6081.73,-36\"/>\n",
       "<text text-anchor=\"middle\" x=\"6066.73\" y=\"-13.8\" font-family=\"Helvetica,sans-Serif\" font-size=\"14.00\">(...)</text>\n",
       "</g>\n",
       "<!-- 524&#45;&gt;526 -->\n",
       "<g id=\"edge120\" class=\"edge\"><title>524&#45;&gt;526</title>\n",
       "<path fill=\"none\" stroke=\"black\" d=\"M6044.13,-71.7215C6047.81,-63.1388 6051.76,-53.9159 6055.32,-45.6214\"/>\n",
       "<polygon fill=\"black\" stroke=\"black\" points=\"6058.55,-46.9751 6059.27,-36.4049 6052.11,-44.2176 6058.55,-46.9751\"/>\n",
       "</g>\n",
       "</g>\n",
       "</svg>\n"
      ],
      "text/plain": [
       "<graphviz.files.Source at 0x11bbb8978>"
      ]
     },
     "execution_count": 86,
     "metadata": {},
     "output_type": "execute_result"
    }
   ],
   "source": [
    "dot_data2 = tree.export_graphviz(clf_dt_wt_tn, out_file=None, max_depth=5,\n",
    "                         feature_names= features_wt_tn,  \n",
    "                         filled=True, rounded=True,  \n",
    "                         special_characters=True)  \n",
    "graph = graphviz.Source(dot_data2)  \n",
    "graph"
   ]
  },
  {
   "cell_type": "code",
   "execution_count": 87,
   "metadata": {},
   "outputs": [
    {
     "data": {
      "text/plain": [
       "[('end_crime_score', 0.58116430611700731),\n",
       " ('Tempbyduration', 0.17483604163882313),\n",
       " ('subscriber ratio', 0.10994658809571205),\n",
       " ('Dewbyduration', 0.049894946365955858),\n",
       " ('Visibyduration', 0.0201009816625148),\n",
       " ('Presbyduration', 0.019730401039706399),\n",
       " ('Humibyduration', 0.012866764813002196),\n",
       " ('night rate', 0.0088872994750900259),\n",
       " ('afternoon rate', 0.0072718922357940495),\n",
       " ('mean_household_income', 0.0055573723545478196),\n",
       " ('evening rate', 0.0028828238878214271),\n",
       " ('start_crime_score', 0.0026033881913969919),\n",
       " ('mean_work_commuting_time_min', 0.0017170706073473107),\n",
       " ('perc_HS_or_higher', 0.0011849492005775617),\n",
       " ('morning rate', 0.0010368174206033249),\n",
       " ('commuting_to_work_perc_PT', 0.00031756734061342672),\n",
       " ('perc_bachelor_or_higher', 7.8955348629314473e-07)]"
      ]
     },
     "execution_count": 87,
     "metadata": {},
     "output_type": "execute_result"
    }
   ],
   "source": [
    "# Get the most important features without trips number\n",
    "\n",
    "map_importance_dt_wt_tn = dict(zip(features_wt_tn, importances_dt_wt_tn))\n",
    "map_importance_dt_wt_tn = sorted(map_importance_dt_wt_tn.items(), key=operator.itemgetter(1), reverse=True)\n",
    "map_importance_dt_wt_tn"
   ]
  },
  {
   "cell_type": "code",
   "execution_count": 82,
   "metadata": {},
   "outputs": [
    {
     "data": {
      "text/plain": [
       "[('end_crime_score', 0.58116430611700731),\n",
       " ('Tempbyduration', 0.17483604163882313),\n",
       " ('subscriber ratio', 0.10994658809571205),\n",
       " ('Dewbyduration', 0.049894946365955858),\n",
       " ('Visibyduration', 0.0201009816625148),\n",
       " ('Presbyduration', 0.019730401039706399),\n",
       " ('Humibyduration', 0.012866764813002196),\n",
       " ('night rate', 0.0088872994750900259),\n",
       " ('afternoon rate', 0.0072718922357940495),\n",
       " ('mean_household_income', 0.0055573723545478196),\n",
       " ('evening rate', 0.0028828238878214271),\n",
       " ('start_crime_score', 0.0026033881913969919),\n",
       " ('mean_work_commuting_time_min', 0.0017170706073473107),\n",
       " ('perc_HS_or_higher', 0.0011849492005775617),\n",
       " ('morning rate', 0.0010368174206033249),\n",
       " ('commuting_to_work_perc_PT', 0.00031756734061342672),\n",
       " ('perc_bachelor_or_higher', 7.8955348629314473e-07)]"
      ]
     },
     "execution_count": 82,
     "metadata": {},
     "output_type": "execute_result"
    }
   ],
   "source": [
    "# Get the most important features without trips number\n",
    "\n",
    "map_importance_dt_wt_tn = dict(zip(features_wt_tn, importances_dt_wt_tn))\n",
    "map_importance_dt_wt_tn = sorted(map_importance_dt_wt_tn.items(), key=operator.itemgetter(1), reverse=True)\n",
    "map_importance_dt_wt_tn"
   ]
  },
  {
   "cell_type": "code",
   "execution_count": 88,
   "metadata": {},
   "outputs": [
    {
     "data": {
      "text/plain": [
       "['end_crime_score', 'Tempbyduration', 'subscriber ratio', 'Dewbyduration']"
      ]
     },
     "execution_count": 88,
     "metadata": {},
     "output_type": "execute_result"
    }
   ],
   "source": [
    "# Get the most important 4 features with an importance score larger than 0.04\n",
    "feature_4_wt_tn = [item[0] for item in map_importance_dt_wt_tn[:4]]\n",
    "feature_4_wt_tn"
   ]
  },
  {
   "cell_type": "code",
   "execution_count": 89,
   "metadata": {},
   "outputs": [
    {
     "data": {
      "text/html": [
       "<div>\n",
       "<style>\n",
       "    .dataframe thead tr:only-child th {\n",
       "        text-align: right;\n",
       "    }\n",
       "\n",
       "    .dataframe thead th {\n",
       "        text-align: left;\n",
       "    }\n",
       "\n",
       "    .dataframe tbody tr th {\n",
       "        vertical-align: top;\n",
       "    }\n",
       "</style>\n",
       "<table border=\"1\" class=\"dataframe\">\n",
       "  <thead>\n",
       "    <tr style=\"text-align: right;\">\n",
       "      <th></th>\n",
       "      <th>end_crime_score</th>\n",
       "      <th>Tempbyduration</th>\n",
       "      <th>subscriber ratio</th>\n",
       "      <th>Dewbyduration</th>\n",
       "    </tr>\n",
       "  </thead>\n",
       "  <tbody>\n",
       "    <tr>\n",
       "      <th>0</th>\n",
       "      <td>465.611111</td>\n",
       "      <td>60.754700</td>\n",
       "      <td>0.25</td>\n",
       "      <td>49.017859</td>\n",
       "    </tr>\n",
       "    <tr>\n",
       "      <th>1</th>\n",
       "      <td>55.333333</td>\n",
       "      <td>79.236954</td>\n",
       "      <td>0.50</td>\n",
       "      <td>54.246069</td>\n",
       "    </tr>\n",
       "  </tbody>\n",
       "</table>\n",
       "</div>"
      ],
      "text/plain": [
       "   end_crime_score  Tempbyduration  subscriber ratio  Dewbyduration\n",
       "0       465.611111       60.754700              0.25      49.017859\n",
       "1        55.333333       79.236954              0.50      54.246069"
      ]
     },
     "execution_count": 89,
     "metadata": {},
     "output_type": "execute_result"
    }
   ],
   "source": [
    "# Create new dataframes for train/test features using only the most 4 important features\n",
    "\n",
    "train_4_wt_tn = train_X_wt_tn.loc[:, feature_4_wt_tn]\n",
    "test_4_wt_tn = test_X_wt_tn.loc[:, feature_4_wt_tn]\n",
    "train_4_wt_tn.head(2)"
   ]
  },
  {
   "cell_type": "code",
   "execution_count": 90,
   "metadata": {},
   "outputs": [
    {
     "name": "stdout",
     "output_type": "stream",
     "text": [
      "Tree RMSE Percentage of training set using ALL features without trips number: 29%\n",
      "Tree RMSE Percentage of test set using ALL features without trips number: 58%\n",
      "Tree Error Percentage of training set using ALL features without trips number: 22%\n",
      "Tree Error Percentage of test set using ALL features without trips number: 36%\n"
     ]
    }
   ],
   "source": [
    "# Before moving on, we get the RMSE for train/test sets using ALL feature (without trips number) with optimal hyperparameters\n",
    "\n",
    "# train RMSE\n",
    "y_train_predict_dt_wt_tn = clf_dt_wt_tn.predict(train_X_wt_tn)\n",
    "rmse_ratio_train_dt_wt_tn = compute_rmse_ratio(y_train_predict_dt_wt_tn, train_y)\n",
    "\n",
    "# test RMSE\n",
    "y_test_predict_dt_wt_tn = clf_dt_wt_tn.predict(test_X_wt_tn)\n",
    "rmse_ratio_test_dt_wt_tn = compute_rmse_ratio(y_test_predict_dt_wt_tn, test_y)\n",
    "\n",
    "print(\"Tree RMSE Percentage of training set using ALL features without trips number: {:.0%}\".format(rmse_ratio_train_dt_wt_tn))\n",
    "print(\"Tree RMSE Percentage of test set using ALL features without trips number: {:.0%}\".format(rmse_ratio_test_dt_wt_tn))\n",
    "\n",
    "# Error Ratio\n",
    "err_ratio_train_dt_wt_tn = np.median(caculateratio(clf_dt_wt_tn, train_X_wt_tn, train_y).abs_ratio)\n",
    "err_ratio_test_dt_wt_tn = np.median(caculateratio(clf_dt_wt_tn, test_X_wt_tn, test_y).abs_ratio)\n",
    "print(\"Tree Error Percentage of training set using ALL features without trips number: {:.0%}\".format(err_ratio_train_dt_wt_tn))\n",
    "print(\"Tree Error Percentage of test set using ALL features without trips number: {:.0%}\".format(err_ratio_test_dt_wt_tn))"
   ]
  },
  {
   "cell_type": "code",
   "execution_count": 91,
   "metadata": {},
   "outputs": [
    {
     "name": "stdout",
     "output_type": "stream",
     "text": [
      "Tree Best parameters using 4 features without trips number: {'max_depth': 10, 'min_samples_leaf': 5}\n",
      "Tree Best score on validation set using 4 features without trips number: 0.88\n"
     ]
    }
   ],
   "source": [
    "# Secondly, get optimal hyperparameters through GridSearchCV tuning using only 4 most important features\n",
    "\n",
    "param_grid_tree_4_wt_tn = {'max_depth': [1,5,10,15,20,25,30],\n",
    "                     'min_samples_leaf': [1,2,3,4,5]}                  \n",
    "grid_tree_4_wt_tn = GridSearchCV(DecisionTreeRegressor(criterion='mse', random_state=1234), param_grid_tree_4_wt_tn, cv=10)\n",
    "grid_tree_4_wt_tn.fit(train_4_wt_tn, train_y)\n",
    "best_tree_4_wt_tn = grid_tree_4_wt_tn.best_params_\n",
    "print('Tree Best parameters using 4 features without trips number: {}'.format(best_tree_4_wt_tn))\n",
    "print('Tree Best score on validation set using 4 features without trips number: {:.2f}'.format(grid_tree_4_wt_tn.best_score_))"
   ]
  },
  {
   "cell_type": "code",
   "execution_count": 92,
   "metadata": {},
   "outputs": [
    {
     "data": {
      "text/plain": [
       "DecisionTreeRegressor(criterion='mse', max_depth=10, max_features=None,\n",
       "           max_leaf_nodes=None, min_impurity_split=1e-07,\n",
       "           min_samples_leaf=5, min_samples_split=2,\n",
       "           min_weight_fraction_leaf=0.0, presort=False, random_state=1234,\n",
       "           splitter='best')"
      ]
     },
     "execution_count": 92,
     "metadata": {},
     "output_type": "execute_result"
    }
   ],
   "source": [
    "# Run/Fit the model with optimal hyperparameters using only 4 most important features\n",
    "\n",
    "clf_dt_4_wt_tn = DecisionTreeRegressor(criterion='mse', random_state=1234, max_depth=10 , min_samples_leaf=5)\n",
    "clf_dt_4_wt_tn.fit(train_4_wt_tn, train_y)"
   ]
  },
  {
   "cell_type": "code",
   "execution_count": 93,
   "metadata": {},
   "outputs": [
    {
     "name": "stdout",
     "output_type": "stream",
     "text": [
      "Tree RMSE Percentage of training set using 4 features without trips number: 35%\n",
      "Tree RMSE Percentage of test set using 4 features without trips number: 59%\n",
      "Tree Error Percentage of training set using 4 features without trips number: 28%\n",
      "Tree Error Percentage of test set using 4 features without trips number: 40%\n"
     ]
    }
   ],
   "source": [
    "# get the RMSE for train/test sets using 4 features with optimal hyperparameters (without trips number)\n",
    "\n",
    "# train RMSE with 4 features\n",
    "y_train_predict_dt_4_wt_tn = clf_dt_4_wt_tn.predict(train_4_wt_tn)\n",
    "rmse_ratio_train_dt_4_wt_tn = compute_rmse_ratio(y_train_predict_dt_4_wt_tn, train_y)\n",
    "\n",
    "\n",
    "# test RMSE with 4 features\n",
    "y_test_predict_dt_4_wt_tn = clf_dt_4_wt_tn.predict(test_4_wt_tn)\n",
    "rmse_ratio_test_dt_4_wt_tn = compute_rmse_ratio(y_test_predict_dt_4_wt_tn, test_y)\n",
    "print(\"Tree RMSE Percentage of training set using 4 features without trips number: {:.0%}\".format(rmse_ratio_train_dt_4_wt_tn))\n",
    "print(\"Tree RMSE Percentage of test set using 4 features without trips number: {:.0%}\".format(rmse_ratio_test_dt_4_wt_tn))\n",
    "\n",
    "\n",
    "# Error Ratio\n",
    "err_ratio_train_dt_4_wt_tn = np.median(caculateratio(clf_dt_4_wt_tn, train_4_wt_tn, train_y).abs_ratio)\n",
    "err_ratio_test_dt_4_wt_tn = np.median(caculateratio(clf_dt_4_wt_tn, test_4_wt_tn, test_y).abs_ratio)\n",
    "print(\"Tree Error Percentage of training set using 4 features without trips number: {:.0%}\".format(err_ratio_train_dt_4_wt_tn))\n",
    "print(\"Tree Error Percentage of test set using 4 features without trips number: {:.0%}\".format(err_ratio_test_dt_4_wt_tn))"
   ]
  },
  {
   "cell_type": "code",
   "execution_count": 96,
   "metadata": {},
   "outputs": [
    {
     "data": {
      "text/html": [
       "<style  type=\"text/css\" >\n",
       "    #T_456d9342_dd38_11e7_921a_f45c89b9313brow0_col0 {\n",
       "            text-align:  right;\n",
       "        }    #T_456d9342_dd38_11e7_921a_f45c89b9313brow0_col1 {\n",
       "            text-align:  right;\n",
       "        }    #T_456d9342_dd38_11e7_921a_f45c89b9313brow0_col2 {\n",
       "            text-align:  right;\n",
       "        }    #T_456d9342_dd38_11e7_921a_f45c89b9313brow0_col3 {\n",
       "            text-align:  right;\n",
       "        }    #T_456d9342_dd38_11e7_921a_f45c89b9313brow1_col0 {\n",
       "            text-align:  right;\n",
       "        }    #T_456d9342_dd38_11e7_921a_f45c89b9313brow1_col1 {\n",
       "            text-align:  right;\n",
       "        }    #T_456d9342_dd38_11e7_921a_f45c89b9313brow1_col2 {\n",
       "            text-align:  right;\n",
       "        }    #T_456d9342_dd38_11e7_921a_f45c89b9313brow1_col3 {\n",
       "            text-align:  right;\n",
       "        }    #T_456d9342_dd38_11e7_921a_f45c89b9313brow2_col0 {\n",
       "            text-align:  right;\n",
       "        }    #T_456d9342_dd38_11e7_921a_f45c89b9313brow2_col1 {\n",
       "            text-align:  right;\n",
       "        }    #T_456d9342_dd38_11e7_921a_f45c89b9313brow2_col2 {\n",
       "            text-align:  right;\n",
       "        }    #T_456d9342_dd38_11e7_921a_f45c89b9313brow2_col3 {\n",
       "            text-align:  right;\n",
       "        }    #T_456d9342_dd38_11e7_921a_f45c89b9313brow3_col0 {\n",
       "            text-align:  right;\n",
       "        }    #T_456d9342_dd38_11e7_921a_f45c89b9313brow3_col1 {\n",
       "            text-align:  right;\n",
       "        }    #T_456d9342_dd38_11e7_921a_f45c89b9313brow3_col2 {\n",
       "            text-align:  right;\n",
       "        }    #T_456d9342_dd38_11e7_921a_f45c89b9313brow3_col3 {\n",
       "            text-align:  right;\n",
       "        }</style>  \n",
       "<table id=\"T_456d9342_dd38_11e7_921a_f45c89b9313b\" > \n",
       "<thead>    <tr> \n",
       "        <th class=\"blank level0\" ></th> \n",
       "        <th class=\"col_heading level0 col0\" >All Features</th> \n",
       "        <th class=\"col_heading level0 col1\" >Top 4 Features</th> \n",
       "        <th class=\"col_heading level0 col2\" >All Features w/o tn</th> \n",
       "        <th class=\"col_heading level0 col3\" >Top 4 Features w/o tn</th> \n",
       "    </tr>    <tr> \n",
       "        <th class=\"index_name level0\" >Metrics</th> \n",
       "        <th class=\"blank\" ></th> \n",
       "        <th class=\"blank\" ></th> \n",
       "        <th class=\"blank\" ></th> \n",
       "        <th class=\"blank\" ></th> \n",
       "    </tr></thead> \n",
       "<tbody>    <tr> \n",
       "        <th id=\"T_456d9342_dd38_11e7_921a_f45c89b9313b\" class=\"row_heading level0 row0\" >Train RMSE perc</th> \n",
       "        <td id=\"T_456d9342_dd38_11e7_921a_f45c89b9313brow0_col0\" class=\"data row0 col0\" >17%</td> \n",
       "        <td id=\"T_456d9342_dd38_11e7_921a_f45c89b9313brow0_col1\" class=\"data row0 col1\" >12%</td> \n",
       "        <td id=\"T_456d9342_dd38_11e7_921a_f45c89b9313brow0_col2\" class=\"data row0 col2\" >29%</td> \n",
       "        <td id=\"T_456d9342_dd38_11e7_921a_f45c89b9313brow0_col3\" class=\"data row0 col3\" >35%</td> \n",
       "    </tr>    <tr> \n",
       "        <th id=\"T_456d9342_dd38_11e7_921a_f45c89b9313b\" class=\"row_heading level0 row1\" >Test RMSE perc</th> \n",
       "        <td id=\"T_456d9342_dd38_11e7_921a_f45c89b9313brow1_col0\" class=\"data row1 col0\" >21%</td> \n",
       "        <td id=\"T_456d9342_dd38_11e7_921a_f45c89b9313brow1_col1\" class=\"data row1 col1\" >21%</td> \n",
       "        <td id=\"T_456d9342_dd38_11e7_921a_f45c89b9313brow1_col2\" class=\"data row1 col2\" >58%</td> \n",
       "        <td id=\"T_456d9342_dd38_11e7_921a_f45c89b9313brow1_col3\" class=\"data row1 col3\" >59%</td> \n",
       "    </tr>    <tr> \n",
       "        <th id=\"T_456d9342_dd38_11e7_921a_f45c89b9313b\" class=\"row_heading level0 row2\" >Train err perc</th> \n",
       "        <td id=\"T_456d9342_dd38_11e7_921a_f45c89b9313brow2_col0\" class=\"data row2 col0\" >25%</td> \n",
       "        <td id=\"T_456d9342_dd38_11e7_921a_f45c89b9313brow2_col1\" class=\"data row2 col1\" >15%</td> \n",
       "        <td id=\"T_456d9342_dd38_11e7_921a_f45c89b9313brow2_col2\" class=\"data row2 col2\" >22%</td> \n",
       "        <td id=\"T_456d9342_dd38_11e7_921a_f45c89b9313brow2_col3\" class=\"data row2 col3\" >28%</td> \n",
       "    </tr>    <tr> \n",
       "        <th id=\"T_456d9342_dd38_11e7_921a_f45c89b9313b\" class=\"row_heading level0 row3\" >Test err perc</th> \n",
       "        <td id=\"T_456d9342_dd38_11e7_921a_f45c89b9313brow3_col0\" class=\"data row3 col0\" >26%</td> \n",
       "        <td id=\"T_456d9342_dd38_11e7_921a_f45c89b9313brow3_col1\" class=\"data row3 col1\" >22%</td> \n",
       "        <td id=\"T_456d9342_dd38_11e7_921a_f45c89b9313brow3_col2\" class=\"data row3 col2\" >36%</td> \n",
       "        <td id=\"T_456d9342_dd38_11e7_921a_f45c89b9313brow3_col3\" class=\"data row3 col3\" >40%</td> \n",
       "    </tr></tbody> \n",
       "</table> "
      ],
      "text/plain": [
       "<pandas.io.formats.style.Styler at 0x119dd6978>"
      ]
     },
     "execution_count": 96,
     "metadata": {},
     "output_type": "execute_result"
    }
   ],
   "source": [
    "row_idx = ['Train RMSE perc', 'Test RMSE perc', 'Train err perc', 'Test err perc']\n",
    "all_features_dt = [rmse_ratio_train_dt, rmse_ratio_test_dt, err_ratio_train_dt, err_ratio_test_dt]\n",
    "important_features_dt = [rmse_ratio_train_dt_4, rmse_ratio_test_dt_4, err_ratio_train_dt_4, err_ratio_test_dt_4]\n",
    "all_feature_wt_tn_dt = [rmse_ratio_train_dt_wt_tn, rmse_ratio_test_dt_wt_tn, err_ratio_train_dt_wt_tn, err_ratio_test_dt_wt_tn]\n",
    "important_features_wt_tn_dt = [rmse_ratio_train_dt_4_wt_tn, rmse_ratio_test_dt_4_wt_tn, err_ratio_train_dt_4_wt_tn, err_ratio_test_dt_4_wt_tn]\n",
    "tree_metrics_compare = pd.DataFrame({'Metrics': row_idx,\n",
    "                             'All Features': all_features_dt, \n",
    "                             'Top 4 Features': important_features_dt,\n",
    "                             'All Features w/o tn': all_feature_wt_tn_dt,\n",
    "                             'Top 4 Features w/o tn': important_features_wt_tn_dt\n",
    "                              })\n",
    "cols = ['All Features', 'Top 4 Features', 'All Features w/o tn', 'Top 4 Features w/o tn', 'Metrics']\n",
    "tree_metrics_compare = tree_metrics_compare[cols]\n",
    "tree_metrics_compare = tree_metrics_compare.set_index(['Metrics'])\n",
    "tree_metrics_compare.iloc[0] = (tree_metrics_compare.iloc[0].apply('{:.0%}'.format))\n",
    "tree_metrics_compare.iloc[1] = (tree_metrics_compare.iloc[1].apply('{:.0%}'.format))\n",
    "tree_metrics_compare.iloc[2] = (tree_metrics_compare.iloc[2].apply('{:.0%}'.format))\n",
    "tree_metrics_compare.iloc[3] = (tree_metrics_compare.iloc[3].apply('{:.0%}'.format))\n",
    "tree_metrics_compare.style.set_properties(**{'text-align': 'right'})"
   ]
  },
  {
   "cell_type": "markdown",
   "metadata": {},
   "source": [
    "## 3.3 Random Forest"
   ]
  },
  {
   "cell_type": "code",
   "execution_count": 98,
   "metadata": {
    "collapsed": true
   },
   "outputs": [],
   "source": [
    "from sklearn.ensemble import RandomForestRegressor\n",
    "from sklearn.model_selection import GridSearchCV\n",
    "from sklearn.model_selection import KFold"
   ]
  },
  {
   "cell_type": "code",
   "execution_count": 99,
   "metadata": {},
   "outputs": [
    {
     "name": "stdout",
     "output_type": "stream",
     "text": [
      "Best parameters using ALL features: {'max_depth': 10, 'min_samples_leaf': 2, 'n_estimators': 100}\n",
      "Best score on validation set using ALL features: 0.99\n"
     ]
    }
   ],
   "source": [
    "# # First, get the optimal hyperparameters through GridSearchCV tuning using ALL features\n",
    "\n",
    "# # Random Forest hyperparameters tuning with all features\n",
    "# param_grid_forest = {'n_estimators': [10,30,50,100],\n",
    "#                      'max_depth': [1,5,10,15,20,25,30],\n",
    "#                      'min_samples_leaf': [1,2,3,4,5]}\n",
    "# grid_forest = GridSearchCV(RandomForestRegressor(criterion='mse', random_state=1234), param_grid_forest, cv=10)\n",
    "# grid_forest.fit(train_X, train_y)\n",
    "# best_RandomForest = grid_forest.best_params_\n",
    "# print('Best parameters using ALL features: {}'.format(best_RandomForest))\n",
    "# print('Best score on validation set using ALL features: {:.2f}'.format(grid_forest.best_score_))"
   ]
  },
  {
   "cell_type": "markdown",
   "metadata": {},
   "source": [
    "Best parameters using ALL features: {'max_depth': 10, 'min_samples_leaf': 2, 'n_estimators': 100}  \n",
    "Best score on validation set using ALL features: 0.99"
   ]
  },
  {
   "cell_type": "code",
   "execution_count": 102,
   "metadata": {},
   "outputs": [
    {
     "data": {
      "image/png": "[encoded data removed]",
      "text/plain": [
       "<matplotlib.figure.Figure at 0x10e65b6a0>"
      ]
     },
     "metadata": {},
     "output_type": "display_data"
    }
   ],
   "source": [
    "# Get feature importances using the optimal hyperparameters\n",
    "\n",
    "features = train_X.columns.tolist()\n",
    "clf_RF = RandomForestRegressor(criterion='mse', random_state=1234, n_estimators=100 , max_depth=10 , min_samples_leaf=2)\n",
    "clf_RF.fit(train_X, train_y)\n",
    "importances_RF = clf_RF.feature_importances_\n",
    "\n",
    "idx = np.argsort(importances_RF)\n",
    "plt.title(\"Random Forest Feature Importance\")\n",
    "plt.barh(range(len(idx)), importances_RF[idx])\n",
    "plt.yticks(range(len(idx)), [features[i] for i in idx])\n",
    "plt.ylabel(\"Features\")\n",
    "plt.show()"
   ]
  },
  {
   "cell_type": "code",
   "execution_count": 103,
   "metadata": {},
   "outputs": [
    {
     "data": {
      "text/plain": [
       "[('trips number', 0.98598213811755586),\n",
       " ('subscriber ratio', 0.0051851090560273618),\n",
       " ('morning rate', 0.00096711275279486226),\n",
       " ('afternoon rate', 0.00096295124760273256),\n",
       " ('perc_HS_or_higher', 0.00083001518924518064),\n",
       " ('Visibyduration', 0.00068820401596773352),\n",
       " ('night rate', 0.00062870438899017211),\n",
       " ('mean_household_income', 0.00060181344857370474),\n",
       " ('Humibyduration', 0.00059016212758652086),\n",
       " ('Dewbyduration', 0.00050128745522220802),\n",
       " ('mean_work_commuting_time_min', 0.00047744291064302465),\n",
       " ('Tempbyduration', 0.00046263350607387871),\n",
       " ('evening rate', 0.00046115044479053818),\n",
       " ('Presbyduration', 0.00043355948052812968),\n",
       " ('end_crime_score', 0.00034479883610498516),\n",
       " ('start_crime_score', 0.00032654571912257255),\n",
       " ('perc_bachelor_or_higher', 0.00030283304875696073),\n",
       " ('commuting_to_work_perc_PT', 0.00025353825441359993)]"
      ]
     },
     "execution_count": 103,
     "metadata": {},
     "output_type": "execute_result"
    }
   ],
   "source": [
    "import operator\n",
    "\n",
    "# Get the most important features\n",
    "\n",
    "map_importance = dict(zip(features, importances_RF))\n",
    "map_importance = sorted(map_importance.items(), key=operator.itemgetter(1), reverse=True)\n",
    "map_importance"
   ]
  },
  {
   "cell_type": "code",
   "execution_count": 104,
   "metadata": {},
   "outputs": [
    {
     "data": {
      "text/plain": [
       "['trips number',\n",
       " 'subscriber ratio',\n",
       " 'morning rate',\n",
       " 'afternoon rate',\n",
       " 'perc_HS_or_higher',\n",
       " 'Visibyduration',\n",
       " 'night rate']"
      ]
     },
     "execution_count": 104,
     "metadata": {},
     "output_type": "execute_result"
    }
   ],
   "source": [
    "# Get the top 7 most importance features with importance score > 0.00062\n",
    "feature_7 = [item[0] for item in map_importance[:7]]\n",
    "feature_7"
   ]
  },
  {
   "cell_type": "code",
   "execution_count": 105,
   "metadata": {},
   "outputs": [
    {
     "data": {
      "text/html": [
       "<div>\n",
       "<style>\n",
       "    .dataframe thead tr:only-child th {\n",
       "        text-align: right;\n",
       "    }\n",
       "\n",
       "    .dataframe thead th {\n",
       "        text-align: left;\n",
       "    }\n",
       "\n",
       "    .dataframe tbody tr th {\n",
       "        vertical-align: top;\n",
       "    }\n",
       "</style>\n",
       "<table border=\"1\" class=\"dataframe\">\n",
       "  <thead>\n",
       "    <tr style=\"text-align: right;\">\n",
       "      <th></th>\n",
       "      <th>trips number</th>\n",
       "      <th>subscriber ratio</th>\n",
       "      <th>morning rate</th>\n",
       "      <th>afternoon rate</th>\n",
       "      <th>perc_HS_or_higher</th>\n",
       "      <th>Visibyduration</th>\n",
       "      <th>night rate</th>\n",
       "    </tr>\n",
       "  </thead>\n",
       "  <tbody>\n",
       "    <tr>\n",
       "      <th>0</th>\n",
       "      <td>4</td>\n",
       "      <td>0.25</td>\n",
       "      <td>0.061322</td>\n",
       "      <td>0.779468</td>\n",
       "      <td>0.973333</td>\n",
       "      <td>9.438355</td>\n",
       "      <td>0.0</td>\n",
       "    </tr>\n",
       "    <tr>\n",
       "      <th>1</th>\n",
       "      <td>4</td>\n",
       "      <td>0.50</td>\n",
       "      <td>0.000000</td>\n",
       "      <td>0.838922</td>\n",
       "      <td>0.935000</td>\n",
       "      <td>10.000000</td>\n",
       "      <td>0.0</td>\n",
       "    </tr>\n",
       "  </tbody>\n",
       "</table>\n",
       "</div>"
      ],
      "text/plain": [
       "   trips number  subscriber ratio  morning rate  afternoon rate  \\\n",
       "0             4              0.25      0.061322        0.779468   \n",
       "1             4              0.50      0.000000        0.838922   \n",
       "\n",
       "   perc_HS_or_higher  Visibyduration  night rate  \n",
       "0           0.973333        9.438355         0.0  \n",
       "1           0.935000       10.000000         0.0  "
      ]
     },
     "execution_count": 105,
     "metadata": {},
     "output_type": "execute_result"
    }
   ],
   "source": [
    "# Create new dataframes for train/test features using only the most important features\n",
    "train_X7 = train_X.loc[:, feature_7]\n",
    "test_X7 = test_X.loc[:, feature_7]\n",
    "train_X7.head(2)"
   ]
  },
  {
   "cell_type": "code",
   "execution_count": 106,
   "metadata": {},
   "outputs": [
    {
     "name": "stdout",
     "output_type": "stream",
     "text": [
      "Random Forest RMSE Percentage of training set using ALL features: 8%\n",
      "Random Forest RMSE Percentage of test set using ALL features: 18%\n",
      "Random Forest Error Percentage of training set using ALL features: 12%\n",
      "Random Forest Error Percentage of test set using ALL features: 20%\n"
     ]
    }
   ],
   "source": [
    "# Before moving on, we get the RMSE for train/test sets using ALL feature with optimal hyperparameters\n",
    "\n",
    "# train RMSE\n",
    "y_train_predict = clf_RF.predict(train_X)\n",
    "rmse_ratio_train = compute_rmse_ratio(y_train_predict, train_y)\n",
    "\n",
    "\n",
    "# test RMSE\n",
    "y_test_predict = clf_RF.predict(test_X)\n",
    "rmse_ratio_test = compute_rmse_ratio(y_test_predict, test_y)\n",
    "print(\"Random Forest RMSE Percentage of training set using ALL features: {:.0%}\".format(rmse_ratio_train))\n",
    "print(\"Random Forest RMSE Percentage of test set using ALL features: {:.0%}\".format(rmse_ratio_test))\n",
    "\n",
    "# Error Ratio\n",
    "err_ratio_train = np.median(caculateratio(clf_RF, train_X, train_y).abs_ratio)\n",
    "err_ratio_test = np.median(caculateratio(clf_RF, test_X, test_y).abs_ratio)\n",
    "print(\"Random Forest Error Percentage of training set using ALL features: {:.0%}\".format(err_ratio_train))\n",
    "print(\"Random Forest Error Percentage of test set using ALL features: {:.0%}\".format(err_ratio_test))"
   ]
  },
  {
   "cell_type": "code",
   "execution_count": null,
   "metadata": {
    "collapsed": true
   },
   "outputs": [],
   "source": [
    "# Secondly, get optimal hyperparameters through GridSearchCV tuning using only 7 most important features\n",
    "\n",
    "# param_grid_forest_7 = {'n_estimators': [10,30,50,100],\n",
    "#                      'max_depth': [1,5,10,15,20,25,30],\n",
    "#                      'min_samples_leaf': [1,2,3,4,5]}\n",
    "# grid_forest_7 = GridSearchCV(RandomForestRegressor(criterion='mse', random_state=1234), param_grid_forest_7, cv=10)\n",
    "# grid_forest_7.fit(train_X7, train_y)\n",
    "# best_RandomForest_7 = grid_forest_7.best_params_\n",
    "# print('Best parameters using 7 features: {}'.format(best_RandomForest_7))\n",
    "# print('Best score on validation set using 7 features: {:.2f}'.format(grid_forest_7.best_score_))"
   ]
  },
  {
   "cell_type": "markdown",
   "metadata": {},
   "source": [
    "Best parameters using 7 features: {'max_depth': 25, 'min_samples_leaf': 4, 'n_estimators': 100}  \n",
    "Best score on validation set using 7 features: 0.99"
   ]
  },
  {
   "cell_type": "code",
   "execution_count": 107,
   "metadata": {},
   "outputs": [
    {
     "data": {
      "text/plain": [
       "RandomForestRegressor(bootstrap=True, criterion='mse', max_depth=25,\n",
       "           max_features='auto', max_leaf_nodes=None,\n",
       "           min_impurity_split=1e-07, min_samples_leaf=4,\n",
       "           min_samples_split=2, min_weight_fraction_leaf=0.0,\n",
       "           n_estimators=100, n_jobs=1, oob_score=False, random_state=1234,\n",
       "           verbose=0, warm_start=False)"
      ]
     },
     "execution_count": 107,
     "metadata": {},
     "output_type": "execute_result"
    }
   ],
   "source": [
    "# Run/Fit the model with optimal hyperparameters using only 7 most important features\n",
    "\n",
    "clf_RF_7 = RandomForestRegressor(criterion='mse', random_state=1234, n_estimators=100 , max_depth=25 , min_samples_leaf=4)\n",
    "clf_RF_7.fit(train_X7, train_y)"
   ]
  },
  {
   "cell_type": "code",
   "execution_count": 108,
   "metadata": {},
   "outputs": [
    {
     "name": "stdout",
     "output_type": "stream",
     "text": [
      "Random Forest RMSE Percentage of training set using 7 features: 10%\n",
      "Random Forest RMSE Percentage of test set using 7 features: 17%\n",
      "Random Forest Error Percentage of training set using 7 features: 11%\n",
      "Random Forest Error Percentage of test set using 7 features: 19%\n"
     ]
    }
   ],
   "source": [
    "# get the RMSE ratio for train/test sets using 7 features with optimal hyperparameters\n",
    "\n",
    "# train RMSE ratio with 7 features\n",
    "y_train_predict_7 = clf_RF_7.predict(train_X7)\n",
    "rmse_ratio_train_7 = compute_rmse_ratio(y_train_predict_7, train_y)\n",
    "\n",
    "# test RMSE ratio with 7 features\n",
    "y_test_predict_7 = clf_RF_7.predict(test_X7)\n",
    "rmse_ratio_test_7 = compute_rmse_ratio(y_test_predict_7, test_y)\n",
    "print(\"Random Forest RMSE Percentage of training set using 7 features: {:.0%}\".format(rmse_ratio_train_7))\n",
    "print(\"Random Forest RMSE Percentage of test set using 7 features: {:.0%}\".format(rmse_ratio_test_7))\n",
    "\n",
    "# Error Ratio\n",
    "err_ratio_train_7 = np.median(caculateratio(clf_RF_7, train_X7, train_y).abs_ratio)\n",
    "err_ratio_test_7 = np.median(caculateratio(clf_RF_7, test_X7, test_y).abs_ratio)\n",
    "print(\"Random Forest Error Percentage of training set using 7 features: {:.0%}\".format(err_ratio_train_7))\n",
    "print(\"Random Forest Error Percentage of test set using 7 features: {:.0%}\".format(err_ratio_test_7))"
   ]
  },
  {
   "cell_type": "markdown",
   "metadata": {},
   "source": [
    "***Re-run Model after Removing trips number variable***"
   ]
  },
  {
   "cell_type": "code",
   "execution_count": 109,
   "metadata": {},
   "outputs": [
    {
     "name": "stdout",
     "output_type": "stream",
     "text": [
      "(2800, 17)\n",
      "(658, 17)\n"
     ]
    }
   ],
   "source": [
    "# Get the new dataframes for train/test set after removing \"trips number\" variable, considering it might not be independent\n",
    "train_X_wt_tn = train_X.drop([\"trips number\"], axis=1)\n",
    "test_X_wt_tn = test_X.drop([\"trips number\"], axis=1)\n",
    "print(train_X_wt_tn.shape)\n",
    "print(test_X_wt_tn.shape)"
   ]
  },
  {
   "cell_type": "code",
   "execution_count": null,
   "metadata": {
    "collapsed": true
   },
   "outputs": [],
   "source": [
    "# First, get the optimal hyperparameters through GridSearchCV tuning using ALL features without \"trips number\"\n",
    "\n",
    "# Random Forest hyperparameters tuning with all features without \"trips number\"\n",
    "# param_grid_forest_wt_tn = {'n_estimators': [10,30,50,100],\n",
    "#                      'max_depth': [1,5,10,15,20,25,30],\n",
    "#                      'min_samples_leaf': [1,2,3,4,5]}\n",
    "# grid_forest_wt_tn = GridSearchCV(RandomForestRegressor(criterion='mse', random_state=1234), param_grid_forest_wt_tn, cv=10)\n",
    "# grid_forest_wt_tn.fit(train_X_wt_tn, train_y)\n",
    "# best_RandomForest_wt_tn = grid_forest_wt_tn.best_params_\n",
    "# print('Best parameters using ALL features without \"trips number\": {}'.format(best_RandomForest_wt_tn))\n",
    "# print('Best score on validation set using ALL features without \"trips number\": {:.2f}'.format(grid_forest_wt_tn.best_score_))"
   ]
  },
  {
   "cell_type": "markdown",
   "metadata": {},
   "source": [
    "Best parameters using ALL features without \"trips number\": {'max_depth': 25, 'min_samples_leaf': 1, 'n_estimators': 100}  \n",
    "Best score on validation set using ALL features without \"trips number\": 0.93"
   ]
  },
  {
   "cell_type": "code",
   "execution_count": 110,
   "metadata": {},
   "outputs": [
    {
     "data": {
      "image/png": "[encoded data removed]",
      "text/plain": [
       "<matplotlib.figure.Figure at 0x119dd6048>"
      ]
     },
     "metadata": {},
     "output_type": "display_data"
    }
   ],
   "source": [
    "# Get feature importances using the optimal hyperparameters (without trips numbers)\n",
    "\n",
    "features_wt_tn = train_X_wt_tn.columns.tolist()\n",
    "clf_RF_wt_tn = RandomForestRegressor(criterion='mse', random_state=1234, n_estimators=100 , max_depth=25 , min_samples_leaf=1 )\n",
    "clf_RF_wt_tn.fit(train_X_wt_tn, train_y)\n",
    "importances_RF_wt_tn = clf_RF_wt_tn.feature_importances_\n",
    "\n",
    "idx_wt_tn = np.argsort(importances_RF_wt_tn)\n",
    "plt.title(\"Random Forest Feature Importance without trips number\")\n",
    "plt.barh(range(len(idx_wt_tn)), importances_RF_wt_tn[idx_wt_tn])\n",
    "plt.yticks(range(len(idx_wt_tn)), [features_wt_tn[i] for i in idx_wt_tn])\n",
    "plt.ylabel(\"Features without trips number\")\n",
    "plt.show()"
   ]
  },
  {
   "cell_type": "code",
   "execution_count": 111,
   "metadata": {},
   "outputs": [
    {
     "data": {
      "text/plain": [
       "[('end_crime_score', 0.34546479786811096),\n",
       " ('commuting_to_work_perc_PT', 0.17919543938400814),\n",
       " ('Tempbyduration', 0.1744255623548624),\n",
       " ('subscriber ratio', 0.10339613350557374),\n",
       " ('start_crime_score', 0.057333667775756512),\n",
       " ('Dewbyduration', 0.036296167407172113),\n",
       " ('Visibyduration', 0.02431324178241244),\n",
       " ('Presbyduration', 0.022266163540776169),\n",
       " ('Humibyduration', 0.015507327242794505),\n",
       " ('night rate', 0.010884226775602478),\n",
       " ('afternoon rate', 0.0056025213822556664),\n",
       " ('evening rate', 0.0053890908339337398),\n",
       " ('morning rate', 0.0046730407208463286),\n",
       " ('perc_bachelor_or_higher', 0.004140662318470871),\n",
       " ('mean_work_commuting_time_min', 0.0039073783537338308),\n",
       " ('mean_household_income', 0.0038798954933360625),\n",
       " ('perc_HS_or_higher', 0.003324683260354172)]"
      ]
     },
     "execution_count": 111,
     "metadata": {},
     "output_type": "execute_result"
    }
   ],
   "source": [
    "# Get the most important features without trips number\n",
    "\n",
    "map_importance_wt_tn = dict(zip(features_wt_tn, importances_RF_wt_tn))\n",
    "map_importance_wt_tn = sorted(map_importance_wt_tn.items(), key=operator.itemgetter(1), reverse=True)\n",
    "map_importance_wt_tn"
   ]
  },
  {
   "cell_type": "code",
   "execution_count": 112,
   "metadata": {},
   "outputs": [
    {
     "data": {
      "text/plain": [
       "['end_crime_score',\n",
       " 'commuting_to_work_perc_PT',\n",
       " 'Tempbyduration',\n",
       " 'subscriber ratio',\n",
       " 'start_crime_score',\n",
       " 'Dewbyduration']"
      ]
     },
     "execution_count": 112,
     "metadata": {},
     "output_type": "execute_result"
    }
   ],
   "source": [
    "# Get the most important 6 features with an importance score larger than 0.03\n",
    "feature_6 = [item[0] for item in map_importance_wt_tn[:6]]\n",
    "feature_6"
   ]
  },
  {
   "cell_type": "code",
   "execution_count": 113,
   "metadata": {},
   "outputs": [
    {
     "data": {
      "text/html": [
       "<div>\n",
       "<style>\n",
       "    .dataframe thead tr:only-child th {\n",
       "        text-align: right;\n",
       "    }\n",
       "\n",
       "    .dataframe thead th {\n",
       "        text-align: left;\n",
       "    }\n",
       "\n",
       "    .dataframe tbody tr th {\n",
       "        vertical-align: top;\n",
       "    }\n",
       "</style>\n",
       "<table border=\"1\" class=\"dataframe\">\n",
       "  <thead>\n",
       "    <tr style=\"text-align: right;\">\n",
       "      <th></th>\n",
       "      <th>end_crime_score</th>\n",
       "      <th>commuting_to_work_perc_PT</th>\n",
       "      <th>Tempbyduration</th>\n",
       "      <th>subscriber ratio</th>\n",
       "      <th>start_crime_score</th>\n",
       "      <th>Dewbyduration</th>\n",
       "    </tr>\n",
       "  </thead>\n",
       "  <tbody>\n",
       "    <tr>\n",
       "      <th>0</th>\n",
       "      <td>465.611111</td>\n",
       "      <td>6.3</td>\n",
       "      <td>60.754700</td>\n",
       "      <td>0.25</td>\n",
       "      <td>363.833333</td>\n",
       "      <td>49.017859</td>\n",
       "    </tr>\n",
       "    <tr>\n",
       "      <th>1</th>\n",
       "      <td>55.333333</td>\n",
       "      <td>5.8</td>\n",
       "      <td>79.236954</td>\n",
       "      <td>0.50</td>\n",
       "      <td>65.166667</td>\n",
       "      <td>54.246069</td>\n",
       "    </tr>\n",
       "  </tbody>\n",
       "</table>\n",
       "</div>"
      ],
      "text/plain": [
       "   end_crime_score  commuting_to_work_perc_PT  Tempbyduration  \\\n",
       "0       465.611111                        6.3       60.754700   \n",
       "1        55.333333                        5.8       79.236954   \n",
       "\n",
       "   subscriber ratio  start_crime_score  Dewbyduration  \n",
       "0              0.25         363.833333      49.017859  \n",
       "1              0.50          65.166667      54.246069  "
      ]
     },
     "execution_count": 113,
     "metadata": {},
     "output_type": "execute_result"
    }
   ],
   "source": [
    "# Create new dataframes for train/test features using only the most 8 important features\n",
    "\n",
    "train_X6 = train_X_wt_tn.loc[:, feature_6]\n",
    "test_X6 = test_X_wt_tn.loc[:, feature_6]\n",
    "train_X6.head(2)"
   ]
  },
  {
   "cell_type": "code",
   "execution_count": 114,
   "metadata": {},
   "outputs": [
    {
     "name": "stdout",
     "output_type": "stream",
     "text": [
      "Random Forest RMSE Percentage of training set using ALL features without trips number: 15%\n",
      "Random Forest RMSE Percentage of test set using ALL features without trips number: 47%\n",
      "Random Forest Error Percentage of training set using ALL features without trips number: 12%\n",
      "Random Forest Error Percentage of test set using ALL features without trips number: 32%\n"
     ]
    }
   ],
   "source": [
    "# Before moving on, we get the RMSE ratio for train/test sets using ALL feature (without trips number) with optimal hyperparameters\n",
    "\n",
    "# train RMSE ratio\n",
    "y_train_predict_wt_tn = clf_RF_wt_tn.predict(train_X_wt_tn)\n",
    "rmse_ratio_train_wt_tn = compute_rmse_ratio(y_train_predict_wt_tn, train_y)\n",
    "\n",
    "# test RMSE ratio\n",
    "y_test_predict_wt_tn = clf_RF_wt_tn.predict(test_X_wt_tn)\n",
    "rmse_ratio_test_wt_tn = compute_rmse_ratio(y_test_predict_wt_tn, test_y)\n",
    "print(\"Random Forest RMSE Percentage of training set using ALL features without trips number: {:.0%}\".format(rmse_ratio_train_wt_tn))\n",
    "print(\"Random Forest RMSE Percentage of test set using ALL features without trips number: {:.0%}\".format(rmse_ratio_test_wt_tn))\n",
    "\n",
    "# Error Ratio\n",
    "err_ratio_train_wt_tn = np.median(caculateratio(clf_RF_wt_tn, train_X_wt_tn, train_y).abs_ratio)\n",
    "err_ratio_test_wt_tn = np.median(caculateratio(clf_RF_wt_tn, test_X_wt_tn, test_y).abs_ratio)\n",
    "print(\"Random Forest Error Percentage of training set using ALL features without trips number: {:.0%}\".format(err_ratio_train_wt_tn))\n",
    "print(\"Random Forest Error Percentage of test set using ALL features without trips number: {:.0%}\".format(err_ratio_test_wt_tn))"
   ]
  },
  {
   "cell_type": "code",
   "execution_count": null,
   "metadata": {
    "collapsed": true
   },
   "outputs": [],
   "source": [
    "# Secondly, get optimal hyperparameters through GridSearchCV tuning using only 8 most important features\n",
    "\n",
    "# param_grid_forest_6 = {'n_estimators': [10,30,50,100],\n",
    "#                      'max_depth': [1,5,10,15,20,25,30],\n",
    "#                      'min_samples_leaf': [1,2,3,4,5]}\n",
    "# grid_forest_6 = GridSearchCV(RandomForestRegressor(criterion='mse', random_state=1234), param_grid_forest_6, cv=10)\n",
    "# grid_forest_6.fit(train_X6, train_y)\n",
    "# best_RandomForest_6 = grid_forest_6.best_params_\n",
    "# print('Random Forest Best parameters using 6 features without trips number: {}'.format(best_RandomForest_6))\n",
    "# print('Random Forest Best score on validation set using 6 features without trips number: {:.2f}'.format(grid_forest_6.best_score_))"
   ]
  },
  {
   "cell_type": "markdown",
   "metadata": {},
   "source": [
    "Random Forest Best parameters using 6 features without trips number: {'max_depth': 15, 'min_samples_leaf': 3, 'n_estimators': 100}  \n",
    "Random Forest Best score on validation set using 6 features without trips number: 0.91"
   ]
  },
  {
   "cell_type": "code",
   "execution_count": 115,
   "metadata": {},
   "outputs": [
    {
     "data": {
      "text/plain": [
       "RandomForestRegressor(bootstrap=True, criterion='mse', max_depth=15,\n",
       "           max_features='auto', max_leaf_nodes=None,\n",
       "           min_impurity_split=1e-07, min_samples_leaf=3,\n",
       "           min_samples_split=2, min_weight_fraction_leaf=0.0,\n",
       "           n_estimators=100, n_jobs=1, oob_score=False, random_state=1234,\n",
       "           verbose=0, warm_start=False)"
      ]
     },
     "execution_count": 115,
     "metadata": {},
     "output_type": "execute_result"
    }
   ],
   "source": [
    "# Run/Fit the model with optimal hyperparameters using only 6 most important features\n",
    "\n",
    "clf_RF_6 = RandomForestRegressor(criterion='mse', random_state=1234, n_estimators=100 , max_depth=15 , min_samples_leaf=3)\n",
    "clf_RF_6.fit(train_X6, train_y)"
   ]
  },
  {
   "cell_type": "code",
   "execution_count": 116,
   "metadata": {},
   "outputs": [
    {
     "name": "stdout",
     "output_type": "stream",
     "text": [
      "Random Forest RMSE Percentage of training set using 6 features without trips number: 25%\n",
      "Random Forest RMSE Percentage of test set using 6 features without trips number: 52%\n",
      "Random Forest Error Percentage of training set using 6 features without trips number: 22%\n",
      "Random Forest Error Percentage of test set using 6 features without trips number: 36%\n"
     ]
    }
   ],
   "source": [
    "# get the RMSE ratio for train/test sets using 6 features with optimal hyperparameters (without trips number)\n",
    "\n",
    "# train RMSE ratito with 6 features\n",
    "y_train_predict_6 = clf_RF_6.predict(train_X6)\n",
    "rmse_ratio_train_6 = compute_rmse_ratio(y_train_predict_6, train_y)\n",
    "\n",
    "# test RMSE ratio with 6 features\n",
    "y_test_predict_6 = clf_RF_6.predict(test_X6)\n",
    "rmse_ratio_test_6 = compute_rmse_ratio(y_test_predict_6, test_y)\n",
    "print(\"Random Forest RMSE Percentage of training set using 6 features without trips number: {:.0%}\".format(rmse_ratio_train_6))\n",
    "print(\"Random Forest RMSE Percentage of test set using 6 features without trips number: {:.0%}\".format(rmse_ratio_test_6))\n",
    "\n",
    "# Error Ratio\n",
    "err_ratio_train_6 = np.median(caculateratio(clf_RF_6, train_X6, train_y).abs_ratio)\n",
    "err_ratio_test_6 = np.median(caculateratio(clf_RF_6, test_X6, test_y).abs_ratio)\n",
    "print(\"Random Forest Error Percentage of training set using 6 features without trips number: {:.0%}\".format(err_ratio_train_6))\n",
    "print(\"Random Forest Error Percentage of test set using 6 features without trips number: {:.0%}\".format(err_ratio_test_6))"
   ]
  },
  {
   "cell_type": "code",
   "execution_count": 117,
   "metadata": {},
   "outputs": [
    {
     "data": {
      "text/html": [
       "<style  type=\"text/css\" >\n",
       "    #T_19b733ec_dd3e_11e7_b5ac_f45c89b9313brow0_col0 {\n",
       "            text-align:  right;\n",
       "        }    #T_19b733ec_dd3e_11e7_b5ac_f45c89b9313brow0_col1 {\n",
       "            text-align:  right;\n",
       "        }    #T_19b733ec_dd3e_11e7_b5ac_f45c89b9313brow0_col2 {\n",
       "            text-align:  right;\n",
       "        }    #T_19b733ec_dd3e_11e7_b5ac_f45c89b9313brow0_col3 {\n",
       "            text-align:  right;\n",
       "        }    #T_19b733ec_dd3e_11e7_b5ac_f45c89b9313brow1_col0 {\n",
       "            text-align:  right;\n",
       "        }    #T_19b733ec_dd3e_11e7_b5ac_f45c89b9313brow1_col1 {\n",
       "            text-align:  right;\n",
       "        }    #T_19b733ec_dd3e_11e7_b5ac_f45c89b9313brow1_col2 {\n",
       "            text-align:  right;\n",
       "        }    #T_19b733ec_dd3e_11e7_b5ac_f45c89b9313brow1_col3 {\n",
       "            text-align:  right;\n",
       "        }    #T_19b733ec_dd3e_11e7_b5ac_f45c89b9313brow2_col0 {\n",
       "            text-align:  right;\n",
       "        }    #T_19b733ec_dd3e_11e7_b5ac_f45c89b9313brow2_col1 {\n",
       "            text-align:  right;\n",
       "        }    #T_19b733ec_dd3e_11e7_b5ac_f45c89b9313brow2_col2 {\n",
       "            text-align:  right;\n",
       "        }    #T_19b733ec_dd3e_11e7_b5ac_f45c89b9313brow2_col3 {\n",
       "            text-align:  right;\n",
       "        }    #T_19b733ec_dd3e_11e7_b5ac_f45c89b9313brow3_col0 {\n",
       "            text-align:  right;\n",
       "        }    #T_19b733ec_dd3e_11e7_b5ac_f45c89b9313brow3_col1 {\n",
       "            text-align:  right;\n",
       "        }    #T_19b733ec_dd3e_11e7_b5ac_f45c89b9313brow3_col2 {\n",
       "            text-align:  right;\n",
       "        }    #T_19b733ec_dd3e_11e7_b5ac_f45c89b9313brow3_col3 {\n",
       "            text-align:  right;\n",
       "        }</style>  \n",
       "<table id=\"T_19b733ec_dd3e_11e7_b5ac_f45c89b9313b\" > \n",
       "<thead>    <tr> \n",
       "        <th class=\"blank level0\" ></th> \n",
       "        <th class=\"col_heading level0 col0\" >All Features</th> \n",
       "        <th class=\"col_heading level0 col1\" >Top 7 Features</th> \n",
       "        <th class=\"col_heading level0 col2\" >All Features w/o tn</th> \n",
       "        <th class=\"col_heading level0 col3\" >Top 6 Features w/o tn</th> \n",
       "    </tr>    <tr> \n",
       "        <th class=\"index_name level0\" >Metrics</th> \n",
       "        <th class=\"blank\" ></th> \n",
       "        <th class=\"blank\" ></th> \n",
       "        <th class=\"blank\" ></th> \n",
       "        <th class=\"blank\" ></th> \n",
       "    </tr></thead> \n",
       "<tbody>    <tr> \n",
       "        <th id=\"T_19b733ec_dd3e_11e7_b5ac_f45c89b9313b\" class=\"row_heading level0 row0\" >Train RMSE perc</th> \n",
       "        <td id=\"T_19b733ec_dd3e_11e7_b5ac_f45c89b9313brow0_col0\" class=\"data row0 col0\" >8%</td> \n",
       "        <td id=\"T_19b733ec_dd3e_11e7_b5ac_f45c89b9313brow0_col1\" class=\"data row0 col1\" >10%</td> \n",
       "        <td id=\"T_19b733ec_dd3e_11e7_b5ac_f45c89b9313brow0_col2\" class=\"data row0 col2\" >15%</td> \n",
       "        <td id=\"T_19b733ec_dd3e_11e7_b5ac_f45c89b9313brow0_col3\" class=\"data row0 col3\" >25%</td> \n",
       "    </tr>    <tr> \n",
       "        <th id=\"T_19b733ec_dd3e_11e7_b5ac_f45c89b9313b\" class=\"row_heading level0 row1\" >Test RMSE perc</th> \n",
       "        <td id=\"T_19b733ec_dd3e_11e7_b5ac_f45c89b9313brow1_col0\" class=\"data row1 col0\" >18%</td> \n",
       "        <td id=\"T_19b733ec_dd3e_11e7_b5ac_f45c89b9313brow1_col1\" class=\"data row1 col1\" >17%</td> \n",
       "        <td id=\"T_19b733ec_dd3e_11e7_b5ac_f45c89b9313brow1_col2\" class=\"data row1 col2\" >47%</td> \n",
       "        <td id=\"T_19b733ec_dd3e_11e7_b5ac_f45c89b9313brow1_col3\" class=\"data row1 col3\" >52%</td> \n",
       "    </tr>    <tr> \n",
       "        <th id=\"T_19b733ec_dd3e_11e7_b5ac_f45c89b9313b\" class=\"row_heading level0 row2\" >Train err perc</th> \n",
       "        <td id=\"T_19b733ec_dd3e_11e7_b5ac_f45c89b9313brow2_col0\" class=\"data row2 col0\" >12%</td> \n",
       "        <td id=\"T_19b733ec_dd3e_11e7_b5ac_f45c89b9313brow2_col1\" class=\"data row2 col1\" >11%</td> \n",
       "        <td id=\"T_19b733ec_dd3e_11e7_b5ac_f45c89b9313brow2_col2\" class=\"data row2 col2\" >12%</td> \n",
       "        <td id=\"T_19b733ec_dd3e_11e7_b5ac_f45c89b9313brow2_col3\" class=\"data row2 col3\" >22%</td> \n",
       "    </tr>    <tr> \n",
       "        <th id=\"T_19b733ec_dd3e_11e7_b5ac_f45c89b9313b\" class=\"row_heading level0 row3\" >Test err perc</th> \n",
       "        <td id=\"T_19b733ec_dd3e_11e7_b5ac_f45c89b9313brow3_col0\" class=\"data row3 col0\" >20%</td> \n",
       "        <td id=\"T_19b733ec_dd3e_11e7_b5ac_f45c89b9313brow3_col1\" class=\"data row3 col1\" >19%</td> \n",
       "        <td id=\"T_19b733ec_dd3e_11e7_b5ac_f45c89b9313brow3_col2\" class=\"data row3 col2\" >32%</td> \n",
       "        <td id=\"T_19b733ec_dd3e_11e7_b5ac_f45c89b9313brow3_col3\" class=\"data row3 col3\" >36%</td> \n",
       "    </tr></tbody> \n",
       "</table> "
      ],
      "text/plain": [
       "<pandas.io.formats.style.Styler at 0x11babd128>"
      ]
     },
     "execution_count": 117,
     "metadata": {},
     "output_type": "execute_result"
    }
   ],
   "source": [
    "row_idx = ['Train RMSE perc', 'Test RMSE perc', 'Train err perc', 'Test err perc']\n",
    "all_features_RF = [rmse_ratio_train, rmse_ratio_test, err_ratio_train, err_ratio_test]\n",
    "important_features_RF = [rmse_ratio_train_7, rmse_ratio_test_7, err_ratio_train_7, err_ratio_test_7]\n",
    "all_feature_wt_tn_RF = [rmse_ratio_train_wt_tn, rmse_ratio_test_wt_tn, err_ratio_train_wt_tn, err_ratio_test_wt_tn]\n",
    "important_features_wt_tn_RF = [rmse_ratio_train_6, rmse_ratio_test_6, err_ratio_train_6, err_ratio_test_6]\n",
    "forest_metrics_compare = pd.DataFrame({'Metrics': row_idx,\n",
    "                             'All Features': all_features_RF, \n",
    "                             'Top 7 Features': important_features_RF,\n",
    "                             'All Features w/o tn': all_feature_wt_tn_RF,\n",
    "                             'Top 6 Features w/o tn': important_features_wt_tn_RF\n",
    "                              })\n",
    "cols = ['All Features', 'Top 7 Features', 'All Features w/o tn', 'Top 6 Features w/o tn', 'Metrics']\n",
    "forest_metrics_compare = forest_metrics_compare[cols]\n",
    "forest_metrics_compare = forest_metrics_compare.set_index(['Metrics'])\n",
    "forest_metrics_compare.iloc[0] = (forest_metrics_compare.iloc[0].apply('{:.0%}'.format))\n",
    "forest_metrics_compare.iloc[1] = (forest_metrics_compare.iloc[1].apply('{:.0%}'.format))\n",
    "forest_metrics_compare.iloc[2] = (forest_metrics_compare.iloc[2].apply('{:.0%}'.format))\n",
    "forest_metrics_compare.iloc[3] = (forest_metrics_compare.iloc[3].apply('{:.0%}'.format))\n",
    "forest_metrics_compare.style.set_properties(**{'text-align': 'right'})"
   ]
  },
  {
   "cell_type": "markdown",
   "metadata": {},
   "source": [
    "# 4 Conclusion"
   ]
  },
  {
   "cell_type": "markdown",
   "metadata": {},
   "source": [
    "From our models, we found that the most important features for predicting this lifetime is trip count, mean crime score of the end station, temperature by duration, and subscriber ratio.\n",
    "\n",
    "From the features that we explored, there weren’t that many with linear relationships. Perhaps this is why the random forest performed better than linear regression.\n",
    "\n",
    "Among the three models we trained, the RF provided the best performance with a test error percentage of 20%. This means that for our average lifecycle of 18 hours, our prediction for when the bike needs maintenance will lay within 3.6 hours of the true value. This isn’t perfect, but it is still a reasonable timeframe for the bike sharing companies to check-up on the bike. "
   ]
  }
 ],
 "metadata": {
  "kernelspec": {
   "display_name": "Python 3",
   "language": "python",
   "name": "python3"
  },
  "language_info": {
   "codemirror_mode": {
    "name": "ipython",
    "version": 3
   },
   "file_extension": ".py",
   "mimetype": "text/x-python",
   "name": "python",
   "nbconvert_exporter": "python",
   "pygments_lexer": "ipython3",
   "version": "3.6.1"
  }
 },
 "nbformat": 4,
 "nbformat_minor": 2
}
